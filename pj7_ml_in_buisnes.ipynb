{
  "cells": [
    {
      "cell_type": "markdown",
      "metadata": {
        "id": "view-in-github",
        "colab_type": "text"
      },
      "source": [
        "<a href=\"https://colab.research.google.com/github/Tiger-A/Yandex_Data-Science/blob/master/pj7_ml_in_buisnes.ipynb\" target=\"_parent\"><img src=\"https://colab.research.google.com/assets/colab-badge.svg\" alt=\"Open In Colab\"/></a>"
      ]
    },
    {
      "cell_type": "markdown",
      "metadata": {
        "id": "fgdFkgyx0uR9"
      },
      "source": [
        "<div class=\"alert alert-success\"><div class='alert btn-success'>\n",
        "Алексей, критичных ошибок нет!)<br> \n",
        "Проект принят!<br> \n",
        "\n",
        "</div></div>\n",
        "\n",
        "Очень рекомендую посмотреть видео от Глеба Михайлова!)<br>\n",
        "**[Линейная Регрессия для Дата Саентиста](https://www.youtube.com/watch?v=QZJ94igWVxQ&t=19s)**     <br> \n",
        "\n",
        "**Теория и практика в МО - [Сайт Дмитрия Макарова](https://www.dmitrymakarov.ru/)** <br>    \n",
        "\n",
        "**Статья, которая подробно объясняет разницу [MinMaxScaler() и StandardScaler()](https://vitalflux.com/minmaxscaler-standardscaler-python-examples/)** <br>\n",
        "    \n",
        "**Отличное объяснение с примером по [мультиколлинеарности](https://habr.com/ru/company/akbarsdigital/blog/592493/)** <br>\n",
        "    \n",
        "**Интересная статья - [коротко о мультиколлинеарности и что с этим делать](https://medium.com/analytics-vidhya/removing-multi-collinearity-for-linear-and-logistic-regression-f1fa744f3666)** <br>   \n",
        "   \n",
        "**Если интересна статистика, можно посмотреть [короткие видео-лекции Карпова на степике](https://stepik.org/lesson/8095/step/1?unit=1371)**    <br>\n",
        "\n",
        "**Как мне кажется, есть неплохая статья про [смысл техники bootstrap](https://habr.com/ru/company/X5Tech/blog/679842/)**<br>\n",
        "\n",
        "**Видео-лекция на степике -  [3 раздел - Введение в bootstrap](https://stepik.org/course/2152/syllabus)** <br> \n",
        "\n",
        "<br>\n",
        "<div class=\"alert alert-success\"><div class='alert btn-success'>    \n",
        "Надеюсь, ты найдешь для себя что-то интересное и полезное😊  <br>\n",
        "Желаю тебе удачи в дальнейшей учебе! 😉 </div></div>"
      ]
    },
    {
      "cell_type": "markdown",
      "metadata": {
        "id": "yWW7zc5k0uSA"
      },
      "source": [
        "Алексей, привет! Меня зовут Ирина. Сегодня я проверю твой проект.<br>\n",
        "<br> Ты можешь обращаться ко мне на \"ты\"😏 Надеюсь, ты не будешь против, если и я буду обращаться к тебе на \"ты\". Но если для тебя это неприемлeмо, дай знать, пожалуйста) <br>\n",
        "<br> Мне очень важна твоя реакция на мои комментарии, особенно <font color='red'>красные</font>. Можешь реагировать, например, так ('исправлено', ...)<br>\n",
        "<br> Ты можешь реагировать на мои комментарии своими, выделяя их цветами и наиболее понравившимся тебе способом оформления, но явно  отличающимся от моих комментариев. <br>\n",
        "Это нужно, чтобы не создавалась путаница😉<br>\n",
        "Например, так:<br>\n",
        "    \n",
        "<div class=\"alert alert-block alert-info\"><b>Комментарий студента</b>\n",
        "    \n",
        "<b>Изменения:</b> Были внесены следующие изменения ...<br></div> \n",
        "\n",
        "\n",
        "<br> Пожалуйста, не удаляй мои комментарии, так как они повышают качество повторного ревью и делают его быстрее)<br>\n",
        "<br> Увидев у тебя неточность, в первый раз я лишь укажу на ее наличие и дам тебе возможность самостоятельно найти и исправить ее. На реальной работе твой руководитель будет поступать также, и я пытаюсь подготовить тебя именно к работе. Но если ты пока не справишься с такой задачей - при следующей проверке я дам более точную подсказку!🤓<br>\n",
        "\n",
        "Для твоего удобства мои комментарии будут в <font color='green'>зеленой</font>, <font color='orange'>желтой</font> или <font color='red'>красной</font> рамках:<br>\n",
        "<br>\n",
        "\n",
        "<div class=\"alert alert-block alert-danger\"><b>Комментарий ревьюера</b>\n",
        "    \n",
        "<b>Ошибка:</b><br>\n",
        "Если требуются исправления. Работа не может быть принята с красными комментариями.<br></div>\n",
        "\n",
        "<div class=\"alert alert-block alert-warning\"><b>Комментарий ревьюера</b>\n",
        "    \n",
        "<b>Совет:</b><br>\n",
        "Если можно немного улучшить.<br></div>\n",
        "\n",
        "<div class=\"alert alert-block alert-success\"><b>Комментарий ревьюера</b>\n",
        "    \n",
        "<b>Успех:</b><br>\n",
        "Если все сделано отлично.<br></div>  "
      ]
    },
    {
      "cell_type": "markdown",
      "metadata": {
        "id": "2FNcQ1QByy14"
      },
      "source": [
        "# Выбор локации для скважины"
      ]
    },
    {
      "cell_type": "markdown",
      "metadata": {
        "id": "LSBIhhTpyy17"
      },
      "source": [
        "Допустим, вы работаете в добывающей компании «ГлавРосГосНефть». Нужно решить, где бурить новую скважину.\n",
        "\n",
        "Вам предоставлены пробы нефти в трёх регионах: в каждом 10 000 месторождений, где измерили качество нефти и объём её запасов. Постройте модель машинного обучения, которая поможет определить регион, где добыча принесёт наибольшую прибыль. Проанализируйте возможную прибыль и риски техникой *Bootstrap.*\n",
        "\n",
        "Шаги для выбора локации:\n",
        "\n",
        "- В избранном регионе ищут месторождения, для каждого определяют значения признаков;\n",
        "- Строят модель и оценивают объём запасов;\n",
        "- Выбирают месторождения с самым высокими оценками значений. Количество месторождений зависит от бюджета компании и стоимости разработки одной скважины;\n",
        "- Прибыль равна суммарной прибыли отобранных месторождений."
      ]
    },
    {
      "cell_type": "markdown",
      "metadata": {
        "id": "SQ9HVlxj0uSB"
      },
      "source": [
        "<div class=\"alert alert-block alert-success\"><b>Комментарий ревьюера</b>\n",
        "    \n",
        "<b>Успех:</b><br>\n",
        "👍 Есть введение в проект. Отлично!<br>\n",
        "\n",
        "</div> "
      ]
    },
    {
      "cell_type": "markdown",
      "metadata": {
        "id": "3xFtFKs2yy18"
      },
      "source": [
        "## Загрузка и подготовка данных"
      ]
    },
    {
      "cell_type": "code",
      "execution_count": null,
      "metadata": {
        "id": "cUxLIOKQyy19"
      },
      "outputs": [],
      "source": [
        "import pandas as pd\n",
        "from sklearn.linear_model import LinearRegression \n",
        "import matplotlib.pyplot as plt\n",
        "from sklearn.model_selection import train_test_split\n",
        "from sklearn.metrics import mean_squared_error\n",
        "from numpy.random import RandomState\n",
        "from numpy.lib.function_base import quantile\n",
        "import matplotlib.pyplot as plt\n"
      ]
    },
    {
      "cell_type": "markdown",
      "metadata": {
        "id": "9WeGSelX0uSC"
      },
      "source": [
        "<div class=\"alert alert-block alert-success\"><b>Комментарий ревьюера </b>\n",
        "    \n",
        "<b>Успех:</b><br>\n",
        "👍 Здорово, что импортируешь необходимые библиотеки в первой ячейке. Так сразу понятно какие используются библиотеки и можно легко настроить свое окружение при необходимости. \n",
        "</div> "
      ]
    },
    {
      "cell_type": "code",
      "execution_count": null,
      "metadata": {
        "id": "n6kVbyv1zDSo"
      },
      "outputs": [],
      "source": [
        "# зададим расположение датасета на github\n",
        "\n",
        "url_0 = 'https://raw.githubusercontent.com/Tiger-A/Yandex_Data-Science/master/geo_data_0.csv'\n",
        "url_1 = 'https://raw.githubusercontent.com/Tiger-A/Yandex_Data-Science/master/geo_data_1.csv'\n",
        "url_2 = 'https://raw.githubusercontent.com/Tiger-A/Yandex_Data-Science/master/geo_data_2.csv'"
      ]
    },
    {
      "cell_type": "code",
      "execution_count": null,
      "metadata": {
        "id": "HKZbw7H1yy1-"
      },
      "outputs": [],
      "source": [
        "data_0 = pd.read_csv(url_0)\n",
        "data_1 = pd.read_csv(url_1)\n",
        "data_2 = pd.read_csv(url_2)"
      ]
    },
    {
      "cell_type": "markdown",
      "metadata": {
        "id": "ndXjbE9M0uSD"
      },
      "source": [
        "<div class=\"alert alert-block alert-danger\"><b>Комментарий ревьюера</b>\n",
        "    \n",
        "<s> <b>Ошибка:</b><br>\n",
        "    Обрати, пожалуйста, внимание на опечатку - `data_0 = pd.read_csv(url_1)`  </s>\n",
        "    \n",
        "</div>"
      ]
    },
    {
      "cell_type": "markdown",
      "metadata": {
        "id": "9WXmJZF_0uSD"
      },
      "source": [
        "<div class=\"alert alert-block alert-info\"><b>Комментарий студента</b>\n",
        "    \n",
        "<b>Изменения:</b> Исправлено. <br></div> "
      ]
    },
    {
      "cell_type": "markdown",
      "metadata": {
        "id": "P-mk0Rp_0uSD"
      },
      "source": [
        "<div class=\"alert alert-block alert-warning\"><b>Комментарий ревьюера</b>\n",
        "    \n",
        "<b>Совет:</b><br>\n",
        "Можно использовать такой метод загрузки данных, он позволит загружать данные как с локального, так и с сетевого носителя. <br>\n",
        "Например, для первого датафрейма так:<br>\n",
        "```python    \n",
        "try:\n",
        "    '''путь для тебя'''\n",
        "    data_0 = pd.read_csv('твой путь/geo_data_0.csv')\n",
        "except:\n",
        "    '''путь для ревьюера'''\n",
        "    data_0 = pd.read_csv('/datasets/geo_data_0.csv')     \n",
        "```\n",
        "Так можно сделать для каждого датасета.   <br>\n",
        "[Здесь можешь посмотреть как работает этот метод](https://proproprogs.ru/python_oop/python-vvedenie-v-obrabotku-isklyucheniy-bloki-try-except)    \n",
        "    \n",
        "</div>"
      ]
    },
    {
      "cell_type": "code",
      "execution_count": null,
      "metadata": {
        "colab": {
          "base_uri": "https://localhost:8080/",
          "height": 206
        },
        "id": "cGf8NnEqyy1-",
        "outputId": "42de429d-da52-426b-9f9b-a17cdba25031"
      },
      "outputs": [
        {
          "data": {
            "text/html": [
              "<div>\n",
              "<style scoped>\n",
              "    .dataframe tbody tr th:only-of-type {\n",
              "        vertical-align: middle;\n",
              "    }\n",
              "\n",
              "    .dataframe tbody tr th {\n",
              "        vertical-align: top;\n",
              "    }\n",
              "\n",
              "    .dataframe thead th {\n",
              "        text-align: right;\n",
              "    }\n",
              "</style>\n",
              "<table border=\"1\" class=\"dataframe\">\n",
              "  <thead>\n",
              "    <tr style=\"text-align: right;\">\n",
              "      <th></th>\n",
              "      <th>id</th>\n",
              "      <th>f0</th>\n",
              "      <th>f1</th>\n",
              "      <th>f2</th>\n",
              "      <th>product</th>\n",
              "    </tr>\n",
              "  </thead>\n",
              "  <tbody>\n",
              "    <tr>\n",
              "      <th>0</th>\n",
              "      <td>txEyH</td>\n",
              "      <td>0.705745</td>\n",
              "      <td>-0.497823</td>\n",
              "      <td>1.221170</td>\n",
              "      <td>105.280062</td>\n",
              "    </tr>\n",
              "    <tr>\n",
              "      <th>1</th>\n",
              "      <td>2acmU</td>\n",
              "      <td>1.334711</td>\n",
              "      <td>-0.340164</td>\n",
              "      <td>4.365080</td>\n",
              "      <td>73.037750</td>\n",
              "    </tr>\n",
              "    <tr>\n",
              "      <th>2</th>\n",
              "      <td>409Wp</td>\n",
              "      <td>1.022732</td>\n",
              "      <td>0.151990</td>\n",
              "      <td>1.419926</td>\n",
              "      <td>85.265647</td>\n",
              "    </tr>\n",
              "    <tr>\n",
              "      <th>3</th>\n",
              "      <td>iJLyR</td>\n",
              "      <td>-0.032172</td>\n",
              "      <td>0.139033</td>\n",
              "      <td>2.978566</td>\n",
              "      <td>168.620776</td>\n",
              "    </tr>\n",
              "    <tr>\n",
              "      <th>4</th>\n",
              "      <td>Xdl7t</td>\n",
              "      <td>1.988431</td>\n",
              "      <td>0.155413</td>\n",
              "      <td>4.751769</td>\n",
              "      <td>154.036647</td>\n",
              "    </tr>\n",
              "  </tbody>\n",
              "</table>\n",
              "</div>"
            ],
            "text/plain": [
              "      id        f0        f1        f2     product\n",
              "0  txEyH  0.705745 -0.497823  1.221170  105.280062\n",
              "1  2acmU  1.334711 -0.340164  4.365080   73.037750\n",
              "2  409Wp  1.022732  0.151990  1.419926   85.265647\n",
              "3  iJLyR -0.032172  0.139033  2.978566  168.620776\n",
              "4  Xdl7t  1.988431  0.155413  4.751769  154.036647"
            ]
          },
          "execution_count": 4,
          "metadata": {},
          "output_type": "execute_result"
        }
      ],
      "source": [
        "data_0.head()\n"
      ]
    },
    {
      "cell_type": "code",
      "execution_count": null,
      "metadata": {
        "colab": {
          "base_uri": "https://localhost:8080/"
        },
        "id": "vQrk2th0yy1_",
        "outputId": "ec8d1d64-3ad9-4326-ea34-d50bf3ba02d9"
      },
      "outputs": [
        {
          "name": "stdout",
          "output_type": "stream",
          "text": [
            "<class 'pandas.core.frame.DataFrame'>\n",
            "RangeIndex: 100000 entries, 0 to 99999\n",
            "Data columns (total 5 columns):\n",
            " #   Column   Non-Null Count   Dtype  \n",
            "---  ------   --------------   -----  \n",
            " 0   id       100000 non-null  object \n",
            " 1   f0       100000 non-null  float64\n",
            " 2   f1       100000 non-null  float64\n",
            " 3   f2       100000 non-null  float64\n",
            " 4   product  100000 non-null  float64\n",
            "dtypes: float64(4), object(1)\n",
            "memory usage: 3.8+ MB\n"
          ]
        }
      ],
      "source": [
        "data_0.info()"
      ]
    },
    {
      "cell_type": "code",
      "execution_count": null,
      "metadata": {
        "colab": {
          "base_uri": "https://localhost:8080/"
        },
        "id": "fJ8HnaFiyy2A",
        "outputId": "add0fd0b-e9d2-43c1-bd10-57a023447acf"
      },
      "outputs": [
        {
          "name": "stdout",
          "output_type": "stream",
          "text": [
            "<class 'pandas.core.frame.DataFrame'>\n",
            "RangeIndex: 100000 entries, 0 to 99999\n",
            "Data columns (total 5 columns):\n",
            " #   Column   Non-Null Count   Dtype  \n",
            "---  ------   --------------   -----  \n",
            " 0   id       100000 non-null  object \n",
            " 1   f0       100000 non-null  float64\n",
            " 2   f1       100000 non-null  float64\n",
            " 3   f2       100000 non-null  float64\n",
            " 4   product  100000 non-null  float64\n",
            "dtypes: float64(4), object(1)\n",
            "memory usage: 3.8+ MB\n"
          ]
        }
      ],
      "source": [
        "data_1.info()"
      ]
    },
    {
      "cell_type": "code",
      "execution_count": null,
      "metadata": {
        "colab": {
          "base_uri": "https://localhost:8080/"
        },
        "id": "AiXIaSGAyy2A",
        "outputId": "081b8afa-9161-4266-ee59-c9dd6f566c7e"
      },
      "outputs": [
        {
          "name": "stdout",
          "output_type": "stream",
          "text": [
            "<class 'pandas.core.frame.DataFrame'>\n",
            "RangeIndex: 100000 entries, 0 to 99999\n",
            "Data columns (total 5 columns):\n",
            " #   Column   Non-Null Count   Dtype  \n",
            "---  ------   --------------   -----  \n",
            " 0   id       100000 non-null  object \n",
            " 1   f0       100000 non-null  float64\n",
            " 2   f1       100000 non-null  float64\n",
            " 3   f2       100000 non-null  float64\n",
            " 4   product  100000 non-null  float64\n",
            "dtypes: float64(4), object(1)\n",
            "memory usage: 3.8+ MB\n"
          ]
        }
      ],
      "source": [
        "data_2.info()"
      ]
    },
    {
      "cell_type": "markdown",
      "metadata": {
        "id": "jzTvjWHtyy2B"
      },
      "source": [
        "Пропуски отсутсвуют. В необходимых признаках тип данных - числовой.\n"
      ]
    },
    {
      "cell_type": "code",
      "execution_count": null,
      "metadata": {
        "colab": {
          "base_uri": "https://localhost:8080/"
        },
        "id": "mUYeAgGbyy2B",
        "outputId": "41c2677f-46d2-437f-eff0-e41f1b324a83"
      },
      "outputs": [
        {
          "data": {
            "text/plain": [
              "0"
            ]
          },
          "execution_count": 8,
          "metadata": {},
          "output_type": "execute_result"
        }
      ],
      "source": [
        "data_0.duplicated().sum() "
      ]
    },
    {
      "cell_type": "code",
      "execution_count": null,
      "metadata": {
        "colab": {
          "base_uri": "https://localhost:8080/"
        },
        "id": "reeTMJ1Cyy2C",
        "outputId": "8551bdc7-3025-4f25-99a5-17a9ec188207"
      },
      "outputs": [
        {
          "data": {
            "text/plain": [
              "0"
            ]
          },
          "execution_count": 9,
          "metadata": {},
          "output_type": "execute_result"
        }
      ],
      "source": [
        "data_1.duplicated().sum() "
      ]
    },
    {
      "cell_type": "code",
      "execution_count": null,
      "metadata": {
        "colab": {
          "base_uri": "https://localhost:8080/"
        },
        "id": "tMpKugfbyy2C",
        "outputId": "a586d455-3183-4d24-87bc-6037b71a1757"
      },
      "outputs": [
        {
          "data": {
            "text/plain": [
              "0"
            ]
          },
          "execution_count": 10,
          "metadata": {},
          "output_type": "execute_result"
        }
      ],
      "source": [
        "data_2.duplicated().sum() "
      ]
    },
    {
      "cell_type": "markdown",
      "metadata": {
        "id": "LMjkyvo0yy2D"
      },
      "source": [
        "Дубликаты отсутствуют. "
      ]
    },
    {
      "cell_type": "code",
      "execution_count": null,
      "metadata": {
        "colab": {
          "base_uri": "https://localhost:8080/",
          "height": 680
        },
        "id": "8j0xZdG_yy2D",
        "outputId": "1737266a-b3be-40be-83b8-e6f3866577de"
      },
      "outputs": [
        {
          "data": {
            "image/png": "[encoded data removed]",
            "text/plain": [
              "<Figure size 1800x648 with 1 Axes>"
            ]
          },
          "metadata": {
            "needs_background": "light"
          },
          "output_type": "display_data"
        }
      ],
      "source": [
        "data_0.boxplot( figsize=(25,9))\n",
        "plt.show()"
      ]
    },
    {
      "cell_type": "code",
      "execution_count": null,
      "metadata": {
        "colab": {
          "base_uri": "https://localhost:8080/",
          "height": 680
        },
        "id": "AS1fg1Idyy2E",
        "outputId": "3cacedb9-dd12-49ec-97eb-0ac6d541a6ea"
      },
      "outputs": [
        {
          "data": {
            "image/png": "[encoded data removed]",
            "text/plain": [
              "<Figure size 1800x648 with 1 Axes>"
            ]
          },
          "metadata": {
            "needs_background": "light"
          },
          "output_type": "display_data"
        }
      ],
      "source": [
        "data_1.boxplot( figsize=(25,9))\n",
        "plt.show()"
      ]
    },
    {
      "cell_type": "code",
      "execution_count": null,
      "metadata": {
        "colab": {
          "base_uri": "https://localhost:8080/",
          "height": 685
        },
        "id": "_ZS27GyNyy2E",
        "outputId": "ef844bf8-6993-427e-d579-8ef40207ff20"
      },
      "outputs": [
        {
          "data": {
            "image/png": "[encoded data removed]",
            "text/plain": [
              "<Figure size 1800x648 with 1 Axes>"
            ]
          },
          "metadata": {
            "needs_background": "light"
          },
          "output_type": "display_data"
        }
      ],
      "source": [
        "data_2.boxplot( figsize=(25,9))\n",
        "plt.show()"
      ]
    },
    {
      "cell_type": "code",
      "execution_count": null,
      "metadata": {
        "id": "L3bZ0DCTyy2F"
      },
      "outputs": [],
      "source": [
        "#  Посмотри корреляцию признаков.\n",
        "# from pandas.plotting import scatter_matrix\n",
        "# scatter_matrix(data_0, alpha=0.2, figsize=(6, 6), diagonal='kde')"
      ]
    },
    {
      "cell_type": "markdown",
      "metadata": {
        "id": "RSEKFVToyy2F"
      },
      "source": [
        "Бaзовый анализ данных показал: пропуски - отсутствуют, типы даннных - числовые,  распредление:  выбросы не критичны."
      ]
    },
    {
      "cell_type": "markdown",
      "metadata": {
        "id": "A3Fwjeqg0uSG"
      },
      "source": [
        "<div class=\"alert alert-block alert-success\"><b>Комментарий ревьюера </b>\n",
        "    \n",
        "<b>Успех:</b><br>\n",
        "👍 Очень хорошо, что не забываешь проводить разведочный анализ данных. Чем лучше знаем набор данных, тем лучше можем его использовать!\n",
        "</div>"
      ]
    },
    {
      "cell_type": "markdown",
      "metadata": {
        "id": "KiFLPB-B0uSG"
      },
      "source": [
        "<div class=\"alert alert-block alert-warning\"><b>Комментарий ревьюера</b>\n",
        "    \n",
        "<b>Совет:</b><br>\n",
        "* Чтобы лучше узнать данные, можно проверить дубликаты  по `id`   \n",
        "     \n",
        "* Еще важно уделять внимание мультиколлинеарности признаков в линейных моделях.<br>\n",
        "Мультиколлинеарность — явление, при котором наблюдается сильная корреляция между признаками, что может негативно отразиться на модели.<br>\n",
        "\n",
        "Рекомендую посмотреть отрывок из курса Статистики - [\"Корреляция и регрессия\".](https://stepik.org/lesson/8086/step/1?unit=1365) <br>\n",
        "Для удобной визуализации можно использовать - [\"Тепловая карта корреляции\".](https://www.delftstack.com/ru/howto/seaborn/correlation-heatplot-seaborn-python/) <br>\n",
        "</div>"
      ]
    },
    {
      "cell_type": "markdown",
      "metadata": {
        "id": "CZC4cthSyy2G"
      },
      "source": [
        "## Обучение и проверка модели"
      ]
    },
    {
      "cell_type": "code",
      "execution_count": null,
      "metadata": {
        "id": "RdAc48adyy2G"
      },
      "outputs": [],
      "source": [
        "# Перед обучения модлей удалим признак \"id\", как не несущей необходимой информации.\n",
        "data_0 = data_0.drop(columns=['id']) \n",
        "data_1 = data_1.drop(columns=['id']) \n",
        "data_2 = data_2.drop(columns=['id']) "
      ]
    },
    {
      "cell_type": "markdown",
      "metadata": {
        "id": "nDHu3S-_0uSH"
      },
      "source": [
        "<div class=\"alert alert-block alert-success\"><b>Комментарий ревьюера </b>\n",
        "    \n",
        "<b>Успех:</b><br>\n",
        "👍 `id`  - уникальный идентификатор скважины, он не является признаком, поэтому его действительно лучше удалить. \n",
        "</div> "
      ]
    },
    {
      "cell_type": "code",
      "execution_count": null,
      "metadata": {
        "id": "r_Y0jwY2yy2G"
      },
      "outputs": [],
      "source": [
        "# Составим таблицы признаков и целового признака.\n",
        "features_0 = data_0.drop(['product'], axis=1)\n",
        "target_0 = data_0['product'] \n",
        "features_1 = data_1.drop(['product'], axis=1)\n",
        "target_1 = data_1['product'] \n",
        "features_2 = data_2.drop(['product'], axis=1)\n",
        "target_2 = data_2['product'] "
      ]
    },
    {
      "cell_type": "markdown",
      "metadata": {
        "id": "JCoGz1IF0uSH"
      },
      "source": [
        "<div class=\"alert alert-block alert-danger\"><b>Комментарий ревьюера</b>\n",
        "    \n",
        "<s> <b>Ошибка:</b><br>\n",
        "    Обрати, пожалуйста, внимание на опечатку - `target_1 = data_2['product'] `  </s>\n",
        "    \n",
        "</div>"
      ]
    },
    {
      "cell_type": "markdown",
      "metadata": {
        "id": "6gtM5vJD0uSH"
      },
      "source": [
        "<div class=\"alert alert-block alert-info\"><b>Комментарий студента</b>\n",
        "    \n",
        "<b>Изменения:</b> Исправлено.<br></div> "
      ]
    },
    {
      "cell_type": "code",
      "execution_count": null,
      "metadata": {
        "colab": {
          "base_uri": "https://localhost:8080/"
        },
        "id": "IzOaXn--yy2H",
        "outputId": "37a48d06-309a-443b-8a07-532d242b7543"
      },
      "outputs": [
        {
          "name": "stdout",
          "output_type": "stream",
          "text": [
            "(75000, 3) (25000, 3) (75000,) (25000,)\n"
          ]
        }
      ],
      "source": [
        "# Отделим 75% данных для обучающих выборок. Посмотрим размер получившихся выборок.\n",
        "rs = 12345\n",
        "features_train_0, features_valid_0, target_train_0, target_valid_0 = train_test_split(features_0, target_0, test_size=0.25, random_state=rs)\n",
        "features_train_1, features_valid_1, target_train_1, target_valid_1 = train_test_split(features_1, target_1, test_size=0.25, random_state=rs )\n",
        "features_train_2, features_valid_2, target_train_2, target_valid_2 = train_test_split(features_2, target_2, test_size=0.25, random_state=rs )\n",
        "print(features_train_0.shape, features_valid_0.shape, target_train_0.shape, target_valid_0.shape)"
      ]
    },
    {
      "cell_type": "markdown",
      "metadata": {
        "id": "NcyKV_rX0uSI"
      },
      "source": [
        "<div class=\"alert alert-block alert-success\"><b>Комментарий ревьюера </b>\n",
        "    \n",
        "<b>Успех:</b><br>\n",
        "👍 Данные разделены на обучающую и валидационную выборку корректно - 75:25.  \n",
        "    \n",
        "</div> "
      ]
    },
    {
      "cell_type": "code",
      "execution_count": null,
      "metadata": {
        "colab": {
          "base_uri": "https://localhost:8080/"
        },
        "id": "fx-s-VJLyy2H",
        "outputId": "3626ad67-8a11-44ed-85ff-20a84ae9f6bf"
      },
      "outputs": [
        {
          "name": "stdout",
          "output_type": "stream",
          "text": [
            "RMSE модели 0 линейной регрессии на валидационной выборке: 37.5794217150813\n",
            "RMSE модели 1 линейной регрессии на валидационной выборке: 0.893099286775617\n",
            "RMSE модели 2 линейной регрессии на валидационной выборке: 40.02970873393434\n"
          ]
        }
      ],
      "source": [
        "# Обучим модели линейной регрессии.\n",
        "model_0 = LinearRegression()\n",
        "model_0.fit(features_train_0, target_train_0)\n",
        "predictions_valid_0 = model_0.predict(features_valid_0)\n",
        "result = (mean_squared_error(target_valid_0, predictions_valid_0))**0.5 # посчитайте значение метрики RMSE на валидационной выборке\n",
        "print(\"RMSE модели 0 линейной регрессии на валидационной выборке:\", result)\n",
        " \n",
        "\n",
        "model_1 = LinearRegression()\n",
        "model_1.fit(features_train_1, target_train_1)\n",
        "predictions_valid_1 = model_1.predict(features_valid_1)\n",
        "result = (mean_squared_error(target_valid_1, predictions_valid_1))**0.5 # посчитайте значение метрики RMSE на валидационной выборке\n",
        "print(\"RMSE модели 1 линейной регрессии на валидационной выборке:\", result)\n",
        "\n",
        "\n",
        "model_2 = LinearRegression()\n",
        "model_2.fit(features_train_2, target_train_2)\n",
        "predictions_valid_2 = model_2.predict(features_valid_2)\n",
        "result = (mean_squared_error(target_valid_2, predictions_valid_2))**0.5 # посчитайте значение метрики RMSE на валидационной выборке\n",
        "print(\"RMSE модели 2 линейной регрессии на валидационной выборке:\", result)\n"
      ]
    },
    {
      "cell_type": "markdown",
      "metadata": {
        "id": "pYekYfwk0uSI"
      },
      "source": [
        "<div class=\"alert alert-block alert-warning\"><b>Комментарий ревьюера</b>\n",
        "    \n",
        "<b>Совет:</b><br>\n",
        "Для каждого региона действия повторяются, в таких случаях удобно использовать функцию. Это позволит не писать один и тот же код несколько раз и избегать ошибок. В случае необходимых изменений, достаточно поправить функцию, а не вносить правки несколько раз.<br>\n",
        "<br>    \n",
        "Например, в функцию можно поместить разбиение на выборки,  обучение, расчет метрики, среднего предсказанного запаса и вернуть таргет_валид, предсказания с соответствующими друг другу индексами.   \n",
        "</div>"
      ]
    },
    {
      "cell_type": "markdown",
      "metadata": {
        "id": "LeMdySNu0uSI"
      },
      "source": [
        "<div class=\"alert alert-block alert-danger\"><b>Комментарий ревьюера</b>\n",
        "    \n",
        "<s> <b>Ошибка:</b><br>\n",
        "* Согласно заданию надо напечатать на экране средний запас предсказанного сырья    \n",
        "* А еще не забывай, пожалуйста, делать выводы для каждого блока. Код - инструмент, выводы - цель. Здесь важно обратить внимание на размер ошибки (rmse), в каком регионе она минимальная, о чем это говорит.  </s>\n",
        "    \n",
        "</div>  "
      ]
    },
    {
      "cell_type": "markdown",
      "metadata": {
        "id": "_YlXYr4_0uSI"
      },
      "source": [
        "<div class=\"alert alert-block alert-info\"><b>Комментарий студента</b>\n",
        "    \n",
        "<b>Изменения:</b> Добавил.<br></div> "
      ]
    },
    {
      "cell_type": "code",
      "execution_count": null,
      "metadata": {
        "colab": {
          "base_uri": "https://localhost:8080/"
        },
        "id": "FfjUMNyO9x0B",
        "outputId": "d95dc6d8-6f5e-40a5-e319-b72108a0bac3"
      },
      "outputs": [
        {
          "name": "stdout",
          "output_type": "stream",
          "text": [
            "Средний предсказанный запас в регионе 0 - 92.59256778438035\n",
            "Средний реальный запас в регионе 0 - 92.07859674082927\n",
            "\n",
            "Средний предсказанный запас в регионе 1 - 68.728546895446\n",
            "Средний реальный запас в регионе 1 - 68.72313602435997\n",
            "\n",
            "Средний предсказанный запас в регионе 2 - 94.96504596800489\n",
            "Средний реальный запас в регионе 2 - 94.88423280885438\n",
            "\n"
          ]
        }
      ],
      "source": [
        "# Оценим общий запас на регион по предсказанным данным.\n",
        "\n",
        "print('Средний предсказанный запас в регионе 0 -', predictions_valid_0.mean())\n",
        "print('Средний реальный запас в регионе 0 -', target_valid_0.mean())\n",
        "print()\n",
        "\n",
        "print('Средний предсказанный запас в регионе 1 -', predictions_valid_1.mean())\n",
        "print('Средний реальный запас в регионе 1 -', target_valid_1.mean())\n",
        "print()\n",
        "\n",
        "print('Средний предсказанный запас в регионе 2 -', predictions_valid_2.mean())\n",
        "print('Средний реальный запас в регионе 2 -', target_valid_2.mean())\n",
        "print()"
      ]
    },
    {
      "cell_type": "markdown",
      "metadata": {
        "id": "ebBC6NcE0uSJ"
      },
      "source": [
        "Вывод по п.1"
      ]
    },
    {
      "cell_type": "markdown",
      "metadata": {
        "id": "mXyUrAJT0uSJ"
      },
      "source": [
        "<div class=\"alert alert-block alert-warning\"><b>Комментарий ревьюера V-2</b>\n",
        "    \n",
        "<b>Совет:</b><br>\n",
        "Чем больше ошибка (RMSE), тем сильнее ошибается модель в предсказаниях. <br>  \n",
        "Здесь стоит обратить внимание на размер ошибки, в двух регионах (`geo_data_0` и `geo_data_2`)  она катастрофически большая - почти 40% от  среднего запаса. И только в одном регионе (`geo_data_1`) она минимальная. \n",
        "<br>    \n",
        "Т.к. при выборе скважин опираемся на предсказания, то качество предсказания имеет огромное значение - важно определить скважины с максимальным запасом.   \n",
        "    \n",
        "</div>  "
      ]
    },
    {
      "cell_type": "markdown",
      "metadata": {
        "id": "HyyzPHO7yy2J"
      },
      "source": [
        "## Подготовка к расчёту прибыли"
      ]
    },
    {
      "cell_type": "code",
      "execution_count": null,
      "metadata": {
        "id": "P7o9YvVlyy2J"
      },
      "outputs": [],
      "source": [
        "BUDGET = 10000000000\n",
        "PRICE = 450\n",
        "PROFIT_ONE = 450000\n",
        "number_of_points = 200\n",
        "number_of_samples = 500\n",
        "number_of_iterations = 1000\n"
      ]
    },
    {
      "cell_type": "markdown",
      "metadata": {
        "id": "WV0hRN0n0uSK"
      },
      "source": [
        "<div class=\"alert alert-block alert-warning\"><b>Комментарий ревьюера</b>\n",
        "    \n",
        "<b>Совет:</b><br>\n",
        "* Согласно руководству по написанию кода на Python [PEP-8](https://pythonworld.ru/osnovy/pep-8-rukovodstvo-po-napisaniyu-koda-na-python.html#section-29) константы принято  объявлять в начале проекта после импортов, затем загрузка данных. Так проще будет их найти и изменить, если возникнет такая необходимость.\n",
        "* Для записи больших чисел и более удобного чтения, чтобы не запутаться в нулях, можно использовать такую запись: `10_000_000_000` или экспоненциальную запись числа - `10e9`, что означает 10 * 10**9.\n",
        "* <font color='green'> Здорово, что задаешь их заглавными буквами  🔥</font>       \n",
        "</div>"
      ]
    },
    {
      "cell_type": "code",
      "execution_count": null,
      "metadata": {
        "colab": {
          "base_uri": "https://localhost:8080/"
        },
        "id": "tlayV7OxYpwy",
        "outputId": "0061087f-3b2b-413a-99f5-affcbce221e4"
      },
      "outputs": [
        {
          "data": {
            "text/plain": [
              "111.11111111111111"
            ]
          },
          "execution_count": 21,
          "metadata": {},
          "output_type": "execute_result"
        }
      ],
      "source": [
        "# Посчитаем достаточный объём сырья для безубыточной разработки новой скважины\n",
        "v_not_less = BUDGET/ number_of_points / PROFIT_ONE\n",
        "v_not_less"
      ]
    },
    {
      "cell_type": "markdown",
      "metadata": {
        "id": "mCJKn17p0uSK"
      },
      "source": [
        "<div class=\"alert alert-block alert-success\"><b>Комментарий ревьюера </b>\n",
        "    \n",
        "<b>Успех:</b><br>\n",
        "👍 Достаточный объём сырья для безубыточной разработки новой скважины рассчитан верно.\n",
        "</div>"
      ]
    },
    {
      "cell_type": "code",
      "execution_count": null,
      "metadata": {
        "colab": {
          "base_uri": "https://localhost:8080/"
        },
        "id": "xwgBaSqMBWW6",
        "outputId": "4f31731b-7464-4ec4-90a1-78644760dd59"
      },
      "outputs": [
        {
          "name": "stdout",
          "output_type": "stream",
          "text": [
            "Средний запас фактичекой нефти на скважину в регионе 0 92.50000000000001\n",
            "Средний запас фактичекой нефти на скважину в регионе 1 68.82500000000002\n",
            "Средний запас фактичекой нефти на скважину в регионе 2 95.00000000000004\n"
          ]
        }
      ],
      "source": [
        "#Рассчитаем запасы по регионам \n",
        "print('Средний запас фактичекой нефти на скважину в регионе 0', data_0['product'].mean())\n",
        "print('Средний запас фактичекой нефти на скважину в регионе 1', data_1['product'].mean())\n",
        "print('Средний запас фактичекой нефти на скважину в регионе 2', data_2['product'].mean())"
      ]
    },
    {
      "cell_type": "code",
      "execution_count": null,
      "metadata": {
        "id": "FxfNBNql4qs3"
      },
      "outputs": [],
      "source": [
        "# Создадим функцию для расчета приыли указанное разведанных точек.\n",
        "def profit (target, prediction):\n",
        "    prediction = prediction.sort_values(ascending=False)\n",
        "    # print((target[prediction.index][:number_of_points]).mean())\n",
        "    product_sum = target[prediction.index][:number_of_points].sum()\n",
        "    profit = product_sum * PROFIT_ONE - BUDGET\n",
        "    # print(profit)\n",
        "    return int(profit)\n"
      ]
    },
    {
      "cell_type": "markdown",
      "metadata": {
        "id": "oKhoaZ6t0uSL"
      },
      "source": [
        "<div class=\"alert alert-block alert-success\"><b>Комментарий ревьюера </b>\n",
        "    \n",
        "<b>Успех:</b><br>\n",
        "👍 Функция прибыли в порядке.\n",
        "</div>"
      ]
    },
    {
      "cell_type": "markdown",
      "metadata": {
        "id": "wmu7LzmGAeH7"
      },
      "source": [
        "**Вывод по п.3**\n",
        "\n",
        "Была  создана функция по расчету прибыли.\n",
        "\n",
        "Анализ средних объемов на скважину для каждого региона следующий.\n",
        "\n",
        "Изучены средние фактические запасы. Для третьего - высокая вероятность окупить затраты. Средний запас фактичекой нефти на скважину в регионе 95 говорит нам о том, что существует достаточно много скважин, где запасы больше необходимого среднего.\n",
        "\n"
      ]
    },
    {
      "cell_type": "markdown",
      "metadata": {
        "id": "akJifu9-0uSL"
      },
      "source": [
        "<div class=\"alert alert-block alert-success\"><b>Комментарий ревьюера </b><br>\n",
        "    \n",
        "Есть 25 000 точек, из которых в результате надо выбрать 200. В результате,  среди этих скважин могут быть скважины с достаточным и недостаточным запасом сырья. <br>\n",
        "    \n",
        "**Главное - выбрать скважины с безубыточным объемом сырья.**  <br>  \n",
        "    \n",
        "При выборе скважин **опираемся на предсказания, точность прогноза имеет большое значение**, поэтому перспективнее регион с наиболее точными предсказаниями)) \n",
        "    \n",
        "   \n",
        "</div>\n"
      ]
    },
    {
      "cell_type": "markdown",
      "metadata": {
        "id": "vyvgOa9_yy2M"
      },
      "source": [
        "## Расчёт прибыли и рисков "
      ]
    },
    {
      "cell_type": "code",
      "execution_count": null,
      "metadata": {
        "id": "0nhzzTwn5qG8"
      },
      "outputs": [],
      "source": [
        "\n",
        "def bootstrap(target, prediction):\n",
        "    # выравниваем индексы\n",
        "    prediction = pd.Series(prediction, index=target.index)\n",
        "    from numpy.random import RandomState\n",
        "    state = RandomState(12345) \n",
        "    profit_reg = []\n",
        "    # реализация техники bootstrap\n",
        "    for i in range(number_of_iterations):\n",
        "    # формирование выборки 500 точек\n",
        "        sample_target = target.sample(n=number_of_samples, replace=True, random_state=state)\n",
        "        sample_prediction = prediction[sample_target.index]\n",
        "        # расчет прибыли на регион и сохранение результатов, вызываем ранее написанную функцию    \n",
        "        profit_reg.append(profit(sample_target, sample_prediction))\n",
        "    # print(profit_reg)\n",
        "    profit_reg = pd.Series(profit_reg)\n",
        "    print(\"Средняя прибыль для региона\", profit_reg.mean())\n",
        "    lower = profit_reg.quantile(0.025)  # квантиль 2.5%\n",
        "    higher = profit_reg.quantile(0.975) # квантиль 97.5%\n",
        "    # расчет убытков в  % от всех\n",
        "    print(\"Вероятность убытка: %\", (profit_reg[profit_reg < 0].count()/profit_reg.count())*100)\n",
        "    print(\"Доверительный интервал 95%  - от  до\", lower, higher)\n",
        "    risk = (profit_reg < 0).mean()*100\n",
        "  \n",
        "    return profit_reg\n",
        "\n"
      ]
    },
    {
      "cell_type": "markdown",
      "metadata": {
        "id": "3tLu5Bma0uSL"
      },
      "source": [
        "<div class=\"alert alert-block alert-success\"><b>Комментарий ревьюера </b>\n",
        "    \n",
        "<b>Успех:</b><br>\n",
        "👍 Очень хорошо, что не забываешь про индексы, теперь таргет соответствует предсказаниям.\n",
        "</div>"
      ]
    },
    {
      "cell_type": "markdown",
      "metadata": {
        "id": "fK2G1BKq0uSL"
      },
      "source": [
        "<div class=\"alert alert-block alert-success\"><b>Комментарий ревьюера</b>\n",
        "    \n",
        "<b>Успех:</b><br>\n",
        "    👍 Отлично, что при семплировании данных устанавливаешь `replace = True`, это необходимо чтобы наблюдение в выборку попало несколько раз, что позволяет добиться независимости при каждом выборе, иначе вероятность достать элемент из выборки будет с каждым разом увеличиваться. Чем больше размер подвыборки, тем выраженнее будет зависимость, поэтому без возврата не удастся получить разнообразные варианты, а подвыборку бОльшего размера вообще не получить.\n",
        "\n",
        "Почему именно так. Вспомним, что выборка - это некоторое представление о генеральной совокупности, ее часть. Значит, что где-то в регионе существуют и другие потенциальные точки добычи нефти, о которых мы можем не знать, но они являются частью этой генеральной совокупности. В этом случае повторяющиеся наблюдения можно считать разными точками добычи из всей генеральной совокупности с близкими характеристиками.\n",
        "    \n",
        "</div>  "
      ]
    },
    {
      "cell_type": "code",
      "execution_count": null,
      "metadata": {
        "colab": {
          "base_uri": "https://localhost:8080/"
        },
        "id": "4F607UBMCjAl",
        "outputId": "9a8d7716-af58-4392-9f7d-67bfdf3d6f20"
      },
      "outputs": [
        {
          "name": "stdout",
          "output_type": "stream",
          "text": [
            "Средняя прибыль для региона 425938526.461\n",
            "Вероятность убытка: % 6.0\n",
            "Доверительный интервал 95%  - от  до -102090093.925 947976352.5999999\n"
          ]
        }
      ],
      "source": [
        "profit_reg_0 = bootstrap(target_valid_0, predictions_valid_0)\n"
      ]
    },
    {
      "cell_type": "code",
      "execution_count": null,
      "metadata": {
        "colab": {
          "base_uri": "https://localhost:8080/"
        },
        "id": "UZV8ENRPCtMS",
        "outputId": "a64dff48-b0d0-4a04-bea7-bdcbc4a47acb"
      },
      "outputs": [
        {
          "name": "stdout",
          "output_type": "stream",
          "text": [
            "Средняя прибыль для региона 515222772.954\n",
            "Вероятность убытка: % 1.0\n",
            "Доверительный интервал 95%  - от  до 68873225.10000001 931547590.8499999\n"
          ]
        }
      ],
      "source": [
        "profit_reg_1 = bootstrap(target_valid_1, predictions_valid_1)"
      ]
    },
    {
      "cell_type": "code",
      "execution_count": null,
      "metadata": {
        "colab": {
          "base_uri": "https://localhost:8080/"
        },
        "id": "97Wo-POc5zV-",
        "outputId": "c32a3b30-5400-4678-c6d7-d51079d77d8f"
      },
      "outputs": [
        {
          "name": "stdout",
          "output_type": "stream",
          "text": [
            "Средняя прибыль для региона 435008362.344\n",
            "Вероятность убытка: % 6.4\n",
            "Доверительный интервал 95%  - от  до -128880546.35 969706953.6999999\n"
          ]
        }
      ],
      "source": [
        "profit_reg_2 = bootstrap(target_valid_2, predictions_valid_2)\n"
      ]
    },
    {
      "cell_type": "markdown",
      "metadata": {
        "id": "vQuWtxmv25L3"
      },
      "source": [
        "**Вывод по п.4**\n",
        "Данные были обработаны и рассчитаны прибыль, интервал и риски.\n",
        "\n",
        "Мы отсеиваем первый и третий регион, так как риски достаточно велики. Остается один единственный - второйй, чей риск ниже требуемого. Кроме того доверительный интервал показывает, что даже при не очень удачном выборе разработка скважин окупится.\n",
        "\n"
      ]
    },
    {
      "cell_type": "markdown",
      "metadata": {
        "id": "4Kr_Dm1V0uSM"
      },
      "source": [
        "<div class=\"alert alert-block alert-danger\"><b>Комментарий ревьюера</b>\n",
        "    \n",
        "<s> <b>Ошибка:</b><br>\n",
        "    Скорректируй, пожалуйста, итоговый вывод после внесенных изменений.</s>\n",
        "</div>"
      ]
    },
    {
      "cell_type": "markdown",
      "metadata": {
        "id": "ugsrhOKw0uSM"
      },
      "source": [
        "<div class=\"alert alert-block alert-info\"><b>Комментарий студента</b>\n",
        "    \n",
        "<b>Изменения:</b> Исправлено.<br></div> "
      ]
    },
    {
      "cell_type": "markdown",
      "metadata": {
        "id": "QtvYhnCQ0uSN"
      },
      "source": [
        "<div class=\"alert alert-block alert-success\"><b>Комментарий ревьюера V-2</b>\n",
        "    \n",
        "<b>Успех:</b><br>\n",
        "    👍 Регион `geo_data_1` выбран абсолютно верно. В этом регионе минимальный % риска, т.к. модель предсказывает хорошо (ошибка минимальная). А при выборе 200 лучших скважин мы опираемся на предсказания, поэтому ничего удивительного  -  регион победил!)\n",
        "    \n",
        "</div>  "
      ]
    },
    {
      "cell_type": "markdown",
      "metadata": {
        "id": "6QzjNejULdRy"
      },
      "source": [
        "\n",
        "\n",
        "***Итоговый вывод***    \n",
        "\n",
        "При выполнении следующего проекта было выполнено:\n",
        "\n",
        "Изучены данные. Проведена подготовка данных к моделированию.\n",
        "Обучена модель для каждого региона 0, 1 и 2.\n",
        "Составлена функция расчета прибыли в регионе.\n",
        "Посчитана прибыль и риски за каждый регион и обоснован выбор региона.\n",
        "Первый регион получился одним из лучших по показателям предсказывания."
      ]
    },
    {
      "cell_type": "markdown",
      "metadata": {
        "id": "mII-Ld9a0uSN"
      },
      "source": [
        "<div style=\"background: #cceeaa; padding: 5px; border: 1px solid green; border-radius: 5px;\">\n",
        "<font color='green'> \n",
        "    <b><u>Общий вывод по проекту</u></b>\n",
        "<font color='green'><br> \n",
        "\n",
        "\n",
        "Алексей, приложено много усилий, ты - молодец! Есть несколько важных моментов, которые я отметила и которые можно было бы улучшить, подсказки ты найдешь в моих комментариях. \n",
        "\n",
        "**Что мне особенно понравилось в твоей работе:**:\n",
        " \n",
        "* Есть разведочный анализ данных.\n",
        "* Рассчитан размер ошибки для каждого региона.\n",
        "* Рассчитан достаточный объём сырья для безубыточной разработки новой скважины.    \n",
        "* Написана функция для расчёта прибыли.  \n",
        "* Применена техника `Bootstrap`. Рассчитаны риски, прибыль и доверительный интервал для каждого региона.    \n",
        "* Код логичный и понятный. \n",
        "* Проект полностью соответствует плану!<br>\n",
        "\n",
        "\n",
        "**На что стоит обратить внимание**:\n",
        "    \n",
        "* Осталось совсем немного поправить, а именно: рассчитать средний запас предсказанного сырья, исправить опечатки, путь к файлам, добавить и скорректировать выводы. Подсказки ты найдешь в моих комментариях.\n",
        "\n",
        "\n",
        "\n",
        "\n",
        "**Доработка займет у тебя совсем немного времени) Желаю удачи и жду твой проект на повторное ревью!**😉 "
      ]
    },
    {
      "cell_type": "markdown",
      "metadata": {
        "id": "euVmxWGVyy2N"
      },
      "source": [
        "## Чек-лист готовности проекта"
      ]
    },
    {
      "cell_type": "markdown",
      "metadata": {
        "id": "8f_672NHyy2N"
      },
      "source": [
        "Поставьте 'x' в выполненных пунктах. Далее нажмите Shift+Enter."
      ]
    },
    {
      "cell_type": "markdown",
      "metadata": {
        "id": "oDlIJ0jeyy2N"
      },
      "source": [
        "- [x]  Jupyter Notebook открыт\n",
        "- [x]  Весь код выполняется без ошибок\n",
        "- [x]  Ячейки с кодом расположены в порядке исполнения\n",
        "- [x]  Выполнен шаг 1: данные подготовлены\n",
        "- [x]  Выполнен шаг 2: модели обучены и проверены\n",
        "    - [x]  Данные корректно разбиты на обучающую и валидационную выборки\n",
        "    - [x]  Модели обучены, предсказания сделаны\n",
        "    - [x]  Предсказания и правильные ответы на валидационной выборке сохранены\n",
        "    - [x]  На экране напечатаны результаты\n",
        "    - [x]  Сделаны выводы\n",
        "- [x]  Выполнен шаг 3: проведена подготовка к расчёту прибыли\n",
        "    - [x]  Для всех ключевых значений созданы константы Python\n",
        "    - [x]  Посчитано минимальное среднее количество продукта в месторождениях региона, достаточное для разработки\n",
        "    - [x]  По предыдущему пункту сделаны выводы\n",
        "    - [x]  Написана функция расчёта прибыли\n",
        "- [x]  Выполнен шаг 4: посчитаны риски и прибыль\n",
        "    - [x]  Проведена процедура *Bootstrap*\n",
        "    - [x]  Все параметры бутстрепа соответствуют условию\n",
        "    - [x]  Найдены все нужные величины\n",
        "    - [x]  Предложен регион для разработки месторождения\n",
        "    - [x]  Выбор региона обоснован"
      ]
    },
    {
      "cell_type": "code",
      "execution_count": null,
      "metadata": {
        "id": "_uXHfqxfyy2N"
      },
      "outputs": [],
      "source": []
    }
  ],
  "metadata": {
    "ExecuteTimeLog": [
      {
        "duration": 442,
        "start_time": "2023-04-18T17:35:54.126Z"
      },
      {
        "duration": 1489,
        "start_time": "2023-04-18T17:35:54.914Z"
      },
      {
        "duration": 88,
        "start_time": "2023-04-18T17:35:57.232Z"
      },
      {
        "duration": 29,
        "start_time": "2023-04-18T17:36:04.432Z"
      },
      {
        "duration": 9,
        "start_time": "2023-04-18T17:36:14.084Z"
      },
      {
        "duration": 22,
        "start_time": "2023-04-18T17:36:18.130Z"
      },
      {
        "duration": 34,
        "start_time": "2023-04-18T17:37:06.740Z"
      },
      {
        "duration": 29,
        "start_time": "2023-04-18T17:37:09.936Z"
      },
      {
        "duration": 807,
        "start_time": "2023-04-18T17:39:57.103Z"
      },
      {
        "duration": 1271,
        "start_time": "2023-04-19T05:45:21.286Z"
      },
      {
        "duration": 1761,
        "start_time": "2023-04-19T05:45:22.560Z"
      },
      {
        "duration": 22,
        "start_time": "2023-04-19T05:45:24.323Z"
      },
      {
        "duration": 25,
        "start_time": "2023-04-19T05:45:24.349Z"
      },
      {
        "duration": 25,
        "start_time": "2023-04-19T05:45:24.377Z"
      },
      {
        "duration": 22,
        "start_time": "2023-04-19T05:45:24.404Z"
      },
      {
        "duration": 109,
        "start_time": "2023-04-19T05:55:18.131Z"
      },
      {
        "duration": 78,
        "start_time": "2023-04-19T05:55:27.684Z"
      },
      {
        "duration": 4,
        "start_time": "2023-04-19T05:55:34.954Z"
      },
      {
        "duration": 745,
        "start_time": "2023-04-19T05:55:55.836Z"
      },
      {
        "duration": 59,
        "start_time": "2023-04-19T06:55:42.262Z"
      },
      {
        "duration": 5,
        "start_time": "2023-04-19T06:56:27.750Z"
      },
      {
        "duration": 71,
        "start_time": "2023-04-19T06:56:42.177Z"
      },
      {
        "duration": 87,
        "start_time": "2023-04-19T06:56:47.734Z"
      },
      {
        "duration": 1428,
        "start_time": "2023-04-19T07:15:09.618Z"
      },
      {
        "duration": 1879,
        "start_time": "2023-04-19T07:15:11.049Z"
      },
      {
        "duration": 22,
        "start_time": "2023-04-19T07:15:12.930Z"
      },
      {
        "duration": 23,
        "start_time": "2023-04-19T07:15:12.955Z"
      },
      {
        "duration": 30,
        "start_time": "2023-04-19T07:15:12.980Z"
      },
      {
        "duration": 15,
        "start_time": "2023-04-19T07:15:13.012Z"
      },
      {
        "duration": 78,
        "start_time": "2023-04-19T07:15:13.029Z"
      },
      {
        "duration": 57,
        "start_time": "2023-04-19T07:15:13.108Z"
      },
      {
        "duration": 73,
        "start_time": "2023-04-19T07:15:13.168Z"
      },
      {
        "duration": 979,
        "start_time": "2023-04-19T07:17:51.481Z"
      },
      {
        "duration": 229,
        "start_time": "2023-04-19T07:18:05.374Z"
      },
      {
        "duration": 294,
        "start_time": "2023-04-19T07:18:13.024Z"
      },
      {
        "duration": 4,
        "start_time": "2023-04-19T07:19:12.174Z"
      },
      {
        "duration": 66,
        "start_time": "2023-04-19T07:20:11.375Z"
      },
      {
        "duration": 65,
        "start_time": "2023-04-19T07:20:32.284Z"
      },
      {
        "duration": 607,
        "start_time": "2023-04-19T07:23:41.778Z"
      },
      {
        "duration": 640,
        "start_time": "2023-04-19T07:24:14.710Z"
      },
      {
        "duration": 532,
        "start_time": "2023-04-19T07:32:45.526Z"
      },
      {
        "duration": 653,
        "start_time": "2023-04-19T07:32:50.888Z"
      },
      {
        "duration": 518,
        "start_time": "2023-04-19T07:33:10.987Z"
      },
      {
        "duration": 6,
        "start_time": "2023-04-19T10:41:15.143Z"
      },
      {
        "duration": 4,
        "start_time": "2023-04-19T10:43:42.619Z"
      },
      {
        "duration": 12,
        "start_time": "2023-04-19T10:44:03.302Z"
      },
      {
        "duration": 18,
        "start_time": "2023-04-19T10:44:39.626Z"
      },
      {
        "duration": 8,
        "start_time": "2023-04-19T10:44:44.127Z"
      },
      {
        "duration": 18,
        "start_time": "2023-04-19T10:45:20.847Z"
      },
      {
        "duration": 1430,
        "start_time": "2023-04-19T10:45:28.492Z"
      },
      {
        "duration": 1756,
        "start_time": "2023-04-19T10:45:29.925Z"
      },
      {
        "duration": 19,
        "start_time": "2023-04-19T10:45:31.683Z"
      },
      {
        "duration": 31,
        "start_time": "2023-04-19T10:45:31.705Z"
      },
      {
        "duration": 27,
        "start_time": "2023-04-19T10:45:31.738Z"
      },
      {
        "duration": 30,
        "start_time": "2023-04-19T10:45:31.767Z"
      },
      {
        "duration": 52,
        "start_time": "2023-04-19T10:45:31.799Z"
      },
      {
        "duration": 70,
        "start_time": "2023-04-19T10:45:31.853Z"
      },
      {
        "duration": 65,
        "start_time": "2023-04-19T10:45:31.925Z"
      },
      {
        "duration": 498,
        "start_time": "2023-04-19T10:45:31.993Z"
      },
      {
        "duration": 476,
        "start_time": "2023-04-19T10:45:32.494Z"
      },
      {
        "duration": 494,
        "start_time": "2023-04-19T10:45:32.972Z"
      },
      {
        "duration": 21,
        "start_time": "2023-04-19T10:45:33.468Z"
      },
      {
        "duration": 118,
        "start_time": "2023-04-19T10:46:23.870Z"
      },
      {
        "duration": 7,
        "start_time": "2023-04-19T10:49:07.286Z"
      },
      {
        "duration": 16,
        "start_time": "2023-04-19T10:49:56.584Z"
      },
      {
        "duration": 13,
        "start_time": "2023-04-19T10:50:05.181Z"
      },
      {
        "duration": 3,
        "start_time": "2023-04-19T10:51:32.088Z"
      },
      {
        "duration": 19,
        "start_time": "2023-04-19T10:51:40.445Z"
      },
      {
        "duration": 11,
        "start_time": "2023-04-19T10:59:50.519Z"
      },
      {
        "duration": 11,
        "start_time": "2023-04-19T11:00:42.271Z"
      },
      {
        "duration": 3,
        "start_time": "2023-04-19T11:01:18.950Z"
      },
      {
        "duration": 1373,
        "start_time": "2023-04-19T11:01:31.019Z"
      },
      {
        "duration": 402,
        "start_time": "2023-04-19T11:01:32.395Z"
      },
      {
        "duration": 14,
        "start_time": "2023-04-19T11:01:32.799Z"
      },
      {
        "duration": 15,
        "start_time": "2023-04-19T11:01:32.815Z"
      },
      {
        "duration": 17,
        "start_time": "2023-04-19T11:01:32.833Z"
      },
      {
        "duration": 41,
        "start_time": "2023-04-19T11:01:32.851Z"
      },
      {
        "duration": 54,
        "start_time": "2023-04-19T11:01:32.893Z"
      },
      {
        "duration": 72,
        "start_time": "2023-04-19T11:01:32.949Z"
      },
      {
        "duration": 58,
        "start_time": "2023-04-19T11:01:33.022Z"
      },
      {
        "duration": 494,
        "start_time": "2023-04-19T11:01:33.090Z"
      },
      {
        "duration": 480,
        "start_time": "2023-04-19T11:01:33.586Z"
      },
      {
        "duration": 506,
        "start_time": "2023-04-19T11:01:34.068Z"
      },
      {
        "duration": 19,
        "start_time": "2023-04-19T11:01:34.576Z"
      },
      {
        "duration": 13,
        "start_time": "2023-04-19T11:01:34.597Z"
      },
      {
        "duration": 34,
        "start_time": "2023-04-19T11:01:34.612Z"
      },
      {
        "duration": 135,
        "start_time": "2023-04-19T11:01:34.648Z"
      },
      {
        "duration": 18,
        "start_time": "2023-04-19T11:02:37.745Z"
      },
      {
        "duration": 4,
        "start_time": "2023-04-19T11:03:40.070Z"
      },
      {
        "duration": 16,
        "start_time": "2023-04-19T11:03:48.748Z"
      },
      {
        "duration": 11,
        "start_time": "2023-04-19T11:05:17.044Z"
      },
      {
        "duration": 6,
        "start_time": "2023-04-19T11:05:37.165Z"
      },
      {
        "duration": 3,
        "start_time": "2023-04-19T11:06:30.094Z"
      },
      {
        "duration": 3,
        "start_time": "2023-04-19T11:06:37.654Z"
      },
      {
        "duration": 17,
        "start_time": "2023-04-19T11:06:44.508Z"
      },
      {
        "duration": 11,
        "start_time": "2023-04-19T11:12:42.507Z"
      },
      {
        "duration": 4,
        "start_time": "2023-04-19T11:13:08.565Z"
      },
      {
        "duration": 13,
        "start_time": "2023-04-19T11:13:15.414Z"
      },
      {
        "duration": 13,
        "start_time": "2023-04-19T11:13:27.560Z"
      },
      {
        "duration": 46,
        "start_time": "2023-04-19T11:16:41.168Z"
      },
      {
        "duration": 13,
        "start_time": "2023-04-19T11:16:44.445Z"
      },
      {
        "duration": 16,
        "start_time": "2023-04-19T11:16:59.498Z"
      },
      {
        "duration": 167,
        "start_time": "2023-04-19T11:18:18.725Z"
      },
      {
        "duration": 3,
        "start_time": "2023-04-19T11:18:56.688Z"
      },
      {
        "duration": 205,
        "start_time": "2023-04-19T11:19:05.604Z"
      },
      {
        "duration": 3,
        "start_time": "2023-04-19T11:22:57.553Z"
      },
      {
        "duration": 104,
        "start_time": "2023-04-19T11:23:16.387Z"
      },
      {
        "duration": 17,
        "start_time": "2023-04-19T11:23:50.354Z"
      },
      {
        "duration": 23,
        "start_time": "2023-04-19T11:23:59.675Z"
      },
      {
        "duration": 232,
        "start_time": "2023-04-19T11:25:44.463Z"
      },
      {
        "duration": 208,
        "start_time": "2023-04-19T11:30:01.784Z"
      },
      {
        "duration": 10,
        "start_time": "2023-04-19T12:05:26.074Z"
      },
      {
        "duration": 10,
        "start_time": "2023-04-19T12:05:40.011Z"
      },
      {
        "duration": 5,
        "start_time": "2023-04-19T12:06:24.008Z"
      },
      {
        "duration": 11,
        "start_time": "2023-04-19T12:06:41.017Z"
      },
      {
        "duration": 1419,
        "start_time": "2023-04-19T12:07:12.560Z"
      },
      {
        "duration": 419,
        "start_time": "2023-04-19T12:07:13.981Z"
      },
      {
        "duration": 20,
        "start_time": "2023-04-19T12:07:14.402Z"
      },
      {
        "duration": 22,
        "start_time": "2023-04-19T12:07:14.425Z"
      },
      {
        "duration": 38,
        "start_time": "2023-04-19T12:07:14.451Z"
      },
      {
        "duration": 20,
        "start_time": "2023-04-19T12:07:14.492Z"
      },
      {
        "duration": 76,
        "start_time": "2023-04-19T12:07:14.514Z"
      },
      {
        "duration": 53,
        "start_time": "2023-04-19T12:07:14.592Z"
      },
      {
        "duration": 72,
        "start_time": "2023-04-19T12:07:14.647Z"
      },
      {
        "duration": 503,
        "start_time": "2023-04-19T12:07:14.721Z"
      },
      {
        "duration": 493,
        "start_time": "2023-04-19T12:07:15.226Z"
      },
      {
        "duration": 512,
        "start_time": "2023-04-19T12:07:15.722Z"
      },
      {
        "duration": 15,
        "start_time": "2023-04-19T12:07:16.236Z"
      },
      {
        "duration": 13,
        "start_time": "2023-04-19T12:07:16.254Z"
      },
      {
        "duration": 53,
        "start_time": "2023-04-19T12:07:16.268Z"
      },
      {
        "duration": 172,
        "start_time": "2023-04-19T12:07:16.323Z"
      },
      {
        "duration": 302,
        "start_time": "2023-04-19T12:07:16.497Z"
      },
      {
        "duration": 2145,
        "start_time": "2023-04-20T06:05:14.432Z"
      },
      {
        "duration": 2419,
        "start_time": "2023-04-20T06:05:16.579Z"
      },
      {
        "duration": 26,
        "start_time": "2023-04-20T06:05:19.001Z"
      },
      {
        "duration": 29,
        "start_time": "2023-04-20T06:05:19.030Z"
      },
      {
        "duration": 21,
        "start_time": "2023-04-20T06:05:19.062Z"
      },
      {
        "duration": 39,
        "start_time": "2023-04-20T06:05:19.086Z"
      },
      {
        "duration": 94,
        "start_time": "2023-04-20T06:05:19.128Z"
      },
      {
        "duration": 66,
        "start_time": "2023-04-20T06:05:19.227Z"
      },
      {
        "duration": 89,
        "start_time": "2023-04-20T06:05:19.295Z"
      },
      {
        "duration": 594,
        "start_time": "2023-04-20T06:05:19.386Z"
      },
      {
        "duration": 558,
        "start_time": "2023-04-20T06:05:19.981Z"
      },
      {
        "duration": 560,
        "start_time": "2023-04-20T06:05:20.542Z"
      },
      {
        "duration": 20,
        "start_time": "2023-04-20T06:05:21.104Z"
      },
      {
        "duration": 13,
        "start_time": "2023-04-20T06:05:21.126Z"
      },
      {
        "duration": 48,
        "start_time": "2023-04-20T06:05:21.141Z"
      },
      {
        "duration": 162,
        "start_time": "2023-04-20T06:05:21.191Z"
      },
      {
        "duration": 231,
        "start_time": "2023-04-20T06:05:21.413Z"
      },
      {
        "duration": 12694,
        "start_time": "2023-04-20T06:06:41.710Z"
      },
      {
        "duration": 47,
        "start_time": "2023-04-20T06:30:43.196Z"
      },
      {
        "duration": 34,
        "start_time": "2023-04-20T06:31:26.775Z"
      },
      {
        "duration": 4,
        "start_time": "2023-04-20T06:32:27.456Z"
      },
      {
        "duration": 19,
        "start_time": "2023-04-20T06:38:15.037Z"
      },
      {
        "duration": 5,
        "start_time": "2023-04-20T06:38:24.152Z"
      },
      {
        "duration": 8,
        "start_time": "2023-04-20T06:38:29.041Z"
      },
      {
        "duration": 18,
        "start_time": "2023-04-20T06:38:49.828Z"
      },
      {
        "duration": 1589,
        "start_time": "2023-04-20T06:39:34.058Z"
      },
      {
        "duration": 500,
        "start_time": "2023-04-20T06:39:35.656Z"
      },
      {
        "duration": 17,
        "start_time": "2023-04-20T06:39:36.158Z"
      },
      {
        "duration": 29,
        "start_time": "2023-04-20T06:39:36.177Z"
      },
      {
        "duration": 24,
        "start_time": "2023-04-20T06:39:36.217Z"
      },
      {
        "duration": 23,
        "start_time": "2023-04-20T06:39:36.243Z"
      },
      {
        "duration": 65,
        "start_time": "2023-04-20T06:39:36.268Z"
      },
      {
        "duration": 59,
        "start_time": "2023-04-20T06:39:36.335Z"
      },
      {
        "duration": 85,
        "start_time": "2023-04-20T06:39:36.396Z"
      },
      {
        "duration": 706,
        "start_time": "2023-04-20T06:39:36.483Z"
      },
      {
        "duration": 652,
        "start_time": "2023-04-20T06:39:37.191Z"
      },
      {
        "duration": 642,
        "start_time": "2023-04-20T06:39:37.845Z"
      },
      {
        "duration": 2,
        "start_time": "2023-04-20T06:39:38.489Z"
      },
      {
        "duration": 29,
        "start_time": "2023-04-20T06:39:38.495Z"
      },
      {
        "duration": 18,
        "start_time": "2023-04-20T06:39:38.526Z"
      },
      {
        "duration": 52,
        "start_time": "2023-04-20T06:39:38.546Z"
      },
      {
        "duration": 315,
        "start_time": "2023-04-20T06:39:38.600Z"
      },
      {
        "duration": 21,
        "start_time": "2023-04-20T06:39:38.919Z"
      },
      {
        "duration": 241,
        "start_time": "2023-04-20T06:39:38.951Z"
      },
      {
        "duration": 17,
        "start_time": "2023-04-20T06:40:38.848Z"
      },
      {
        "duration": 1601,
        "start_time": "2023-04-20T06:40:46.111Z"
      },
      {
        "duration": 488,
        "start_time": "2023-04-20T06:40:47.716Z"
      },
      {
        "duration": 30,
        "start_time": "2023-04-20T06:40:48.205Z"
      },
      {
        "duration": 26,
        "start_time": "2023-04-20T06:40:48.244Z"
      },
      {
        "duration": 15,
        "start_time": "2023-04-20T06:40:48.272Z"
      },
      {
        "duration": 15,
        "start_time": "2023-04-20T06:40:48.289Z"
      },
      {
        "duration": 78,
        "start_time": "2023-04-20T06:40:48.319Z"
      },
      {
        "duration": 64,
        "start_time": "2023-04-20T06:40:48.398Z"
      },
      {
        "duration": 71,
        "start_time": "2023-04-20T06:40:48.464Z"
      },
      {
        "duration": 681,
        "start_time": "2023-04-20T06:40:48.547Z"
      },
      {
        "duration": 657,
        "start_time": "2023-04-20T06:40:49.231Z"
      },
      {
        "duration": 642,
        "start_time": "2023-04-20T06:40:49.890Z"
      },
      {
        "duration": 8,
        "start_time": "2023-04-20T06:40:50.542Z"
      },
      {
        "duration": 13,
        "start_time": "2023-04-20T06:40:50.557Z"
      },
      {
        "duration": 14,
        "start_time": "2023-04-20T06:40:50.572Z"
      },
      {
        "duration": 45,
        "start_time": "2023-04-20T06:40:50.587Z"
      },
      {
        "duration": 211,
        "start_time": "2023-04-20T06:40:50.634Z"
      },
      {
        "duration": 69,
        "start_time": "2023-04-20T06:40:50.855Z"
      },
      {
        "duration": 188,
        "start_time": "2023-04-20T06:40:50.928Z"
      },
      {
        "duration": 3,
        "start_time": "2023-04-20T06:41:27.867Z"
      },
      {
        "duration": 14,
        "start_time": "2023-04-20T06:41:43.006Z"
      },
      {
        "duration": 5,
        "start_time": "2023-04-20T06:46:36.850Z"
      },
      {
        "duration": 1615,
        "start_time": "2023-04-20T06:47:52.576Z"
      },
      {
        "duration": 551,
        "start_time": "2023-04-20T06:47:54.193Z"
      },
      {
        "duration": 17,
        "start_time": "2023-04-20T06:47:54.746Z"
      },
      {
        "duration": 16,
        "start_time": "2023-04-20T06:47:54.765Z"
      },
      {
        "duration": 15,
        "start_time": "2023-04-20T06:47:54.782Z"
      },
      {
        "duration": 26,
        "start_time": "2023-04-20T06:47:54.814Z"
      },
      {
        "duration": 72,
        "start_time": "2023-04-20T06:47:54.842Z"
      },
      {
        "duration": 68,
        "start_time": "2023-04-20T06:47:54.919Z"
      },
      {
        "duration": 85,
        "start_time": "2023-04-20T06:47:54.988Z"
      },
      {
        "duration": 707,
        "start_time": "2023-04-20T06:47:55.076Z"
      },
      {
        "duration": 683,
        "start_time": "2023-04-20T06:47:55.785Z"
      },
      {
        "duration": 702,
        "start_time": "2023-04-20T06:47:56.471Z"
      },
      {
        "duration": 3,
        "start_time": "2023-04-20T06:47:57.175Z"
      },
      {
        "duration": 40,
        "start_time": "2023-04-20T06:47:57.180Z"
      },
      {
        "duration": 32,
        "start_time": "2023-04-20T06:47:57.222Z"
      },
      {
        "duration": 36,
        "start_time": "2023-04-20T06:47:57.261Z"
      },
      {
        "duration": 114,
        "start_time": "2023-04-20T06:47:57.299Z"
      },
      {
        "duration": 9,
        "start_time": "2023-04-20T06:47:57.415Z"
      },
      {
        "duration": 246,
        "start_time": "2023-04-20T06:47:57.426Z"
      },
      {
        "duration": 0,
        "start_time": "2023-04-20T06:47:57.674Z"
      },
      {
        "duration": 15,
        "start_time": "2023-04-20T06:48:11.438Z"
      },
      {
        "duration": 3,
        "start_time": "2023-04-20T06:48:27.605Z"
      },
      {
        "duration": 12,
        "start_time": "2023-04-20T06:49:22.634Z"
      },
      {
        "duration": 6,
        "start_time": "2023-04-20T06:49:25.937Z"
      },
      {
        "duration": 282,
        "start_time": "2023-04-20T06:49:33.053Z"
      },
      {
        "duration": 6,
        "start_time": "2023-04-20T06:49:42.640Z"
      },
      {
        "duration": 18,
        "start_time": "2023-04-20T06:49:44.268Z"
      },
      {
        "duration": 4,
        "start_time": "2023-04-20T06:49:46.238Z"
      },
      {
        "duration": 5,
        "start_time": "2023-04-20T06:54:05.535Z"
      },
      {
        "duration": 15,
        "start_time": "2023-04-20T06:54:11.437Z"
      },
      {
        "duration": 1473,
        "start_time": "2023-04-20T06:58:47.314Z"
      },
      {
        "duration": 465,
        "start_time": "2023-04-20T06:58:48.789Z"
      },
      {
        "duration": 17,
        "start_time": "2023-04-20T06:58:49.258Z"
      },
      {
        "duration": 38,
        "start_time": "2023-04-20T06:58:49.278Z"
      },
      {
        "duration": 31,
        "start_time": "2023-04-20T06:58:49.320Z"
      },
      {
        "duration": 22,
        "start_time": "2023-04-20T06:58:49.353Z"
      },
      {
        "duration": 87,
        "start_time": "2023-04-20T06:58:49.378Z"
      },
      {
        "duration": 85,
        "start_time": "2023-04-20T06:58:49.467Z"
      },
      {
        "duration": 82,
        "start_time": "2023-04-20T06:58:49.556Z"
      },
      {
        "duration": 606,
        "start_time": "2023-04-20T06:58:49.642Z"
      },
      {
        "duration": 551,
        "start_time": "2023-04-20T06:58:50.251Z"
      },
      {
        "duration": 556,
        "start_time": "2023-04-20T06:58:50.803Z"
      },
      {
        "duration": 3,
        "start_time": "2023-04-20T06:58:51.361Z"
      },
      {
        "duration": 55,
        "start_time": "2023-04-20T06:58:51.367Z"
      },
      {
        "duration": 38,
        "start_time": "2023-04-20T06:58:51.424Z"
      },
      {
        "duration": 88,
        "start_time": "2023-04-20T06:58:51.464Z"
      },
      {
        "duration": 184,
        "start_time": "2023-04-20T06:58:51.554Z"
      },
      {
        "duration": 78,
        "start_time": "2023-04-20T06:58:51.743Z"
      },
      {
        "duration": 135,
        "start_time": "2023-04-20T06:58:51.832Z"
      },
      {
        "duration": 0,
        "start_time": "2023-04-20T06:58:51.969Z"
      },
      {
        "duration": 13,
        "start_time": "2023-04-20T06:59:25.757Z"
      },
      {
        "duration": 6,
        "start_time": "2023-04-20T06:59:40.657Z"
      },
      {
        "duration": 4,
        "start_time": "2023-04-20T06:59:49.666Z"
      },
      {
        "duration": 21,
        "start_time": "2023-04-20T06:59:59.509Z"
      },
      {
        "duration": 14,
        "start_time": "2023-04-20T07:00:05.036Z"
      },
      {
        "duration": 5,
        "start_time": "2023-04-20T07:00:48.699Z"
      },
      {
        "duration": 16,
        "start_time": "2023-04-20T07:03:46.621Z"
      },
      {
        "duration": 152,
        "start_time": "2023-04-20T09:47:51.976Z"
      },
      {
        "duration": 146,
        "start_time": "2023-04-20T09:48:05.600Z"
      },
      {
        "duration": 113,
        "start_time": "2023-04-20T09:48:18.837Z"
      },
      {
        "duration": 125,
        "start_time": "2023-04-20T09:48:57.715Z"
      },
      {
        "duration": 5,
        "start_time": "2023-04-20T09:49:21.549Z"
      },
      {
        "duration": 4,
        "start_time": "2023-04-20T09:49:22.790Z"
      },
      {
        "duration": 11,
        "start_time": "2023-04-20T09:49:25.651Z"
      },
      {
        "duration": 1488,
        "start_time": "2023-04-20T10:09:02.925Z"
      },
      {
        "duration": 482,
        "start_time": "2023-04-20T10:09:04.417Z"
      },
      {
        "duration": 16,
        "start_time": "2023-04-20T10:09:04.902Z"
      },
      {
        "duration": 45,
        "start_time": "2023-04-20T10:09:04.920Z"
      },
      {
        "duration": 27,
        "start_time": "2023-04-20T10:09:04.967Z"
      },
      {
        "duration": 34,
        "start_time": "2023-04-20T10:09:04.996Z"
      },
      {
        "duration": 76,
        "start_time": "2023-04-20T10:09:05.037Z"
      },
      {
        "duration": 63,
        "start_time": "2023-04-20T10:09:05.115Z"
      },
      {
        "duration": 91,
        "start_time": "2023-04-20T10:09:05.180Z"
      },
      {
        "duration": 662,
        "start_time": "2023-04-20T10:09:05.273Z"
      },
      {
        "duration": 566,
        "start_time": "2023-04-20T10:09:05.936Z"
      },
      {
        "duration": 576,
        "start_time": "2023-04-20T10:09:06.511Z"
      },
      {
        "duration": 3,
        "start_time": "2023-04-20T10:09:07.089Z"
      },
      {
        "duration": 29,
        "start_time": "2023-04-20T10:09:07.095Z"
      },
      {
        "duration": 23,
        "start_time": "2023-04-20T10:09:07.130Z"
      },
      {
        "duration": 38,
        "start_time": "2023-04-20T10:09:07.155Z"
      },
      {
        "duration": 325,
        "start_time": "2023-04-20T10:09:07.195Z"
      },
      {
        "duration": 0,
        "start_time": "2023-04-20T10:09:07.522Z"
      },
      {
        "duration": 0,
        "start_time": "2023-04-20T10:09:07.530Z"
      },
      {
        "duration": 0,
        "start_time": "2023-04-20T10:09:07.531Z"
      },
      {
        "duration": 0,
        "start_time": "2023-04-20T10:09:07.534Z"
      },
      {
        "duration": 0,
        "start_time": "2023-04-20T10:09:07.535Z"
      },
      {
        "duration": 99,
        "start_time": "2023-04-20T10:10:22.448Z"
      },
      {
        "duration": 12,
        "start_time": "2023-04-20T10:10:26.636Z"
      },
      {
        "duration": 4,
        "start_time": "2023-04-20T10:10:36.343Z"
      },
      {
        "duration": 10,
        "start_time": "2023-04-20T10:10:45.938Z"
      },
      {
        "duration": 9,
        "start_time": "2023-04-20T10:11:16.352Z"
      },
      {
        "duration": 14,
        "start_time": "2023-04-20T10:11:18.310Z"
      },
      {
        "duration": 14,
        "start_time": "2023-04-20T10:11:32.811Z"
      },
      {
        "duration": 10,
        "start_time": "2023-04-20T10:16:11.144Z"
      },
      {
        "duration": 17,
        "start_time": "2023-04-20T10:16:25.030Z"
      },
      {
        "duration": 10,
        "start_time": "2023-04-20T10:16:25.924Z"
      },
      {
        "duration": 17,
        "start_time": "2023-04-20T10:17:27.585Z"
      },
      {
        "duration": 4,
        "start_time": "2023-04-20T10:17:30.396Z"
      },
      {
        "duration": 5,
        "start_time": "2023-04-20T10:17:39.641Z"
      },
      {
        "duration": 3,
        "start_time": "2023-04-20T10:30:21.390Z"
      },
      {
        "duration": 8,
        "start_time": "2023-04-20T10:33:31.174Z"
      },
      {
        "duration": 6,
        "start_time": "2023-04-20T10:34:07.288Z"
      },
      {
        "duration": 11,
        "start_time": "2023-04-20T10:34:31.733Z"
      },
      {
        "duration": 6,
        "start_time": "2023-04-20T10:34:43.588Z"
      },
      {
        "duration": 3,
        "start_time": "2023-04-20T10:34:55.642Z"
      },
      {
        "duration": 3,
        "start_time": "2023-04-20T10:35:10.192Z"
      },
      {
        "duration": 1585,
        "start_time": "2023-04-20T11:56:20.504Z"
      },
      {
        "duration": 502,
        "start_time": "2023-04-20T11:56:22.092Z"
      },
      {
        "duration": 40,
        "start_time": "2023-04-20T11:56:22.596Z"
      },
      {
        "duration": 23,
        "start_time": "2023-04-20T11:56:22.639Z"
      },
      {
        "duration": 16,
        "start_time": "2023-04-20T11:56:22.664Z"
      },
      {
        "duration": 35,
        "start_time": "2023-04-20T11:56:22.682Z"
      },
      {
        "duration": 63,
        "start_time": "2023-04-20T11:56:22.719Z"
      },
      {
        "duration": 78,
        "start_time": "2023-04-20T11:56:22.784Z"
      },
      {
        "duration": 66,
        "start_time": "2023-04-20T11:56:22.864Z"
      },
      {
        "duration": 624,
        "start_time": "2023-04-20T11:56:22.934Z"
      },
      {
        "duration": 630,
        "start_time": "2023-04-20T11:56:23.559Z"
      },
      {
        "duration": 611,
        "start_time": "2023-04-20T11:56:24.192Z"
      },
      {
        "duration": 25,
        "start_time": "2023-04-20T11:56:24.805Z"
      },
      {
        "duration": 21,
        "start_time": "2023-04-20T11:56:24.835Z"
      },
      {
        "duration": 22,
        "start_time": "2023-04-20T11:56:24.858Z"
      },
      {
        "duration": 65,
        "start_time": "2023-04-20T11:56:24.882Z"
      },
      {
        "duration": 301,
        "start_time": "2023-04-20T11:56:24.950Z"
      },
      {
        "duration": 7,
        "start_time": "2023-04-20T11:56:25.315Z"
      },
      {
        "duration": 137,
        "start_time": "2023-04-20T11:56:25.328Z"
      },
      {
        "duration": 0,
        "start_time": "2023-04-20T11:56:25.466Z"
      },
      {
        "duration": 0,
        "start_time": "2023-04-20T11:56:25.468Z"
      },
      {
        "duration": 0,
        "start_time": "2023-04-20T11:56:25.469Z"
      },
      {
        "duration": 0,
        "start_time": "2023-04-20T11:56:25.470Z"
      },
      {
        "duration": 3,
        "start_time": "2023-04-20T11:56:35.039Z"
      },
      {
        "duration": 21,
        "start_time": "2023-04-20T11:56:36.441Z"
      },
      {
        "duration": 4,
        "start_time": "2023-04-20T11:56:37.848Z"
      },
      {
        "duration": 156,
        "start_time": "2023-04-20T11:56:39.903Z"
      },
      {
        "duration": 1680,
        "start_time": "2023-04-21T06:28:14.866Z"
      },
      {
        "duration": 887,
        "start_time": "2023-04-21T06:28:16.549Z"
      },
      {
        "duration": 21,
        "start_time": "2023-04-21T06:28:17.438Z"
      },
      {
        "duration": 39,
        "start_time": "2023-04-21T06:28:17.462Z"
      },
      {
        "duration": 16,
        "start_time": "2023-04-21T06:28:17.503Z"
      },
      {
        "duration": 18,
        "start_time": "2023-04-21T06:28:17.521Z"
      },
      {
        "duration": 68,
        "start_time": "2023-04-21T06:28:17.540Z"
      },
      {
        "duration": 61,
        "start_time": "2023-04-21T06:28:17.610Z"
      },
      {
        "duration": 81,
        "start_time": "2023-04-21T06:28:17.673Z"
      },
      {
        "duration": 575,
        "start_time": "2023-04-21T06:28:17.757Z"
      },
      {
        "duration": 591,
        "start_time": "2023-04-21T06:28:18.334Z"
      },
      {
        "duration": 533,
        "start_time": "2023-04-21T06:28:18.927Z"
      },
      {
        "duration": 5,
        "start_time": "2023-04-21T06:28:19.463Z"
      },
      {
        "duration": 51,
        "start_time": "2023-04-21T06:28:19.469Z"
      },
      {
        "duration": 40,
        "start_time": "2023-04-21T06:28:19.522Z"
      },
      {
        "duration": 50,
        "start_time": "2023-04-21T06:28:19.564Z"
      },
      {
        "duration": 217,
        "start_time": "2023-04-21T06:28:19.616Z"
      },
      {
        "duration": 55,
        "start_time": "2023-04-21T06:28:19.835Z"
      },
      {
        "duration": 34,
        "start_time": "2023-04-21T06:28:19.893Z"
      },
      {
        "duration": 104,
        "start_time": "2023-04-21T06:28:19.929Z"
      },
      {
        "duration": 24,
        "start_time": "2023-04-21T06:28:20.036Z"
      },
      {
        "duration": 201,
        "start_time": "2023-04-21T06:28:20.062Z"
      },
      {
        "duration": 0,
        "start_time": "2023-04-21T06:28:20.265Z"
      },
      {
        "duration": 2396,
        "start_time": "2023-04-21T09:47:01.203Z"
      },
      {
        "duration": 1018,
        "start_time": "2023-04-21T09:47:03.603Z"
      },
      {
        "duration": 23,
        "start_time": "2023-04-21T09:47:04.624Z"
      },
      {
        "duration": 91,
        "start_time": "2023-04-21T09:47:04.653Z"
      },
      {
        "duration": 48,
        "start_time": "2023-04-21T09:47:04.748Z"
      },
      {
        "duration": 28,
        "start_time": "2023-04-21T09:47:04.799Z"
      },
      {
        "duration": 125,
        "start_time": "2023-04-21T09:47:04.830Z"
      },
      {
        "duration": 100,
        "start_time": "2023-04-21T09:47:04.958Z"
      },
      {
        "duration": 113,
        "start_time": "2023-04-21T09:47:05.061Z"
      },
      {
        "duration": 897,
        "start_time": "2023-04-21T09:47:05.176Z"
      },
      {
        "duration": 861,
        "start_time": "2023-04-21T09:47:06.075Z"
      },
      {
        "duration": 952,
        "start_time": "2023-04-21T09:47:06.941Z"
      },
      {
        "duration": 4,
        "start_time": "2023-04-21T09:47:07.896Z"
      },
      {
        "duration": 40,
        "start_time": "2023-04-21T09:47:07.905Z"
      },
      {
        "duration": 31,
        "start_time": "2023-04-21T09:47:07.948Z"
      },
      {
        "duration": 106,
        "start_time": "2023-04-21T09:47:07.981Z"
      },
      {
        "duration": 556,
        "start_time": "2023-04-21T09:47:08.090Z"
      },
      {
        "duration": 7,
        "start_time": "2023-04-21T09:47:08.651Z"
      },
      {
        "duration": 164,
        "start_time": "2023-04-21T09:47:08.664Z"
      },
      {
        "duration": 71,
        "start_time": "2023-04-21T09:47:08.831Z"
      },
      {
        "duration": 32,
        "start_time": "2023-04-21T09:47:08.904Z"
      },
      {
        "duration": 203,
        "start_time": "2023-04-21T09:47:08.938Z"
      },
      {
        "duration": 0,
        "start_time": "2023-04-21T09:47:09.144Z"
      },
      {
        "duration": 3,
        "start_time": "2023-04-21T10:03:32.602Z"
      },
      {
        "duration": 21,
        "start_time": "2023-04-21T10:03:33.433Z"
      },
      {
        "duration": 1674,
        "start_time": "2023-04-22T04:31:18.870Z"
      },
      {
        "duration": 863,
        "start_time": "2023-04-22T04:31:20.546Z"
      },
      {
        "duration": 12,
        "start_time": "2023-04-22T04:31:21.411Z"
      },
      {
        "duration": 13,
        "start_time": "2023-04-22T04:31:21.426Z"
      },
      {
        "duration": 12,
        "start_time": "2023-04-22T04:31:21.441Z"
      },
      {
        "duration": 12,
        "start_time": "2023-04-22T04:31:21.455Z"
      },
      {
        "duration": 59,
        "start_time": "2023-04-22T04:31:21.469Z"
      },
      {
        "duration": 59,
        "start_time": "2023-04-22T04:31:21.530Z"
      },
      {
        "duration": 49,
        "start_time": "2023-04-22T04:31:21.591Z"
      },
      {
        "duration": 550,
        "start_time": "2023-04-22T04:31:21.642Z"
      },
      {
        "duration": 514,
        "start_time": "2023-04-22T04:31:22.194Z"
      },
      {
        "duration": 519,
        "start_time": "2023-04-22T04:31:22.710Z"
      },
      {
        "duration": 2,
        "start_time": "2023-04-22T04:31:23.231Z"
      },
      {
        "duration": 24,
        "start_time": "2023-04-22T04:31:23.235Z"
      },
      {
        "duration": 50,
        "start_time": "2023-04-22T04:31:23.261Z"
      },
      {
        "duration": 43,
        "start_time": "2023-04-22T04:31:23.312Z"
      },
      {
        "duration": 324,
        "start_time": "2023-04-22T04:31:23.357Z"
      },
      {
        "duration": 2,
        "start_time": "2023-04-22T04:31:23.683Z"
      },
      {
        "duration": 114,
        "start_time": "2023-04-22T04:31:23.687Z"
      },
      {
        "duration": 28,
        "start_time": "2023-04-22T04:31:23.802Z"
      },
      {
        "duration": 10,
        "start_time": "2023-04-22T04:31:23.832Z"
      },
      {
        "duration": 157,
        "start_time": "2023-04-22T04:31:23.844Z"
      },
      {
        "duration": 0,
        "start_time": "2023-04-22T04:31:24.002Z"
      },
      {
        "duration": 0,
        "start_time": "2023-04-22T04:31:24.003Z"
      },
      {
        "duration": 1542,
        "start_time": "2023-04-22T07:24:11.802Z"
      },
      {
        "duration": 402,
        "start_time": "2023-04-22T07:24:13.346Z"
      },
      {
        "duration": 11,
        "start_time": "2023-04-22T07:24:13.750Z"
      },
      {
        "duration": 29,
        "start_time": "2023-04-22T07:24:13.763Z"
      },
      {
        "duration": 37,
        "start_time": "2023-04-22T07:24:13.795Z"
      },
      {
        "duration": 13,
        "start_time": "2023-04-22T07:24:13.834Z"
      },
      {
        "duration": 74,
        "start_time": "2023-04-22T07:24:13.848Z"
      },
      {
        "duration": 37,
        "start_time": "2023-04-22T07:24:13.924Z"
      },
      {
        "duration": 58,
        "start_time": "2023-04-22T07:24:13.963Z"
      },
      {
        "duration": 502,
        "start_time": "2023-04-22T07:24:14.023Z"
      },
      {
        "duration": 562,
        "start_time": "2023-04-22T07:24:14.526Z"
      },
      {
        "duration": 535,
        "start_time": "2023-04-22T07:24:15.090Z"
      },
      {
        "duration": 7,
        "start_time": "2023-04-22T07:24:15.630Z"
      },
      {
        "duration": 42,
        "start_time": "2023-04-22T07:24:15.643Z"
      },
      {
        "duration": 50,
        "start_time": "2023-04-22T07:24:15.690Z"
      },
      {
        "duration": 41,
        "start_time": "2023-04-22T07:24:15.742Z"
      },
      {
        "duration": 230,
        "start_time": "2023-04-22T07:24:15.786Z"
      },
      {
        "duration": 59,
        "start_time": "2023-04-22T07:24:16.020Z"
      },
      {
        "duration": 65,
        "start_time": "2023-04-22T07:24:16.080Z"
      },
      {
        "duration": 30,
        "start_time": "2023-04-22T07:24:16.148Z"
      },
      {
        "duration": 63,
        "start_time": "2023-04-22T07:24:16.180Z"
      },
      {
        "duration": 169,
        "start_time": "2023-04-22T07:24:16.245Z"
      },
      {
        "duration": 0,
        "start_time": "2023-04-22T07:24:16.415Z"
      },
      {
        "duration": 1,
        "start_time": "2023-04-22T07:24:16.416Z"
      },
      {
        "duration": 2535,
        "start_time": "2023-04-24T07:27:33.860Z"
      },
      {
        "duration": 341,
        "start_time": "2023-04-24T07:27:36.397Z"
      },
      {
        "duration": 11,
        "start_time": "2023-04-24T07:27:36.740Z"
      },
      {
        "duration": 33,
        "start_time": "2023-04-24T07:27:36.753Z"
      },
      {
        "duration": 13,
        "start_time": "2023-04-24T07:27:36.788Z"
      },
      {
        "duration": 12,
        "start_time": "2023-04-24T07:27:36.803Z"
      },
      {
        "duration": 67,
        "start_time": "2023-04-24T07:27:36.817Z"
      },
      {
        "duration": 38,
        "start_time": "2023-04-24T07:27:36.886Z"
      },
      {
        "duration": 60,
        "start_time": "2023-04-24T07:27:36.925Z"
      },
      {
        "duration": 439,
        "start_time": "2023-04-24T07:27:36.988Z"
      },
      {
        "duration": 442,
        "start_time": "2023-04-24T07:27:37.428Z"
      },
      {
        "duration": 484,
        "start_time": "2023-04-24T07:27:37.874Z"
      },
      {
        "duration": 3,
        "start_time": "2023-04-24T07:27:38.359Z"
      },
      {
        "duration": 26,
        "start_time": "2023-04-24T07:27:38.363Z"
      },
      {
        "duration": 19,
        "start_time": "2023-04-24T07:27:38.391Z"
      },
      {
        "duration": 34,
        "start_time": "2023-04-24T07:27:38.412Z"
      },
      {
        "duration": 141,
        "start_time": "2023-04-24T07:27:38.448Z"
      },
      {
        "duration": 195,
        "start_time": "2023-04-24T07:27:38.592Z"
      },
      {
        "duration": 21,
        "start_time": "2023-04-24T07:27:38.788Z"
      },
      {
        "duration": 12,
        "start_time": "2023-04-24T07:27:38.811Z"
      },
      {
        "duration": 28,
        "start_time": "2023-04-24T07:27:38.825Z"
      },
      {
        "duration": 13,
        "start_time": "2023-04-24T07:27:38.854Z"
      },
      {
        "duration": 28,
        "start_time": "2023-04-24T07:27:38.869Z"
      },
      {
        "duration": 1194,
        "start_time": "2023-04-24T07:27:38.898Z"
      },
      {
        "duration": 1163,
        "start_time": "2023-04-24T07:27:40.093Z"
      },
      {
        "duration": 1160,
        "start_time": "2023-04-24T07:27:41.258Z"
      },
      {
        "duration": 2087,
        "start_time": "2023-04-24T07:30:54.683Z"
      },
      {
        "duration": 341,
        "start_time": "2023-04-24T07:30:56.771Z"
      },
      {
        "duration": 11,
        "start_time": "2023-04-24T07:30:57.114Z"
      },
      {
        "duration": 18,
        "start_time": "2023-04-24T07:30:57.127Z"
      },
      {
        "duration": 10,
        "start_time": "2023-04-24T07:30:57.146Z"
      },
      {
        "duration": 33,
        "start_time": "2023-04-24T07:30:57.157Z"
      },
      {
        "duration": 37,
        "start_time": "2023-04-24T07:30:57.192Z"
      },
      {
        "duration": 35,
        "start_time": "2023-04-24T07:30:57.231Z"
      },
      {
        "duration": 41,
        "start_time": "2023-04-24T07:30:57.272Z"
      },
      {
        "duration": 439,
        "start_time": "2023-04-24T07:30:57.315Z"
      },
      {
        "duration": 413,
        "start_time": "2023-04-24T07:30:57.755Z"
      },
      {
        "duration": 425,
        "start_time": "2023-04-24T07:30:58.172Z"
      },
      {
        "duration": 2,
        "start_time": "2023-04-24T07:30:58.598Z"
      },
      {
        "duration": 23,
        "start_time": "2023-04-24T07:30:58.602Z"
      },
      {
        "duration": 13,
        "start_time": "2023-04-24T07:30:58.626Z"
      },
      {
        "duration": 31,
        "start_time": "2023-04-24T07:30:58.641Z"
      },
      {
        "duration": 120,
        "start_time": "2023-04-24T07:30:58.673Z"
      },
      {
        "duration": 190,
        "start_time": "2023-04-24T07:30:58.795Z"
      },
      {
        "duration": 11,
        "start_time": "2023-04-24T07:30:58.987Z"
      },
      {
        "duration": 5,
        "start_time": "2023-04-24T07:30:59.000Z"
      },
      {
        "duration": 9,
        "start_time": "2023-04-24T07:30:59.006Z"
      },
      {
        "duration": 5,
        "start_time": "2023-04-24T07:30:59.016Z"
      },
      {
        "duration": 7,
        "start_time": "2023-04-24T07:30:59.022Z"
      },
      {
        "duration": 1156,
        "start_time": "2023-04-24T07:30:59.031Z"
      },
      {
        "duration": 1172,
        "start_time": "2023-04-24T07:31:00.189Z"
      },
      {
        "duration": 1098,
        "start_time": "2023-04-24T07:31:01.362Z"
      },
      {
        "duration": 2030,
        "start_time": "2023-04-24T07:49:32.320Z"
      },
      {
        "duration": 2,
        "start_time": "2023-04-24T07:49:34.352Z"
      },
      {
        "duration": 2462,
        "start_time": "2023-04-24T07:49:34.356Z"
      },
      {
        "duration": 13,
        "start_time": "2023-04-24T07:49:36.820Z"
      },
      {
        "duration": 39,
        "start_time": "2023-04-24T07:49:36.834Z"
      },
      {
        "duration": 16,
        "start_time": "2023-04-24T07:49:36.875Z"
      },
      {
        "duration": 17,
        "start_time": "2023-04-24T07:49:36.892Z"
      },
      {
        "duration": 44,
        "start_time": "2023-04-24T07:49:36.911Z"
      },
      {
        "duration": 40,
        "start_time": "2023-04-24T07:49:36.972Z"
      },
      {
        "duration": 36,
        "start_time": "2023-04-24T07:49:37.015Z"
      },
      {
        "duration": 439,
        "start_time": "2023-04-24T07:49:37.052Z"
      },
      {
        "duration": 402,
        "start_time": "2023-04-24T07:49:37.493Z"
      },
      {
        "duration": 413,
        "start_time": "2023-04-24T07:49:37.898Z"
      },
      {
        "duration": 2,
        "start_time": "2023-04-24T07:49:38.313Z"
      },
      {
        "duration": 11,
        "start_time": "2023-04-24T07:49:38.317Z"
      },
      {
        "duration": 10,
        "start_time": "2023-04-24T07:49:38.330Z"
      },
      {
        "duration": 39,
        "start_time": "2023-04-24T07:49:38.342Z"
      },
      {
        "duration": 93,
        "start_time": "2023-04-24T07:49:38.383Z"
      },
      {
        "duration": 101,
        "start_time": "2023-04-24T07:49:38.477Z"
      },
      {
        "duration": 100,
        "start_time": "2023-04-24T07:49:38.580Z"
      },
      {
        "duration": 6,
        "start_time": "2023-04-24T07:49:38.682Z"
      },
      {
        "duration": 8,
        "start_time": "2023-04-24T07:49:38.690Z"
      },
      {
        "duration": 4,
        "start_time": "2023-04-24T07:49:38.699Z"
      },
      {
        "duration": 7,
        "start_time": "2023-04-24T07:49:38.705Z"
      },
      {
        "duration": 1056,
        "start_time": "2023-04-24T07:49:38.714Z"
      },
      {
        "duration": 997,
        "start_time": "2023-04-24T07:49:39.772Z"
      },
      {
        "duration": 1011,
        "start_time": "2023-04-24T07:49:40.770Z"
      },
      {
        "duration": 2139,
        "start_time": "2023-04-24T07:52:00.997Z"
      },
      {
        "duration": 2,
        "start_time": "2023-04-24T07:52:03.138Z"
      },
      {
        "duration": 2943,
        "start_time": "2023-04-24T07:52:03.142Z"
      },
      {
        "duration": 15,
        "start_time": "2023-04-24T07:52:06.087Z"
      },
      {
        "duration": 23,
        "start_time": "2023-04-24T07:52:06.103Z"
      },
      {
        "duration": 22,
        "start_time": "2023-04-24T07:52:06.128Z"
      },
      {
        "duration": 23,
        "start_time": "2023-04-24T07:52:06.176Z"
      },
      {
        "duration": 48,
        "start_time": "2023-04-24T07:52:06.201Z"
      },
      {
        "duration": 63,
        "start_time": "2023-04-24T07:52:06.251Z"
      },
      {
        "duration": 64,
        "start_time": "2023-04-24T07:52:06.317Z"
      },
      {
        "duration": 450,
        "start_time": "2023-04-24T07:52:06.383Z"
      },
      {
        "duration": 456,
        "start_time": "2023-04-24T07:52:06.835Z"
      },
      {
        "duration": 449,
        "start_time": "2023-04-24T07:52:07.292Z"
      },
      {
        "duration": 2,
        "start_time": "2023-04-24T07:52:07.743Z"
      },
      {
        "duration": 39,
        "start_time": "2023-04-24T07:52:07.746Z"
      },
      {
        "duration": 31,
        "start_time": "2023-04-24T07:52:07.787Z"
      },
      {
        "duration": 59,
        "start_time": "2023-04-24T07:52:07.819Z"
      },
      {
        "duration": 201,
        "start_time": "2023-04-24T07:52:07.880Z"
      },
      {
        "duration": 197,
        "start_time": "2023-04-24T07:52:08.083Z"
      },
      {
        "duration": 19,
        "start_time": "2023-04-24T07:52:08.281Z"
      },
      {
        "duration": 6,
        "start_time": "2023-04-24T07:52:08.302Z"
      },
      {
        "duration": 18,
        "start_time": "2023-04-24T07:52:08.309Z"
      },
      {
        "duration": 14,
        "start_time": "2023-04-24T07:52:08.328Z"
      },
      {
        "duration": 41,
        "start_time": "2023-04-24T07:52:08.344Z"
      },
      {
        "duration": 1147,
        "start_time": "2023-04-24T07:52:08.387Z"
      },
      {
        "duration": 1125,
        "start_time": "2023-04-24T07:52:09.535Z"
      },
      {
        "duration": 1100,
        "start_time": "2023-04-24T07:52:10.662Z"
      },
      {
        "duration": 2153,
        "start_time": "2023-04-24T07:52:38.456Z"
      },
      {
        "duration": 2,
        "start_time": "2023-04-24T07:52:40.611Z"
      },
      {
        "duration": 1417,
        "start_time": "2023-04-24T07:52:40.615Z"
      },
      {
        "duration": 12,
        "start_time": "2023-04-24T07:52:42.034Z"
      },
      {
        "duration": 42,
        "start_time": "2023-04-24T07:52:42.048Z"
      },
      {
        "duration": 14,
        "start_time": "2023-04-24T07:52:42.092Z"
      },
      {
        "duration": 25,
        "start_time": "2023-04-24T07:52:42.107Z"
      },
      {
        "duration": 57,
        "start_time": "2023-04-24T07:52:42.133Z"
      },
      {
        "duration": 38,
        "start_time": "2023-04-24T07:52:42.191Z"
      },
      {
        "duration": 59,
        "start_time": "2023-04-24T07:52:42.232Z"
      },
      {
        "duration": 474,
        "start_time": "2023-04-24T07:52:42.293Z"
      },
      {
        "duration": 495,
        "start_time": "2023-04-24T07:52:42.768Z"
      },
      {
        "duration": 482,
        "start_time": "2023-04-24T07:52:43.264Z"
      },
      {
        "duration": 2,
        "start_time": "2023-04-24T07:52:43.748Z"
      },
      {
        "duration": 32,
        "start_time": "2023-04-24T07:52:43.752Z"
      },
      {
        "duration": 13,
        "start_time": "2023-04-24T07:52:43.786Z"
      },
      {
        "duration": 29,
        "start_time": "2023-04-24T07:52:43.801Z"
      },
      {
        "duration": 157,
        "start_time": "2023-04-24T07:52:43.832Z"
      },
      {
        "duration": 95,
        "start_time": "2023-04-24T07:52:43.991Z"
      },
      {
        "duration": 112,
        "start_time": "2023-04-24T07:52:44.088Z"
      },
      {
        "duration": 13,
        "start_time": "2023-04-24T07:52:44.202Z"
      },
      {
        "duration": 8,
        "start_time": "2023-04-24T07:52:44.217Z"
      },
      {
        "duration": 6,
        "start_time": "2023-04-24T07:52:44.226Z"
      },
      {
        "duration": 15,
        "start_time": "2023-04-24T07:52:44.233Z"
      },
      {
        "duration": 1147,
        "start_time": "2023-04-24T07:52:44.250Z"
      },
      {
        "duration": 1209,
        "start_time": "2023-04-24T07:52:45.399Z"
      },
      {
        "duration": 1073,
        "start_time": "2023-04-24T07:52:46.609Z"
      },
      {
        "duration": 47,
        "start_time": "2023-04-24T09:41:52.746Z"
      },
      {
        "duration": 1649,
        "start_time": "2023-04-24T09:42:02.854Z"
      },
      {
        "duration": 3,
        "start_time": "2023-04-24T09:42:04.505Z"
      },
      {
        "duration": 2876,
        "start_time": "2023-04-24T09:42:04.510Z"
      },
      {
        "duration": 13,
        "start_time": "2023-04-24T09:42:07.388Z"
      },
      {
        "duration": 50,
        "start_time": "2023-04-24T09:42:07.403Z"
      },
      {
        "duration": 58,
        "start_time": "2023-04-24T09:42:07.455Z"
      },
      {
        "duration": 62,
        "start_time": "2023-04-24T09:42:07.515Z"
      },
      {
        "duration": 54,
        "start_time": "2023-04-24T09:42:07.579Z"
      },
      {
        "duration": 37,
        "start_time": "2023-04-24T09:42:07.636Z"
      },
      {
        "duration": 58,
        "start_time": "2023-04-24T09:42:07.676Z"
      },
      {
        "duration": 464,
        "start_time": "2023-04-24T09:42:07.736Z"
      },
      {
        "duration": 452,
        "start_time": "2023-04-24T09:42:08.203Z"
      },
      {
        "duration": 456,
        "start_time": "2023-04-24T09:42:08.657Z"
      },
      {
        "duration": 2,
        "start_time": "2023-04-24T09:42:09.116Z"
      },
      {
        "duration": 28,
        "start_time": "2023-04-24T09:42:09.120Z"
      },
      {
        "duration": 28,
        "start_time": "2023-04-24T09:42:09.150Z"
      },
      {
        "duration": 45,
        "start_time": "2023-04-24T09:42:09.180Z"
      },
      {
        "duration": 357,
        "start_time": "2023-04-24T09:42:09.226Z"
      },
      {
        "duration": 98,
        "start_time": "2023-04-24T09:42:09.587Z"
      },
      {
        "duration": 3,
        "start_time": "2023-04-24T09:42:09.686Z"
      },
      {
        "duration": 9,
        "start_time": "2023-04-24T09:42:09.691Z"
      },
      {
        "duration": 16,
        "start_time": "2023-04-24T09:42:09.701Z"
      },
      {
        "duration": 9,
        "start_time": "2023-04-24T09:42:09.718Z"
      },
      {
        "duration": 19,
        "start_time": "2023-04-24T09:42:09.728Z"
      },
      {
        "duration": 1399,
        "start_time": "2023-04-24T09:42:09.748Z"
      },
      {
        "duration": 1317,
        "start_time": "2023-04-24T09:42:11.149Z"
      },
      {
        "duration": 1266,
        "start_time": "2023-04-24T09:42:12.468Z"
      },
      {
        "duration": 8,
        "start_time": "2023-04-24T09:45:03.081Z"
      },
      {
        "duration": 7,
        "start_time": "2023-04-24T09:45:47.853Z"
      },
      {
        "duration": 85,
        "start_time": "2023-04-24T09:47:01.083Z"
      },
      {
        "duration": 1340,
        "start_time": "2023-04-24T09:47:22.684Z"
      },
      {
        "duration": 3,
        "start_time": "2023-04-24T09:47:24.026Z"
      },
      {
        "duration": 3258,
        "start_time": "2023-04-24T09:47:24.031Z"
      },
      {
        "duration": 14,
        "start_time": "2023-04-24T09:47:27.291Z"
      },
      {
        "duration": 34,
        "start_time": "2023-04-24T09:47:27.307Z"
      },
      {
        "duration": 16,
        "start_time": "2023-04-24T09:47:27.343Z"
      },
      {
        "duration": 23,
        "start_time": "2023-04-24T09:47:27.361Z"
      },
      {
        "duration": 98,
        "start_time": "2023-04-24T09:47:27.386Z"
      },
      {
        "duration": 39,
        "start_time": "2023-04-24T09:47:27.486Z"
      },
      {
        "duration": 57,
        "start_time": "2023-04-24T09:47:27.528Z"
      },
      {
        "duration": 477,
        "start_time": "2023-04-24T09:47:27.587Z"
      },
      {
        "duration": 435,
        "start_time": "2023-04-24T09:47:28.066Z"
      },
      {
        "duration": 449,
        "start_time": "2023-04-24T09:47:28.502Z"
      },
      {
        "duration": 3,
        "start_time": "2023-04-24T09:47:28.953Z"
      },
      {
        "duration": 30,
        "start_time": "2023-04-24T09:47:28.957Z"
      },
      {
        "duration": 43,
        "start_time": "2023-04-24T09:47:28.988Z"
      },
      {
        "duration": 58,
        "start_time": "2023-04-24T09:47:29.033Z"
      },
      {
        "duration": 199,
        "start_time": "2023-04-24T09:47:29.093Z"
      },
      {
        "duration": 100,
        "start_time": "2023-04-24T09:47:29.389Z"
      },
      {
        "duration": 24,
        "start_time": "2023-04-24T09:47:29.490Z"
      },
      {
        "duration": 23,
        "start_time": "2023-04-24T09:47:29.516Z"
      },
      {
        "duration": 28,
        "start_time": "2023-04-24T09:47:29.540Z"
      },
      {
        "duration": 43,
        "start_time": "2023-04-24T09:47:29.569Z"
      },
      {
        "duration": 46,
        "start_time": "2023-04-24T09:47:29.614Z"
      },
      {
        "duration": 1545,
        "start_time": "2023-04-24T09:47:29.662Z"
      },
      {
        "duration": 1484,
        "start_time": "2023-04-24T09:47:31.209Z"
      },
      {
        "duration": 1227,
        "start_time": "2023-04-24T09:47:32.695Z"
      },
      {
        "duration": 6,
        "start_time": "2023-04-24T09:49:07.571Z"
      },
      {
        "duration": 7,
        "start_time": "2023-04-24T09:54:57.080Z"
      }
    ],
    "colab": {
      "provenance": [],
      "include_colab_link": true
    },
    "kernelspec": {
      "display_name": "Python 3 (ipykernel)",
      "language": "python",
      "name": "python3"
    },
    "language_info": {
      "codemirror_mode": {
        "name": "ipython",
        "version": 3
      },
      "file_extension": ".py",
      "mimetype": "text/x-python",
      "name": "python",
      "nbconvert_exporter": "python",
      "pygments_lexer": "ipython3",
      "version": "3.9.5"
    },
    "toc": {
      "base_numbering": 1,
      "nav_menu": {},
      "number_sections": true,
      "sideBar": true,
      "skip_h1_title": true,
      "title_cell": "Table of Contents",
      "title_sidebar": "Contents",
      "toc_cell": false,
      "toc_position": {},
      "toc_section_display": true,
      "toc_window_display": true
    }
  },
  "nbformat": 4,
  "nbformat_minor": 0
}
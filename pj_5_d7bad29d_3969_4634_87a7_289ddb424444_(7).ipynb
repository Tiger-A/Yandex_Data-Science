{
  "cells": [
    {
      "cell_type": "markdown",
      "metadata": {
        "id": "view-in-github",
        "colab_type": "text"
      },
      "source": [
        "<a href=\"https://colab.research.google.com/github/Tiger-A/Yandex_Data-Science/blob/master/pj_5_d7bad29d_3969_4634_87a7_289ddb424444_(7).ipynb\" target=\"_parent\"><img src=\"https://colab.research.google.com/assets/colab-badge.svg\" alt=\"Open In Colab\"/></a>"
      ]
    },
    {
      "cell_type": "markdown",
      "metadata": {
        "id": "rbyTz-oQk4XV"
      },
      "source": [
        "# Результат ревью:\n",
        "\n",
        "Я отмечаю адекватный уровень твоей программистской подготовки. Ты используешь продвинутые концепции языка Python, библиотеки pandas и одной из основных библиотек машинного обучения sckit-learn. Это показывает твой уровень владения инструментами анализа данных и machine learning.\n",
        "\n",
        "С комментированием никаких проблем нет. Твоих объяснений достаточно для понимания твоими коллегами хода мыслей. Ссылки из брифа проекта в нужных местах также помогают следовать за развитием событий и дают полную информацию касаемо того, что будет происходить в том или ином разделе проекта.\n",
        "\n",
        "Мне было просто проверять твой проект, потому что он чётко структурирован, с использованием оглавления. \n",
        "\n",
        "Зелёным цветом я отметил и прокомментировал удачные и элегантные решения, на которые ты можешь опираться в будущих проектах.\n",
        "\n",
        "Жёлтым цветом я выделил то, что в следующий раз можно сделать по-другому. Ты можешь учесть эти комментарии при выполнении будущих заданий или доработать проект сейчас.\n",
        "\n",
        "Красных комментариев, которые бы не позволяли мне принять твой проект в его нынешнем состоянии - нет. \n",
        "\n",
        "ПРОЕКТ ПРИНЯТ!\n",
        "\n",
        "Подводя итог: отличная работа, молодец! Желаю тебе успехов в учёбе, желаю, чтобы проекты сдавались или сразу, или после первой итерации! Удачи!\n",
        "\n",
        "p.s. я тебе на твой адрес эл/почты сейчас вышлю некоторые материалы из своей электронной библиотеки - надеюсь они будут тебе полезными в учёбе.</div>"
      ]
    },
    {
      "cell_type": "code",
      "execution_count": null,
      "metadata": {
        "id": "rSpiLNUmk4Xb"
      },
      "outputs": [],
      "source": []
    },
    {
      "cell_type": "markdown",
      "metadata": {
        "id": "ybPu34tNk4Xc"
      },
      "source": [
        "Приветствую коллега! \n",
        "\n",
        "Меня зовут Александр Непомнящий и я буду проверять твой проект. Предлагаю общаться на «ты» :))) Но, если это не удобно - мы вполне можем перейти на вы\".\n",
        "\n",
        "Вкратце обо мне: я работаю в сфере информационных технологий, аналитика (анализ) данных - это и мой рабочий функционал и личная, интересная мне область для саморазвития. Используемый стек: python, pandas, графические библиотеки matplotlib/seaborn/plotly. Сфера применения: маркетинговая аналитика в медицинской клинике (Клиника «Кивач», www.kivach.ru, республика Карелия). Если вдруг есть вопрос – что делает аналитик в коммерческой медицине – то вот короткий ответ. Самый главный вопрос, на который мы хотим получить ответ (и который в дальнейшем приведёт к перераспределению рекламного бюджета, плюс напрямую повлияет на разработку и предложению рынку новых лечебных программ) - это КТО ОН, НАШ КЛИЕНТ? Фактически это задача (на нашем внутреннем языке формулируется как построение и анализ «ПОРТРЕТА КЛИЕНТА»). Визуализируем и пытаемся придать смысл половозрастным данным наших клиентов, кто из какого региона и в какие времена года к нам приезжает. Учитываем количество приездов. Учитываем на какую программу этот конкретный клиент приехал в первый раз и как в дальнейшем меняются его предпочтения. Пытаемся построить модель оттока и спрогнозировать, когда клиент уйдёт в отток. Смотрим цифры (суммы трат клиентов на отдельных группах медицинских программ). Анализируем медицинские услуги, которые входят в путёвку, а также что, в каких количествах и на какую сумму клиент покупает дополнительно. Очень вкратце как-то так.\n",
        "\n",
        "Теперь к сути: основная цель моей проверки - пройти по шагам, по логике твоего решения и обсудить те моменты, которые можно изменить, улучшить, довести до идеала. Такой формат работы двух программистов (аналитиков) ты или уже встречал(а), или встретишь на своей новой работе. Кто-то такой процесс называет \"код-ревью\", ну а как по мне, так это обмен опытом двух коллег, когда каждый из нас становиться лучше в процессе дискуссии.\n",
        "\n",
        "Свои мысли, советы, комментарии и вопросы я буду оставлять в текстовых ячейках (markdown) ПОД твоим кодом. \n",
        "Для твоего удобства все эти заметки будут \"цветными\", как на примерах ниже:\n",
        "\n",
        "\"Зелеными\" комментариями я буду отмечать твой элегантный (\"красивый\") код и/или удачные решения, на которые ты можешь смело опираться в будущих проектах.\n",
        "<div class=\"alert alert-success\">\n",
        "<b>Отлично! 👍</b>\n",
        "\n",
        "Отличная находка, элегантный код ...</div>\n",
        "\n",
        "\"Жёлтые\" комментарии - это мои размышления, предложения, что-то, что на следующей итерации можно сделать по-другому. Твоя реакция на \"жёлтые\" комментарий необходима и подразумевает или правки, или реакцию или аргументированное согласие/не согласие. Я искренне верю, что наш двусторонний диалог под \"желтым\" комментарием - это то, от чего твой проект только выиграет. <div class=\"alert alert-warning\">\n",
        "<b>Комментарий 👉</b>\n",
        "\n",
        "Здесь я бы предложил использовать .... Мои аргументы в пользу этого ...</div>\n",
        "\n",
        "\"Красные\" комментарий будут появляться, когда что-то пойдёт не так: например, код будет выдавать ошибку. Или, когда в проекте не будет ответов на основные вопросы, ради которых весь анализ и выполнялся. \"Красные\" комментарии необходимо будет исправить, прежде чем я смогу принять проект.\n",
        "<div class=\"alert alert-danger\">\n",
        "<b>Необходимо исправить ❌</b>\n",
        "\n",
        "В этой ячейке код работает не так как задумано ...</div>\n",
        "\n",
        "Пожалуйста, не перемещай, не изменяй и не удаляй мои комментарии. Это поможет мне оперативно выполнить повторную проверку твоего проекта.\n",
        "\n",
        "Давай работать над проектом в диалоге: если ты что-то меняешь в проекте по моим рекомендациям — пиши об этом, лучше всего в новой ячейке, сразу под моим комментарием. Если для своих комментариев ты будешь использовать какой-то заметный цвет, то мне будет легче отследить твои изменения, например так:\n",
        "\n",
        "<div style=\"background: #B0E0E6; padding: 5px; border: 1px solid SteelBlue; border-radius: 5px;\">\n",
        "    <font color='4682B4'><u><b>КОММЕНТАРИЙ СТУДЕНТА</b></u></font>\n",
        "    <br />\n",
        "    <font color='4682B4'>Текст твоего комментария ...</font>\n",
        "</div>\n",
        "\n",
        "Ну и наконец информируй меня в том случае, если по твоему проекту подходит дедлайн! В таком случае я приложу усилия, чтобы ты сдал(а) его вовремя; буду оперативно, в приоритете проверять итерации ревью, а также отвечать на твои вопросы, если этого будет требовать ситуация.\n",
        "\n",
        "**Распространенные типичные недочёты в проектах студентов:**\n",
        "\n",
        "<div class=\"alert alert-danger\" ❌>\n",
        "Неработоспособный код. Проверь проект на работоспособность перед отправкой на проверку. Это важный навык, который тебе пригодится как на собеседовании, при выполнении тестового задания, так и перед совещанием у руководства компании.</div>\n",
        "\n",
        "<div class=\"alert alert-danger\" ❌>\n",
        "Проект не структурирован. В проекте должна быть структура, т.е. названия разделов и подразделов должны быть записаны в ячейках Markdown.</div>\n",
        "\n",
        "<div class=\"alert alert-warning\" 👉 >\n",
        "Отсутствие описания, целей проекта, его задач, выводов. В описании должны быть озвучены поставленные задачи, содержание датасета, промежуточные и финальные выводы. Как правило, заказчик читает только финальный вывод, поэтому важно добавить информацию о проведенном исследовании, применить форматирование текста, в общем, сделать красиво, чтобы было понятно, что проведено настоящее исследование и выводу можно верить.</div>  \n",
        "\n",
        "<div class=\"alert alert-warning\" 👉 >\n",
        "\"Длинный код\". Код и и комментарии, которые прячутся за правым концом ячейки нужно переносить на новую строку. Твои будущие коллеги не оценят необходимость постоянного скроллинга. Согласно PEP8: https://www.python.org/dev/peps/pep-0008/ длина строки не должна превышать 79 символов.</div>\n",
        "\n",
        "<div class=\"alert alert-warning\" 👉 >\n",
        "Твои коллеги ценят и твое и своё время, поэтому \"подсвечивай\" свои комментарии в ячейках Markdown. Подробнее про синтаксис Markdown, с примерами, можно почитать здесь: https://paulradzkov.com/2014/markdown_cheatsheet/?</div>\n"
      ]
    },
    {
      "cell_type": "code",
      "execution_count": null,
      "metadata": {
        "id": "e0qdaqI4k4Xe"
      },
      "outputs": [],
      "source": []
    },
    {
      "cell_type": "markdown",
      "metadata": {
        "id": "W4IWbc6Vk4Xe"
      },
      "source": [
        "# Рекомендация тарифов"
      ]
    },
    {
      "cell_type": "markdown",
      "metadata": {
        "id": "wkszUf8yk4Xe"
      },
      "source": [
        "В вашем распоряжении данные о поведении клиентов, которые уже перешли на эти тарифы (из проекта курса «Статистический анализ данных»). Нужно построить модель для задачи классификации, которая выберет подходящий тариф. Предобработка данных не понадобится — вы её уже сделали.\n",
        "\n",
        "Постройте модель с максимально большим значением *accuracy*. Чтобы сдать проект успешно, нужно довести долю правильных ответов по крайней мере до 0.75. Проверьте *accuracy* на тестовой выборке самостоятельно."
      ]
    },
    {
      "cell_type": "markdown",
      "metadata": {
        "id": "aHZy20Ikk4Xf"
      },
      "source": [
        "## Откройте и изучите файл"
      ]
    },
    {
      "cell_type": "code",
      "execution_count": 1,
      "metadata": {
        "id": "_dYWQXcxk4Xf"
      },
      "outputs": [],
      "source": [
        "\n",
        "# Импортирование необходимых модулей и атрибутов\n",
        "import pandas as pd\n",
        "from joblib import dump\n",
        "from sklearn.metrics import accuracy_score \n",
        "from sklearn.metrics import mean_squared_error\n",
        "from sklearn.ensemble import RandomForestClassifier\n",
        "from sklearn.linear_model import LogisticRegression \n",
        "from sklearn.datasets import load_digits\n",
        "from sklearn.model_selection import train_test_split\n",
        "from sklearn.linear_model import LogisticRegression\n",
        "from sklearn.discriminant_analysis import LinearDiscriminantAnalysis\n",
        "from sklearn.neighbors import KNeighborsClassifier\n",
        "from sklearn.tree import DecisionTreeClassifier\n",
        "from sklearn.naive_bayes import GaussianNB\n",
        "from sklearn.svm import LinearSVC\n",
        "from sklearn.svm import SVC\n",
        "from sklearn.neural_network import MLPClassifier\n",
        "from sklearn.ensemble import BaggingClassifier\n",
        "from sklearn.ensemble import RandomForestClassifier\n",
        "from sklearn.ensemble import ExtraTreesClassifier\n",
        "from sklearn.ensemble import AdaBoostClassifier\n",
        "from sklearn.ensemble import GradientBoostingClassifier\n",
        "from sklearn.model_selection import KFold\n",
        "from sklearn.model_selection import cross_val_score\n",
        "from sklearn.pipeline import Pipeline\n",
        "from sklearn.preprocessing import StandardScaler\n",
        "from sklearn.preprocessing import MinMaxScaler\n",
        "from sklearn.preprocessing import Normalizer\n",
        "from matplotlib import pyplot\n",
        "import warnings\n",
        "warnings.filterwarnings('ignore')"
      ]
    },
    {
      "cell_type": "code",
      "execution_count": 2,
      "metadata": {
        "colab": {
          "base_uri": "https://localhost:8080/",
          "height": 328
        },
        "id": "MK0IP_nuk4Xg",
        "outputId": "8ce01d75-bb02-4b3a-b471-5dd88fdd48db"
      },
      "outputs": [
        {
          "output_type": "error",
          "ename": "FileNotFoundError",
          "evalue": "ignored",
          "traceback": [
            "\u001b[0;31m---------------------------------------------------------------------------\u001b[0m",
            "\u001b[0;31mFileNotFoundError\u001b[0m                         Traceback (most recent call last)",
            "\u001b[0;32m<ipython-input-2-b3cc53182032>\u001b[0m in \u001b[0;36m<cell line: 2>\u001b[0;34m()\u001b[0m\n\u001b[1;32m      1\u001b[0m \u001b[0;31m# Загрузим датафрейм:\u001b[0m\u001b[0;34m\u001b[0m\u001b[0;34m\u001b[0m\u001b[0m\n\u001b[0;32m----> 2\u001b[0;31m \u001b[0mdf\u001b[0m \u001b[0;34m=\u001b[0m \u001b[0mpd\u001b[0m\u001b[0;34m.\u001b[0m\u001b[0mread_csv\u001b[0m\u001b[0;34m(\u001b[0m\u001b[0;34m'/datasets/users_behavior.csv'\u001b[0m\u001b[0;34m)\u001b[0m\u001b[0;34m\u001b[0m\u001b[0;34m\u001b[0m\u001b[0m\n\u001b[0m",
            "\u001b[0;32m/usr/local/lib/python3.9/dist-packages/pandas/util/_decorators.py\u001b[0m in \u001b[0;36mwrapper\u001b[0;34m(*args, **kwargs)\u001b[0m\n\u001b[1;32m    309\u001b[0m                     \u001b[0mstacklevel\u001b[0m\u001b[0;34m=\u001b[0m\u001b[0mstacklevel\u001b[0m\u001b[0;34m,\u001b[0m\u001b[0;34m\u001b[0m\u001b[0;34m\u001b[0m\u001b[0m\n\u001b[1;32m    310\u001b[0m                 )\n\u001b[0;32m--> 311\u001b[0;31m             \u001b[0;32mreturn\u001b[0m \u001b[0mfunc\u001b[0m\u001b[0;34m(\u001b[0m\u001b[0;34m*\u001b[0m\u001b[0margs\u001b[0m\u001b[0;34m,\u001b[0m \u001b[0;34m**\u001b[0m\u001b[0mkwargs\u001b[0m\u001b[0;34m)\u001b[0m\u001b[0;34m\u001b[0m\u001b[0;34m\u001b[0m\u001b[0m\n\u001b[0m\u001b[1;32m    312\u001b[0m \u001b[0;34m\u001b[0m\u001b[0m\n\u001b[1;32m    313\u001b[0m         \u001b[0;32mreturn\u001b[0m \u001b[0mwrapper\u001b[0m\u001b[0;34m\u001b[0m\u001b[0;34m\u001b[0m\u001b[0m\n",
            "\u001b[0;32m/usr/local/lib/python3.9/dist-packages/pandas/io/parsers/readers.py\u001b[0m in \u001b[0;36mread_csv\u001b[0;34m(filepath_or_buffer, sep, delimiter, header, names, index_col, usecols, squeeze, prefix, mangle_dupe_cols, dtype, engine, converters, true_values, false_values, skipinitialspace, skiprows, skipfooter, nrows, na_values, keep_default_na, na_filter, verbose, skip_blank_lines, parse_dates, infer_datetime_format, keep_date_col, date_parser, dayfirst, cache_dates, iterator, chunksize, compression, thousands, decimal, lineterminator, quotechar, quoting, doublequote, escapechar, comment, encoding, encoding_errors, dialect, error_bad_lines, warn_bad_lines, on_bad_lines, delim_whitespace, low_memory, memory_map, float_precision, storage_options)\u001b[0m\n\u001b[1;32m    676\u001b[0m     \u001b[0mkwds\u001b[0m\u001b[0;34m.\u001b[0m\u001b[0mupdate\u001b[0m\u001b[0;34m(\u001b[0m\u001b[0mkwds_defaults\u001b[0m\u001b[0;34m)\u001b[0m\u001b[0;34m\u001b[0m\u001b[0;34m\u001b[0m\u001b[0m\n\u001b[1;32m    677\u001b[0m \u001b[0;34m\u001b[0m\u001b[0m\n\u001b[0;32m--> 678\u001b[0;31m     \u001b[0;32mreturn\u001b[0m \u001b[0m_read\u001b[0m\u001b[0;34m(\u001b[0m\u001b[0mfilepath_or_buffer\u001b[0m\u001b[0;34m,\u001b[0m \u001b[0mkwds\u001b[0m\u001b[0;34m)\u001b[0m\u001b[0;34m\u001b[0m\u001b[0;34m\u001b[0m\u001b[0m\n\u001b[0m\u001b[1;32m    679\u001b[0m \u001b[0;34m\u001b[0m\u001b[0m\n\u001b[1;32m    680\u001b[0m \u001b[0;34m\u001b[0m\u001b[0m\n",
            "\u001b[0;32m/usr/local/lib/python3.9/dist-packages/pandas/io/parsers/readers.py\u001b[0m in \u001b[0;36m_read\u001b[0;34m(filepath_or_buffer, kwds)\u001b[0m\n\u001b[1;32m    573\u001b[0m \u001b[0;34m\u001b[0m\u001b[0m\n\u001b[1;32m    574\u001b[0m     \u001b[0;31m# Create the parser.\u001b[0m\u001b[0;34m\u001b[0m\u001b[0;34m\u001b[0m\u001b[0m\n\u001b[0;32m--> 575\u001b[0;31m     \u001b[0mparser\u001b[0m \u001b[0;34m=\u001b[0m \u001b[0mTextFileReader\u001b[0m\u001b[0;34m(\u001b[0m\u001b[0mfilepath_or_buffer\u001b[0m\u001b[0;34m,\u001b[0m \u001b[0;34m**\u001b[0m\u001b[0mkwds\u001b[0m\u001b[0;34m)\u001b[0m\u001b[0;34m\u001b[0m\u001b[0;34m\u001b[0m\u001b[0m\n\u001b[0m\u001b[1;32m    576\u001b[0m \u001b[0;34m\u001b[0m\u001b[0m\n\u001b[1;32m    577\u001b[0m     \u001b[0;32mif\u001b[0m \u001b[0mchunksize\u001b[0m \u001b[0;32mor\u001b[0m \u001b[0miterator\u001b[0m\u001b[0;34m:\u001b[0m\u001b[0;34m\u001b[0m\u001b[0;34m\u001b[0m\u001b[0m\n",
            "\u001b[0;32m/usr/local/lib/python3.9/dist-packages/pandas/io/parsers/readers.py\u001b[0m in \u001b[0;36m__init__\u001b[0;34m(self, f, engine, **kwds)\u001b[0m\n\u001b[1;32m    930\u001b[0m \u001b[0;34m\u001b[0m\u001b[0m\n\u001b[1;32m    931\u001b[0m         \u001b[0mself\u001b[0m\u001b[0;34m.\u001b[0m\u001b[0mhandles\u001b[0m\u001b[0;34m:\u001b[0m \u001b[0mIOHandles\u001b[0m \u001b[0;34m|\u001b[0m \u001b[0;32mNone\u001b[0m \u001b[0;34m=\u001b[0m \u001b[0;32mNone\u001b[0m\u001b[0;34m\u001b[0m\u001b[0;34m\u001b[0m\u001b[0m\n\u001b[0;32m--> 932\u001b[0;31m         \u001b[0mself\u001b[0m\u001b[0;34m.\u001b[0m\u001b[0m_engine\u001b[0m \u001b[0;34m=\u001b[0m \u001b[0mself\u001b[0m\u001b[0;34m.\u001b[0m\u001b[0m_make_engine\u001b[0m\u001b[0;34m(\u001b[0m\u001b[0mf\u001b[0m\u001b[0;34m,\u001b[0m \u001b[0mself\u001b[0m\u001b[0;34m.\u001b[0m\u001b[0mengine\u001b[0m\u001b[0;34m)\u001b[0m\u001b[0;34m\u001b[0m\u001b[0;34m\u001b[0m\u001b[0m\n\u001b[0m\u001b[1;32m    933\u001b[0m \u001b[0;34m\u001b[0m\u001b[0m\n\u001b[1;32m    934\u001b[0m     \u001b[0;32mdef\u001b[0m \u001b[0mclose\u001b[0m\u001b[0;34m(\u001b[0m\u001b[0mself\u001b[0m\u001b[0;34m)\u001b[0m\u001b[0;34m:\u001b[0m\u001b[0;34m\u001b[0m\u001b[0;34m\u001b[0m\u001b[0m\n",
            "\u001b[0;32m/usr/local/lib/python3.9/dist-packages/pandas/io/parsers/readers.py\u001b[0m in \u001b[0;36m_make_engine\u001b[0;34m(self, f, engine)\u001b[0m\n\u001b[1;32m   1214\u001b[0m             \u001b[0;31m# \"Union[str, PathLike[str], ReadCsvBuffer[bytes], ReadCsvBuffer[str]]\"\u001b[0m\u001b[0;34m\u001b[0m\u001b[0;34m\u001b[0m\u001b[0m\n\u001b[1;32m   1215\u001b[0m             \u001b[0;31m# , \"str\", \"bool\", \"Any\", \"Any\", \"Any\", \"Any\", \"Any\"\u001b[0m\u001b[0;34m\u001b[0m\u001b[0;34m\u001b[0m\u001b[0m\n\u001b[0;32m-> 1216\u001b[0;31m             self.handles = get_handle(  # type: ignore[call-overload]\n\u001b[0m\u001b[1;32m   1217\u001b[0m                 \u001b[0mf\u001b[0m\u001b[0;34m,\u001b[0m\u001b[0;34m\u001b[0m\u001b[0;34m\u001b[0m\u001b[0m\n\u001b[1;32m   1218\u001b[0m                 \u001b[0mmode\u001b[0m\u001b[0;34m,\u001b[0m\u001b[0;34m\u001b[0m\u001b[0;34m\u001b[0m\u001b[0m\n",
            "\u001b[0;32m/usr/local/lib/python3.9/dist-packages/pandas/io/common.py\u001b[0m in \u001b[0;36mget_handle\u001b[0;34m(path_or_buf, mode, encoding, compression, memory_map, is_text, errors, storage_options)\u001b[0m\n\u001b[1;32m    784\u001b[0m         \u001b[0;32mif\u001b[0m \u001b[0mioargs\u001b[0m\u001b[0;34m.\u001b[0m\u001b[0mencoding\u001b[0m \u001b[0;32mand\u001b[0m \u001b[0;34m\"b\"\u001b[0m \u001b[0;32mnot\u001b[0m \u001b[0;32min\u001b[0m \u001b[0mioargs\u001b[0m\u001b[0;34m.\u001b[0m\u001b[0mmode\u001b[0m\u001b[0;34m:\u001b[0m\u001b[0;34m\u001b[0m\u001b[0;34m\u001b[0m\u001b[0m\n\u001b[1;32m    785\u001b[0m             \u001b[0;31m# Encoding\u001b[0m\u001b[0;34m\u001b[0m\u001b[0;34m\u001b[0m\u001b[0m\n\u001b[0;32m--> 786\u001b[0;31m             handle = open(\n\u001b[0m\u001b[1;32m    787\u001b[0m                 \u001b[0mhandle\u001b[0m\u001b[0;34m,\u001b[0m\u001b[0;34m\u001b[0m\u001b[0;34m\u001b[0m\u001b[0m\n\u001b[1;32m    788\u001b[0m                 \u001b[0mioargs\u001b[0m\u001b[0;34m.\u001b[0m\u001b[0mmode\u001b[0m\u001b[0;34m,\u001b[0m\u001b[0;34m\u001b[0m\u001b[0;34m\u001b[0m\u001b[0m\n",
            "\u001b[0;31mFileNotFoundError\u001b[0m: [Errno 2] No such file or directory: '/datasets/users_behavior.csv'"
          ]
        }
      ],
      "source": [
        "# Загрузим датафрейм:\n",
        "df = pd.read_csv('/datasets/users_behavior.csv')"
      ]
    },
    {
      "cell_type": "markdown",
      "metadata": {
        "id": "feY5vxcTk4Xh"
      },
      "source": [
        "<div class=\"alert alert-success\">\n",
        "<b>ОТЛИЧНО! 👍</b>\n",
        "\n",
        "Отлично. Импортировали требуемые для анализа библиотеки и загрузили данные. Сейчас посмотрим на их состояние и если всё ОК, сможем приступать к построению моделей....\n",
        "</div>"
      ]
    },
    {
      "cell_type": "code",
      "execution_count": null,
      "metadata": {
        "id": "DY7m_Ynmk4Xh"
      },
      "outputs": [],
      "source": [
        "# Изучим датафрейм\n",
        "df.info()"
      ]
    },
    {
      "cell_type": "code",
      "execution_count": null,
      "metadata": {
        "id": "xqgBKDdBk4Xi"
      },
      "outputs": [],
      "source": [
        "df.describe()"
      ]
    },
    {
      "cell_type": "markdown",
      "metadata": {
        "id": "8pPi0SJ7k4Xi"
      },
      "source": [
        "Датафрейм содержит 3214 обьектов с 5 признаками. Пропуски в данных отстутствуют. Обьем данных достаточно мал."
      ]
    },
    {
      "cell_type": "markdown",
      "metadata": {
        "id": "do5EphVck4Xj"
      },
      "source": [
        "<div class=\"alert alert-success\">\n",
        "<b>ОТЛИЧНО! 👍</b>\n",
        "\n",
        "Данные загружены, отлично.\n",
        "\n",
        "Хорошо, что применяешь метод .head()/.sample() таким образом в память не будет загружен весь датасет, объем которого может быть огромным.\n",
        "\n",
        "Методы .info, .describe, .value_counts(), .unique() как правило часто встречаются и обязательны к применению в задачах по исследованию данных, ведь с их помощью можно получить первые инсайты. \n",
        "\n",
        "Итак, мы провели предварительный анализ данных, проверили данные на наличие пропусков (*из применяемых тобой методов видно что пропусков нет*) и затем обработали их (аргументированно заполнили / удалили / оставили как есть). Теперь можно приступать собственно к построению моделей и ответам на вопросы проекта.\n",
        "</div>"
      ]
    },
    {
      "cell_type": "markdown",
      "metadata": {
        "id": "21uvNkl_k4Xj"
      },
      "source": [
        "<div class=\"alert alert-warning\">\n",
        "<b>Комментарий 👉</b>\n",
        "\n",
        "Несколько моментов \"на будущее\" (сейчас забегаю чуть вперед, но будущем это будет важно) которые я хотел озвучить перед переходом к собственно исследованию:\n",
        "    \n",
        "- имеет смысл критично посмотреть на данные с точки зрения наличия пропусков в признаках (вопрос: все ли ml-модели \"любят\" пропуски?). Из результата info / describe / .duplicated() видно что пропусков нет, но я бы ещё явно это сказал. СДЕЛАНО\n",
        "    \n",
        "- имеет смысл явно обозначить какую задачу мы будем решать: с учителем / без учителя, классификации / регрессии ...\n",
        "    \n",
        "- в моделях бинарной классификации имеет смысл смотреть на баланс классов. Два взгляда (с разных сторон) на эту проблему тут: https://alexanderdyakonov.wordpress.com/2021/05/27/imbalance/ и https://habr.com/ru/post/349078/\n",
        "    \n",
        "- имеет смысл смотреть на корреляцию признаков. При высокой их степени коррелированности возникает проблема  мультиколлиниарность признаков. Проблема \"мультиколлинеарности\" это и про переобучение модели и про её интерпретируемость и про сложность модели (содержание в модели избыточного количества переменных). В чем негативный эффект сложной модели? Вот в чем: усложняется интерпретация параметров, оценки параметров ненадежны – получаются большие стандартные ошибки, которые меняются с изменением объема наблюдений, что делает модель регрессии непригодной для прогнозирования.\n",
        "    \n",
        "А теперь давай про интерпретируемость. Согласись - это важно, чтобы результат, который выдает модель можно было бы понять и объяснить с точки зрения предметной области. В случае включения в модель коллинеарных признаков может случиться так, что коэффициенты (да, проблема присуща моделям линейным ... регрессия среди них!) могут менять знаки и попытка объяснения предметной области с помощью этих коэффициентов будет противоречить здравому смыслу.\n",
        "    \n",
        "Вот классная статья. Простым языком, на примере показана проблема. А также, что важно - разобраны варианты как её (проблему) победить. Статья: https://habr.com/ru/company/akbarsdigital/blog/592493/ \n",
        "</div>"
      ]
    },
    {
      "cell_type": "markdown",
      "metadata": {
        "id": "jbQowy3Hk4Xj"
      },
      "source": [
        "## Разбейте данные на выборки"
      ]
    },
    {
      "cell_type": "code",
      "execution_count": null,
      "metadata": {
        "id": "hh4bwNRak4Xj"
      },
      "outputs": [],
      "source": [
        "# Составим таблицы признаков и целового признака.\n",
        "features = df.drop(['is_ultra'], axis=1)\n",
        "target = df['is_ultra'] "
      ]
    },
    {
      "cell_type": "code",
      "execution_count": null,
      "metadata": {
        "id": "NVPYMtcZk4Xk"
      },
      "outputs": [],
      "source": [
        "# отделим 60% данных для обучающей выборки c сохранением целевого признака\n",
        "features_train, features_valid_test, target_train, target_valid_test = train_test_split(\n",
        "    features, target, test_size=0.4, random_state=12345 , stratify=target)\n"
      ]
    },
    {
      "cell_type": "code",
      "execution_count": null,
      "metadata": {
        "id": "URBgymBgk4Xk"
      },
      "outputs": [],
      "source": [
        "# отделим 50% данных для тестовой выборки c сохранением целевого признака\n",
        "features_test, features_valid, target_test, target_valid = train_test_split(\n",
        "   features_valid_test, target_valid_test, test_size=0.5, random_state=12345, stratify=target_valid_test)\n"
      ]
    },
    {
      "cell_type": "markdown",
      "metadata": {
        "id": "8jIjOA_ck4Xk"
      },
      "source": [
        "<div class=\"alert alert-success\">\n",
        "<b>ОТЛИЧНО! 👍</b>\n",
        "\n",
        "1. Здесь хорошо, происходит фиксация random_state. Воспроизводимость результатов разбиения выборки на обучающую (тренировочную) / тестовую / валидационную мы обеспечили, значит при всех последующих запусках нашего кода подвыборки будут идентичными.\n",
        "    \n",
        "2. Доли размеров train/test/valid 3:1:1 - хорошо.\n",
        "</div>"
      ]
    },
    {
      "cell_type": "markdown",
      "metadata": {
        "id": "QQIjB3cOk4Xk"
      },
      "source": [
        "<div class=\"alert alert-warning\">\n",
        "<b>Комментарий 👉</b>\n",
        "\n",
        "Я бы рекомендовал после разбиения данных на выборки посмотреть на их размеры и размерности. Метод shape для этого - идеальный помощник. \"Цифры\" по выборкам покажут верно ли мы произвели \"разделение\" данных.\n",
        "\n",
        "p.s. так (**псевдокод**): X_train.shape[0] – «покажет» количество строк в тренировочной выборке, а X_train.shape[1] - количество столбцов в ней же. Ну а X_train.shape – выведет размерность train'а в виде кортежа с 2мя значениями (первое число – количество строк, второе – столбцов).</div>"
      ]
    },
    {
      "cell_type": "markdown",
      "metadata": {
        "id": "s1F7JsuDk4Xk"
      },
      "source": [
        "Вывод:\n",
        "Данные были разбиты по принципу 60/20/20.\n",
        "\n",
        "Обучение пройдет на данных features_train\n",
        "Валидация модели на данных features_valid\n",
        "Лучшая модель по валидации будет применена на данных features_test"
      ]
    },
    {
      "cell_type": "markdown",
      "metadata": {
        "id": "WdDmewkyk4Xl"
      },
      "source": [
        "<div class=\"alert alert-warning\">\n",
        "<b>Комментарий 👉</b>\n",
        "\n",
        "**Обучение пройдет на данных train_tariff_data Валидация модели на данных valid_tariff_data Лучшая модель по валидации будет применена на данных test_tariff_data** - мелочь, но названия не совпадают.\n",
        "</div>"
      ]
    },
    {
      "cell_type": "markdown",
      "metadata": {
        "id": "OM945G6-k4Xl"
      },
      "source": [
        "<div style=\"background: #B0E0E6; padding: 5px; border: 1px solid SteelBlue; border-radius: 5px;\">\n",
        "    <font color='4682B4'><u><b>КОММЕНТАРИЙ СТУДЕНТА</b></u></font>\n",
        "    <br />\n",
        "    <font color='4682B4'>Поправил</font>\n",
        "</div>"
      ]
    },
    {
      "cell_type": "markdown",
      "metadata": {
        "id": "dRPWb7usk4Xl"
      },
      "source": [
        "<div class=\"alert alert-warning\">\n",
        "<b>Комментарий 👉</b>\n",
        "\n",
        "Исключительно как вариант, а также воспользоваться советом со Стэковерфлоу: https://stackoverflow.com/questions/38250710/how-to-split-data-into-3-sets-train-validation-and-test/38251213#38251213\n",
        "\n",
        "\ttrain, valid, test = np.split(df.sample(frac=1, random_state=821), [int(.6*len(df)), int(.8*len(df))])\n",
        "\n",
        "Также, разбивать данные можно и автоматизировано, используя библиотеку fast_ml (см. скрин). К этому скрину один комментарий – не факт, что эта библиотека fast_ml развернута здесь, на Хабе, НО дома, своей локальной машине, с установленной средой (например Анакондой: https://www.anaconda.com/products/distribution) ты вполне можешь этим вариантом пользоваться (после установки **!pip install fast_ml**):\n",
        "</div>\n",
        "\n",
        "![image.png](attachment:image.png)"
      ]
    },
    {
      "cell_type": "markdown",
      "metadata": {
        "id": "LPSXeOiHk4Xl"
      },
      "source": [
        "## Исследуйте модели"
      ]
    },
    {
      "cell_type": "markdown",
      "metadata": {
        "id": "g41K-t-Vk4Xl"
      },
      "source": [
        "Для решения проблем классификации и прогнозирования подходит целый диапазон алгоритмов.\n",
        "Используем некоторый набор из них.\n",
        "Для удобства вывода информации рядом с каждым алгоритмом будет проставлена аббревиатура. Необходимо отметить, что настройки каждого алгоритма принимаются по умолчанию (default), за исключением некоторых моментов, дабы предоставить равные условия.\n",
        "\n",
        "Линейные алгоритмы:\n",
        "\n",
        "— Логистическая регрессия / Logistic Regression (‘LR’)\n",
        "— Линейный дискриминантный анализ / Linear Discriminant Analysis (‘LDA’)\n",
        "\n",
        "Нелинейные алгоритмы:\n",
        "\n",
        "— Метод k-ближайших соседей (классификация) / K-Neighbors Classifier (‘KNN’)\n",
        "— Деревья принятия решений / Decision Tree Classifier (‘CART’)\n",
        "— Наивный классификатор Байеса / Naive Bayes Classifier (‘NB’)\n",
        "— Линейный метод опорных векторов (классификация) / Linear Support Vector Classification (‘LSVC’)\n",
        "— Метод опорных векторов (классификация) / C-Support Vector Classification (‘SVC’)\n",
        "\n",
        "Алгоритм искусственной нейронной сети:\n",
        "\n",
        "— Многослойный персептрон / Multilayer Perceptrons (‘MLP’)\n",
        "\n",
        "Ансамблевые алгоритмы:\n",
        "\n",
        "— Bagging (классификация) / Bagging Classifier (‘BG’) (Bagging = Bootstrap aggregating)\n",
        "— Случайный лес (классификация) / Random Forest Classifier (‘RF’)\n",
        "— Экстра-деревья (классификация) / Extra Trees Classifier (‘ET’)\n",
        "— AdaBoost (классификация) / AdaBoost Classifier (‘AB’) (AdaBoost = Adaptive Boosting)\n",
        "— Градиентный boosting (классификация) / Gradient Boosting Classifier (‘GB’)\n",
        "\n",
        "Таким образом, список ‘models’ содержит следующие модели:"
      ]
    },
    {
      "cell_type": "markdown",
      "metadata": {
        "id": "XSfspw1Yk4Xm"
      },
      "source": [
        "<div class=\"alert alert-warning\">\n",
        "<b>Комментарий 👉</b>\n",
        "\n",
        "Отличный список, но ты правда надеешся \"выжать\" что -то сильно больше чем .... чем ... думаю accuracy_score выше 80-82% ты вряд-ли \"выбьешь\" на наших скудных учебных данных?\n",
        "</div>"
      ]
    },
    {
      "cell_type": "markdown",
      "metadata": {
        "id": "Q2UxfDpkk4Xm"
      },
      "source": [
        "<div style=\"background: #B0E0E6; padding: 5px; border: 1px solid SteelBlue; border-radius: 5px;\">\n",
        "    <font color='4682B4'><u><b>КОММЕНТАРИЙ СТУДЕНТА</b></u></font>\n",
        "    <br />\n",
        "    <font color='4682B4'>Нашел на Хабре. Решил как раз для тех, кто ...  (без опыта) ))) Убирать лишние алгоритмы не стал ради интереса. </font>\n",
        "</div>"
      ]
    },
    {
      "cell_type": "code",
      "execution_count": null,
      "metadata": {
        "id": "i0Y-49Ssk4Xm"
      },
      "outputs": [],
      "source": [
        "# Переприсвоим данные под наши цели \n",
        "X_train = features_train\n",
        "X_test = features_valid\n",
        "Y_train = target_train\n",
        "Y_test = target_valid\n",
        "\n"
      ]
    },
    {
      "cell_type": "code",
      "execution_count": null,
      "metadata": {
        "id": "Z6erkTKZk4Xm"
      },
      "outputs": [],
      "source": [
        "# Настройка параметров оценивания алгоритма\n",
        "num_folds = 10\n",
        "n_estimators = 100\n",
        "scoring = 'accuracy'"
      ]
    },
    {
      "cell_type": "code",
      "execution_count": null,
      "metadata": {
        "id": "kDgkv2b5k4Xm"
      },
      "outputs": [],
      "source": [
        "models = []\n",
        "models.append(('LR', LogisticRegression()))\n",
        "models.append(('LDA', LinearDiscriminantAnalysis()))\n",
        "models.append(('KNN', KNeighborsClassifier()))\n",
        "models.append(('CART', DecisionTreeClassifier()))\n",
        "models.append(('NB', GaussianNB()))\n",
        "models.append(('LSVC', LinearSVC()))\n",
        "models.append(('SVC', SVC()))\n",
        "models.append(('MLP', MLPClassifier()))\n",
        "models.append(('BG', BaggingClassifier(n_estimators=n_estimators)))\n",
        "models.append(('RF', RandomForestClassifier(n_estimators=n_estimators)))\n",
        "models.append(('ET', ExtraTreesClassifier(n_estimators=n_estimators)))\n",
        "models.append(('AB', AdaBoostClassifier(n_estimators=n_estimators, algorithm='SAMME')))\n",
        "models.append(('GB', GradientBoostingClassifier(n_estimators=n_estimators)))"
      ]
    },
    {
      "cell_type": "markdown",
      "metadata": {
        "id": "2524dBvfk4Xn"
      },
      "source": [
        "Оцениваним эффективности каждого алгоритма выполним с помощью кросс-валидации. В итоге выводится сообщение (msg – сокр. от message), содержащее следующие сведения: имя модели в виде аббревиатуры, средняя оценка 10-кратной перекрёстной проверки на тренировочных данных (метрика ‘accuracy’), в скобках представлено среднее квадратичное отклонение (standard deviation), а также значение метрики ‘accuracy’ на тестовых данных."
      ]
    },
    {
      "cell_type": "code",
      "execution_count": null,
      "metadata": {
        "id": "iyD_vZo-k4Xn"
      },
      "outputs": [],
      "source": [
        "\n",
        "\n",
        "# Оценивание эффективности выполнения каждого алгоритма\n",
        "scores = []\n",
        "names = []\n",
        "results = []\n",
        "predictions = []\n",
        "msg_row = []\n",
        "for name, model in models:\n",
        "    kfold = KFold(n_splits=num_folds) #random_state=seed\n",
        "    cv_results = cross_val_score(model, X_train, Y_train, cv=kfold, scoring=scoring)\n",
        "    names.append(name)\n",
        "    results.append(cv_results)\n",
        "    m_fit = model.fit(X_train, Y_train)\n",
        "    m_predict = model.predict(X_test)\n",
        "    predictions.append(m_predict)\n",
        "    m_score = model.score(X_test, Y_test)\n",
        "    scores.append(m_score)\n",
        "    msg = \"%s: train = %.3f (%.3f) / test = %.3f\" % (name, cv_results.mean(), cv_results.std(), m_score)\n",
        "    msg_row.append(msg)\n",
        "    acc = accuracy_score(Y_test, m_predict)\n",
        "    print('Значение метрики ACC на валидационной выборке', model, acc)\n",
        "    print(msg)"
      ]
    },
    {
      "cell_type": "markdown",
      "metadata": {
        "id": "WIpfE9Lok4Xn"
      },
      "source": [
        "<div class=\"alert alert-warning\">\n",
        "<b>Комментарий 👉</b>\n",
        "\n",
        "Я правиьно понимаю, что X_test - это название валидационной выборки? А features_valid (ниже) - это название тестовой? Если да, то зачем такая путаница? ))))\n",
        "</div>"
      ]
    },
    {
      "cell_type": "markdown",
      "metadata": {
        "id": "WgO2z1mdk4Xn"
      },
      "source": [
        "<div class=\"alert alert-danger\">\n",
        "<b>Необходимо исправить ❌</b>\n",
        "\n",
        "Что вот здесь происходит и для чего? Значение m_score - о чем нам говорит?\n",
        "    \n",
        "![image.png](attachment:image.png)\n",
        "</div>"
      ]
    },
    {
      "cell_type": "markdown",
      "metadata": {
        "id": "KfGoENGhk4Xo"
      },
      "source": [
        "<div style=\"background: #B0E0E6; padding: 5px; border: 1px solid SteelBlue; border-radius: 5px;\">\n",
        "    <font color='4682B4'><u><b>КОММЕНТАРИЙ СТУДЕНТА</b></u></font>\n",
        "    <br />\n",
        "    <font color='4682B4'>Поправил</font>\n",
        "</div>"
      ]
    },
    {
      "cell_type": "markdown",
      "metadata": {
        "id": "GXRS8m6Mk4Xo"
      },
      "source": [
        "<div class=\"alert alert-success\">\n",
        "<b>КОММЕНТАРИЙ V2</b>\n",
        "\n",
        "Я всё-равно не могу понять, что ты хочешь сказать этим кодом:\n",
        "    \n",
        "![image.png](attachment:image.png)    \n",
        "</div>"
      ]
    },
    {
      "cell_type": "code",
      "execution_count": null,
      "metadata": {
        "id": "9ZRKzY-gk4Xo"
      },
      "outputs": [],
      "source": [
        "# Диаграмма размаха («ящик с усами»)\n",
        "fig = pyplot.figure( figsize=(14, 10))\n",
        "fig.suptitle('Сравнение результатов выполнения алгоритмов')\n",
        "ax = fig.add_subplot(111)\n",
        "red_square = dict(markerfacecolor='r', marker='s')\n",
        "pyplot.boxplot(results, flierprops=red_square,)\n",
        "ax.set_xticklabels(names, rotation=45)\n",
        "pyplot.show()"
      ]
    },
    {
      "cell_type": "markdown",
      "metadata": {
        "id": "YkxIEhkdk4Xp"
      },
      "source": [
        "   Лучший результат экпресс тестирования: Значение метрики ACC на валидационной выборке GradientBoostingClassifier() 0.8133748055987559\n",
        "GB: train = 0.797 (0.031) / test = 0.850\n",
        "  \n"
      ]
    },
    {
      "cell_type": "markdown",
      "metadata": {
        "id": "NparJm-fk4Xp"
      },
      "source": [
        "Пропробуем добиться лучшего результата, используя алгоритимы, изученные нами в теоретической части:"
      ]
    },
    {
      "cell_type": "markdown",
      "metadata": {
        "id": "AusZ3Lc_k4Xp"
      },
      "source": [
        "исследуем логистическую регрессиию.\n",
        "Изменим гипер параметр max_iter в цикле."
      ]
    },
    {
      "cell_type": "code",
      "execution_count": null,
      "metadata": {
        "scrolled": false,
        "id": "eOkgOa0Ck4Xp"
      },
      "outputs": [],
      "source": [
        "best_max_iter = 0\n",
        "best_accuracy = 0\n",
        "\n",
        "for max_iter in range(1,51):\n",
        "    model = LogisticRegression(random_state=12345, max_iter=max_iter)\n",
        "    model.fit(features_train, target_train)\n",
        "    valid_predictions = model.predict(features_valid)\n",
        "    accuracy = accuracy_score(target_valid, valid_predictions)\n",
        "    print('Количество итерраций', max_iter,'Точность', accuracy)\n",
        "    if accuracy > best_accuracy:\n",
        "        best_max_iter = max_iter\n",
        "        best_accuracy = accuracy\n",
        "\n",
        "print('Лучшая количество итерраций', best_max_iter,'Лучшая точность', best_accuracy)    "
      ]
    },
    {
      "cell_type": "markdown",
      "metadata": {
        "id": "gNL-cWuMk4Xp"
      },
      "source": [
        "Лучшая количество итерраций 31 Лучшая точность 0.715. Зафиксируем:"
      ]
    },
    {
      "cell_type": "code",
      "execution_count": null,
      "metadata": {
        "id": "bXvHTVWHk4Xq"
      },
      "outputs": [],
      "source": [
        "max_iter=1\n",
        "model = LogisticRegression(random_state=12345, max_iter=31)\n",
        "model.fit(features_train, target_train)\n",
        "valid_predictions = model.predict(features_valid)\n",
        "accuracy = accuracy_score(target_valid, valid_predictions)\n",
        "print('Количество итерраций', max_iter,'Точность',accuracy)"
      ]
    },
    {
      "cell_type": "markdown",
      "metadata": {
        "id": "Z080aGPQk4Xq"
      },
      "source": [
        "Изменим другой гиперпараметр - solver."
      ]
    },
    {
      "cell_type": "code",
      "execution_count": null,
      "metadata": {
        "id": "lVBJ27n6k4Xq"
      },
      "outputs": [],
      "source": [
        "best_solver = ''\n",
        "best_accuracy = 0\n",
        "\n",
        "for solve in {'newton-cg', 'lbfgs', 'liblinear', 'sag', 'saga'}:\n",
        "    model = LogisticRegression(random_state=12345, solver=solve)\n",
        "    model.fit(features_train, target_train)\n",
        "    valid_predictions = model.predict(features_valid)\n",
        "    accuracy = accuracy_score(target_valid, valid_predictions)\n",
        "    print('Solver', solve,'Точность', accuracy)\n",
        "    if accuracy > best_accuracy:\n",
        "        best_solver= solve\n",
        "        best_accuracy = accuracy\n",
        "\n",
        "print('Лучший solver', best_solver,'Лучшая точность', best_accuracy) "
      ]
    },
    {
      "cell_type": "markdown",
      "metadata": {
        "id": "naiH4bXyk4Xq"
      },
      "source": [
        "Лучшим solver является newton-cg. "
      ]
    },
    {
      "cell_type": "markdown",
      "metadata": {
        "id": "lVPtZFXtk4Xq"
      },
      "source": [
        "Изменим в цикле гиперпараметр С:"
      ]
    },
    {
      "cell_type": "code",
      "execution_count": null,
      "metadata": {
        "id": "3_UH4j16k4Xr"
      },
      "outputs": [],
      "source": [
        "best_c = 0\n",
        "best_accuracy = 0\n",
        "\n",
        "for float_c in [x/10 for x in range(1,21)]:\n",
        "    model = LogisticRegression(random_state=12345, C=float_c)\n",
        "    model.fit(features_train, target_train)\n",
        "    valid_predictions = model.predict(features_valid)\n",
        "    accuracy = accuracy_score(target_valid, valid_predictions)\n",
        "    print('C=', float_c,'Точность',accuracy)\n",
        "    if accuracy > best_accuracy:\n",
        "        best_c = float_c\n",
        "        best_accuracy = accuracy\n",
        "\n",
        "print('Лучшая количество итерраций', best_c,'Лучшая точность', best_accuracy)    "
      ]
    },
    {
      "cell_type": "markdown",
      "metadata": {
        "id": "Aav1Jpm2k4Xr"
      },
      "source": [
        "Значение по умолчанию C=0.1 показывает лучший результат."
      ]
    },
    {
      "cell_type": "markdown",
      "metadata": {
        "id": "If38akJck4Xr"
      },
      "source": [
        "Исследуем алгоритм классификации деревом решений:\n"
      ]
    },
    {
      "cell_type": "code",
      "execution_count": null,
      "metadata": {
        "id": "3eqZTFu8k4Xr"
      },
      "outputs": [],
      "source": [
        "best_depth = 0\n",
        "best_result = 0\n",
        "for depth in range(1, 50):\n",
        "    model = DecisionTreeClassifier(random_state=12345, max_depth=depth) # обучите модель с заданной глубиной дерева\n",
        "    model.fit(features_train, target_train) # обучите модель\n",
        "    predictions = model.predict(features_valid) # получите предсказания модел\n",
        "    result = accuracy_score(target_valid, predictions) # посчитайте качество модели\n",
        "    print(\"Глубина дерева, асс\", depth, result)\n",
        "    if result > best_result:\n",
        "        best_depth = depth\n",
        "        best_result = result    \n",
        "print(\"Accuracy лучшей модели, глубина дерева:\", best_result, best_depth)"
      ]
    },
    {
      "cell_type": "code",
      "execution_count": null,
      "metadata": {
        "id": "nDtstkrqk4Xr"
      },
      "outputs": [],
      "source": [
        "\n",
        "model = DecisionTreeClassifier(random_state=12345, max_depth=5) # обучите модель с заданной глубиной дерева\n",
        "model.fit(features_train, target_train) # обучите модель\n",
        "predictions = model.predict(features_valid) # получите предсказания модел\n",
        "result = accuracy_score(target_valid, predictions) # посчитайте качество модели\n",
        "print(\"Глубина дерева - 5, асс\", result)\n",
        "    "
      ]
    },
    {
      "cell_type": "markdown",
      "metadata": {
        "id": "IrOfm0PDk4Xs"
      },
      "source": [
        "Изменм гиперпараметр criterion с gini на entropy."
      ]
    },
    {
      "cell_type": "code",
      "execution_count": null,
      "metadata": {
        "id": "mEHKsrDHk4Xs"
      },
      "outputs": [],
      "source": [
        "\n",
        "model = DecisionTreeClassifier(random_state=12345, max_depth=5, criterion=\"entropy\") # обучите модель с заданной глубиной дерева\n",
        "model.fit(features_train, target_train) # обучите модель\n",
        "predictions = model.predict(features_valid) # получите предсказания модел\n",
        "result = accuracy_score(target_valid, predictions) # посчитайте качество модели\n",
        "print(\"Глубина дерева - 5, асс\", result)\n",
        "    "
      ]
    },
    {
      "cell_type": "markdown",
      "metadata": {
        "id": "0sS4_Vl3k4Xs"
      },
      "source": [
        "Результат лучше стал."
      ]
    },
    {
      "cell_type": "markdown",
      "metadata": {
        "id": "IE4skdSmk4Xs"
      },
      "source": [
        "Изменим splitter с best на random."
      ]
    },
    {
      "cell_type": "code",
      "execution_count": null,
      "metadata": {
        "id": "NXD1BBsak4Xs"
      },
      "outputs": [],
      "source": [
        "\n",
        "model = DecisionTreeClassifier(random_state=12345, max_depth=5, splitter='random') # обучите модель с заданной глубиной дерева\n",
        "model.fit(features_train, target_train) # обучите модель\n",
        "predictions = model.predict(features_valid) # получите предсказания модел\n",
        "result = accuracy_score(target_valid, predictions) # посчитайте качество модели\n",
        "print(\"Глубина дерева - 5, асс\", result)\n",
        "    "
      ]
    },
    {
      "cell_type": "markdown",
      "metadata": {
        "id": "qy_AtbGWk4Xt"
      },
      "source": [
        "Результат стал лучше."
      ]
    },
    {
      "cell_type": "markdown",
      "metadata": {
        "id": "RXXBZuQMk4Xt"
      },
      "source": [
        "Рассмотрим применение модели случайный лес"
      ]
    },
    {
      "cell_type": "code",
      "execution_count": null,
      "metadata": {
        "id": "y_bttYquk4Xt"
      },
      "outputs": [],
      "source": [
        "best_estim = 0\n",
        "best_accuracy = 0\n",
        "\n",
        "for estim in range(1,101):\n",
        "    model = RandomForestClassifier(random_state=12345, n_estimators=estim)\n",
        "    model.fit(features_train, target_train)\n",
        "    valid_predictions = model.predict(features_valid)\n",
        "    accuracy = accuracy_score(target_valid, valid_predictions)\n",
        "    print('Количество деревьев', estim,'Точность',accuracy)\n",
        "    if accuracy > best_accuracy:\n",
        "        best_estim = estim\n",
        "        best_accuracy = accuracy\n",
        "print('Лучшее количество деревьев', best_estim,'Лучшая точность', best_accuracy)  \n",
        "\n"
      ]
    },
    {
      "cell_type": "markdown",
      "metadata": {
        "id": "J55v_h9Xk4Xt"
      },
      "source": [
        "<div class=\"alert alert-danger\">\n",
        "<b>Необходимо исправить ❌</b>\n",
        "\n",
        "Что здесь происходит?\n",
        "    \n",
        "![image.png](attachment:image.png)    \n",
        "</div>"
      ]
    },
    {
      "cell_type": "markdown",
      "metadata": {
        "id": "5045gcmrk4Xt"
      },
      "source": [
        "<div style=\"background: #B0E0E6; padding: 5px; border: 1px solid SteelBlue; border-radius: 5px;\">\n",
        "    <font color='4682B4'><u><b>КОММЕНТАРИЙ СТУДЕНТА</b></u></font>\n",
        "    <br />\n",
        "    <font color='4682B4'>Просмотрел по всей работе. Везде поправил.</font>\n",
        "</div>"
      ]
    },
    {
      "cell_type": "markdown",
      "metadata": {
        "id": "ek71Xvkmk4Xu"
      },
      "source": [
        "И так:"
      ]
    },
    {
      "cell_type": "code",
      "execution_count": null,
      "metadata": {
        "id": "DkL4G0Bnk4Xu"
      },
      "outputs": [],
      "source": [
        "    model = RandomForestClassifier(random_state=12345, n_estimators=75)\n",
        "    model.fit(features_train, target_train)\n",
        "    valid_predictions = model.predict(features_valid)\n",
        "    accuracy = accuracy_score(target_valid, valid_predictions)\n",
        "    print('Точность', accuracy)"
      ]
    },
    {
      "cell_type": "markdown",
      "metadata": {
        "id": "mBkNYcEek4Xu"
      },
      "source": [
        "<div class=\"alert alert-danger\">\n",
        "<b>Необходимо исправить ❌</b>\n",
        "\n",
        "Здесь так же ошибка (ОПРЕДЕЛИСЬ какая выборка у тебя тестовая, какая валидационная - сейчас ты очень вольно переключаешся между ними).\n",
        "</div>"
      ]
    },
    {
      "cell_type": "markdown",
      "metadata": {
        "id": "ZGjNKQGHk4Xu"
      },
      "source": [
        "<div style=\"background: #B0E0E6; padding: 5px; border: 1px solid SteelBlue; border-radius: 5px;\">\n",
        "    <font color='4682B4'><u><b>КОММЕНТАРИЙ СТУДЕНТА</b></u></font>\n",
        "    <br />\n",
        "    <font color='4682B4'>Просмотрел по всей работе. Везде поправил.</font>\n",
        "</div>"
      ]
    },
    {
      "cell_type": "markdown",
      "metadata": {
        "id": "750aePkYk4Xu"
      },
      "source": [
        "Настроим гиперпараметр criterion с gini на entropy.\n"
      ]
    },
    {
      "cell_type": "code",
      "execution_count": null,
      "metadata": {
        "id": "DtYi4z8ak4Xv"
      },
      "outputs": [],
      "source": [
        "    model = RandomForestClassifier(random_state=12345, n_estimators=75, criterion='entropy')\n",
        "    model.fit(features_train, target_train)\n",
        "    valid_predictions = model.predict(features_valid)\n",
        "    accuracy = accuracy_score(target_valid, valid_predictions)\n",
        "    print('Точность', accuracy)"
      ]
    },
    {
      "cell_type": "markdown",
      "metadata": {
        "id": "6fY2Ptpvk4Xv"
      },
      "source": [
        "<div class=\"alert alert-danger\">\n",
        "<b>Необходимо исправить ❌</b>\n",
        "\n",
        "Та же ошибка\n",
        "</div>"
      ]
    },
    {
      "cell_type": "markdown",
      "metadata": {
        "id": "czHtmO2Lk4Xv"
      },
      "source": [
        "<div style=\"background: #B0E0E6; padding: 5px; border: 1px solid SteelBlue; border-radius: 5px;\">\n",
        "    <font color='4682B4'><u><b>КОММЕНТАРИЙ СТУДЕНТА</b></u></font>\n",
        "    <br />\n",
        "    <font color='4682B4'>Просмотрел по всей работе. Везде поправил.</font>\n",
        "</div>"
      ]
    },
    {
      "cell_type": "markdown",
      "metadata": {
        "id": "QdI5ksjIk4Xv"
      },
      "source": [
        "Точность ухудшилась."
      ]
    },
    {
      "cell_type": "markdown",
      "metadata": {
        "id": "b1YAjT8rk4Xv"
      },
      "source": [
        "Изменим bootstrap с True на Flase."
      ]
    },
    {
      "cell_type": "code",
      "execution_count": null,
      "metadata": {
        "id": "pgeMFEKLk4Xv"
      },
      "outputs": [],
      "source": [
        "    model = RandomForestClassifier(random_state=12345, n_estimators=75, bootstrap=False)\n",
        "    model.fit(features_train, target_train)\n",
        "    valid_predictions = model.predict(features_valid)\n",
        "    accuracy = accuracy_score(target_valid, valid_predictions)\n",
        "    print('Точность', accuracy)"
      ]
    },
    {
      "cell_type": "markdown",
      "metadata": {
        "id": "Oqi0TSC8k4Xw"
      },
      "source": [
        "<div class=\"alert alert-danger\">\n",
        "<b>Необходимо исправить ❌</b>\n",
        "\n",
        "Та же ошибка\n",
        "</div>"
      ]
    },
    {
      "cell_type": "markdown",
      "metadata": {
        "id": "swTni66zk4Xw"
      },
      "source": [
        "<div style=\"background: #B0E0E6; padding: 5px; border: 1px solid SteelBlue; border-radius: 5px;\">\n",
        "    <font color='4682B4'><u><b>КОММЕНТАРИЙ СТУДЕНТА</b></u></font>\n",
        "    <br />\n",
        "    <font color='4682B4'>Просмотрел по всей работе. Везде поправил.</font>\n",
        "</div>"
      ]
    },
    {
      "cell_type": "markdown",
      "metadata": {
        "id": "OvrQC0Hqk4Xw"
      },
      "source": [
        "Точность ухудшилась."
      ]
    },
    {
      "cell_type": "markdown",
      "metadata": {
        "id": "tW7Lj5qNk4Xw"
      },
      "source": [
        "Изменим warm_start с False на True."
      ]
    },
    {
      "cell_type": "code",
      "execution_count": null,
      "metadata": {
        "id": "J20jnlx3k4Xw"
      },
      "outputs": [],
      "source": [
        "    model = RandomForestClassifier(random_state=12345, n_estimators=24, warm_start=True)\n",
        "    model.fit(features_train, target_train)\n",
        "    valid_predictions = model.predict(features_valid)\n",
        "    accuracy = accuracy_score(target_valid, valid_predictions)\n",
        "    print('Точность', accuracy)"
      ]
    },
    {
      "cell_type": "markdown",
      "metadata": {
        "id": "wBE-Cd-Ck4Xx"
      },
      "source": [
        "<div class=\"alert alert-danger\">\n",
        "<b>Необходимо исправить ❌</b>\n",
        "\n",
        "Та же ошибка\n",
        "</div>"
      ]
    },
    {
      "cell_type": "markdown",
      "metadata": {
        "id": "xRniCvoak4Xx"
      },
      "source": [
        "<div style=\"background: #B0E0E6; padding: 5px; border: 1px solid SteelBlue; border-radius: 5px;\">\n",
        "    <font color='4682B4'><u><b>КОММЕНТАРИЙ СТУДЕНТА</b></u></font>\n",
        "    <br />\n",
        "    <font color='4682B4'>Просмотрел по всей работе. Везде поправил.</font>\n",
        "</div>"
      ]
    },
    {
      "cell_type": "markdown",
      "metadata": {
        "id": "wB7RRKx6k4Xx"
      },
      "source": [
        "Точность не изменилась."
      ]
    },
    {
      "cell_type": "markdown",
      "metadata": {
        "id": "XqMfYtUdk4Xx"
      },
      "source": [
        "Выводы\n",
        "Мы провели экспресс тест алгоритмов для представленных данных с большим количеством алгоритмов. Лучшим оказался ExtraTreesClassifier(). Значение метрики ACC на валидационной выборке  0.8087091757387247\n",
        "\n",
        "В дальнейшем, были исследованы 3 алгоритма с перебором возможных гиперпараметров.\n",
        "Получены следующие данные:\n",
        "\n",
        "Точность модели решающего дерева при глубине 5 равна 0.802. \n",
        "Точность модели случайного леса при количестве деревьев 4 равна 0.62. \n",
        "Точность модели логистической регресии равна 0.74. \n",
        "Лучший результат показывает решающее древо с гиперпараметром max_depth=5 - 0.802."
      ]
    },
    {
      "cell_type": "markdown",
      "metadata": {
        "id": "C0WcOxC_k4Xx"
      },
      "source": [
        "<div class=\"alert alert-danger\">\n",
        "<b>Необходимо исправить ❌</b>\n",
        "\n",
        "Итак, \n",
        "    \n",
        "1. мы выше проверяли множество, около десятка моделей. В выводе описаны 3. Опиши все что проверял и сделай вывод, покажи, какая является лучшей.\n",
        "    \n",
        "2. твим данным доверять нельзя: все они вычислены на разных выборках, а местами ещё и даже на каких-то перекрестных (фичи от тестовой части, таргеты от валидационной). Этот раздел надо глобально переделать. Совет: не удивляй меня количеством моделей, возьми 3: логрегрессию, лес, дерево и аккуратно для них сделай вычисления.\n",
        "</div>"
      ]
    },
    {
      "cell_type": "markdown",
      "metadata": {
        "id": "xBPa6_otk4Xx"
      },
      "source": [
        "<div style=\"background: #B0E0E6; padding: 5px; border: 1px solid SteelBlue; border-radius: 5px;\">\n",
        "    <font color='4682B4'><u><b>КОММЕНТАРИЙ СТУДЕНТА</b></u></font>\n",
        "    <br />\n",
        "    <font color='4682B4'>Просмотрел по всей работе. Везде поправил Вывод для 3 части дополнил.</font>\n",
        "</div>"
      ]
    },
    {
      "cell_type": "markdown",
      "metadata": {
        "id": "E2UDRsjbk4Xy"
      },
      "source": [
        "<div class=\"alert alert-success\">\n",
        "<b>КОММЕНТАРИЙ V2</b>\n",
        "\n",
        "Здесь отлично: определили лучшую модель. \n",
        "\n",
        "После того, как лучшая модель найдена – тестируем её (можно - только её) на тестовых данных. Все прочие модели нас уже больше не интересуют. \n",
        "</div>    "
      ]
    },
    {
      "cell_type": "markdown",
      "metadata": {
        "id": "JxIAblzIk4Xy"
      },
      "source": [
        "## Проверьте модель на тестовой выборке"
      ]
    },
    {
      "cell_type": "code",
      "execution_count": null,
      "metadata": {
        "id": "tFEj0qiZk4Xy"
      },
      "outputs": [],
      "source": [
        "\n",
        "model = LogisticRegression(random_state=12345, max_iter=79)\n",
        "model.fit(features_train, target_train)\n",
        "valid_predictions = model.predict(features_test)\n",
        "accuracy = accuracy_score(target_test, valid_predictions)\n",
        "print('Точность модели логистической регресиии на тестовой выборке', accuracy)"
      ]
    },
    {
      "cell_type": "markdown",
      "metadata": {
        "id": "VIE_3Gd9k4Xy"
      },
      "source": [
        "<div class=\"alert alert-warning\">\n",
        "<b>Комментарий 👉</b>\n",
        "\n",
        "Я правиьно понимаю, что features_valid - это название тестовой выборки? А X_test (выше) - это название валидационной? Если да, то зачем такая путаница? ))))\n",
        "</div>"
      ]
    },
    {
      "cell_type": "code",
      "execution_count": null,
      "metadata": {
        "id": "kcofC1G6k4Xy"
      },
      "outputs": [],
      "source": [
        "\n",
        "model = DecisionTreeClassifier(random_state=12345, max_depth=8) # обучите модель с заданной глубиной дерева\n",
        "model.fit(features_train, target_train) # обучите модель\n",
        "predictions = model.predict(features_test) # получите предсказания модел\n",
        "result = accuracy_score(target_test, predictions) # посчитайте качество модели\n",
        "print(\"Точность модели решающего леса на тестовой выборке\", result)"
      ]
    },
    {
      "cell_type": "code",
      "execution_count": null,
      "metadata": {
        "id": "CdXDVRpMk4Xz"
      },
      "outputs": [],
      "source": [
        "    model = RandomForestClassifier(random_state=12345, n_estimators=24)\n",
        "    model.fit(features_train, target_train)\n",
        "    valid_predictions = model.predict(features_test)\n",
        "    accuracy = accuracy_score(target_test, valid_predictions)\n",
        "    print('Точность модели случайного леса на тестовой выборке', accuracy)"
      ]
    },
    {
      "cell_type": "markdown",
      "metadata": {
        "id": "cehVKR3bk4Xz"
      },
      "source": [
        "Вывод п\n",
        "Для решения поставленной задачи можно выбрать модель случаного леса, точность 0.79. Учитывая разницу между текущей точностью и точностью на валидационной выборке, можно сделать вывод слабой переобученности модели.\n",
        "\n",
        "Для 100% гарантий и при учете того, что выборка не будет большой, рекомендую использовать модель случайного леса. Показатель выше требуемого на 3 пункта."
      ]
    },
    {
      "cell_type": "markdown",
      "metadata": {
        "id": "aBNyEoFrk4Xz"
      },
      "source": [
        "<div class=\"alert alert-success\">\n",
        "<b>ОТЛИЧНО! 👍</b>\n",
        "\n",
        "Здесь отлично: проверили \"качество\" нашей лучшей модели на тестовых данных.\n",
        "</div>"
      ]
    },
    {
      "cell_type": "markdown",
      "metadata": {
        "id": "GaFkw6Z8k4Xz"
      },
      "source": [
        "## (бонус) Проверьте модели на адекватность"
      ]
    },
    {
      "cell_type": "code",
      "execution_count": null,
      "metadata": {
        "id": "YTBEM632k4Xz"
      },
      "outputs": [],
      "source": [
        "d_target_test = target_test.copy()\n",
        "d_target_test = d_target_test.transform(lambda x: 0)\n",
        "print(\"Точность модели, заполненной наиболее весомой группой '0'\", accuracy_score(target_test, d_target_test))"
      ]
    },
    {
      "cell_type": "markdown",
      "metadata": {
        "id": "8oSmbTEuk4Xz"
      },
      "source": [
        "Сделаем вывод, что наша модель имеет большую вероятность правильного прогноза, чем условно заполненная наиболее весомым значением."
      ]
    },
    {
      "cell_type": "markdown",
      "metadata": {
        "id": "3VJV9rajk4X0"
      },
      "source": [
        "<div class=\"alert alert-warning\">\n",
        "<b>Комментарий 👉</b>\n",
        "\n",
        "Для проверки модели на адекватность можно использовать DummyClassifier (из библиотеки sckit-learn). Это один вариант. \n",
        "    \n",
        "Второй вариант - сравнить самый часто встречающийся класс в наших данных (это is_ultra == 0). Таких значений 2.229 в нашем датафрейме. Всего же значений в датафрейме 3.214. Значит самый часто встречающийся класс \"занимает\" 69% (2229 / 3214 == 0.693528313627878). Вот мы и получили контрольные данные для сравнительной оценки, построенной нами \"лучшей\" модели. Наша лучшая модель должна \"побить\" этот скор.\n",
        "</div>"
      ]
    },
    {
      "cell_type": "markdown",
      "metadata": {
        "id": "RZoJUnwVk4X0"
      },
      "source": [
        "## Чек-лист готовности проекта"
      ]
    },
    {
      "cell_type": "markdown",
      "metadata": {
        "id": "D0E6qvdck4X0"
      },
      "source": [
        "Поставьте 'x' в выполненных пунктах. Далее нажмите Shift+Enter."
      ]
    },
    {
      "cell_type": "markdown",
      "metadata": {
        "id": "RJWrd7eGk4X0"
      },
      "source": [
        "- [x] Jupyter Notebook открыт\n",
        "- [x] Весь код исполняется без ошибок\n",
        "- [x] Ячейки с кодом расположены в порядке исполнения\n",
        "- [x] Выполнено задание 1: данные загружены и изучены\n",
        "- [x] Выполнено задание 2: данные разбиты на три выборки\n",
        "- [x] Выполнено задание 3: проведено исследование моделей\n",
        "    - [x] Рассмотрено больше одной модели\n",
        "    - [x] Рассмотрено хотя бы 3 значения гипепараметров для какой-нибудь модели\n",
        "    - [x] Написаны выводы по результатам исследования\n",
        "- [x] Выполнено задание 3: Проведено тестирование\n",
        "- [x] Удалось достичь accuracy не меньше 0.75\n"
      ]
    },
    {
      "cell_type": "markdown",
      "metadata": {
        "id": "1wFcNVXWk4X0"
      },
      "source": [
        "# Результат ревью:\n",
        "\n",
        "Я отмечаю адекватный уровень твоей программистской подготовки. Ты используешь продвинутые концепции языка Python, библиотеки pandas и одной из основных библиотек машинного обучения sckit-learn. Это показывает твой уровень владения инструментами анализа данных и machine learning.\n",
        "\n",
        "С комментированием никаких проблем нет. Твоих объяснений достаточно для понимания твоими коллегами хода мыслей. Ссылки из брифа проекта в нужных местах также помогают следовать за развитием событий и дают полную информацию касаемо того, что будет происходить в том или ином разделе проекта.\n",
        "\n",
        "Мне было просто проверять твой проект, потому что он чётко структурирован, с использованием оглавления. \n",
        "\n",
        "Зелёным цветом я отметил и прокомментировал удачные и элегантные решения, на которые ты можешь опираться в будущих проектах.\n",
        "\n",
        "Жёлтым цветом я выделил то, что в следующий раз можно сделать по-другому. Ты можешь учесть эти комментарии при выполнении будущих заданий или доработать проект сейчас.\n",
        "\n",
        "Однако есть принципиальные моменты, которые не позволяют мне принять твой проект в его нынешнем состоянии:\n",
        "\n",
        "<div class=\"alert alert-danger\">\n",
        "<b>Необходимо исправить ❌</b> \n",
        "\n",
        "- Есть множественный ошибки в расчете accuracy_score и предоставлении результатов (конкретных цифр) в разделе 3.\n",
        "\n",
        "- Нет финального, завершающего вывод проекта\n",
        "\n",
        "- Вывод в разделе \"3.  Исследуйте модели\" урезан.</div>\n",
        "\n",
        "Эти моментв требуют твоего внимания. Комментарий помечены красным цветом. \n",
        "\n",
        "Подводя итог: после доработки обязательно проверь комментарии и выводы. Их нужно будет скорректировать. Жду доработанную версию проекта на повторное ревью.\n"
      ]
    },
    {
      "cell_type": "markdown",
      "metadata": {
        "id": "vA2uKpCXk4X0"
      },
      "source": [
        "<div style=\"background: #B0E0E6; padding: 5px; border: 1px solid SteelBlue; border-radius: 5px;\">\n",
        "    <font color='4682B4'><u><b>КОММЕНТАРИЙ СТУДЕНТА</b></u></font>\n",
        "    <br />\n",
        "    <font color='4682B4'> Спасибо за советы и ссылки!!! Да, произошла какая то путаница с выбоками (((. 1. Все проверил, добавил. 2. Добавил 3.Добавил .</font>\n",
        "</div>"
      ]
    },
    {
      "cell_type": "markdown",
      "metadata": {
        "id": "s3-prtutk4X1"
      },
      "source": [
        "<div class=\"alert alert-success\">\n",
        "<b>КОММЕНТАРИЙ V2</b>\n",
        "    \n",
        "Всё отлично, результат достигнут.\n",
        "    \n",
        "Один совет (также, на будущее): как попытаться улучшить полученный результат, с минимум усилий? Ответ: мы использовали train для обучения модели, а valid - для поиска лучших значений гиперпараметров. Лучшие параметры нашли. Так почему бы теперь наши модели с выбранными гиперпараметрами не обучить на *общей* (тренировочной + валидационной) выборке (pd.concat() можно использовать для объединения). Чем больше данных, тем *лучше* модели смогут обучиться (надо проверять!). И вот теперь эту дообученную модель мы уже финально проверим на тестовой выборке (test).\n",
        "\n",
        "Но следует учесть вот какой момент: нужно быть аккуратным с подобным «улучшением», если мы кодируем или масштабируем наши выборки. Например, в следующем проекте мы обучаемся на train’е, а затем делаем transform на валидации и тесте. Если после этого объединить трейн и валид, то это будет не совсем верно.\n",
        "\n",
        "p.s. а вообще, достижение высокого скора не такая простая задача. Много моментов может влиять (подбор гиперпараметров - всего лишь один из них). В этой конкретно задаче мне кажется, что данных маловато, а также, возможно и фичей (столбцов в наших данных). Из-за этого модели не могут точно \"настроиться на данные\".\n",
        "</div>"
      ]
    }
  ],
  "metadata": {
    "ExecuteTimeLog": [
      {
        "duration": 68,
        "start_time": "2023-03-19T15:55:35.495Z"
      },
      {
        "duration": 1087,
        "start_time": "2023-03-19T15:57:22.849Z"
      },
      {
        "duration": 164,
        "start_time": "2023-03-19T15:57:24.078Z"
      },
      {
        "duration": 11,
        "start_time": "2023-03-19T15:57:56.489Z"
      },
      {
        "duration": 31,
        "start_time": "2023-03-19T15:59:45.276Z"
      },
      {
        "duration": 10,
        "start_time": "2023-03-19T16:00:09.346Z"
      },
      {
        "duration": 74,
        "start_time": "2023-03-19T16:23:53.103Z"
      },
      {
        "duration": 18,
        "start_time": "2023-03-19T17:45:06.472Z"
      },
      {
        "duration": 4,
        "start_time": "2023-03-19T17:46:31.243Z"
      },
      {
        "duration": 5,
        "start_time": "2023-03-19T17:46:49.703Z"
      },
      {
        "duration": 9,
        "start_time": "2023-03-19T17:51:51.865Z"
      },
      {
        "duration": 4,
        "start_time": "2023-03-19T17:51:59.912Z"
      },
      {
        "duration": 4,
        "start_time": "2023-03-19T17:52:01.012Z"
      },
      {
        "duration": 11,
        "start_time": "2023-03-19T17:52:29.247Z"
      },
      {
        "duration": 10,
        "start_time": "2023-03-19T17:53:04.774Z"
      },
      {
        "duration": 9,
        "start_time": "2023-03-19T17:53:43.900Z"
      },
      {
        "duration": 9,
        "start_time": "2023-03-19T17:53:57.713Z"
      },
      {
        "duration": 5,
        "start_time": "2023-03-19T17:54:22.211Z"
      },
      {
        "duration": 13,
        "start_time": "2023-03-19T17:54:25.442Z"
      },
      {
        "duration": 9,
        "start_time": "2023-03-19T17:54:41.940Z"
      },
      {
        "duration": 11,
        "start_time": "2023-03-19T17:54:53.611Z"
      },
      {
        "duration": 17,
        "start_time": "2023-03-19T17:55:19.548Z"
      },
      {
        "duration": 22,
        "start_time": "2023-03-19T17:56:20.691Z"
      },
      {
        "duration": 73,
        "start_time": "2023-03-19T18:01:49.335Z"
      },
      {
        "duration": 5,
        "start_time": "2023-03-19T18:04:16.328Z"
      },
      {
        "duration": 18,
        "start_time": "2023-03-19T18:05:40.983Z"
      },
      {
        "duration": 1190,
        "start_time": "2023-03-19T18:05:58.643Z"
      },
      {
        "duration": 44,
        "start_time": "2023-03-19T18:05:59.836Z"
      },
      {
        "duration": 12,
        "start_time": "2023-03-19T18:05:59.882Z"
      },
      {
        "duration": 37,
        "start_time": "2023-03-19T18:05:59.897Z"
      },
      {
        "duration": 3,
        "start_time": "2023-03-19T18:05:59.936Z"
      },
      {
        "duration": 20,
        "start_time": "2023-03-19T18:05:59.941Z"
      },
      {
        "duration": 136,
        "start_time": "2023-03-19T18:05:59.963Z"
      },
      {
        "duration": 0,
        "start_time": "2023-03-19T18:06:00.101Z"
      },
      {
        "duration": 13,
        "start_time": "2023-03-19T18:06:04.720Z"
      },
      {
        "duration": 6,
        "start_time": "2023-03-19T18:06:14.727Z"
      },
      {
        "duration": 15,
        "start_time": "2023-03-19T18:06:24.510Z"
      },
      {
        "duration": 15,
        "start_time": "2023-03-19T18:07:16.169Z"
      },
      {
        "duration": 6,
        "start_time": "2023-03-19T18:07:33.104Z"
      },
      {
        "duration": 6,
        "start_time": "2023-03-19T18:21:09.438Z"
      },
      {
        "duration": 6,
        "start_time": "2023-03-19T18:21:18.588Z"
      },
      {
        "duration": 1079,
        "start_time": "2023-03-20T17:04:39.728Z"
      },
      {
        "duration": 76,
        "start_time": "2023-03-20T17:04:40.808Z"
      },
      {
        "duration": 10,
        "start_time": "2023-03-20T17:04:40.886Z"
      },
      {
        "duration": 31,
        "start_time": "2023-03-20T17:04:40.897Z"
      },
      {
        "duration": 12,
        "start_time": "2023-03-20T17:04:40.930Z"
      },
      {
        "duration": 25,
        "start_time": "2023-03-20T17:04:40.944Z"
      },
      {
        "duration": 8,
        "start_time": "2023-03-20T17:04:40.970Z"
      },
      {
        "duration": 492,
        "start_time": "2023-03-20T17:04:40.980Z"
      },
      {
        "duration": 74,
        "start_time": "2023-03-20T17:04:41.474Z"
      },
      {
        "duration": 0,
        "start_time": "2023-03-20T17:04:41.550Z"
      },
      {
        "duration": 1029,
        "start_time": "2023-03-20T17:05:31.238Z"
      },
      {
        "duration": 29,
        "start_time": "2023-03-20T17:05:32.269Z"
      },
      {
        "duration": 10,
        "start_time": "2023-03-20T17:05:32.300Z"
      },
      {
        "duration": 40,
        "start_time": "2023-03-20T17:05:32.312Z"
      },
      {
        "duration": 3,
        "start_time": "2023-03-20T17:05:32.354Z"
      },
      {
        "duration": 18,
        "start_time": "2023-03-20T17:05:32.359Z"
      },
      {
        "duration": 7,
        "start_time": "2023-03-20T17:05:32.378Z"
      },
      {
        "duration": 522,
        "start_time": "2023-03-20T17:05:32.386Z"
      },
      {
        "duration": 116,
        "start_time": "2023-03-20T17:05:32.910Z"
      },
      {
        "duration": 487,
        "start_time": "2023-03-20T17:06:26.701Z"
      },
      {
        "duration": 462,
        "start_time": "2023-03-20T17:07:49.671Z"
      },
      {
        "duration": 47,
        "start_time": "2023-03-20T17:09:23.218Z"
      },
      {
        "duration": 67,
        "start_time": "2023-03-20T17:10:24.720Z"
      },
      {
        "duration": 4,
        "start_time": "2023-03-20T17:12:01.300Z"
      },
      {
        "duration": 52,
        "start_time": "2023-03-20T17:12:07.315Z"
      },
      {
        "duration": 4,
        "start_time": "2023-03-20T17:13:14.507Z"
      },
      {
        "duration": 170,
        "start_time": "2023-03-20T17:13:30.305Z"
      },
      {
        "duration": 64,
        "start_time": "2023-03-20T17:18:16.988Z"
      },
      {
        "duration": 41,
        "start_time": "2023-03-20T17:31:25.247Z"
      },
      {
        "duration": 46,
        "start_time": "2023-03-20T17:31:34.445Z"
      },
      {
        "duration": 47,
        "start_time": "2023-03-20T17:31:52.403Z"
      },
      {
        "duration": 50,
        "start_time": "2023-03-20T17:32:15.413Z"
      },
      {
        "duration": 31,
        "start_time": "2023-03-20T17:36:04.969Z"
      },
      {
        "duration": 1078,
        "start_time": "2023-03-21T17:19:01.382Z"
      },
      {
        "duration": 78,
        "start_time": "2023-03-21T17:19:04.002Z"
      },
      {
        "duration": 15,
        "start_time": "2023-03-21T17:19:06.190Z"
      },
      {
        "duration": 26,
        "start_time": "2023-03-21T17:19:08.898Z"
      },
      {
        "duration": 3,
        "start_time": "2023-03-21T17:19:13.290Z"
      },
      {
        "duration": 5,
        "start_time": "2023-03-21T17:19:14.794Z"
      },
      {
        "duration": 6,
        "start_time": "2023-03-21T17:19:15.589Z"
      },
      {
        "duration": 468,
        "start_time": "2023-03-21T17:19:24.481Z"
      },
      {
        "duration": 4,
        "start_time": "2023-03-21T17:19:35.627Z"
      },
      {
        "duration": 8,
        "start_time": "2023-03-21T17:19:39.930Z"
      },
      {
        "duration": 134,
        "start_time": "2023-03-21T17:19:42.393Z"
      },
      {
        "duration": 3,
        "start_time": "2023-03-21T17:21:42.796Z"
      },
      {
        "duration": 5,
        "start_time": "2023-03-21T17:21:47.786Z"
      },
      {
        "duration": 15,
        "start_time": "2023-03-21T17:21:49.100Z"
      },
      {
        "duration": 145155,
        "start_time": "2023-03-21T17:24:01.811Z"
      },
      {
        "duration": 137,
        "start_time": "2023-03-21T17:30:04.160Z"
      },
      {
        "duration": 198,
        "start_time": "2023-03-21T17:30:36.005Z"
      },
      {
        "duration": 4,
        "start_time": "2023-03-21T17:31:55.389Z"
      },
      {
        "duration": 377,
        "start_time": "2023-03-21T17:32:00.136Z"
      },
      {
        "duration": 40667,
        "start_time": "2023-03-21T17:37:47.302Z"
      },
      {
        "duration": 9,
        "start_time": "2023-03-21T17:39:09.330Z"
      },
      {
        "duration": 1075,
        "start_time": "2023-03-21T17:40:58.862Z"
      },
      {
        "duration": 41,
        "start_time": "2023-03-21T17:40:59.941Z"
      },
      {
        "duration": 11,
        "start_time": "2023-03-21T17:41:00.791Z"
      },
      {
        "duration": 4,
        "start_time": "2023-03-21T17:41:04.985Z"
      },
      {
        "duration": 7,
        "start_time": "2023-03-21T17:41:06.727Z"
      },
      {
        "duration": 6,
        "start_time": "2023-03-21T17:41:07.389Z"
      },
      {
        "duration": 3,
        "start_time": "2023-03-21T17:41:18.032Z"
      },
      {
        "duration": 118,
        "start_time": "2023-03-21T17:41:23.135Z"
      },
      {
        "duration": 264,
        "start_time": "2023-03-21T17:41:33.633Z"
      },
      {
        "duration": 2,
        "start_time": "2023-03-21T17:41:40.190Z"
      },
      {
        "duration": 5,
        "start_time": "2023-03-21T17:41:43.190Z"
      },
      {
        "duration": 1079,
        "start_time": "2023-03-21T17:42:25.301Z"
      },
      {
        "duration": 29,
        "start_time": "2023-03-21T17:42:26.382Z"
      },
      {
        "duration": 4,
        "start_time": "2023-03-21T17:42:30.484Z"
      },
      {
        "duration": 6,
        "start_time": "2023-03-21T17:42:31.102Z"
      },
      {
        "duration": 6,
        "start_time": "2023-03-21T17:42:31.591Z"
      },
      {
        "duration": 302,
        "start_time": "2023-03-21T17:42:46.741Z"
      },
      {
        "duration": 3,
        "start_time": "2023-03-21T17:42:49.006Z"
      },
      {
        "duration": 5,
        "start_time": "2023-03-21T17:42:51.738Z"
      },
      {
        "duration": 43117,
        "start_time": "2023-03-21T17:42:54.520Z"
      },
      {
        "duration": 6,
        "start_time": "2023-03-21T17:45:01.736Z"
      },
      {
        "duration": 1107,
        "start_time": "2023-03-21T17:45:27.228Z"
      },
      {
        "duration": 37,
        "start_time": "2023-03-21T17:45:28.337Z"
      },
      {
        "duration": 11,
        "start_time": "2023-03-21T17:45:29.419Z"
      },
      {
        "duration": 3,
        "start_time": "2023-03-21T17:45:33.809Z"
      },
      {
        "duration": 6,
        "start_time": "2023-03-21T17:45:34.315Z"
      },
      {
        "duration": 5,
        "start_time": "2023-03-21T17:45:34.788Z"
      },
      {
        "duration": 296,
        "start_time": "2023-03-21T17:45:40.413Z"
      },
      {
        "duration": 2,
        "start_time": "2023-03-21T17:45:45.136Z"
      },
      {
        "duration": 4,
        "start_time": "2023-03-21T17:45:53.211Z"
      },
      {
        "duration": 45504,
        "start_time": "2023-03-21T17:46:00.558Z"
      },
      {
        "duration": 5,
        "start_time": "2023-03-21T17:46:46.064Z"
      },
      {
        "duration": 1032,
        "start_time": "2023-03-21T17:46:52.984Z"
      },
      {
        "duration": 29,
        "start_time": "2023-03-21T17:46:57.906Z"
      },
      {
        "duration": 11,
        "start_time": "2023-03-21T17:46:59.083Z"
      },
      {
        "duration": 3,
        "start_time": "2023-03-21T17:47:02.608Z"
      },
      {
        "duration": 6,
        "start_time": "2023-03-21T17:47:03.105Z"
      },
      {
        "duration": 5,
        "start_time": "2023-03-21T17:47:03.552Z"
      },
      {
        "duration": 283,
        "start_time": "2023-03-21T17:47:11.905Z"
      },
      {
        "duration": 3,
        "start_time": "2023-03-21T17:47:15.425Z"
      },
      {
        "duration": 6,
        "start_time": "2023-03-21T17:47:18.751Z"
      },
      {
        "duration": 53773,
        "start_time": "2023-03-21T17:47:20.408Z"
      },
      {
        "duration": 168,
        "start_time": "2023-03-21T17:48:27.608Z"
      },
      {
        "duration": 6,
        "start_time": "2023-03-21T17:48:53.888Z"
      },
      {
        "duration": 46171,
        "start_time": "2023-03-21T17:48:57.992Z"
      },
      {
        "duration": 279,
        "start_time": "2023-03-21T17:50:04.792Z"
      },
      {
        "duration": 4,
        "start_time": "2023-03-21T17:51:19.061Z"
      },
      {
        "duration": 44,
        "start_time": "2023-03-21T17:55:25.954Z"
      },
      {
        "duration": 58,
        "start_time": "2023-03-21T17:55:31.907Z"
      },
      {
        "duration": 201,
        "start_time": "2023-03-21T17:55:39.522Z"
      },
      {
        "duration": 126,
        "start_time": "2023-03-21T17:57:46.704Z"
      },
      {
        "duration": 111,
        "start_time": "2023-03-21T17:58:02.601Z"
      },
      {
        "duration": 238,
        "start_time": "2023-03-21T18:03:40.888Z"
      },
      {
        "duration": 345,
        "start_time": "2023-03-21T18:03:56.190Z"
      },
      {
        "duration": 327,
        "start_time": "2023-03-21T18:04:07.043Z"
      },
      {
        "duration": 331,
        "start_time": "2023-03-21T18:04:11.829Z"
      },
      {
        "duration": 759,
        "start_time": "2023-03-21T18:04:25.488Z"
      },
      {
        "duration": 239,
        "start_time": "2023-03-21T18:04:30.742Z"
      },
      {
        "duration": 4,
        "start_time": "2023-03-21T18:04:38.332Z"
      },
      {
        "duration": 40002,
        "start_time": "2023-03-21T18:06:02.932Z"
      },
      {
        "duration": 233,
        "start_time": "2023-03-21T18:07:41.119Z"
      },
      {
        "duration": 39,
        "start_time": "2023-03-21T18:40:44.730Z"
      },
      {
        "duration": 1069,
        "start_time": "2023-03-21T18:41:11.587Z"
      },
      {
        "duration": 31,
        "start_time": "2023-03-21T18:41:12.852Z"
      },
      {
        "duration": 10,
        "start_time": "2023-03-21T18:41:13.757Z"
      },
      {
        "duration": 3,
        "start_time": "2023-03-21T18:41:17.654Z"
      },
      {
        "duration": 6,
        "start_time": "2023-03-21T18:41:18.262Z"
      },
      {
        "duration": 6,
        "start_time": "2023-03-21T18:41:18.739Z"
      },
      {
        "duration": 140,
        "start_time": "2023-03-21T18:41:32.717Z"
      },
      {
        "duration": 30,
        "start_time": "2023-03-21T18:44:40.742Z"
      },
      {
        "duration": 4427,
        "start_time": "2023-03-21T18:44:58.415Z"
      },
      {
        "duration": 521,
        "start_time": "2023-03-21T18:51:12.264Z"
      },
      {
        "duration": 15,
        "start_time": "2023-03-21T19:19:47.840Z"
      },
      {
        "duration": 1207,
        "start_time": "2023-03-22T10:08:30.761Z"
      },
      {
        "duration": 81,
        "start_time": "2023-03-22T10:08:31.970Z"
      },
      {
        "duration": 13,
        "start_time": "2023-03-22T10:08:32.052Z"
      },
      {
        "duration": 29,
        "start_time": "2023-03-22T10:08:32.068Z"
      },
      {
        "duration": 4,
        "start_time": "2023-03-22T10:08:32.099Z"
      },
      {
        "duration": 7,
        "start_time": "2023-03-22T10:08:32.104Z"
      },
      {
        "duration": 8,
        "start_time": "2023-03-22T10:08:32.113Z"
      },
      {
        "duration": 165,
        "start_time": "2023-03-22T10:08:32.123Z"
      },
      {
        "duration": 0,
        "start_time": "2023-03-22T10:08:32.290Z"
      },
      {
        "duration": 0,
        "start_time": "2023-03-22T10:08:32.291Z"
      },
      {
        "duration": 0,
        "start_time": "2023-03-22T10:08:32.292Z"
      },
      {
        "duration": 0,
        "start_time": "2023-03-22T10:08:32.293Z"
      },
      {
        "duration": 0,
        "start_time": "2023-03-22T10:08:32.294Z"
      },
      {
        "duration": 0,
        "start_time": "2023-03-22T10:08:32.295Z"
      },
      {
        "duration": 0,
        "start_time": "2023-03-22T10:08:32.296Z"
      },
      {
        "duration": 0,
        "start_time": "2023-03-22T10:08:32.297Z"
      },
      {
        "duration": 1198,
        "start_time": "2023-03-22T10:50:23.038Z"
      },
      {
        "duration": 34,
        "start_time": "2023-03-22T10:50:24.238Z"
      },
      {
        "duration": 15,
        "start_time": "2023-03-22T10:50:24.274Z"
      },
      {
        "duration": 38,
        "start_time": "2023-03-22T10:50:24.292Z"
      },
      {
        "duration": 5,
        "start_time": "2023-03-22T10:50:24.332Z"
      },
      {
        "duration": 8,
        "start_time": "2023-03-22T10:50:24.338Z"
      },
      {
        "duration": 6,
        "start_time": "2023-03-22T10:50:24.376Z"
      },
      {
        "duration": 483,
        "start_time": "2023-03-22T10:50:24.384Z"
      },
      {
        "duration": 6,
        "start_time": "2023-03-22T10:50:24.869Z"
      },
      {
        "duration": 128,
        "start_time": "2023-03-22T10:50:24.877Z"
      },
      {
        "duration": 0,
        "start_time": "2023-03-22T10:50:25.007Z"
      },
      {
        "duration": 0,
        "start_time": "2023-03-22T10:50:25.008Z"
      },
      {
        "duration": 0,
        "start_time": "2023-03-22T10:50:25.009Z"
      },
      {
        "duration": 0,
        "start_time": "2023-03-22T10:50:25.010Z"
      },
      {
        "duration": 0,
        "start_time": "2023-03-22T10:50:25.011Z"
      },
      {
        "duration": 0,
        "start_time": "2023-03-22T10:50:25.012Z"
      },
      {
        "duration": 3,
        "start_time": "2023-03-22T10:52:18.708Z"
      },
      {
        "duration": 5,
        "start_time": "2023-03-22T10:52:22.831Z"
      },
      {
        "duration": 47708,
        "start_time": "2023-03-22T10:52:24.606Z"
      },
      {
        "duration": 285,
        "start_time": "2023-03-22T10:53:46.548Z"
      },
      {
        "duration": 4431,
        "start_time": "2023-03-22T10:54:05.333Z"
      },
      {
        "duration": 300,
        "start_time": "2023-03-22T10:57:35.211Z"
      },
      {
        "duration": 304,
        "start_time": "2023-03-22T10:58:22.977Z"
      },
      {
        "duration": 308,
        "start_time": "2023-03-22T10:59:48.375Z"
      },
      {
        "duration": 55087,
        "start_time": "2023-03-22T11:05:29.510Z"
      },
      {
        "duration": 1271,
        "start_time": "2023-03-22T17:35:21.249Z"
      },
      {
        "duration": 246,
        "start_time": "2023-03-22T17:35:22.522Z"
      },
      {
        "duration": 12,
        "start_time": "2023-03-22T17:35:22.770Z"
      },
      {
        "duration": 27,
        "start_time": "2023-03-22T17:35:22.784Z"
      },
      {
        "duration": 142,
        "start_time": "2023-03-22T17:35:22.813Z"
      },
      {
        "duration": 0,
        "start_time": "2023-03-22T17:35:22.957Z"
      },
      {
        "duration": 0,
        "start_time": "2023-03-22T17:35:22.958Z"
      },
      {
        "duration": 0,
        "start_time": "2023-03-22T17:35:22.959Z"
      },
      {
        "duration": 0,
        "start_time": "2023-03-22T17:35:22.960Z"
      },
      {
        "duration": 0,
        "start_time": "2023-03-22T17:35:22.961Z"
      },
      {
        "duration": 0,
        "start_time": "2023-03-22T17:35:22.962Z"
      },
      {
        "duration": 0,
        "start_time": "2023-03-22T17:35:22.964Z"
      },
      {
        "duration": 0,
        "start_time": "2023-03-22T17:35:22.965Z"
      },
      {
        "duration": 0,
        "start_time": "2023-03-22T17:35:22.966Z"
      },
      {
        "duration": 0,
        "start_time": "2023-03-22T17:35:22.966Z"
      },
      {
        "duration": 0,
        "start_time": "2023-03-22T17:35:22.968Z"
      },
      {
        "duration": 0,
        "start_time": "2023-03-22T17:35:22.968Z"
      },
      {
        "duration": 11,
        "start_time": "2023-03-22T17:35:45.044Z"
      },
      {
        "duration": 8,
        "start_time": "2023-03-22T17:35:46.662Z"
      },
      {
        "duration": 14,
        "start_time": "2023-03-22T17:35:47.255Z"
      },
      {
        "duration": 624,
        "start_time": "2023-03-22T17:36:47.150Z"
      },
      {
        "duration": 3,
        "start_time": "2023-03-22T17:39:04.843Z"
      },
      {
        "duration": 2,
        "start_time": "2023-03-22T17:40:38.278Z"
      },
      {
        "duration": 3,
        "start_time": "2023-03-22T17:40:39.372Z"
      },
      {
        "duration": 5,
        "start_time": "2023-03-22T17:40:40.093Z"
      },
      {
        "duration": 86705,
        "start_time": "2023-03-22T17:40:45.050Z"
      },
      {
        "duration": 137,
        "start_time": "2023-03-22T17:42:53.772Z"
      },
      {
        "duration": 77730,
        "start_time": "2023-03-22T17:43:05.347Z"
      },
      {
        "duration": 13,
        "start_time": "2023-03-22T17:47:55.344Z"
      },
      {
        "duration": 98303,
        "start_time": "2023-03-22T17:47:58.371Z"
      },
      {
        "duration": 1366,
        "start_time": "2023-03-22T17:49:47.282Z"
      },
      {
        "duration": 146,
        "start_time": "2023-03-22T17:49:48.661Z"
      },
      {
        "duration": 0,
        "start_time": "2023-03-22T17:49:48.809Z"
      },
      {
        "duration": 1,
        "start_time": "2023-03-22T17:49:48.883Z"
      },
      {
        "duration": 0,
        "start_time": "2023-03-22T17:49:48.885Z"
      },
      {
        "duration": 0,
        "start_time": "2023-03-22T17:49:48.886Z"
      },
      {
        "duration": 0,
        "start_time": "2023-03-22T17:49:48.887Z"
      },
      {
        "duration": 0,
        "start_time": "2023-03-22T17:49:48.889Z"
      },
      {
        "duration": 0,
        "start_time": "2023-03-22T17:49:48.890Z"
      },
      {
        "duration": 0,
        "start_time": "2023-03-22T17:49:48.892Z"
      },
      {
        "duration": 0,
        "start_time": "2023-03-22T17:49:48.894Z"
      },
      {
        "duration": 0,
        "start_time": "2023-03-22T17:49:48.895Z"
      },
      {
        "duration": 0,
        "start_time": "2023-03-22T17:49:48.896Z"
      },
      {
        "duration": 0,
        "start_time": "2023-03-22T17:49:48.898Z"
      },
      {
        "duration": 0,
        "start_time": "2023-03-22T17:49:48.899Z"
      },
      {
        "duration": 0,
        "start_time": "2023-03-22T17:49:48.901Z"
      },
      {
        "duration": 179,
        "start_time": "2023-03-22T17:50:49.148Z"
      },
      {
        "duration": 1495,
        "start_time": "2023-03-22T17:50:57.514Z"
      },
      {
        "duration": 63,
        "start_time": "2023-03-22T17:50:59.011Z"
      },
      {
        "duration": 10,
        "start_time": "2023-03-22T17:50:59.075Z"
      },
      {
        "duration": 22,
        "start_time": "2023-03-22T17:50:59.087Z"
      },
      {
        "duration": 3,
        "start_time": "2023-03-22T17:50:59.111Z"
      },
      {
        "duration": 25,
        "start_time": "2023-03-22T17:50:59.116Z"
      },
      {
        "duration": 23,
        "start_time": "2023-03-22T17:50:59.157Z"
      },
      {
        "duration": 11,
        "start_time": "2023-03-22T17:50:59.182Z"
      },
      {
        "duration": 7,
        "start_time": "2023-03-22T17:50:59.195Z"
      },
      {
        "duration": 6,
        "start_time": "2023-03-22T17:50:59.204Z"
      },
      {
        "duration": 456,
        "start_time": "2023-03-22T17:50:59.212Z"
      },
      {
        "duration": 0,
        "start_time": "2023-03-22T17:50:59.671Z"
      },
      {
        "duration": 0,
        "start_time": "2023-03-22T17:50:59.672Z"
      },
      {
        "duration": 0,
        "start_time": "2023-03-22T17:50:59.674Z"
      },
      {
        "duration": 0,
        "start_time": "2023-03-22T17:50:59.675Z"
      },
      {
        "duration": 0,
        "start_time": "2023-03-22T17:50:59.676Z"
      },
      {
        "duration": 5,
        "start_time": "2023-03-22T17:52:24.588Z"
      },
      {
        "duration": 1735,
        "start_time": "2023-03-22T17:52:30.582Z"
      },
      {
        "duration": 53,
        "start_time": "2023-03-22T17:52:32.319Z"
      },
      {
        "duration": 22,
        "start_time": "2023-03-22T17:52:32.373Z"
      },
      {
        "duration": 40,
        "start_time": "2023-03-22T17:52:32.397Z"
      },
      {
        "duration": 4,
        "start_time": "2023-03-22T17:52:32.439Z"
      },
      {
        "duration": 45,
        "start_time": "2023-03-22T17:52:32.445Z"
      },
      {
        "duration": 7,
        "start_time": "2023-03-22T17:52:32.491Z"
      },
      {
        "duration": 6,
        "start_time": "2023-03-22T17:52:32.500Z"
      },
      {
        "duration": 4,
        "start_time": "2023-03-22T17:52:32.508Z"
      },
      {
        "duration": 5,
        "start_time": "2023-03-22T17:52:32.515Z"
      },
      {
        "duration": 457,
        "start_time": "2023-03-22T17:52:32.531Z"
      },
      {
        "duration": 0,
        "start_time": "2023-03-22T17:52:32.989Z"
      },
      {
        "duration": 0,
        "start_time": "2023-03-22T17:52:32.990Z"
      },
      {
        "duration": 0,
        "start_time": "2023-03-22T17:52:32.991Z"
      },
      {
        "duration": 0,
        "start_time": "2023-03-22T17:52:32.992Z"
      },
      {
        "duration": 0,
        "start_time": "2023-03-22T17:52:32.993Z"
      },
      {
        "duration": 6,
        "start_time": "2023-03-22T17:53:36.340Z"
      },
      {
        "duration": 1484,
        "start_time": "2023-03-22T17:53:42.451Z"
      },
      {
        "duration": 43,
        "start_time": "2023-03-22T17:53:43.937Z"
      },
      {
        "duration": 12,
        "start_time": "2023-03-22T17:53:43.982Z"
      },
      {
        "duration": 21,
        "start_time": "2023-03-22T17:53:43.996Z"
      },
      {
        "duration": 15,
        "start_time": "2023-03-22T17:53:44.019Z"
      },
      {
        "duration": 46,
        "start_time": "2023-03-22T17:53:44.036Z"
      },
      {
        "duration": 14,
        "start_time": "2023-03-22T17:53:44.084Z"
      },
      {
        "duration": 5,
        "start_time": "2023-03-22T17:53:44.100Z"
      },
      {
        "duration": 8,
        "start_time": "2023-03-22T17:53:44.106Z"
      },
      {
        "duration": 16,
        "start_time": "2023-03-22T17:53:44.115Z"
      },
      {
        "duration": 83342,
        "start_time": "2023-03-22T17:53:44.151Z"
      },
      {
        "duration": 284,
        "start_time": "2023-03-22T17:55:07.494Z"
      },
      {
        "duration": 126,
        "start_time": "2023-03-22T17:55:07.780Z"
      },
      {
        "duration": 0,
        "start_time": "2023-03-22T17:55:07.907Z"
      },
      {
        "duration": 0,
        "start_time": "2023-03-22T17:55:07.909Z"
      },
      {
        "duration": 0,
        "start_time": "2023-03-22T17:55:07.909Z"
      },
      {
        "duration": 83640,
        "start_time": "2023-03-22T17:56:02.846Z"
      },
      {
        "duration": 293,
        "start_time": "2023-03-22T18:01:39.169Z"
      },
      {
        "duration": 4670,
        "start_time": "2023-03-22T18:01:52.650Z"
      },
      {
        "duration": 4340,
        "start_time": "2023-03-22T18:06:00.178Z"
      },
      {
        "duration": 38013,
        "start_time": "2023-03-22T18:06:37.395Z"
      },
      {
        "duration": 5552,
        "start_time": "2023-03-22T18:09:19.346Z"
      },
      {
        "duration": 6560,
        "start_time": "2023-03-22T18:11:40.268Z"
      },
      {
        "duration": 6283,
        "start_time": "2023-03-22T18:12:54.664Z"
      },
      {
        "duration": 6698,
        "start_time": "2023-03-22T18:14:02.168Z"
      },
      {
        "duration": 23149,
        "start_time": "2023-03-22T18:16:53.392Z"
      },
      {
        "duration": 93105,
        "start_time": "2023-03-22T18:18:51.898Z"
      },
      {
        "duration": 1475,
        "start_time": "2023-03-22T18:20:33.710Z"
      },
      {
        "duration": 29,
        "start_time": "2023-03-22T18:20:35.187Z"
      },
      {
        "duration": 18,
        "start_time": "2023-03-22T18:20:35.218Z"
      },
      {
        "duration": 72,
        "start_time": "2023-03-22T18:20:35.238Z"
      },
      {
        "duration": 3,
        "start_time": "2023-03-22T18:20:35.312Z"
      },
      {
        "duration": 20,
        "start_time": "2023-03-22T18:20:35.316Z"
      },
      {
        "duration": 64,
        "start_time": "2023-03-22T18:20:35.342Z"
      },
      {
        "duration": 70,
        "start_time": "2023-03-22T18:20:35.407Z"
      },
      {
        "duration": 6,
        "start_time": "2023-03-22T18:20:35.478Z"
      },
      {
        "duration": 5,
        "start_time": "2023-03-22T18:20:35.485Z"
      },
      {
        "duration": 361,
        "start_time": "2023-03-22T18:20:35.491Z"
      },
      {
        "duration": 0,
        "start_time": "2023-03-22T18:20:35.853Z"
      },
      {
        "duration": 0,
        "start_time": "2023-03-22T18:20:35.854Z"
      },
      {
        "duration": 0,
        "start_time": "2023-03-22T18:20:35.855Z"
      },
      {
        "duration": 0,
        "start_time": "2023-03-22T18:20:35.856Z"
      },
      {
        "duration": 311,
        "start_time": "2023-03-22T18:22:44.965Z"
      },
      {
        "duration": 313,
        "start_time": "2023-03-22T18:25:52.539Z"
      },
      {
        "duration": 86995,
        "start_time": "2023-03-22T18:29:24.020Z"
      },
      {
        "duration": 340,
        "start_time": "2023-03-22T18:31:48.656Z"
      },
      {
        "duration": 22313,
        "start_time": "2023-03-22T18:34:00.268Z"
      },
      {
        "duration": 3,
        "start_time": "2023-03-22T18:48:14.653Z"
      },
      {
        "duration": 15,
        "start_time": "2023-03-22T18:58:00.582Z"
      },
      {
        "duration": 17,
        "start_time": "2023-03-22T18:58:20.544Z"
      },
      {
        "duration": 3398,
        "start_time": "2023-03-22T18:58:39.682Z"
      },
      {
        "duration": 6,
        "start_time": "2023-03-22T19:00:00.471Z"
      },
      {
        "duration": 3252,
        "start_time": "2023-03-22T19:00:18.036Z"
      },
      {
        "duration": 1608,
        "start_time": "2023-03-23T06:24:58.618Z"
      },
      {
        "duration": 142,
        "start_time": "2023-03-23T06:25:00.229Z"
      },
      {
        "duration": 12,
        "start_time": "2023-03-23T06:25:00.373Z"
      },
      {
        "duration": 51,
        "start_time": "2023-03-23T06:25:00.387Z"
      },
      {
        "duration": 32,
        "start_time": "2023-03-23T06:25:00.440Z"
      },
      {
        "duration": 44,
        "start_time": "2023-03-23T06:25:00.474Z"
      },
      {
        "duration": 24,
        "start_time": "2023-03-23T06:25:00.519Z"
      },
      {
        "duration": 63,
        "start_time": "2023-03-23T06:25:00.544Z"
      },
      {
        "duration": 79,
        "start_time": "2023-03-23T06:25:00.609Z"
      },
      {
        "duration": 28,
        "start_time": "2023-03-23T06:25:00.690Z"
      },
      {
        "duration": 111376,
        "start_time": "2023-03-23T06:25:00.720Z"
      },
      {
        "duration": 276,
        "start_time": "2023-03-23T06:26:52.103Z"
      },
      {
        "duration": 4001,
        "start_time": "2023-03-23T06:26:52.382Z"
      },
      {
        "duration": 21106,
        "start_time": "2023-03-23T06:26:56.385Z"
      },
      {
        "duration": 186,
        "start_time": "2023-03-23T06:27:17.493Z"
      },
      {
        "duration": 0,
        "start_time": "2023-03-23T06:27:17.681Z"
      },
      {
        "duration": 118,
        "start_time": "2023-03-23T06:43:27.605Z"
      },
      {
        "duration": 41,
        "start_time": "2023-03-23T06:43:47.905Z"
      },
      {
        "duration": 61,
        "start_time": "2023-03-23T06:44:31.635Z"
      },
      {
        "duration": 5231,
        "start_time": "2023-03-23T06:44:51.554Z"
      },
      {
        "duration": 5129,
        "start_time": "2023-03-23T06:45:31.823Z"
      },
      {
        "duration": 47,
        "start_time": "2023-03-23T06:45:54.030Z"
      },
      {
        "duration": 93,
        "start_time": "2023-03-23T06:46:35.646Z"
      },
      {
        "duration": 36,
        "start_time": "2023-03-23T06:46:54.615Z"
      },
      {
        "duration": 36,
        "start_time": "2023-03-23T07:08:12.322Z"
      },
      {
        "duration": 206,
        "start_time": "2023-03-23T07:09:17.621Z"
      },
      {
        "duration": 37,
        "start_time": "2023-03-23T07:09:29.668Z"
      },
      {
        "duration": 33,
        "start_time": "2023-03-23T07:10:09.403Z"
      },
      {
        "duration": 229,
        "start_time": "2023-03-23T07:10:12.966Z"
      },
      {
        "duration": 347,
        "start_time": "2023-03-23T07:16:00.526Z"
      },
      {
        "duration": 17,
        "start_time": "2023-03-23T07:20:32.027Z"
      },
      {
        "duration": 11,
        "start_time": "2023-03-23T07:21:22.331Z"
      },
      {
        "duration": 13,
        "start_time": "2023-03-23T07:22:26.735Z"
      },
      {
        "duration": 30,
        "start_time": "2023-03-23T07:22:36.457Z"
      },
      {
        "duration": 78,
        "start_time": "2023-03-23T07:24:52.756Z"
      },
      {
        "duration": 54,
        "start_time": "2023-03-23T07:25:24.769Z"
      },
      {
        "duration": 615,
        "start_time": "2023-03-23T07:26:32.045Z"
      },
      {
        "duration": 594,
        "start_time": "2023-03-23T07:28:12.135Z"
      },
      {
        "duration": 702,
        "start_time": "2023-03-23T07:28:36.469Z"
      },
      {
        "duration": 1632,
        "start_time": "2023-03-23T10:23:19.259Z"
      },
      {
        "duration": 88,
        "start_time": "2023-03-23T10:23:20.893Z"
      },
      {
        "duration": 19,
        "start_time": "2023-03-23T10:23:20.983Z"
      },
      {
        "duration": 45,
        "start_time": "2023-03-23T10:23:21.005Z"
      },
      {
        "duration": 4,
        "start_time": "2023-03-23T10:23:21.052Z"
      },
      {
        "duration": 20,
        "start_time": "2023-03-23T10:23:21.058Z"
      },
      {
        "duration": 6,
        "start_time": "2023-03-23T10:23:21.080Z"
      },
      {
        "duration": 19,
        "start_time": "2023-03-23T10:23:21.088Z"
      },
      {
        "duration": 10,
        "start_time": "2023-03-23T10:23:21.110Z"
      },
      {
        "duration": 13,
        "start_time": "2023-03-23T10:23:21.124Z"
      },
      {
        "duration": 47415,
        "start_time": "2023-03-23T10:23:21.140Z"
      },
      {
        "duration": 283,
        "start_time": "2023-03-23T10:24:08.557Z"
      },
      {
        "duration": 4335,
        "start_time": "2023-03-23T10:24:08.843Z"
      },
      {
        "duration": 38,
        "start_time": "2023-03-23T10:24:13.180Z"
      },
      {
        "duration": 264,
        "start_time": "2023-03-23T10:24:13.220Z"
      },
      {
        "duration": 792,
        "start_time": "2023-03-23T10:24:13.485Z"
      },
      {
        "duration": 21571,
        "start_time": "2023-03-23T10:24:14.278Z"
      },
      {
        "duration": 166,
        "start_time": "2023-03-23T10:24:35.851Z"
      },
      {
        "duration": 0,
        "start_time": "2023-03-23T10:24:36.019Z"
      },
      {
        "duration": 62,
        "start_time": "2023-03-23T10:27:43.028Z"
      },
      {
        "duration": 25,
        "start_time": "2023-03-23T10:29:41.595Z"
      },
      {
        "duration": 17,
        "start_time": "2023-03-23T10:30:22.371Z"
      },
      {
        "duration": 44,
        "start_time": "2023-03-23T10:30:35.588Z"
      },
      {
        "duration": 59,
        "start_time": "2023-03-23T10:30:45.493Z"
      },
      {
        "duration": 70,
        "start_time": "2023-03-23T10:30:51.836Z"
      },
      {
        "duration": 19,
        "start_time": "2023-03-23T10:30:56.665Z"
      },
      {
        "duration": 45,
        "start_time": "2023-03-23T10:40:58.545Z"
      },
      {
        "duration": 4,
        "start_time": "2023-03-23T10:43:49.623Z"
      },
      {
        "duration": 5,
        "start_time": "2023-03-23T10:43:59.129Z"
      },
      {
        "duration": 97,
        "start_time": "2023-03-23T10:44:42.125Z"
      },
      {
        "duration": 52,
        "start_time": "2023-03-23T10:45:06.130Z"
      },
      {
        "duration": 1216,
        "start_time": "2023-03-23T10:45:19.766Z"
      },
      {
        "duration": 25,
        "start_time": "2023-03-23T10:50:15.557Z"
      },
      {
        "duration": 1317,
        "start_time": "2023-03-23T10:50:31.564Z"
      },
      {
        "duration": 1209,
        "start_time": "2023-03-23T10:50:40.528Z"
      },
      {
        "duration": 1090,
        "start_time": "2023-03-23T10:50:43.922Z"
      },
      {
        "duration": 1454,
        "start_time": "2023-03-23T10:51:51.469Z"
      },
      {
        "duration": 5,
        "start_time": "2023-03-23T10:52:38.294Z"
      },
      {
        "duration": 97,
        "start_time": "2023-03-23T10:53:15.616Z"
      },
      {
        "duration": 5,
        "start_time": "2023-03-23T10:53:34.732Z"
      },
      {
        "duration": 20,
        "start_time": "2023-03-23T10:53:40.526Z"
      },
      {
        "duration": 12,
        "start_time": "2023-03-23T10:53:48.669Z"
      },
      {
        "duration": 10,
        "start_time": "2023-03-23T10:54:54.213Z"
      },
      {
        "duration": 11,
        "start_time": "2023-03-23T10:55:12.383Z"
      },
      {
        "duration": 575,
        "start_time": "2023-03-23T10:55:41.781Z"
      },
      {
        "duration": 662,
        "start_time": "2023-03-23T10:55:56.121Z"
      },
      {
        "duration": 1446,
        "start_time": "2023-03-23T11:01:46.971Z"
      },
      {
        "duration": 32,
        "start_time": "2023-03-23T11:01:48.419Z"
      },
      {
        "duration": 14,
        "start_time": "2023-03-23T11:01:48.453Z"
      },
      {
        "duration": 33,
        "start_time": "2023-03-23T11:01:48.469Z"
      },
      {
        "duration": 4,
        "start_time": "2023-03-23T11:01:48.505Z"
      },
      {
        "duration": 6,
        "start_time": "2023-03-23T11:01:48.511Z"
      },
      {
        "duration": 23,
        "start_time": "2023-03-23T11:01:48.519Z"
      },
      {
        "duration": 3,
        "start_time": "2023-03-23T11:01:48.544Z"
      },
      {
        "duration": 5,
        "start_time": "2023-03-23T11:01:48.550Z"
      },
      {
        "duration": 9,
        "start_time": "2023-03-23T11:01:48.557Z"
      },
      {
        "duration": 61277,
        "start_time": "2023-03-23T11:01:48.568Z"
      },
      {
        "duration": 279,
        "start_time": "2023-03-23T11:02:49.847Z"
      },
      {
        "duration": 3401,
        "start_time": "2023-03-23T11:02:50.128Z"
      },
      {
        "duration": 36,
        "start_time": "2023-03-23T11:02:53.532Z"
      },
      {
        "duration": 296,
        "start_time": "2023-03-23T11:02:53.570Z"
      },
      {
        "duration": 550,
        "start_time": "2023-03-23T11:02:53.868Z"
      },
      {
        "duration": 588,
        "start_time": "2023-03-23T11:02:54.420Z"
      },
      {
        "duration": 22752,
        "start_time": "2023-03-23T11:02:55.010Z"
      },
      {
        "duration": 156,
        "start_time": "2023-03-23T11:03:17.763Z"
      },
      {
        "duration": 0,
        "start_time": "2023-03-23T11:03:17.920Z"
      },
      {
        "duration": 1568,
        "start_time": "2023-03-23T15:49:10.382Z"
      },
      {
        "duration": 73,
        "start_time": "2023-03-23T15:49:11.952Z"
      },
      {
        "duration": 13,
        "start_time": "2023-03-23T15:49:12.026Z"
      },
      {
        "duration": 23,
        "start_time": "2023-03-23T15:49:12.041Z"
      },
      {
        "duration": 3,
        "start_time": "2023-03-23T15:49:12.066Z"
      },
      {
        "duration": 8,
        "start_time": "2023-03-23T15:49:12.071Z"
      },
      {
        "duration": 4,
        "start_time": "2023-03-23T15:49:12.080Z"
      },
      {
        "duration": 23,
        "start_time": "2023-03-23T15:49:12.086Z"
      },
      {
        "duration": 18,
        "start_time": "2023-03-23T15:49:12.111Z"
      },
      {
        "duration": 16,
        "start_time": "2023-03-23T15:49:12.131Z"
      },
      {
        "duration": 77933,
        "start_time": "2023-03-23T15:49:12.148Z"
      },
      {
        "duration": 236,
        "start_time": "2023-03-23T15:50:30.083Z"
      },
      {
        "duration": 2752,
        "start_time": "2023-03-23T15:50:30.321Z"
      },
      {
        "duration": 30,
        "start_time": "2023-03-23T15:50:33.075Z"
      },
      {
        "duration": 283,
        "start_time": "2023-03-23T15:50:33.106Z"
      },
      {
        "duration": 440,
        "start_time": "2023-03-23T15:50:33.391Z"
      },
      {
        "duration": 460,
        "start_time": "2023-03-23T15:50:33.833Z"
      },
      {
        "duration": 17655,
        "start_time": "2023-03-23T15:50:34.295Z"
      },
      {
        "duration": 127,
        "start_time": "2023-03-23T15:50:51.952Z"
      },
      {
        "duration": 0,
        "start_time": "2023-03-23T15:50:52.081Z"
      },
      {
        "duration": 6,
        "start_time": "2023-03-23T15:51:51.414Z"
      },
      {
        "duration": 43093,
        "start_time": "2023-03-23T15:51:54.787Z"
      },
      {
        "duration": 232,
        "start_time": "2023-03-23T16:06:19.475Z"
      },
      {
        "duration": 21,
        "start_time": "2023-03-23T16:09:08.603Z"
      },
      {
        "duration": 451,
        "start_time": "2023-03-23T16:11:44.044Z"
      },
      {
        "duration": 453,
        "start_time": "2023-03-23T16:13:34.997Z"
      },
      {
        "duration": 431,
        "start_time": "2023-03-23T16:31:21.912Z"
      },
      {
        "duration": 432,
        "start_time": "2023-03-23T16:32:03.394Z"
      },
      {
        "duration": 414,
        "start_time": "2023-03-23T16:32:52.687Z"
      },
      {
        "duration": 430,
        "start_time": "2023-03-23T16:33:24.726Z"
      },
      {
        "duration": 431,
        "start_time": "2023-03-23T16:34:42.668Z"
      },
      {
        "duration": 469,
        "start_time": "2023-03-23T16:34:58.265Z"
      },
      {
        "duration": 491,
        "start_time": "2023-03-23T16:35:16.455Z"
      },
      {
        "duration": 231,
        "start_time": "2023-03-23T16:38:46.049Z"
      },
      {
        "duration": 9,
        "start_time": "2023-03-23T16:39:02.250Z"
      },
      {
        "duration": 16,
        "start_time": "2023-03-23T16:39:38.233Z"
      },
      {
        "duration": 10,
        "start_time": "2023-03-23T16:40:18.273Z"
      },
      {
        "duration": 15,
        "start_time": "2023-03-23T16:41:57.531Z"
      },
      {
        "duration": 8,
        "start_time": "2023-03-23T16:44:20.484Z"
      },
      {
        "duration": 59,
        "start_time": "2023-03-23T16:44:46.765Z"
      },
      {
        "duration": 17544,
        "start_time": "2023-03-23T16:45:48.173Z"
      },
      {
        "duration": 97,
        "start_time": "2023-03-23T16:51:26.923Z"
      },
      {
        "duration": 91,
        "start_time": "2023-03-23T16:52:00.944Z"
      },
      {
        "duration": 103,
        "start_time": "2023-03-23T16:53:53.593Z"
      },
      {
        "duration": 116,
        "start_time": "2023-03-23T16:55:13.867Z"
      },
      {
        "duration": 108,
        "start_time": "2023-03-23T16:56:30.821Z"
      },
      {
        "duration": 1209,
        "start_time": "2023-03-23T16:59:42.027Z"
      },
      {
        "duration": 30,
        "start_time": "2023-03-23T16:59:43.238Z"
      },
      {
        "duration": 9,
        "start_time": "2023-03-23T16:59:43.273Z"
      },
      {
        "duration": 26,
        "start_time": "2023-03-23T16:59:43.283Z"
      },
      {
        "duration": 3,
        "start_time": "2023-03-23T16:59:43.311Z"
      },
      {
        "duration": 6,
        "start_time": "2023-03-23T16:59:43.316Z"
      },
      {
        "duration": 9,
        "start_time": "2023-03-23T16:59:43.324Z"
      },
      {
        "duration": 3,
        "start_time": "2023-03-23T16:59:43.334Z"
      },
      {
        "duration": 4,
        "start_time": "2023-03-23T16:59:43.339Z"
      },
      {
        "duration": 5,
        "start_time": "2023-03-23T16:59:43.368Z"
      },
      {
        "duration": 49847,
        "start_time": "2023-03-23T16:59:43.375Z"
      },
      {
        "duration": 253,
        "start_time": "2023-03-23T17:00:33.224Z"
      },
      {
        "duration": 3291,
        "start_time": "2023-03-23T17:00:33.478Z"
      },
      {
        "duration": 19,
        "start_time": "2023-03-23T17:00:36.771Z"
      },
      {
        "duration": 188,
        "start_time": "2023-03-23T17:00:36.791Z"
      },
      {
        "duration": 558,
        "start_time": "2023-03-23T17:00:36.981Z"
      },
      {
        "duration": 448,
        "start_time": "2023-03-23T17:00:37.541Z"
      },
      {
        "duration": 9,
        "start_time": "2023-03-23T17:00:37.990Z"
      },
      {
        "duration": 9,
        "start_time": "2023-03-23T17:00:38.000Z"
      },
      {
        "duration": 9,
        "start_time": "2023-03-23T17:00:38.011Z"
      },
      {
        "duration": 17201,
        "start_time": "2023-03-23T17:00:38.021Z"
      },
      {
        "duration": 46,
        "start_time": "2023-03-23T17:00:55.223Z"
      },
      {
        "duration": 0,
        "start_time": "2023-03-23T17:00:55.271Z"
      },
      {
        "duration": 0,
        "start_time": "2023-03-23T17:00:55.272Z"
      },
      {
        "duration": 0,
        "start_time": "2023-03-23T17:00:55.273Z"
      },
      {
        "duration": 0,
        "start_time": "2023-03-23T17:00:55.274Z"
      },
      {
        "duration": 0,
        "start_time": "2023-03-23T17:00:55.275Z"
      },
      {
        "duration": 0,
        "start_time": "2023-03-23T17:00:55.276Z"
      },
      {
        "duration": 87,
        "start_time": "2023-03-23T17:02:09.446Z"
      },
      {
        "duration": 116,
        "start_time": "2023-03-23T17:02:11.393Z"
      },
      {
        "duration": 89,
        "start_time": "2023-03-23T17:02:15.917Z"
      },
      {
        "duration": 128,
        "start_time": "2023-03-23T17:02:17.861Z"
      },
      {
        "duration": 88,
        "start_time": "2023-03-23T17:02:32.097Z"
      },
      {
        "duration": 99,
        "start_time": "2023-03-23T17:02:46.492Z"
      },
      {
        "duration": 11,
        "start_time": "2023-03-23T17:04:07.968Z"
      },
      {
        "duration": 13,
        "start_time": "2023-03-23T17:04:25.317Z"
      },
      {
        "duration": 9,
        "start_time": "2023-03-23T17:04:34.710Z"
      },
      {
        "duration": 29,
        "start_time": "2023-03-23T17:06:56.321Z"
      },
      {
        "duration": 32,
        "start_time": "2023-03-23T17:22:53.871Z"
      },
      {
        "duration": 13,
        "start_time": "2023-03-23T17:25:01.801Z"
      },
      {
        "duration": 86,
        "start_time": "2023-03-23T17:27:14.821Z"
      },
      {
        "duration": 12,
        "start_time": "2023-03-23T17:33:49.422Z"
      },
      {
        "duration": 3,
        "start_time": "2023-03-23T17:52:49.005Z"
      },
      {
        "duration": 4,
        "start_time": "2023-03-23T17:53:50.880Z"
      },
      {
        "duration": 4,
        "start_time": "2023-03-23T17:56:27.094Z"
      },
      {
        "duration": 6,
        "start_time": "2023-03-23T17:56:48.881Z"
      },
      {
        "duration": 1191,
        "start_time": "2023-03-23T17:59:05.481Z"
      },
      {
        "duration": 28,
        "start_time": "2023-03-23T17:59:06.674Z"
      },
      {
        "duration": 10,
        "start_time": "2023-03-23T17:59:06.703Z"
      },
      {
        "duration": 23,
        "start_time": "2023-03-23T17:59:06.715Z"
      },
      {
        "duration": 3,
        "start_time": "2023-03-23T17:59:06.739Z"
      },
      {
        "duration": 15,
        "start_time": "2023-03-23T17:59:06.743Z"
      },
      {
        "duration": 14,
        "start_time": "2023-03-23T17:59:06.759Z"
      },
      {
        "duration": 6,
        "start_time": "2023-03-23T17:59:06.774Z"
      },
      {
        "duration": 10,
        "start_time": "2023-03-23T17:59:06.781Z"
      },
      {
        "duration": 11,
        "start_time": "2023-03-23T17:59:06.793Z"
      },
      {
        "duration": 37492,
        "start_time": "2023-03-23T17:59:06.805Z"
      },
      {
        "duration": 235,
        "start_time": "2023-03-23T17:59:44.299Z"
      },
      {
        "duration": 3238,
        "start_time": "2023-03-23T17:59:44.535Z"
      },
      {
        "duration": 45,
        "start_time": "2023-03-23T17:59:47.775Z"
      },
      {
        "duration": 179,
        "start_time": "2023-03-23T17:59:47.822Z"
      },
      {
        "duration": 546,
        "start_time": "2023-03-23T17:59:48.002Z"
      },
      {
        "duration": 454,
        "start_time": "2023-03-23T17:59:48.550Z"
      },
      {
        "duration": 10,
        "start_time": "2023-03-23T17:59:49.005Z"
      },
      {
        "duration": 15,
        "start_time": "2023-03-23T17:59:49.017Z"
      },
      {
        "duration": 9,
        "start_time": "2023-03-23T17:59:49.034Z"
      },
      {
        "duration": 17368,
        "start_time": "2023-03-23T17:59:49.045Z"
      },
      {
        "duration": 90,
        "start_time": "2023-03-23T18:00:06.415Z"
      },
      {
        "duration": 106,
        "start_time": "2023-03-23T18:00:06.507Z"
      },
      {
        "duration": 118,
        "start_time": "2023-03-23T18:00:06.615Z"
      },
      {
        "duration": 93,
        "start_time": "2023-03-23T18:00:06.734Z"
      },
      {
        "duration": 29,
        "start_time": "2023-03-23T18:00:06.829Z"
      },
      {
        "duration": 10,
        "start_time": "2023-03-23T18:00:06.868Z"
      },
      {
        "duration": 95,
        "start_time": "2023-03-23T18:00:06.881Z"
      },
      {
        "duration": 104,
        "start_time": "2023-03-23T18:00:06.978Z"
      },
      {
        "duration": 5,
        "start_time": "2023-03-23T18:02:29.560Z"
      },
      {
        "duration": 2684,
        "start_time": "2023-03-24T05:57:52.989Z"
      },
      {
        "duration": 177,
        "start_time": "2023-03-24T05:57:55.675Z"
      },
      {
        "duration": 14,
        "start_time": "2023-03-24T05:57:55.854Z"
      },
      {
        "duration": 34,
        "start_time": "2023-03-24T05:57:55.870Z"
      },
      {
        "duration": 5,
        "start_time": "2023-03-24T05:57:55.907Z"
      },
      {
        "duration": 26,
        "start_time": "2023-03-24T05:57:55.915Z"
      },
      {
        "duration": 7,
        "start_time": "2023-03-24T05:57:55.943Z"
      },
      {
        "duration": 8,
        "start_time": "2023-03-24T05:57:55.952Z"
      },
      {
        "duration": 6,
        "start_time": "2023-03-24T05:57:55.962Z"
      },
      {
        "duration": 7,
        "start_time": "2023-03-24T05:57:55.970Z"
      },
      {
        "duration": 57609,
        "start_time": "2023-03-24T05:57:55.980Z"
      },
      {
        "duration": 311,
        "start_time": "2023-03-24T05:58:53.591Z"
      },
      {
        "duration": 4550,
        "start_time": "2023-03-24T05:58:53.904Z"
      },
      {
        "duration": 44,
        "start_time": "2023-03-24T05:58:58.458Z"
      },
      {
        "duration": 247,
        "start_time": "2023-03-24T05:58:58.504Z"
      },
      {
        "duration": 689,
        "start_time": "2023-03-24T05:58:58.753Z"
      },
      {
        "duration": 559,
        "start_time": "2023-03-24T05:58:59.444Z"
      },
      {
        "duration": 30,
        "start_time": "2023-03-24T05:59:00.006Z"
      },
      {
        "duration": 52,
        "start_time": "2023-03-24T05:59:00.039Z"
      },
      {
        "duration": 45,
        "start_time": "2023-03-24T05:59:00.093Z"
      },
      {
        "duration": 24754,
        "start_time": "2023-03-24T05:59:00.140Z"
      },
      {
        "duration": 131,
        "start_time": "2023-03-24T05:59:24.898Z"
      },
      {
        "duration": 157,
        "start_time": "2023-03-24T05:59:25.034Z"
      },
      {
        "duration": 174,
        "start_time": "2023-03-24T05:59:25.193Z"
      },
      {
        "duration": 129,
        "start_time": "2023-03-24T05:59:25.369Z"
      },
      {
        "duration": 58,
        "start_time": "2023-03-24T05:59:25.500Z"
      },
      {
        "duration": 14,
        "start_time": "2023-03-24T05:59:25.560Z"
      },
      {
        "duration": 138,
        "start_time": "2023-03-24T05:59:25.576Z"
      },
      {
        "duration": 6,
        "start_time": "2023-03-24T05:59:25.716Z"
      },
      {
        "duration": 50,
        "start_time": "2023-03-24T17:55:58.399Z"
      },
      {
        "duration": 1476,
        "start_time": "2023-03-24T18:28:49.058Z"
      },
      {
        "duration": 77,
        "start_time": "2023-03-24T18:28:50.536Z"
      },
      {
        "duration": 13,
        "start_time": "2023-03-24T18:28:50.616Z"
      },
      {
        "duration": 23,
        "start_time": "2023-03-24T18:28:50.631Z"
      },
      {
        "duration": 4,
        "start_time": "2023-03-24T18:28:50.655Z"
      },
      {
        "duration": 10,
        "start_time": "2023-03-24T18:28:50.661Z"
      },
      {
        "duration": 17,
        "start_time": "2023-03-24T18:28:50.673Z"
      },
      {
        "duration": 3,
        "start_time": "2023-03-24T18:28:50.692Z"
      },
      {
        "duration": 8,
        "start_time": "2023-03-24T18:28:50.697Z"
      },
      {
        "duration": 6,
        "start_time": "2023-03-24T18:28:50.708Z"
      },
      {
        "duration": 195,
        "start_time": "2023-03-24T18:28:50.716Z"
      },
      {
        "duration": 0,
        "start_time": "2023-03-24T18:28:50.912Z"
      },
      {
        "duration": 0,
        "start_time": "2023-03-24T18:28:50.914Z"
      },
      {
        "duration": 0,
        "start_time": "2023-03-24T18:28:50.914Z"
      },
      {
        "duration": 0,
        "start_time": "2023-03-24T18:28:50.915Z"
      },
      {
        "duration": 0,
        "start_time": "2023-03-24T18:28:50.917Z"
      },
      {
        "duration": 0,
        "start_time": "2023-03-24T18:28:50.918Z"
      },
      {
        "duration": 0,
        "start_time": "2023-03-24T18:28:50.919Z"
      },
      {
        "duration": 0,
        "start_time": "2023-03-24T18:28:50.920Z"
      },
      {
        "duration": 0,
        "start_time": "2023-03-24T18:28:50.921Z"
      },
      {
        "duration": 0,
        "start_time": "2023-03-24T18:28:50.940Z"
      },
      {
        "duration": 1,
        "start_time": "2023-03-24T18:28:50.940Z"
      },
      {
        "duration": 0,
        "start_time": "2023-03-24T18:28:50.942Z"
      },
      {
        "duration": 0,
        "start_time": "2023-03-24T18:28:50.943Z"
      },
      {
        "duration": 0,
        "start_time": "2023-03-24T18:28:50.944Z"
      },
      {
        "duration": 0,
        "start_time": "2023-03-24T18:28:50.945Z"
      },
      {
        "duration": 0,
        "start_time": "2023-03-24T18:28:50.946Z"
      },
      {
        "duration": 0,
        "start_time": "2023-03-24T18:28:50.947Z"
      },
      {
        "duration": 0,
        "start_time": "2023-03-24T18:28:50.948Z"
      },
      {
        "duration": 14,
        "start_time": "2023-03-24T18:36:26.543Z"
      },
      {
        "duration": 17,
        "start_time": "2023-03-24T18:36:41.774Z"
      },
      {
        "duration": 3,
        "start_time": "2023-03-24T18:40:34.280Z"
      },
      {
        "duration": 3,
        "start_time": "2023-03-24T18:40:36.824Z"
      },
      {
        "duration": 5,
        "start_time": "2023-03-24T18:40:38.113Z"
      },
      {
        "duration": 50627,
        "start_time": "2023-03-24T18:40:40.843Z"
      },
      {
        "duration": 1340,
        "start_time": "2023-03-24T18:43:38.494Z"
      },
      {
        "duration": 29,
        "start_time": "2023-03-24T18:43:39.836Z"
      },
      {
        "duration": 10,
        "start_time": "2023-03-24T18:43:39.867Z"
      },
      {
        "duration": 23,
        "start_time": "2023-03-24T18:43:39.878Z"
      },
      {
        "duration": 3,
        "start_time": "2023-03-24T18:43:39.902Z"
      },
      {
        "duration": 6,
        "start_time": "2023-03-24T18:43:39.907Z"
      },
      {
        "duration": 5,
        "start_time": "2023-03-24T18:43:39.914Z"
      },
      {
        "duration": 4,
        "start_time": "2023-03-24T18:43:39.921Z"
      },
      {
        "duration": 3,
        "start_time": "2023-03-24T18:43:39.927Z"
      },
      {
        "duration": 5,
        "start_time": "2023-03-24T18:43:39.942Z"
      },
      {
        "duration": 40935,
        "start_time": "2023-03-24T18:43:39.949Z"
      },
      {
        "duration": 273,
        "start_time": "2023-03-24T18:44:20.886Z"
      },
      {
        "duration": 2852,
        "start_time": "2023-03-24T18:44:21.162Z"
      },
      {
        "duration": 37,
        "start_time": "2023-03-24T18:44:24.016Z"
      },
      {
        "duration": 163,
        "start_time": "2023-03-24T18:44:24.055Z"
      },
      {
        "duration": 508,
        "start_time": "2023-03-24T18:44:24.220Z"
      },
      {
        "duration": 532,
        "start_time": "2023-03-24T18:44:24.730Z"
      },
      {
        "duration": 12,
        "start_time": "2023-03-24T18:44:25.264Z"
      },
      {
        "duration": 13,
        "start_time": "2023-03-24T18:44:25.277Z"
      },
      {
        "duration": 144,
        "start_time": "2023-03-24T18:44:25.291Z"
      },
      {
        "duration": 0,
        "start_time": "2023-03-24T18:44:25.436Z"
      },
      {
        "duration": 0,
        "start_time": "2023-03-24T18:44:25.440Z"
      },
      {
        "duration": 0,
        "start_time": "2023-03-24T18:44:25.441Z"
      },
      {
        "duration": 0,
        "start_time": "2023-03-24T18:44:25.442Z"
      },
      {
        "duration": 0,
        "start_time": "2023-03-24T18:44:25.443Z"
      },
      {
        "duration": 0,
        "start_time": "2023-03-24T18:44:25.444Z"
      },
      {
        "duration": 0,
        "start_time": "2023-03-24T18:44:25.445Z"
      },
      {
        "duration": 0,
        "start_time": "2023-03-24T18:44:25.446Z"
      },
      {
        "duration": 0,
        "start_time": "2023-03-24T18:44:25.447Z"
      },
      {
        "duration": 10,
        "start_time": "2023-03-24T18:47:32.791Z"
      },
      {
        "duration": 1360,
        "start_time": "2023-03-24T18:47:48.261Z"
      },
      {
        "duration": 29,
        "start_time": "2023-03-24T18:47:49.624Z"
      },
      {
        "duration": 11,
        "start_time": "2023-03-24T18:47:49.655Z"
      },
      {
        "duration": 23,
        "start_time": "2023-03-24T18:47:49.669Z"
      },
      {
        "duration": 3,
        "start_time": "2023-03-24T18:47:49.695Z"
      },
      {
        "duration": 7,
        "start_time": "2023-03-24T18:47:49.700Z"
      },
      {
        "duration": 5,
        "start_time": "2023-03-24T18:47:49.709Z"
      },
      {
        "duration": 24,
        "start_time": "2023-03-24T18:47:49.716Z"
      },
      {
        "duration": 4,
        "start_time": "2023-03-24T18:47:49.742Z"
      },
      {
        "duration": 9,
        "start_time": "2023-03-24T18:47:49.749Z"
      },
      {
        "duration": 50327,
        "start_time": "2023-03-24T18:47:49.760Z"
      },
      {
        "duration": 293,
        "start_time": "2023-03-24T18:48:40.089Z"
      },
      {
        "duration": 3257,
        "start_time": "2023-03-24T18:48:40.385Z"
      },
      {
        "duration": 32,
        "start_time": "2023-03-24T18:48:43.644Z"
      },
      {
        "duration": 193,
        "start_time": "2023-03-24T18:48:43.677Z"
      },
      {
        "duration": 526,
        "start_time": "2023-03-24T18:48:43.872Z"
      },
      {
        "duration": 581,
        "start_time": "2023-03-24T18:48:44.399Z"
      },
      {
        "duration": 13,
        "start_time": "2023-03-24T18:48:44.982Z"
      },
      {
        "duration": 15,
        "start_time": "2023-03-24T18:48:44.997Z"
      },
      {
        "duration": 35,
        "start_time": "2023-03-24T18:48:45.013Z"
      },
      {
        "duration": 151,
        "start_time": "2023-03-24T18:48:45.050Z"
      },
      {
        "duration": 0,
        "start_time": "2023-03-24T18:48:45.204Z"
      },
      {
        "duration": 0,
        "start_time": "2023-03-24T18:48:45.205Z"
      },
      {
        "duration": 0,
        "start_time": "2023-03-24T18:48:45.206Z"
      },
      {
        "duration": 0,
        "start_time": "2023-03-24T18:48:45.208Z"
      },
      {
        "duration": 0,
        "start_time": "2023-03-24T18:48:45.209Z"
      },
      {
        "duration": 0,
        "start_time": "2023-03-24T18:48:45.211Z"
      },
      {
        "duration": 0,
        "start_time": "2023-03-24T18:48:45.213Z"
      },
      {
        "duration": 0,
        "start_time": "2023-03-24T18:48:45.214Z"
      },
      {
        "duration": 21906,
        "start_time": "2023-03-24T18:54:21.595Z"
      },
      {
        "duration": 112,
        "start_time": "2023-03-24T18:54:49.469Z"
      },
      {
        "duration": 100,
        "start_time": "2023-03-24T18:55:32.771Z"
      },
      {
        "duration": 117,
        "start_time": "2023-03-24T18:55:51.699Z"
      },
      {
        "duration": 136,
        "start_time": "2023-03-24T18:56:03.044Z"
      },
      {
        "duration": 120,
        "start_time": "2023-03-24T18:56:15.970Z"
      },
      {
        "duration": 26,
        "start_time": "2023-03-24T18:56:40.443Z"
      },
      {
        "duration": 15,
        "start_time": "2023-03-24T18:56:44.853Z"
      },
      {
        "duration": 151,
        "start_time": "2023-03-24T18:56:46.875Z"
      },
      {
        "duration": 613,
        "start_time": "2023-03-24T18:57:35.669Z"
      },
      {
        "duration": 11,
        "start_time": "2023-03-24T18:58:01.812Z"
      },
      {
        "duration": 13,
        "start_time": "2023-03-24T18:58:16.844Z"
      },
      {
        "duration": 162,
        "start_time": "2023-03-24T18:58:27.973Z"
      },
      {
        "duration": 532,
        "start_time": "2023-03-24T18:58:50.670Z"
      },
      {
        "duration": 508,
        "start_time": "2023-03-24T18:58:58.862Z"
      },
      {
        "duration": 10,
        "start_time": "2023-03-24T18:59:11.158Z"
      },
      {
        "duration": 11,
        "start_time": "2023-03-24T18:59:17.631Z"
      },
      {
        "duration": 11,
        "start_time": "2023-03-24T18:59:26.020Z"
      },
      {
        "duration": 11,
        "start_time": "2023-03-24T18:59:37.678Z"
      },
      {
        "duration": 302,
        "start_time": "2023-03-24T19:00:19.726Z"
      },
      {
        "duration": 339,
        "start_time": "2023-03-24T19:00:32.286Z"
      },
      {
        "duration": 408,
        "start_time": "2023-03-24T19:00:50.282Z"
      },
      {
        "duration": 18,
        "start_time": "2023-03-24T19:10:47.698Z"
      },
      {
        "duration": 695,
        "start_time": "2023-03-24T19:10:58.476Z"
      },
      {
        "duration": 18,
        "start_time": "2023-03-24T19:11:38.494Z"
      },
      {
        "duration": 19,
        "start_time": "2023-03-24T19:12:08.437Z"
      },
      {
        "duration": 162,
        "start_time": "2023-03-24T19:12:17.803Z"
      },
      {
        "duration": 601,
        "start_time": "2023-03-24T19:12:51.033Z"
      },
      {
        "duration": 515,
        "start_time": "2023-03-24T19:13:23.503Z"
      },
      {
        "duration": 12,
        "start_time": "2023-03-24T19:13:45.074Z"
      },
      {
        "duration": 12,
        "start_time": "2023-03-24T19:13:49.633Z"
      },
      {
        "duration": 13,
        "start_time": "2023-03-24T19:14:08.579Z"
      },
      {
        "duration": 12,
        "start_time": "2023-03-24T19:14:31.568Z"
      },
      {
        "duration": 20994,
        "start_time": "2023-03-24T19:14:46.689Z"
      },
      {
        "duration": 1648,
        "start_time": "2023-03-25T05:38:44.015Z"
      },
      {
        "duration": 138,
        "start_time": "2023-03-25T05:38:45.665Z"
      },
      {
        "duration": 16,
        "start_time": "2023-03-25T05:38:45.806Z"
      },
      {
        "duration": 45,
        "start_time": "2023-03-25T05:38:45.825Z"
      },
      {
        "duration": 5,
        "start_time": "2023-03-25T05:38:45.873Z"
      },
      {
        "duration": 17,
        "start_time": "2023-03-25T05:38:45.880Z"
      },
      {
        "duration": 12,
        "start_time": "2023-03-25T05:38:45.900Z"
      },
      {
        "duration": 13,
        "start_time": "2023-03-25T05:38:45.916Z"
      },
      {
        "duration": 12,
        "start_time": "2023-03-25T05:38:45.931Z"
      },
      {
        "duration": 10,
        "start_time": "2023-03-25T05:38:45.947Z"
      },
      {
        "duration": 47701,
        "start_time": "2023-03-25T05:38:45.959Z"
      },
      {
        "duration": 275,
        "start_time": "2023-03-25T05:39:33.662Z"
      },
      {
        "duration": 772,
        "start_time": "2023-03-25T05:39:33.940Z"
      },
      {
        "duration": 33,
        "start_time": "2023-03-25T05:39:34.713Z"
      },
      {
        "duration": 209,
        "start_time": "2023-03-25T05:39:34.747Z"
      },
      {
        "duration": 666,
        "start_time": "2023-03-25T05:39:34.957Z"
      },
      {
        "duration": 528,
        "start_time": "2023-03-25T05:39:35.625Z"
      },
      {
        "duration": 10,
        "start_time": "2023-03-25T05:39:36.155Z"
      },
      {
        "duration": 12,
        "start_time": "2023-03-25T05:39:36.167Z"
      },
      {
        "duration": 8,
        "start_time": "2023-03-25T05:39:36.181Z"
      },
      {
        "duration": 19154,
        "start_time": "2023-03-25T05:39:36.190Z"
      },
      {
        "duration": 300,
        "start_time": "2023-03-25T05:39:55.345Z"
      },
      {
        "duration": 445,
        "start_time": "2023-03-25T05:39:55.647Z"
      },
      {
        "duration": 389,
        "start_time": "2023-03-25T05:39:56.094Z"
      },
      {
        "duration": 110,
        "start_time": "2023-03-25T05:39:56.484Z"
      },
      {
        "duration": 60,
        "start_time": "2023-03-25T05:39:56.596Z"
      },
      {
        "duration": 18,
        "start_time": "2023-03-25T05:39:56.659Z"
      },
      {
        "duration": 124,
        "start_time": "2023-03-25T05:39:56.681Z"
      },
      {
        "duration": 6,
        "start_time": "2023-03-25T05:39:56.807Z"
      }
    ],
    "kernelspec": {
      "display_name": "Python 3 (ipykernel)",
      "language": "python",
      "name": "python3"
    },
    "language_info": {
      "codemirror_mode": {
        "name": "ipython",
        "version": 3
      },
      "file_extension": ".py",
      "mimetype": "text/x-python",
      "name": "python",
      "nbconvert_exporter": "python",
      "pygments_lexer": "ipython3",
      "version": "3.9.5"
    },
    "toc": {
      "base_numbering": 1,
      "nav_menu": {},
      "number_sections": true,
      "sideBar": true,
      "skip_h1_title": true,
      "title_cell": "Table of Contents",
      "title_sidebar": "Contents",
      "toc_cell": false,
      "toc_position": {},
      "toc_section_display": true,
      "toc_window_display": true
    },
    "colab": {
      "provenance": [],
      "include_colab_link": true
    }
  },
  "nbformat": 4,
  "nbformat_minor": 0
}
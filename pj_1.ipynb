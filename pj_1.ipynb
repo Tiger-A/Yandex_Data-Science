{
 "cells": [
  {
   "cell_type": "markdown",
   "metadata": {
    "deletable": false,
    "editable": false,
    "id": "E0vqbgi9ay0H"
   },
   "source": [
    "# Яндекс Музыка"
   ]
  },
  {
   "cell_type": "markdown",
   "metadata": {
    "deletable": false,
    "editable": false,
    "id": "VUC88oWjTJw2"
   },
   "source": [
    "Сравнение Москвы и Петербурга окружено мифами. Например:\n",
    " * Москва — мегаполис, подчинённый жёсткому ритму рабочей недели;\n",
    " * Петербург — культурная столица, со своими вкусами.\n",
    "\n",
    "На данных Яндекс Музыки вы сравните поведение пользователей двух столиц.\n",
    "\n",
    "**Цель исследования** — проверьте три гипотезы:\n",
    "1. Активность пользователей зависит от дня недели. Причём в Москве и Петербурге это проявляется по-разному.\n",
    "2. В понедельник утром в Москве преобладают одни жанры, а в Петербурге — другие. Так же и вечером пятницы преобладают разные жанры — в зависимости от города. \n",
    "3. Москва и Петербург предпочитают разные жанры музыки. В Москве чаще слушают поп-музыку, в Петербурге — русский рэп.\n",
    "\n",
    "**Ход исследования**\n",
    "\n",
    "Данные о поведении пользователей вы получите из файла `yandex_music_project.csv`. О качестве данных ничего не известно. Поэтому перед проверкой гипотез понадобится обзор данных. \n",
    "\n",
    "Вы проверите данные на ошибки и оцените их влияние на исследование. Затем, на этапе предобработки вы поищете возможность исправить самые критичные ошибки данных.\n",
    " \n",
    "Таким образом, исследование пройдёт в три этапа:\n",
    " 1. Обзор данных.\n",
    " 2. Предобработка данных.\n",
    " 3. Проверка гипотез.\n",
    "\n"
   ]
  },
  {
   "cell_type": "markdown",
   "metadata": {
    "deletable": false,
    "editable": false,
    "id": "Ml1hmfXC_Zcs"
   },
   "source": [
    "## Обзор данных\n",
    "\n",
    "Составьте первое представление о данных Яндекс Музыки.\n",
    "\n",
    "\n"
   ]
  },
  {
   "cell_type": "markdown",
   "metadata": {
    "deletable": false,
    "editable": false,
    "id": "57eAOGIz_Zcs",
    "tags": [
     "start_task"
    ]
   },
   "source": [
    "**Задание 1**\n",
    "\n",
    "Основной инструмент аналитика — `pandas`. Импортируйте эту библиотеку."
   ]
  },
  {
   "cell_type": "code",
   "execution_count": 1,
   "metadata": {
    "deletable": false,
    "id": "AXN7PHPN_Zcs"
   },
   "outputs": [],
   "source": [
    "import pandas as pd"
   ]
  },
  {
   "cell_type": "markdown",
   "metadata": {
    "deletable": false,
    "editable": false,
    "id": "SG23P8tt_Zcs",
    "tags": [
     "start_task"
    ]
   },
   "source": [
    "**Задание 2**\n",
    "\n",
    "Прочитайте файл `yandex_music_project.csv` из папки `/datasets` и сохраните его в переменной `df`:"
   ]
  },
  {
   "cell_type": "code",
   "execution_count": 2,
   "metadata": {
    "deletable": false,
    "id": "fFVu7vqh_Zct"
   },
   "outputs": [],
   "source": [
    "df = pd.read_csv('/datasets/yandex_music_project.csv')"
   ]
  },
  {
   "cell_type": "markdown",
   "metadata": {
    "deletable": false,
    "editable": false,
    "id": "rDoOMd3uTqnZ",
    "tags": [
     "start_task"
    ]
   },
   "source": [
    "**Задание 3**\n",
    "\n",
    "\n",
    "Выведите на экран первые десять строк таблицы:"
   ]
  },
  {
   "cell_type": "code",
   "execution_count": 70,
   "metadata": {
    "deletable": false,
    "id": "oWTVX3gW_Zct"
   },
   "outputs": [
    {
     "data": {
      "text/html": [
       "<div>\n",
       "<style scoped>\n",
       "    .dataframe tbody tr th:only-of-type {\n",
       "        vertical-align: middle;\n",
       "    }\n",
       "\n",
       "    .dataframe tbody tr th {\n",
       "        vertical-align: top;\n",
       "    }\n",
       "\n",
       "    .dataframe thead th {\n",
       "        text-align: right;\n",
       "    }\n",
       "</style>\n",
       "<table border=\"1\" class=\"dataframe\">\n",
       "  <thead>\n",
       "    <tr style=\"text-align: right;\">\n",
       "      <th></th>\n",
       "      <th>userID</th>\n",
       "      <th>Track</th>\n",
       "      <th>artist</th>\n",
       "      <th>genre</th>\n",
       "      <th>City</th>\n",
       "      <th>time</th>\n",
       "      <th>Day</th>\n",
       "    </tr>\n",
       "  </thead>\n",
       "  <tbody>\n",
       "    <tr>\n",
       "      <th>0</th>\n",
       "      <td>FFB692EC</td>\n",
       "      <td>Kamigata To Boots</td>\n",
       "      <td>The Mass Missile</td>\n",
       "      <td>rock</td>\n",
       "      <td>Saint-Petersburg</td>\n",
       "      <td>20:28:33</td>\n",
       "      <td>Wednesday</td>\n",
       "    </tr>\n",
       "    <tr>\n",
       "      <th>1</th>\n",
       "      <td>55204538</td>\n",
       "      <td>Delayed Because of Accident</td>\n",
       "      <td>Andreas Rönnberg</td>\n",
       "      <td>rock</td>\n",
       "      <td>Moscow</td>\n",
       "      <td>14:07:09</td>\n",
       "      <td>Friday</td>\n",
       "    </tr>\n",
       "    <tr>\n",
       "      <th>2</th>\n",
       "      <td>20EC38</td>\n",
       "      <td>Funiculì funiculà</td>\n",
       "      <td>Mario Lanza</td>\n",
       "      <td>pop</td>\n",
       "      <td>Saint-Petersburg</td>\n",
       "      <td>20:58:07</td>\n",
       "      <td>Wednesday</td>\n",
       "    </tr>\n",
       "    <tr>\n",
       "      <th>3</th>\n",
       "      <td>A3DD03C9</td>\n",
       "      <td>Dragons in the Sunset</td>\n",
       "      <td>Fire + Ice</td>\n",
       "      <td>folk</td>\n",
       "      <td>Saint-Petersburg</td>\n",
       "      <td>08:37:09</td>\n",
       "      <td>Monday</td>\n",
       "    </tr>\n",
       "    <tr>\n",
       "      <th>4</th>\n",
       "      <td>E2DC1FAE</td>\n",
       "      <td>Soul People</td>\n",
       "      <td>Space Echo</td>\n",
       "      <td>dance</td>\n",
       "      <td>Moscow</td>\n",
       "      <td>08:34:34</td>\n",
       "      <td>Monday</td>\n",
       "    </tr>\n",
       "    <tr>\n",
       "      <th>5</th>\n",
       "      <td>842029A1</td>\n",
       "      <td>Преданная</td>\n",
       "      <td>IMPERVTOR</td>\n",
       "      <td>rusrap</td>\n",
       "      <td>Saint-Petersburg</td>\n",
       "      <td>13:09:41</td>\n",
       "      <td>Friday</td>\n",
       "    </tr>\n",
       "    <tr>\n",
       "      <th>6</th>\n",
       "      <td>4CB90AA5</td>\n",
       "      <td>True</td>\n",
       "      <td>Roman Messer</td>\n",
       "      <td>dance</td>\n",
       "      <td>Moscow</td>\n",
       "      <td>13:00:07</td>\n",
       "      <td>Wednesday</td>\n",
       "    </tr>\n",
       "    <tr>\n",
       "      <th>7</th>\n",
       "      <td>F03E1C1F</td>\n",
       "      <td>Feeling This Way</td>\n",
       "      <td>Polina Griffith</td>\n",
       "      <td>dance</td>\n",
       "      <td>Moscow</td>\n",
       "      <td>20:47:49</td>\n",
       "      <td>Wednesday</td>\n",
       "    </tr>\n",
       "    <tr>\n",
       "      <th>8</th>\n",
       "      <td>8FA1D3BE</td>\n",
       "      <td>И вновь продолжается бой</td>\n",
       "      <td>NaN</td>\n",
       "      <td>ruspop</td>\n",
       "      <td>Moscow</td>\n",
       "      <td>09:17:40</td>\n",
       "      <td>Friday</td>\n",
       "    </tr>\n",
       "    <tr>\n",
       "      <th>9</th>\n",
       "      <td>E772D5C0</td>\n",
       "      <td>Pessimist</td>\n",
       "      <td>NaN</td>\n",
       "      <td>dance</td>\n",
       "      <td>Saint-Petersburg</td>\n",
       "      <td>21:20:49</td>\n",
       "      <td>Wednesday</td>\n",
       "    </tr>\n",
       "  </tbody>\n",
       "</table>\n",
       "</div>"
      ],
      "text/plain": [
       "     userID                        Track            artist   genre  \\\n",
       "0  FFB692EC            Kamigata To Boots  The Mass Missile    rock   \n",
       "1  55204538  Delayed Because of Accident  Andreas Rönnberg    rock   \n",
       "2    20EC38            Funiculì funiculà       Mario Lanza     pop   \n",
       "3  A3DD03C9        Dragons in the Sunset        Fire + Ice    folk   \n",
       "4  E2DC1FAE                  Soul People        Space Echo   dance   \n",
       "5  842029A1                    Преданная         IMPERVTOR  rusrap   \n",
       "6  4CB90AA5                         True      Roman Messer   dance   \n",
       "7  F03E1C1F             Feeling This Way   Polina Griffith   dance   \n",
       "8  8FA1D3BE     И вновь продолжается бой               NaN  ruspop   \n",
       "9  E772D5C0                    Pessimist               NaN   dance   \n",
       "\n",
       "             City        time        Day  \n",
       "0  Saint-Petersburg  20:28:33  Wednesday  \n",
       "1            Moscow  14:07:09     Friday  \n",
       "2  Saint-Petersburg  20:58:07  Wednesday  \n",
       "3  Saint-Petersburg  08:37:09     Monday  \n",
       "4            Moscow  08:34:34     Monday  \n",
       "5  Saint-Petersburg  13:09:41     Friday  \n",
       "6            Moscow  13:00:07  Wednesday  \n",
       "7            Moscow  20:47:49  Wednesday  \n",
       "8            Moscow  09:17:40     Friday  \n",
       "9  Saint-Petersburg  21:20:49  Wednesday  "
      ]
     },
     "execution_count": 70,
     "metadata": {},
     "output_type": "execute_result"
    }
   ],
   "source": [
    "df.head(10)"
   ]
  },
  {
   "cell_type": "markdown",
   "metadata": {
    "deletable": false,
    "editable": false,
    "id": "EO73Kwic_Zct",
    "tags": [
     "start_task"
    ]
   },
   "source": [
    "**Задание 4**\n",
    "\n",
    "\n",
    "Одной командой получить общую информацию о таблице c помощью метода `info()`:"
   ]
  },
  {
   "cell_type": "code",
   "execution_count": 4,
   "metadata": {
    "deletable": false,
    "id": "DSf2kIb-_Zct"
   },
   "outputs": [
    {
     "name": "stdout",
     "output_type": "stream",
     "text": [
      "<class 'pandas.core.frame.DataFrame'>\n",
      "RangeIndex: 65079 entries, 0 to 65078\n",
      "Data columns (total 7 columns):\n",
      " #   Column    Non-Null Count  Dtype \n",
      "---  ------    --------------  ----- \n",
      " 0     userID  65079 non-null  object\n",
      " 1   Track     63848 non-null  object\n",
      " 2   artist    57876 non-null  object\n",
      " 3   genre     63881 non-null  object\n",
      " 4     City    65079 non-null  object\n",
      " 5   time      65079 non-null  object\n",
      " 6   Day       65079 non-null  object\n",
      "dtypes: object(7)\n",
      "memory usage: 3.5+ MB\n"
     ]
    }
   ],
   "source": [
    "df.info()"
   ]
  },
  {
   "cell_type": "markdown",
   "metadata": {
    "deletable": false,
    "editable": false,
    "id": "TaQ2Iwbr_Zct"
   },
   "source": [
    "Итак, в таблице семь столбцов. Тип данных во всех столбцах — `object`.\n",
    "\n",
    "Согласно документации к данным:\n",
    "* `userID` — идентификатор пользователя;\n",
    "* `Track` — название трека;  \n",
    "* `artist` — имя исполнителя;\n",
    "* `genre` — название жанра;\n",
    "* `City` — город пользователя;\n",
    "* `time` — время начала прослушивания;\n",
    "* `Day` — день недели.\n",
    "\n",
    "Количество значений в столбцах различается. Значит, в данных есть пропущенные значения."
   ]
  },
  {
   "cell_type": "markdown",
   "metadata": {
    "deletable": false,
    "editable": false,
    "id": "rAfziTBDmf2h",
    "tags": [
     "start_task"
    ]
   },
   "source": [
    "**Задание 5**\n",
    "\n",
    "**Вопрос со свободной формой ответа**\n",
    "\n",
    "В названиях колонок видны нарушения стиля:\n",
    "* Строчные буквы сочетаются с прописными.\n",
    "* Встречаются пробелы.\n",
    "\n",
    "Какое третье нарушение?"
   ]
  },
  {
   "cell_type": "code",
   "execution_count": 5,
   "metadata": {
    "id": "jD8EXEIvmf2h"
   },
   "outputs": [],
   "source": [
    "# Column0 - need to use \"snake_style\"."
   ]
  },
  {
   "cell_type": "markdown",
   "metadata": {
    "deletable": false,
    "editable": false,
    "id": "MCB6-dXG_Zct"
   },
   "source": [
    "**Выводы**\n",
    "\n",
    "В каждой строке таблицы — данные о прослушанном треке. Часть колонок описывает саму композицию: название, исполнителя и жанр. Остальные данные рассказывают о пользователе: из какого он города, когда он слушал музыку. \n",
    "\n",
    "Предварительно можно утверждать, что данных достаточно для проверки гипотез. Но встречаются пропуски в данных, а в названиях колонок — расхождения с хорошим стилем.\n",
    "\n",
    "Чтобы двигаться дальше, нужно устранить проблемы в данных."
   ]
  },
  {
   "cell_type": "markdown",
   "metadata": {
    "deletable": false,
    "editable": false,
    "id": "SjYF6Ub9_Zct"
   },
   "source": [
    "## Предобработка данных\n",
    "Исправьте стиль в заголовках столбцов, исключите пропуски. Затем проверьте данные на дубликаты."
   ]
  },
  {
   "cell_type": "markdown",
   "metadata": {
    "deletable": false,
    "editable": false,
    "id": "dIaKXr29_Zct",
    "tags": [
     "start_task"
    ]
   },
   "source": [
    "### Стиль заголовков\n",
    "\n",
    "**Задание 6**\n",
    "\n",
    "Выведите на экран названия столбцов:"
   ]
  },
  {
   "cell_type": "code",
   "execution_count": 91,
   "metadata": {
    "deletable": false,
    "id": "oKOTdF_Q_Zct"
   },
   "outputs": [
    {
     "data": {
      "text/plain": [
       "Index(['user_id', 'track', 'artist', 'genre', 'city', 'time', 'day'], dtype='object')"
      ]
     },
     "execution_count": 91,
     "metadata": {},
     "output_type": "execute_result"
    }
   ],
   "source": [
    "df.columns"
   ]
  },
  {
   "cell_type": "markdown",
   "metadata": {
    "deletable": false,
    "editable": false,
    "id": "zj5534cv_Zct",
    "tags": [
     "start_task"
    ]
   },
   "source": [
    "**Задание 7**\n",
    "\n",
    "\n",
    "Приведите названия в соответствие с хорошим стилем:\n",
    "* несколько слов в названии запишите в «змеином_регистре»,\n",
    "* все символы сделайте строчными,\n",
    "* устраните пробелы.\n",
    "\n",
    "Для этого переименуйте колонки так:\n",
    "* `'  userID'` → `'user_id'`;\n",
    "* `'Track'` → `'track'`;\n",
    "* `'  City  '` → `'city'`;\n",
    "* `'Day'` → `'day'`."
   ]
  },
  {
   "cell_type": "code",
   "execution_count": 3,
   "metadata": {
    "deletable": false,
    "id": "ISlFqs5y_Zct"
   },
   "outputs": [],
   "source": [
    "df = df.rename(\n",
    "columns={\n",
    "'  userID': 'user_id',\n",
    "'Track': 'track',\n",
    "'  City  ': 'city',\n",
    "'Day': 'day'   \n",
    "}\n",
    ")"
   ]
  },
  {
   "cell_type": "markdown",
   "metadata": {
    "deletable": false,
    "editable": false,
    "id": "1dqbh00J_Zct",
    "tags": [
     "start_task"
    ]
   },
   "source": [
    "**Задание 8**\n",
    "\n",
    "\n",
    "Проверьте результат. Для этого ещё раз выведите на экран названия столбцов:"
   ]
  },
  {
   "cell_type": "code",
   "execution_count": 35,
   "metadata": {
    "deletable": false,
    "id": "d4NOAmTW_Zct"
   },
   "outputs": [
    {
     "data": {
      "text/plain": [
       "Index(['user_id', 'track', 'artist', 'genre', 'city', 'time', 'day'], dtype='object')"
      ]
     },
     "execution_count": 35,
     "metadata": {},
     "output_type": "execute_result"
    }
   ],
   "source": [
    "df.columns"
   ]
  },
  {
   "cell_type": "markdown",
   "metadata": {
    "deletable": false,
    "editable": false,
    "id": "5ISfbcfY_Zct",
    "tags": [
     "start_task"
    ]
   },
   "source": [
    "### Пропуски значений\n",
    "\n",
    "**Задание 9**\n",
    "\n",
    "Сначала посчитайте, сколько в таблице пропущенных значений. Для этого достаточно двух методов `pandas`:"
   ]
  },
  {
   "cell_type": "code",
   "execution_count": 9,
   "metadata": {
    "deletable": false,
    "id": "RskX29qr_Zct"
   },
   "outputs": [
    {
     "data": {
      "text/plain": [
       "user_id       0\n",
       "track      1231\n",
       "artist     7203\n",
       "genre      1198\n",
       "city          0\n",
       "time          0\n",
       "day           0\n",
       "dtype: int64"
      ]
     },
     "execution_count": 9,
     "metadata": {},
     "output_type": "execute_result"
    }
   ],
   "source": [
    "df.isna().sum()"
   ]
  },
  {
   "cell_type": "markdown",
   "metadata": {
    "deletable": false,
    "editable": false,
    "id": "qubhgnlO_Zct"
   },
   "source": [
    "Не все пропущенные значения влияют на исследование. Так в `track` и `artist` пропуски не важны для вашей работы. Достаточно заменить их явными обозначениями.\n",
    "\n",
    "Но пропуски в `genre` могут помешать сравнению музыкальных вкусов в Москве и Санкт-Петербурге. На практике было бы правильно установить причину пропусков и восстановить данные. Такой возможности нет в учебном проекте. Придётся:\n",
    "* заполнить и эти пропуски явными обозначениями;\n",
    "* оценить, насколько они повредят расчётам. "
   ]
  },
  {
   "cell_type": "markdown",
   "metadata": {
    "deletable": false,
    "editable": false,
    "id": "fSv2laPA_Zct",
    "tags": [
     "start_task"
    ]
   },
   "source": [
    "**Задание 10**\n",
    "\n",
    "Замените пропущенные значения в столбцах `track`, `artist` и `genre` на строку `'unknown'`. Для этого создайте список `columns_to_replace`, переберите его элементы циклом `for` и для каждого столбца выполните замену пропущенных значений:"
   ]
  },
  {
   "cell_type": "code",
   "execution_count": 4,
   "metadata": {
    "deletable": false,
    "id": "KplB5qWs_Zct"
   },
   "outputs": [],
   "source": [
    "# перебор названий столбцов в цикле и замена пропущенных значений на 'unknown'\n",
    "columns_to_replace = ['track', 'artist', 'genre']\n",
    "for column in columns_to_replace:\n",
    "    df[column] = df[column].fillna('unknown')\n"
   ]
  },
  {
   "cell_type": "markdown",
   "metadata": {
    "deletable": false,
    "editable": false,
    "id": "Ilsm-MZo_Zct",
    "tags": [
     "start_task"
    ]
   },
   "source": [
    "**Задание 11**\n",
    "\n",
    "Убедитесь, что в таблице не осталось пропусков. Для этого ещё раз посчитайте пропущенные значения."
   ]
  },
  {
   "cell_type": "code",
   "execution_count": 37,
   "metadata": {
    "deletable": false,
    "id": "Tq4nYRX4_Zct"
   },
   "outputs": [
    {
     "data": {
      "text/plain": [
       "user_id    0\n",
       "track      0\n",
       "artist     0\n",
       "genre      0\n",
       "city       0\n",
       "time       0\n",
       "day        0\n",
       "dtype: int64"
      ]
     },
     "execution_count": 37,
     "metadata": {},
     "output_type": "execute_result"
    }
   ],
   "source": [
    "# подсчёт пропусков\n",
    "df.isna().sum()"
   ]
  },
  {
   "cell_type": "markdown",
   "metadata": {
    "deletable": false,
    "editable": false,
    "id": "BWKRtBJ3_Zct",
    "tags": [
     "start_task"
    ]
   },
   "source": [
    "### Дубликаты\n",
    "\n",
    "**Задание 12**\n",
    "\n",
    "Посчитайте явные дубликаты в таблице одной командой:"
   ]
  },
  {
   "cell_type": "code",
   "execution_count": 38,
   "metadata": {
    "deletable": false,
    "id": "36eES_S0_Zct"
   },
   "outputs": [
    {
     "data": {
      "text/plain": [
       "3826"
      ]
     },
     "execution_count": 38,
     "metadata": {},
     "output_type": "execute_result"
    }
   ],
   "source": [
    "# подсчёт явных дубликатов\n",
    "df.duplicated().sum()"
   ]
  },
  {
   "cell_type": "markdown",
   "metadata": {
    "deletable": false,
    "editable": false,
    "id": "Ot25h6XR_Zct",
    "tags": [
     "start_task"
    ]
   },
   "source": [
    "**Задание 13**\n",
    "\n",
    "Вызовите специальный метод `pandas`, чтобы удалить явные дубликаты:"
   ]
  },
  {
   "cell_type": "code",
   "execution_count": 5,
   "metadata": {
    "deletable": false,
    "id": "exFHq6tt_Zct"
   },
   "outputs": [],
   "source": [
    "# удаление явных дубликатов\n",
    "df = df.drop_duplicates()\n"
   ]
  },
  {
   "cell_type": "markdown",
   "metadata": {
    "deletable": false,
    "editable": false,
    "id": "Im2YwBEG_Zct",
    "tags": [
     "start_task"
    ]
   },
   "source": [
    "**Задание 14**\n",
    "\n",
    "Ещё раз посчитайте явные дубликаты в таблице — убедитесь, что полностью от них избавились:"
   ]
  },
  {
   "cell_type": "code",
   "execution_count": 97,
   "metadata": {
    "deletable": false,
    "id": "-8PuNWQ0_Zct"
   },
   "outputs": [
    {
     "data": {
      "text/plain": [
       "0"
      ]
     },
     "execution_count": 97,
     "metadata": {},
     "output_type": "execute_result"
    }
   ],
   "source": [
    "# проверка на отсутствие дубликатов\n",
    "df.duplicated().sum()"
   ]
  },
  {
   "cell_type": "markdown",
   "metadata": {
    "deletable": false,
    "editable": false,
    "id": "QlFBsxAr_Zct"
   },
   "source": [
    "Теперь избавьтесь от неявных дубликатов в колонке `genre`. Например, название одного и того же жанра может быть записано немного по-разному. Такие ошибки тоже повлияют на результат исследования."
   ]
  },
  {
   "cell_type": "markdown",
   "metadata": {
    "deletable": false,
    "editable": false,
    "id": "eSjWwsOh_Zct",
    "tags": [
     "start_task"
    ]
   },
   "source": [
    "**Задание 15**\n",
    "\n",
    "Выведите на экран список уникальных названий жанров, отсортированный в алфавитном порядке. Для этого:\n",
    "1. извлеките нужный столбец датафрейма; \n",
    "2. примените к нему метод сортировки;\n",
    "3. для отсортированного столбца вызовите метод, который вернёт уникальные значения из столбца."
   ]
  },
  {
   "cell_type": "code",
   "execution_count": 41,
   "metadata": {
    "deletable": false,
    "id": "JIUcqzZN_Zct"
   },
   "outputs": [
    {
     "name": "stdout",
     "output_type": "stream",
     "text": [
      "['acid' 'acoustic' 'action' 'adult' 'africa' 'afrikaans' 'alternative'\n",
      " 'alternativepunk' 'ambient' 'americana' 'animated' 'anime' 'arabesk'\n",
      " 'arabic' 'arena' 'argentinetango' 'art' 'audiobook' 'author' 'avantgarde'\n",
      " 'axé' 'baile' 'balkan' 'beats' 'bigroom' 'black' 'bluegrass' 'blues'\n",
      " 'bollywood' 'bossa' 'brazilian' 'breakbeat' 'breaks' 'broadway'\n",
      " 'cantautori' 'cantopop' 'canzone' 'caribbean' 'caucasian' 'celtic'\n",
      " 'chamber' 'chanson' 'children' 'chill' 'chinese' 'choral' 'christian'\n",
      " 'christmas' 'classical' 'classicmetal' 'club' 'colombian' 'comedy'\n",
      " 'conjazz' 'contemporary' 'country' 'cuban' 'dance' 'dancehall' 'dancepop'\n",
      " 'dark' 'death' 'deep' 'deutschrock' 'deutschspr' 'dirty' 'disco' 'dnb'\n",
      " 'documentary' 'downbeat' 'downtempo' 'drum' 'dub' 'dubstep' 'eastern'\n",
      " 'easy' 'electronic' 'electropop' 'emo' 'entehno' 'epicmetal' 'estrada'\n",
      " 'ethnic' 'eurofolk' 'european' 'experimental' 'extrememetal' 'fado'\n",
      " 'fairytail' 'film' 'fitness' 'flamenco' 'folk' 'folklore' 'folkmetal'\n",
      " 'folkrock' 'folktronica' 'forró' 'frankreich' 'französisch' 'french'\n",
      " 'funk' 'future' 'gangsta' 'garage' 'german' 'ghazal' 'gitarre' 'glitch'\n",
      " 'gospel' 'gothic' 'grime' 'grunge' 'gypsy' 'handsup' \"hard'n'heavy\"\n",
      " 'hardcore' 'hardstyle' 'hardtechno' 'hip' 'hip-hop' 'hiphop' 'historisch'\n",
      " 'holiday' 'hop' 'horror' 'house' 'hymn' 'idm' 'independent' 'indian'\n",
      " 'indie' 'indipop' 'industrial' 'inspirational' 'instrumental'\n",
      " 'international' 'irish' 'jam' 'japanese' 'jazz' 'jewish' 'jpop' 'jungle'\n",
      " 'k-pop' 'karadeniz' 'karaoke' 'kayokyoku' 'korean' 'laiko' 'latin'\n",
      " 'latino' 'leftfield' 'local' 'lounge' 'loungeelectronic' 'lovers'\n",
      " 'malaysian' 'mandopop' 'marschmusik' 'meditative' 'mediterranean'\n",
      " 'melodic' 'metal' 'metalcore' 'mexican' 'middle' 'minimal'\n",
      " 'miscellaneous' 'modern' 'mood' 'mpb' 'muslim' 'native' 'neoklassik'\n",
      " 'neue' 'new' 'newage' 'newwave' 'nu' 'nujazz' 'numetal' 'oceania' 'old'\n",
      " 'opera' 'orchestral' 'other' 'piano' 'podcasts' 'pop' 'popdance'\n",
      " 'popelectronic' 'popeurodance' 'poprussian' 'post' 'posthardcore'\n",
      " 'postrock' 'power' 'progmetal' 'progressive' 'psychedelic' 'punjabi'\n",
      " 'punk' 'quebecois' 'ragga' 'ram' 'rancheras' 'rap' 'rave' 'reggae'\n",
      " 'reggaeton' 'regional' 'relax' 'religious' 'retro' 'rhythm' 'rnb' 'rnr'\n",
      " 'rock' 'rockabilly' 'rockalternative' 'rockindie' 'rockother' 'romance'\n",
      " 'roots' 'ruspop' 'rusrap' 'rusrock' 'russian' 'salsa' 'samba' 'scenic'\n",
      " 'schlager' 'self' 'sertanejo' 'shanson' 'shoegazing' 'showtunes' 'singer'\n",
      " 'ska' 'skarock' 'slow' 'smooth' 'soft' 'soul' 'soulful' 'sound'\n",
      " 'soundtrack' 'southern' 'specialty' 'speech' 'spiritual' 'sport'\n",
      " 'stonerrock' 'surf' 'swing' 'synthpop' 'synthrock' 'sängerportrait'\n",
      " 'tango' 'tanzorchester' 'taraftar' 'tatar' 'tech' 'techno' 'teen'\n",
      " 'thrash' 'top' 'traditional' 'tradjazz' 'trance' 'tribal' 'trip'\n",
      " 'triphop' 'tropical' 'türk' 'türkçe' 'ukrrock' 'unknown' 'urban' 'uzbek'\n",
      " 'variété' 'vi' 'videogame' 'vocal' 'western' 'world' 'worldbeat' 'ïîï'\n",
      " 'электроника']\n"
     ]
    }
   ],
   "source": [
    "# Просмотр уникальных названий жанров\n",
    "\n",
    "\n",
    "\n",
    "print(df['genre'].sort_values().unique())\n"
   ]
  },
  {
   "cell_type": "markdown",
   "metadata": {
    "deletable": false,
    "editable": false,
    "id": "qej-Qmuo_Zct",
    "tags": [
     "start_task"
    ]
   },
   "source": [
    "**Задание 16**\n",
    "\n",
    "Просмотрите список и найдите неявные дубликаты названия `hiphop`. Это могут быть названия с ошибками или альтернативные названия того же жанра.\n",
    "\n",
    "Вы увидите следующие неявные дубликаты:\n",
    "* *hip*,\n",
    "* *hop*,\n",
    "* *hip-hop*.\n",
    "\n",
    "Чтобы очистить от них таблицу используйте метод `replace()` с двумя аргументами: списком строк-дубликатов (включащий *hip*, *hop* и *hip-hop*) и строкой с правильным значением. Вам нужно исправить колонку `genre` в таблице `df`: заменить каждое значение из списка дубликатов на верное. Вместо `hip`, `hop` и `hip-hop` в таблице должно быть значение `hiphop`:"
   ]
  },
  {
   "cell_type": "code",
   "execution_count": 6,
   "metadata": {
    "deletable": false,
    "id": "ErNDkmns_Zct"
   },
   "outputs": [],
   "source": [
    "# Устранение неявных дубликатов\n",
    "\n",
    "\n",
    "df['genre'] = df['genre'].replace(['hip','hop', 'hip-hop'], 'hiphop')"
   ]
  },
  {
   "cell_type": "markdown",
   "metadata": {
    "deletable": false,
    "editable": false,
    "id": "zQKF16_RG15m",
    "tags": [
     "start_task"
    ]
   },
   "source": [
    "**Задание 17**\n",
    "\n",
    "Проверьте, что заменили неправильные названия:\n",
    "\n",
    "*   hip,\n",
    "*   hop,\n",
    "*   hip-hop.\n",
    "\n",
    "Выведите отсортированный список уникальных значений столбца `genre`:"
   ]
  },
  {
   "cell_type": "code",
   "execution_count": 43,
   "metadata": {
    "deletable": false,
    "id": "wvixALnFG15m"
   },
   "outputs": [
    {
     "name": "stdout",
     "output_type": "stream",
     "text": [
      "['acid' 'acoustic' 'action' 'adult' 'africa' 'afrikaans' 'alternative'\n",
      " 'alternativepunk' 'ambient' 'americana' 'animated' 'anime' 'arabesk'\n",
      " 'arabic' 'arena' 'argentinetango' 'art' 'audiobook' 'author' 'avantgarde'\n",
      " 'axé' 'baile' 'balkan' 'beats' 'bigroom' 'black' 'bluegrass' 'blues'\n",
      " 'bollywood' 'bossa' 'brazilian' 'breakbeat' 'breaks' 'broadway'\n",
      " 'cantautori' 'cantopop' 'canzone' 'caribbean' 'caucasian' 'celtic'\n",
      " 'chamber' 'chanson' 'children' 'chill' 'chinese' 'choral' 'christian'\n",
      " 'christmas' 'classical' 'classicmetal' 'club' 'colombian' 'comedy'\n",
      " 'conjazz' 'contemporary' 'country' 'cuban' 'dance' 'dancehall' 'dancepop'\n",
      " 'dark' 'death' 'deep' 'deutschrock' 'deutschspr' 'dirty' 'disco' 'dnb'\n",
      " 'documentary' 'downbeat' 'downtempo' 'drum' 'dub' 'dubstep' 'eastern'\n",
      " 'easy' 'electronic' 'electropop' 'emo' 'entehno' 'epicmetal' 'estrada'\n",
      " 'ethnic' 'eurofolk' 'european' 'experimental' 'extrememetal' 'fado'\n",
      " 'fairytail' 'film' 'fitness' 'flamenco' 'folk' 'folklore' 'folkmetal'\n",
      " 'folkrock' 'folktronica' 'forró' 'frankreich' 'französisch' 'french'\n",
      " 'funk' 'future' 'gangsta' 'garage' 'german' 'ghazal' 'gitarre' 'glitch'\n",
      " 'gospel' 'gothic' 'grime' 'grunge' 'gypsy' 'handsup' \"hard'n'heavy\"\n",
      " 'hardcore' 'hardstyle' 'hardtechno' 'hiphop' 'historisch' 'holiday'\n",
      " 'horror' 'house' 'hymn' 'idm' 'independent' 'indian' 'indie' 'indipop'\n",
      " 'industrial' 'inspirational' 'instrumental' 'international' 'irish' 'jam'\n",
      " 'japanese' 'jazz' 'jewish' 'jpop' 'jungle' 'k-pop' 'karadeniz' 'karaoke'\n",
      " 'kayokyoku' 'korean' 'laiko' 'latin' 'latino' 'leftfield' 'local'\n",
      " 'lounge' 'loungeelectronic' 'lovers' 'malaysian' 'mandopop' 'marschmusik'\n",
      " 'meditative' 'mediterranean' 'melodic' 'metal' 'metalcore' 'mexican'\n",
      " 'middle' 'minimal' 'miscellaneous' 'modern' 'mood' 'mpb' 'muslim'\n",
      " 'native' 'neoklassik' 'neue' 'new' 'newage' 'newwave' 'nu' 'nujazz'\n",
      " 'numetal' 'oceania' 'old' 'opera' 'orchestral' 'other' 'piano' 'podcasts'\n",
      " 'pop' 'popdance' 'popelectronic' 'popeurodance' 'poprussian' 'post'\n",
      " 'posthardcore' 'postrock' 'power' 'progmetal' 'progressive' 'psychedelic'\n",
      " 'punjabi' 'punk' 'quebecois' 'ragga' 'ram' 'rancheras' 'rap' 'rave'\n",
      " 'reggae' 'reggaeton' 'regional' 'relax' 'religious' 'retro' 'rhythm'\n",
      " 'rnb' 'rnr' 'rock' 'rockabilly' 'rockalternative' 'rockindie' 'rockother'\n",
      " 'romance' 'roots' 'ruspop' 'rusrap' 'rusrock' 'russian' 'salsa' 'samba'\n",
      " 'scenic' 'schlager' 'self' 'sertanejo' 'shanson' 'shoegazing' 'showtunes'\n",
      " 'singer' 'ska' 'skarock' 'slow' 'smooth' 'soft' 'soul' 'soulful' 'sound'\n",
      " 'soundtrack' 'southern' 'specialty' 'speech' 'spiritual' 'sport'\n",
      " 'stonerrock' 'surf' 'swing' 'synthpop' 'synthrock' 'sängerportrait'\n",
      " 'tango' 'tanzorchester' 'taraftar' 'tatar' 'tech' 'techno' 'teen'\n",
      " 'thrash' 'top' 'traditional' 'tradjazz' 'trance' 'tribal' 'trip'\n",
      " 'triphop' 'tropical' 'türk' 'türkçe' 'ukrrock' 'unknown' 'urban' 'uzbek'\n",
      " 'variété' 'vi' 'videogame' 'vocal' 'western' 'world' 'worldbeat' 'ïîï'\n",
      " 'электроника']\n"
     ]
    }
   ],
   "source": [
    "# Проверка на неявные дубликаты\n",
    "print(df['genre'].sort_values().unique())"
   ]
  },
  {
   "cell_type": "markdown",
   "metadata": {
    "deletable": false,
    "editable": false,
    "id": "jz6a9-7HQUDd"
   },
   "source": [
    "**Выводы**\n",
    "\n",
    "Предобработка обнаружила три проблемы в данных:\n",
    "\n",
    "- нарушения в стиле заголовков,\n",
    "- пропущенные значения,\n",
    "- дубликаты — явные и неявные.\n",
    "\n",
    "Вы исправили заголовки, чтобы упростить работу с таблицей. Без дубликатов исследование станет более точным.\n",
    "\n",
    "Пропущенные значения вы заменили на `'unknown'`. Ещё предстоит увидеть, не повредят ли исследованию пропуски в колонке `genre`.\n",
    "\n",
    "Теперь можно перейти к проверке гипотез. "
   ]
  },
  {
   "cell_type": "markdown",
   "metadata": {
    "deletable": false,
    "editable": false,
    "id": "WttZHXH0SqKk"
   },
   "source": [
    "## Проверка гипотез"
   ]
  },
  {
   "cell_type": "markdown",
   "metadata": {
    "deletable": false,
    "editable": false,
    "id": "Im936VVi_Zcu"
   },
   "source": [
    "### Сравнение поведения пользователей двух столиц"
   ]
  },
  {
   "cell_type": "markdown",
   "metadata": {
    "deletable": false,
    "editable": false,
    "id": "nwt_MuaL_Zcu"
   },
   "source": [
    "Первая гипотеза утверждает, что пользователи по-разному слушают музыку в Москве и Санкт-Петербурге. Проверьте это предположение по данным о трёх днях недели — понедельнике, среде и пятнице. Для этого:\n",
    "\n",
    "* Разделите пользователей Москвы и Санкт-Петербурга.\n",
    "* Сравните, сколько треков послушала каждая группа пользователей в понедельник, среду и пятницу.\n"
   ]
  },
  {
   "cell_type": "markdown",
   "metadata": {
    "deletable": false,
    "editable": false,
    "id": "8Dw_YMmT_Zcu",
    "tags": [
     "start_task"
    ]
   },
   "source": [
    "**Задание 18**\n",
    "\n",
    "Для тренировки сначала выполните каждый из расчётов по отдельности. \n",
    "\n",
    "Оцените активность пользователей в каждом городе. Сгруппируйте данные по городу и посчитайте прослушивания в каждой группе.\n",
    "\n"
   ]
  },
  {
   "cell_type": "code",
   "execution_count": 94,
   "metadata": {
    "deletable": false,
    "id": "0_Qs96oh_Zcu"
   },
   "outputs": [
    {
     "data": {
      "text/plain": [
       "city\n",
       "Moscow              42741\n",
       "Saint-Petersburg    18512\n",
       "Name: user_id, dtype: int64"
      ]
     },
     "execution_count": 94,
     "metadata": {},
     "output_type": "execute_result"
    }
   ],
   "source": [
    "# Подсчёт прослушиваний в каждом городе\n",
    "df.groupby('city')['user_id'].count()"
   ]
  },
  {
   "cell_type": "markdown",
   "metadata": {
    "deletable": false,
    "editable": false,
    "id": "dzli3w8o_Zcu",
    "tags": [
     "start_task"
    ]
   },
   "source": [
    "В Москве прослушиваний больше, чем в Петербурге. Из этого не следует, что московские пользователи чаще слушают музыку. Просто самих пользователей в Москве больше.\n",
    "\n",
    "**Задание 19**\n",
    "\n",
    "Теперь сгруппируйте данные по дню недели и посчитайте прослушивания в понедельник, среду и пятницу. Учтите, что в данных есть информация о прослушиваниях только за эти дни.\n"
   ]
  },
  {
   "cell_type": "code",
   "execution_count": 95,
   "metadata": {
    "deletable": false,
    "id": "uZMKjiJz_Zcu"
   },
   "outputs": [
    {
     "data": {
      "text/plain": [
       "day\n",
       "Friday       21840\n",
       "Monday       21354\n",
       "Wednesday    18059\n",
       "Name: user_id, dtype: int64"
      ]
     },
     "execution_count": 95,
     "metadata": {},
     "output_type": "execute_result"
    }
   ],
   "source": [
    "# Подсчёт прослушиваний в каждый из трёх дней\n",
    "\n",
    "\n",
    "\n",
    "\n",
    "df.groupby('day')['user_id'].count()\n"
   ]
  },
  {
   "cell_type": "markdown",
   "metadata": {
    "deletable": false,
    "editable": false,
    "id": "cC2tNrlL_Zcu"
   },
   "source": [
    "В среднем пользователи из двух городов менее активны по средам. Но картина может измениться, если рассмотреть каждый город в отдельности."
   ]
  },
  {
   "cell_type": "markdown",
   "metadata": {
    "deletable": false,
    "editable": false,
    "id": "POzs8bGa_Zcu",
    "tags": [
     "start_task"
    ]
   },
   "source": [
    "**Задание 20**\n",
    "\n",
    "\n",
    "Вы видели, как работает группировка по городу и по дням недели. Теперь напишите функцию, которая объединит два эти расчёта.\n",
    "\n",
    "Создайте функцию `number_tracks()`, которая посчитает прослушивания для заданного дня и города. Ей понадобятся два параметра:\n",
    "* день недели,\n",
    "* название города.\n",
    "\n",
    "В функции сохраните в переменную строки исходной таблицы, у которых значение:\n",
    "  * в колонке `day` равно параметру `day`,\n",
    "  * в колонке `city` равно параметру `city`.\n",
    "\n",
    "Для этого примените последовательную фильтрацию с логической индексацией (или сложные логические выражения в одну строку, если вы уже знакомы с ними).\n",
    "\n",
    "Затем посчитайте значения в столбце `user_id` получившейся таблицы. Результат сохраните в новую переменную. Верните эту переменную из функции."
   ]
  },
  {
   "cell_type": "code",
   "execution_count": 131,
   "metadata": {
    "deletable": false,
    "id": "Nz3GdQB1_Zcu"
   },
   "outputs": [],
   "source": [
    "# <создание функции number_tracks()>\n",
    "# Объявляется функция с двумя параметрами: day, city.\n",
    "# В переменной track_list сохраняются те строки таблицы df, для которых \n",
    "# значение в столбце 'day' равно параметру day и одновременно значение\n",
    "# в столбце 'city' равно параметру city (используйте последовательную фильтрацию\n",
    "# с помощью логической индексации или сложные логические выражения в одну строку, если вы уже знакомы с ними).\n",
    "# В переменной track_list_count сохраняется число значений столбца 'user_id',\n",
    "# рассчитанное методом count() для таблицы track_list.\n",
    "# Функция возвращает число - значение track_list_count.\n",
    "#track_list.columns\n",
    "#battle.loc[battle.loc[:,'В'] == 'X']   \n",
    "# Функция для подсчёта прослушиваний для конкретного города и дня.\n",
    "# С помощью последовательной фильтрации с логической индексацией она \n",
    "# сначала получит из исходной таблицы строки с нужным днём,\n",
    "# затем из результата отфильтрует строки с нужным городом,\n",
    "# методом count() посчитает количество значений в колонке user_id. \n",
    "# Это количество функция вернёт в качестве результата\n",
    "def number_tracks(day, city):\n",
    "    track_list = df.loc[df.loc[:,'day'] == day]\n",
    "    track_list = track_list.loc[track_list.loc[:,'city'] == city]\n",
    "    track_list_count = track_list['user_id'].count()\n",
    "    return track_list_count\n",
    "\n"
   ]
  },
  {
   "cell_type": "markdown",
   "metadata": {
    "deletable": false,
    "editable": false,
    "id": "ytf7xFrFJQ2r",
    "tags": [
     "start_task"
    ]
   },
   "source": [
    "**Задание 21**\n",
    "\n",
    "Вызовите `number_tracks()` шесть раз, меняя значение параметров — так, чтобы получить данные для каждого города в каждый из трёх дней."
   ]
  },
  {
   "cell_type": "code",
   "execution_count": 134,
   "metadata": {
    "deletable": false,
    "id": "rJcRATNQ_Zcu"
   },
   "outputs": [
    {
     "data": {
      "text/plain": [
       "15740"
      ]
     },
     "execution_count": 134,
     "metadata": {},
     "output_type": "execute_result"
    }
   ],
   "source": [
    "# количество прослушиваний в Москве по понедельникам\n",
    "number_tracks('Monday', 'Moscow')"
   ]
  },
  {
   "cell_type": "code",
   "execution_count": 135,
   "metadata": {
    "deletable": false,
    "id": "hq_ncZ5T_Zcu"
   },
   "outputs": [
    {
     "data": {
      "text/plain": [
       "5614"
      ]
     },
     "execution_count": 135,
     "metadata": {},
     "output_type": "execute_result"
    }
   ],
   "source": [
    "# количество прослушиваний в Санкт-Петербурге по понедельникам\n",
    "number_tracks('Monday', 'Saint-Petersburg')"
   ]
  },
  {
   "cell_type": "code",
   "execution_count": 136,
   "metadata": {
    "deletable": false,
    "id": "_NTy2VPU_Zcu"
   },
   "outputs": [
    {
     "data": {
      "text/plain": [
       "11056"
      ]
     },
     "execution_count": 136,
     "metadata": {},
     "output_type": "execute_result"
    }
   ],
   "source": [
    "# количество прослушиваний в Москве по средам\n",
    "number_tracks('Wednesday', 'Moscow')"
   ]
  },
  {
   "cell_type": "code",
   "execution_count": 137,
   "metadata": {
    "deletable": false,
    "id": "j2y3TAwo_Zcu"
   },
   "outputs": [
    {
     "data": {
      "text/plain": [
       "7003"
      ]
     },
     "execution_count": 137,
     "metadata": {},
     "output_type": "execute_result"
    }
   ],
   "source": [
    "# количество прослушиваний в Санкт-Петербурге по средам\n",
    "number_tracks('Wednesday', 'Saint-Petersburg')"
   ]
  },
  {
   "cell_type": "code",
   "execution_count": 138,
   "metadata": {
    "deletable": false,
    "id": "vYDw5u_K_Zcu"
   },
   "outputs": [
    {
     "data": {
      "text/plain": [
       "15945"
      ]
     },
     "execution_count": 138,
     "metadata": {},
     "output_type": "execute_result"
    }
   ],
   "source": [
    "# количество прослушиваний в Москве по пятницам\n",
    "number_tracks('Friday', 'Moscow')"
   ]
  },
  {
   "cell_type": "code",
   "execution_count": 139,
   "metadata": {
    "deletable": false,
    "id": "8_yzFtW3_Zcu"
   },
   "outputs": [
    {
     "data": {
      "text/plain": [
       "5895"
      ]
     },
     "execution_count": 139,
     "metadata": {},
     "output_type": "execute_result"
    }
   ],
   "source": [
    "# количество прослушиваний в Санкт-Петербурге по пятницам\n",
    "number_tracks('Friday', 'Saint-Petersburg')"
   ]
  },
  {
   "cell_type": "markdown",
   "metadata": {
    "deletable": false,
    "editable": false,
    "id": "7QXffbO-_Zcu",
    "tags": [
     "start_task"
    ]
   },
   "source": [
    "**Задание 22**\n",
    "\n",
    "Создайте c помощью конструктора `pd.DataFrame` таблицу, где\n",
    "* названия колонок — `['city', 'monday', 'wednesday', 'friday']`;\n",
    "* данные — результаты, которые вы получили с помощью `number_tracks`."
   ]
  },
  {
   "cell_type": "code",
   "execution_count": 143,
   "metadata": {
    "deletable": false,
    "id": "APAcLpOr_Zcu"
   },
   "outputs": [
    {
     "data": {
      "text/html": [
       "<div>\n",
       "<style scoped>\n",
       "    .dataframe tbody tr th:only-of-type {\n",
       "        vertical-align: middle;\n",
       "    }\n",
       "\n",
       "    .dataframe tbody tr th {\n",
       "        vertical-align: top;\n",
       "    }\n",
       "\n",
       "    .dataframe thead th {\n",
       "        text-align: right;\n",
       "    }\n",
       "</style>\n",
       "<table border=\"1\" class=\"dataframe\">\n",
       "  <thead>\n",
       "    <tr style=\"text-align: right;\">\n",
       "      <th></th>\n",
       "      <th>city</th>\n",
       "      <th>monday</th>\n",
       "      <th>wednesday</th>\n",
       "      <th>friday</th>\n",
       "    </tr>\n",
       "  </thead>\n",
       "  <tbody>\n",
       "    <tr>\n",
       "      <th>0</th>\n",
       "      <td>Moscow</td>\n",
       "      <td>15740</td>\n",
       "      <td>11056</td>\n",
       "      <td>15945</td>\n",
       "    </tr>\n",
       "    <tr>\n",
       "      <th>1</th>\n",
       "      <td>Saint-Petersburg</td>\n",
       "      <td>5614</td>\n",
       "      <td>7003</td>\n",
       "      <td>5895</td>\n",
       "    </tr>\n",
       "  </tbody>\n",
       "</table>\n",
       "</div>"
      ],
      "text/plain": [
       "               city  monday  wednesday  friday\n",
       "0            Moscow   15740      11056   15945\n",
       "1  Saint-Petersburg    5614       7003    5895"
      ]
     },
     "execution_count": 143,
     "metadata": {},
     "output_type": "execute_result"
    }
   ],
   "source": [
    "# Таблица с результатами\n",
    "columns = ['city', 'monday', 'wednesday', 'friday']\n",
    "data = [\n",
    "    ['Moscow', 15740, 11056, 15945],\n",
    "    ['Saint-Petersburg', 5614, 7003, 5895]\n",
    "]\n",
    "pd.DataFrame(data=data, columns=columns)"
   ]
  },
  {
   "cell_type": "markdown",
   "metadata": {
    "deletable": false,
    "editable": false,
    "id": "-EgPIHYu_Zcu"
   },
   "source": [
    "**Выводы**\n",
    "\n",
    "Данные показывают разницу поведения пользователей:\n",
    "\n",
    "- В Москве пик прослушиваний приходится на понедельник и пятницу, а в среду заметен спад.\n",
    "- В Петербурге, наоборот, больше слушают музыку по средам. Активность в понедельник и пятницу здесь почти в равной мере уступает среде.\n",
    "\n",
    "Значит, данные говорят в пользу первой гипотезы."
   ]
  },
  {
   "cell_type": "markdown",
   "metadata": {
    "deletable": false,
    "editable": false,
    "id": "atZAxtq4_Zcu"
   },
   "source": [
    "### Музыка в начале и в конце недели"
   ]
  },
  {
   "cell_type": "markdown",
   "metadata": {
    "deletable": false,
    "editable": false,
    "id": "eXrQqXFH_Zcu"
   },
   "source": [
    "Согласно второй гипотезе, утром в понедельник в Москве преобладают одни жанры, а в Петербурге — другие. Так же и вечером пятницы преобладают разные жанры — в зависимости от города."
   ]
  },
  {
   "cell_type": "markdown",
   "metadata": {
    "deletable": false,
    "editable": false,
    "id": "S8UcW6Hw_Zcu",
    "tags": [
     "start_task"
    ]
   },
   "source": [
    "**Задание 23**\n",
    "\n",
    "Сохраните таблицы с данными в две переменные:\n",
    "* по Москве — в `moscow_general`;\n",
    "* по Санкт-Петербургу — в `spb_general`."
   ]
  },
  {
   "cell_type": "code",
   "execution_count": 74,
   "metadata": {
    "deletable": false,
    "id": "qeaFfM_P_Zcu"
   },
   "outputs": [],
   "source": [
    "# получение таблицы moscow_general из тех строк таблицы df, \n",
    "# для которых значение в столбце 'city' равно 'Moscow'\n",
    "moscow_general = df.loc[df.loc[:,'city'] == 'Moscow']\n",
    "\n"
   ]
  },
  {
   "cell_type": "code",
   "execution_count": 75,
   "metadata": {
    "deletable": false,
    "id": "ORaVRKto_Zcu"
   },
   "outputs": [],
   "source": [
    "# получение таблицы spb_general из тех строк таблицы df,\n",
    "# для которых значение в столбце 'city' равно 'Saint-Petersburg'\n",
    "spb_general = df.loc[df.loc[:, 'city'] == 'Saint-Petersburg']\n"
   ]
  },
  {
   "cell_type": "markdown",
   "metadata": {
    "deletable": false,
    "editable": false,
    "id": "MEJV-CX2_Zcu",
    "tags": [
     "start_task"
    ]
   },
   "source": [
    "**Задание 24**\n",
    "\n",
    "Создайте функцию `genre_weekday()` с четырьмя параметрами:\n",
    "* таблица (датафрейм) с данными,\n",
    "* день недели,\n",
    "* начальная временная метка в формате 'hh:mm', \n",
    "* последняя временная метка в формате 'hh:mm'.\n",
    "\n",
    "Функция должна вернуть информацию о топ-10 жанров тех треков, которые прослушивали в указанный день, в промежутке между двумя отметками времени."
   ]
  },
  {
   "cell_type": "code",
   "execution_count": 140,
   "metadata": {
    "deletable": false,
    "id": "laJT9BYl_Zcu"
   },
   "outputs": [],
   "source": [
    "# Объявление функции genre_weekday() с параметрами table, day, time1, time2,\n",
    "# которая возвращает информацию о самых популярных жанрах в указанный день в\n",
    "# заданное время:\n",
    "# 1) в переменную genre_df сохраняются те строки переданного датафрейма table, для\n",
    "#    которых одновременно:\n",
    "#    - значение в столбце day равно значению аргумента day\n",
    "#    - значение в столбце time больше значения аргумента time1\n",
    "#    - значение в столбце time меньше значения аргумента time2\n",
    "#    Используйте последовательную фильтрацию с помощью логической индексации.\n",
    "# 2) сгруппировать датафрейм genre_df по столбцу genre, взять один из его\n",
    "#    столбцов и посчитать методом count() количество записей для каждого из\n",
    "#    присутствующих жанров, получившийся Series записать в переменную\n",
    "#    genre_df_count\n",
    "# 3) отсортировать genre_df_count по убыванию встречаемости и сохранить\n",
    "#    в переменную genre_df_sorted\n",
    "# 4) вернуть Series из 10 первых значений genre_df_sorted, это будут топ-10\n",
    "#    популярных жанров (в указанный день, в заданное время)\n",
    "\n",
    "def genre_weekday(df, day, time1, time2):\n",
    "    # последовательная фильтрация\n",
    "    # оставляем в genre_df только те строки df, у которых день равен day\n",
    "    genre_df = df.loc[df.loc[:, 'day'] == day]\n",
    "    # оставляем в genre_df только те строки genre_df, у которых время меньше time2\n",
    "    genre_df = genre_df.loc[genre_df.loc[:,'time'] < time2]\n",
    "    # оставляем в genre_df только те строки genre_df, у которых время больше time1\n",
    "    genre_df = genre_df.loc[genre_df.loc[:,'time'] > time1]\n",
    "    #print(genre_df.columns)\n",
    "    # сгруппируем отфильтрованный датафрейм по столбцу с названиями жанров, возьмём столбец genre и посчитаем кол-во строк для каждого жанра методом count()\n",
    "    genre_df_grouped = genre_df.groupby('genre')['genre'].count()\n",
    "    #print(genre_df_grouped)\n",
    "    # отсортируем результат по убыванию (чтобы в начале Series оказались самые популярные жанры)\n",
    "    genre_df_sorted = genre_df_grouped.sort_values(ascending=False)\n",
    "    # вернём Series с 10 самыми популярными жанрами в указанный отрезок времени заданного дня\n",
    "    return genre_df_sorted[:10]\n",
    "\n",
    " \n"
   ]
  },
  {
   "cell_type": "markdown",
   "metadata": {
    "deletable": false,
    "editable": false,
    "id": "la2s2_PF_Zcu",
    "tags": [
     "start_task"
    ]
   },
   "source": [
    "**Задание 25**\n",
    "\n",
    "\n",
    "Cравните результаты функции `genre_weekday()` для Москвы и Санкт-Петербурга в понедельник утром (с 7:00 до 11:00) и в пятницу вечером (с 17:00 до 23:00):"
   ]
  },
  {
   "cell_type": "code",
   "execution_count": 141,
   "metadata": {
    "deletable": false,
    "id": "yz7itPUQ_Zcu"
   },
   "outputs": [
    {
     "data": {
      "text/plain": [
       "genre\n",
       "pop            781\n",
       "dance          549\n",
       "electronic     480\n",
       "rock           474\n",
       "hiphop         286\n",
       "ruspop         186\n",
       "world          181\n",
       "rusrap         175\n",
       "alternative    164\n",
       "unknown        161\n",
       "Name: genre, dtype: int64"
      ]
     },
     "execution_count": 141,
     "metadata": {},
     "output_type": "execute_result"
    }
   ],
   "source": [
    "# вызов функции для утра понедельника в Москве (вместо df — таблица moscow_general)\n",
    "# объекты, хранящие время, являются строками и сравниваются как строки\n",
    "# пример вызова: genre_weekday(moscow_general, 'Monday', '07:00', '11:00')\n",
    "genre_weekday(moscow_general, 'Monday', '07:00', '11:00')\n"
   ]
  },
  {
   "cell_type": "code",
   "execution_count": 142,
   "metadata": {
    "deletable": false,
    "id": "kwUcHPdy_Zcu"
   },
   "outputs": [
    {
     "data": {
      "text/plain": [
       "genre\n",
       "pop            218\n",
       "dance          182\n",
       "rock           162\n",
       "electronic     147\n",
       "hiphop          80\n",
       "ruspop          64\n",
       "alternative     58\n",
       "rusrap          55\n",
       "jazz            44\n",
       "classical       40\n",
       "Name: genre, dtype: int64"
      ]
     },
     "execution_count": 142,
     "metadata": {},
     "output_type": "execute_result"
    }
   ],
   "source": [
    "# вызов функции для утра понедельника в Петербурге (вместо df — таблица spb_general)\n",
    "genre_weekday(spb_general, 'Monday', '07:00', '11:00')"
   ]
  },
  {
   "cell_type": "code",
   "execution_count": 143,
   "metadata": {
    "deletable": false,
    "id": "EzXVRE1o_Zcu"
   },
   "outputs": [
    {
     "data": {
      "text/plain": [
       "genre\n",
       "pop            713\n",
       "rock           517\n",
       "dance          495\n",
       "electronic     482\n",
       "hiphop         273\n",
       "world          208\n",
       "ruspop         170\n",
       "alternative    163\n",
       "classical      163\n",
       "rusrap         142\n",
       "Name: genre, dtype: int64"
      ]
     },
     "execution_count": 143,
     "metadata": {},
     "output_type": "execute_result"
    }
   ],
   "source": [
    "# вызов функции для вечера пятницы в Москве\n",
    "genre_weekday(moscow_general, 'Friday', '17:00', '23:00')\n"
   ]
  },
  {
   "cell_type": "code",
   "execution_count": 144,
   "metadata": {
    "deletable": false,
    "id": "JZaEKu5v_Zcu"
   },
   "outputs": [
    {
     "data": {
      "text/plain": [
       "genre\n",
       "pop            256\n",
       "electronic     216\n",
       "rock           216\n",
       "dance          210\n",
       "hiphop          97\n",
       "alternative     63\n",
       "jazz            61\n",
       "classical       60\n",
       "rusrap          59\n",
       "world           54\n",
       "Name: genre, dtype: int64"
      ]
     },
     "execution_count": 144,
     "metadata": {},
     "output_type": "execute_result"
    }
   ],
   "source": [
    "# вызов функции для вечера пятницы в Петербурге\n",
    "genre_weekday(spb_general, 'Friday', '17:00', '23:00')\n"
   ]
  },
  {
   "cell_type": "markdown",
   "metadata": {
    "deletable": false,
    "editable": false,
    "id": "wrCe4MNX_Zcu"
   },
   "source": [
    "**Выводы**\n",
    "\n",
    "Если сравнить топ-10 жанров в понедельник утром, можно сделать такие выводы:\n",
    "\n",
    "1. В Москве и Петербурге слушают похожую музыку. Единственное отличие — в московский рейтинг вошёл жанр “world”, а в петербургский — джаз и классика.\n",
    "\n",
    "2. В Москве пропущенных значений оказалось так много, что значение `'unknown'` заняло десятое место среди самых популярных жанров. Значит, пропущенные значения занимают существенную долю в данных и угрожают достоверности исследования.\n",
    "\n",
    "Вечер пятницы не меняет эту картину. Некоторые жанры поднимаются немного выше, другие спускаются, но в целом топ-10 остаётся тем же самым.\n",
    "\n",
    "Таким образом, вторая гипотеза подтвердилась лишь частично:\n",
    "* Пользователи слушают похожую музыку в начале недели и в конце.\n",
    "* Разница между Москвой и Петербургом не слишком выражена. В Москве чаще слушают русскую популярную музыку, в Петербурге — джаз.\n",
    "\n",
    "Однако пропуски в данных ставят под сомнение этот результат. В Москве их так много, что рейтинг топ-10 мог бы выглядеть иначе, если бы не утерянные  данные о жанрах."
   ]
  },
  {
   "cell_type": "markdown",
   "metadata": {
    "deletable": false,
    "editable": false,
    "id": "JolODAqr_Zcu"
   },
   "source": [
    "### Жанровые предпочтения в Москве и Петербурге\n",
    "\n",
    "Гипотеза: Петербург — столица рэпа, музыку этого жанра там слушают чаще, чем в Москве.  А Москва — город контрастов, в котором, тем не менее, преобладает поп-музыка."
   ]
  },
  {
   "cell_type": "markdown",
   "metadata": {
    "deletable": false,
    "editable": false,
    "id": "DlegSvaT_Zcu",
    "tags": [
     "start_task"
    ]
   },
   "source": [
    "**Задание 26**\n",
    "\n",
    "Сгруппируйте таблицу `moscow_general` по жанру и посчитайте прослушивания треков каждого жанра методом `count()`. Затем отсортируйте результат в порядке убывания и сохраните его в таблице `moscow_genres`."
   ]
  },
  {
   "cell_type": "code",
   "execution_count": 146,
   "metadata": {
    "deletable": false,
    "id": "r19lIPke_Zcu"
   },
   "outputs": [],
   "source": [
    "# одной строкой: группировка таблицы moscow_general по столбцу 'genre', \n",
    "# подсчёт числа значений 'genre' в этой группировке методом count(), \n",
    "# сортировка получившегося Series в порядке убывания и сохранение в moscow_genres\n",
    "moscow_genres = moscow_general.groupby('genre')['genre'].count().sort_values(ascending=False)"
   ]
  },
  {
   "cell_type": "markdown",
   "metadata": {
    "deletable": false,
    "editable": false,
    "id": "6kMuomxTiIr8",
    "tags": [
     "start_task"
    ]
   },
   "source": [
    "**Задание 27**\n",
    "\n",
    "Выведите на экран первые десять строк `moscow_genres`:"
   ]
  },
  {
   "cell_type": "code",
   "execution_count": 147,
   "metadata": {
    "deletable": false,
    "id": "WhCSooF8_Zcv"
   },
   "outputs": [
    {
     "data": {
      "text/plain": [
       "genre\n",
       "pop            5892\n",
       "dance          4435\n",
       "rock           3965\n",
       "electronic     3786\n",
       "hiphop         2096\n",
       "classical      1616\n",
       "world          1432\n",
       "alternative    1379\n",
       "ruspop         1372\n",
       "rusrap         1161\n",
       "Name: genre, dtype: int64"
      ]
     },
     "execution_count": 147,
     "metadata": {},
     "output_type": "execute_result"
    }
   ],
   "source": [
    "# просмотр первых 10 строк moscow_genres\n",
    "moscow_genres.head(10)"
   ]
  },
  {
   "cell_type": "markdown",
   "metadata": {
    "deletable": false,
    "editable": false,
    "id": "cnPG2vnN_Zcv",
    "tags": [
     "start_task"
    ]
   },
   "source": [
    "**Задание 28**\n",
    "\n",
    "\n",
    "Теперь повторите то же и для Петербурга.\n",
    "\n",
    "Сгруппируйте таблицу `spb_general` по жанру. Посчитайте прослушивания треков каждого жанра. Результат отсортируйте в порядке убывания и сохраните в таблице `spb_genres`:\n"
   ]
  },
  {
   "cell_type": "code",
   "execution_count": 148,
   "metadata": {
    "deletable": false,
    "id": "gluLIpE7_Zcv"
   },
   "outputs": [],
   "source": [
    "# одной строкой: группировка таблицы spb_general по столбцу 'genre', \n",
    "# подсчёт числа значений 'genre' в этой группировке методом count(), \n",
    "# сортировка получившегося Series в порядке убывания и сохранение в spb_genres\n",
    "spb_genres = spb_general.groupby('genre')['genre'].count().sort_values(ascending=False)"
   ]
  },
  {
   "cell_type": "markdown",
   "metadata": {
    "deletable": false,
    "editable": false,
    "id": "5Doha_ODgyQ8",
    "tags": [
     "start_task"
    ]
   },
   "source": [
    "**Задание 29**\n",
    "\n",
    "Выведите на экран первые десять строк `spb_genres`:"
   ]
  },
  {
   "cell_type": "code",
   "execution_count": 149,
   "metadata": {
    "deletable": false,
    "id": "uaGJHjVU_Zcv"
   },
   "outputs": [
    {
     "data": {
      "text/plain": [
       "genre\n",
       "pop            2431\n",
       "dance          1932\n",
       "rock           1879\n",
       "electronic     1736\n",
       "hiphop          960\n",
       "alternative     649\n",
       "classical       646\n",
       "rusrap          564\n",
       "ruspop          538\n",
       "world           515\n",
       "Name: genre, dtype: int64"
      ]
     },
     "execution_count": 149,
     "metadata": {},
     "output_type": "execute_result"
    }
   ],
   "source": [
    "# просмотр первых 10 строк spb_genres\n",
    "spb_genres.head(10)\n"
   ]
  },
  {
   "cell_type": "markdown",
   "metadata": {
    "deletable": false,
    "editable": false,
    "id": "RY51YJYu_Zcv"
   },
   "source": [
    "**Выводы**"
   ]
  },
  {
   "cell_type": "markdown",
   "metadata": {
    "deletable": false,
    "editable": false,
    "id": "nVhnJEm__Zcv"
   },
   "source": [
    "Гипотеза частично подтвердилась:\n",
    "* Поп-музыка — самый популярный жанр в Москве, как и предполагала гипотеза. Более того, в топ-10 жанров встречается близкий жанр — русская популярная музыка.\n",
    "* Вопреки ожиданиям, рэп одинаково популярен в Москве и Петербурге. \n"
   ]
  },
  {
   "cell_type": "markdown",
   "metadata": {
    "deletable": false,
    "editable": false,
    "id": "ykKQ0N65_Zcv"
   },
   "source": [
    "## Итоги исследования"
   ]
  },
  {
   "cell_type": "markdown",
   "metadata": {
    "deletable": false,
    "editable": false,
    "id": "tjUwbHb3_Zcv"
   },
   "source": [
    "Вы проверили три гипотезы и установили:\n",
    "\n",
    "1. День недели по-разному влияет на активность пользователей в Москве и Петербурге. \n",
    "\n",
    "Первая гипотеза полностью подтвердилась.\n",
    "\n",
    "2. Музыкальные предпочтения не сильно меняются в течение недели — будь то Москва или Петербург. Небольшие различия заметны в начале недели, по понедельникам:\n",
    "* в Москве слушают музыку жанра “world”,\n",
    "* в Петербурге — джаз и классику.\n",
    "\n",
    "Таким образом, вторая гипотеза подтвердилась лишь отчасти. Этот результат мог оказаться иным, если бы не пропуски в данных.\n",
    "\n",
    "3. Во вкусах пользователей Москвы и Петербурга больше общего чем различий. Вопреки ожиданиям, предпочтения жанров в Петербурге напоминают московские.\n",
    "\n",
    "Третья гипотеза не подтвердилась. Если различия в предпочтениях и существуют, на основной массе пользователей они незаметны.\n",
    "\n",
    "**На практике исследования содержат проверки статистических гипотез.**\n",
    "Из данных одного сервиса не всегда можно сделать вывод о всех жителях города.\n",
    "Проверки статистических гипотез покажут, насколько они достоверны, исходя из имеющихся данных. \n",
    "С методами проверок гипотез вы ещё познакомитесь в следующих темах."
   ]
  }
 ],
 "metadata": {
  "ExecuteTimeLog": [
   {
    "duration": 510,
    "start_time": "2023-01-08T17:55:15.551Z"
   },
   {
    "duration": 201,
    "start_time": "2023-01-08T17:56:34.188Z"
   },
   {
    "duration": 28,
    "start_time": "2023-01-08T17:56:56.524Z"
   },
   {
    "duration": 32,
    "start_time": "2023-01-08T17:57:20.980Z"
   },
   {
    "duration": 42,
    "start_time": "2023-01-09T18:00:07.676Z"
   },
   {
    "duration": 414,
    "start_time": "2023-01-09T18:00:43.515Z"
   },
   {
    "duration": 431,
    "start_time": "2023-01-09T18:00:47.482Z"
   },
   {
    "duration": 29,
    "start_time": "2023-01-09T18:00:53.451Z"
   },
   {
    "duration": 16,
    "start_time": "2023-01-09T18:01:00.866Z"
   },
   {
    "duration": 11,
    "start_time": "2023-01-09T18:03:33.684Z"
   },
   {
    "duration": 4,
    "start_time": "2023-01-09T18:04:08.322Z"
   },
   {
    "duration": 28,
    "start_time": "2023-01-09T18:05:04.563Z"
   },
   {
    "duration": 38,
    "start_time": "2023-01-09T18:05:25.444Z"
   },
   {
    "duration": 23,
    "start_time": "2023-01-09T18:06:17.766Z"
   },
   {
    "duration": 45,
    "start_time": "2023-01-09T18:34:12.915Z"
   },
   {
    "duration": 374,
    "start_time": "2023-01-09T18:34:45.121Z"
   },
   {
    "duration": 229,
    "start_time": "2023-01-09T18:34:45.497Z"
   },
   {
    "duration": 15,
    "start_time": "2023-01-09T18:34:45.728Z"
   },
   {
    "duration": 29,
    "start_time": "2023-01-09T18:34:45.744Z"
   },
   {
    "duration": 2,
    "start_time": "2023-01-09T18:34:45.775Z"
   },
   {
    "duration": 20,
    "start_time": "2023-01-09T18:34:45.778Z"
   },
   {
    "duration": 11,
    "start_time": "2023-01-09T18:34:45.799Z"
   },
   {
    "duration": 11,
    "start_time": "2023-01-09T18:34:45.811Z"
   },
   {
    "duration": 26,
    "start_time": "2023-01-09T18:34:45.824Z"
   },
   {
    "duration": 6,
    "start_time": "2023-01-09T18:34:45.853Z"
   },
   {
    "duration": 6,
    "start_time": "2023-01-09T18:34:45.860Z"
   },
   {
    "duration": 5,
    "start_time": "2023-01-09T18:34:45.867Z"
   },
   {
    "duration": 9,
    "start_time": "2023-01-09T18:34:45.873Z"
   },
   {
    "duration": 5,
    "start_time": "2023-01-09T18:34:45.883Z"
   },
   {
    "duration": 11,
    "start_time": "2023-01-09T18:34:45.889Z"
   },
   {
    "duration": 6,
    "start_time": "2023-01-09T18:34:45.901Z"
   },
   {
    "duration": 7,
    "start_time": "2023-01-09T18:34:45.909Z"
   },
   {
    "duration": 6,
    "start_time": "2023-01-09T18:34:45.917Z"
   },
   {
    "duration": 9,
    "start_time": "2023-01-09T18:34:45.925Z"
   },
   {
    "duration": 6,
    "start_time": "2023-01-09T18:34:45.936Z"
   },
   {
    "duration": 31,
    "start_time": "2023-01-09T18:34:45.944Z"
   },
   {
    "duration": 5,
    "start_time": "2023-01-09T18:34:45.976Z"
   },
   {
    "duration": 6,
    "start_time": "2023-01-09T18:34:45.983Z"
   },
   {
    "duration": 5,
    "start_time": "2023-01-09T18:34:45.990Z"
   },
   {
    "duration": 24,
    "start_time": "2023-01-09T18:34:45.997Z"
   },
   {
    "duration": 6,
    "start_time": "2023-01-09T18:34:46.022Z"
   },
   {
    "duration": 8,
    "start_time": "2023-01-09T18:34:46.030Z"
   },
   {
    "duration": 6,
    "start_time": "2023-01-09T18:34:46.041Z"
   },
   {
    "duration": 7,
    "start_time": "2023-01-09T18:34:46.049Z"
   },
   {
    "duration": 45,
    "start_time": "2023-01-09T18:34:46.057Z"
   },
   {
    "duration": 0,
    "start_time": "2023-01-09T18:34:46.104Z"
   },
   {
    "duration": 0,
    "start_time": "2023-01-09T18:34:46.105Z"
   },
   {
    "duration": 0,
    "start_time": "2023-01-09T18:34:46.107Z"
   },
   {
    "duration": 0,
    "start_time": "2023-01-09T18:34:46.108Z"
   },
   {
    "duration": 0,
    "start_time": "2023-01-09T18:34:46.109Z"
   },
   {
    "duration": 0,
    "start_time": "2023-01-09T18:34:46.111Z"
   },
   {
    "duration": 0,
    "start_time": "2023-01-09T18:34:46.112Z"
   },
   {
    "duration": 0,
    "start_time": "2023-01-09T18:34:46.114Z"
   },
   {
    "duration": 15,
    "start_time": "2023-01-09T18:35:12.181Z"
   },
   {
    "duration": 79,
    "start_time": "2023-01-09T18:37:39.990Z"
   },
   {
    "duration": 10,
    "start_time": "2023-01-09T18:38:06.708Z"
   },
   {
    "duration": 10,
    "start_time": "2023-01-09T18:39:07.054Z"
   },
   {
    "duration": 10,
    "start_time": "2023-01-09T18:40:43.517Z"
   },
   {
    "duration": 8,
    "start_time": "2023-01-09T18:41:18.390Z"
   },
   {
    "duration": 11,
    "start_time": "2023-01-09T18:42:01.407Z"
   },
   {
    "duration": 8,
    "start_time": "2023-01-09T18:42:10.207Z"
   },
   {
    "duration": 9,
    "start_time": "2023-01-09T18:42:15.728Z"
   },
   {
    "duration": 2,
    "start_time": "2023-01-09T18:42:23.710Z"
   },
   {
    "duration": 400,
    "start_time": "2023-01-09T18:42:39.867Z"
   },
   {
    "duration": 159,
    "start_time": "2023-01-09T18:42:43.715Z"
   },
   {
    "duration": 17,
    "start_time": "2023-01-09T18:42:46.606Z"
   },
   {
    "duration": 32,
    "start_time": "2023-01-09T18:42:52.436Z"
   },
   {
    "duration": 9,
    "start_time": "2023-01-09T18:43:00.909Z"
   },
   {
    "duration": 12,
    "start_time": "2023-01-09T18:43:05.367Z"
   },
   {
    "duration": 4,
    "start_time": "2023-01-09T18:43:09.515Z"
   },
   {
    "duration": 43,
    "start_time": "2023-01-09T18:43:18.461Z"
   },
   {
    "duration": 22,
    "start_time": "2023-01-09T18:43:23.468Z"
   },
   {
    "duration": 31,
    "start_time": "2023-01-09T18:43:37.981Z"
   },
   {
    "duration": 67,
    "start_time": "2023-01-09T18:44:00.563Z"
   },
   {
    "duration": 71,
    "start_time": "2023-01-09T18:44:43.218Z"
   },
   {
    "duration": 67,
    "start_time": "2023-01-09T18:44:55.937Z"
   },
   {
    "duration": 785,
    "start_time": "2023-01-09T18:51:13.688Z"
   },
   {
    "duration": 710,
    "start_time": "2023-01-09T18:51:17.371Z"
   },
   {
    "duration": 8,
    "start_time": "2023-01-09T18:51:36.305Z"
   },
   {
    "duration": 11,
    "start_time": "2023-01-09T18:52:40.127Z"
   },
   {
    "duration": 7,
    "start_time": "2023-01-09T18:53:16.682Z"
   },
   {
    "duration": 11,
    "start_time": "2023-01-09T18:53:48.416Z"
   },
   {
    "duration": 12,
    "start_time": "2023-01-09T18:54:54.971Z"
   },
   {
    "duration": 49,
    "start_time": "2023-01-09T18:55:34.265Z"
   },
   {
    "duration": 43,
    "start_time": "2023-01-09T18:55:50.193Z"
   },
   {
    "duration": 11,
    "start_time": "2023-01-09T19:01:50.884Z"
   },
   {
    "duration": 10,
    "start_time": "2023-01-09T19:03:02.597Z"
   },
   {
    "duration": 9,
    "start_time": "2023-01-09T19:03:36.228Z"
   },
   {
    "duration": 41,
    "start_time": "2023-01-09T19:04:28.005Z"
   },
   {
    "duration": 52,
    "start_time": "2023-01-10T17:12:08.002Z"
   },
   {
    "duration": 425,
    "start_time": "2023-01-10T17:12:40.011Z"
   },
   {
    "duration": 515,
    "start_time": "2023-01-10T17:12:40.438Z"
   },
   {
    "duration": 18,
    "start_time": "2023-01-10T17:12:40.955Z"
   },
   {
    "duration": 48,
    "start_time": "2023-01-10T17:12:40.976Z"
   },
   {
    "duration": 3,
    "start_time": "2023-01-10T17:12:41.026Z"
   },
   {
    "duration": 11,
    "start_time": "2023-01-10T17:12:41.052Z"
   },
   {
    "duration": 19,
    "start_time": "2023-01-10T17:12:41.065Z"
   },
   {
    "duration": 8,
    "start_time": "2023-01-10T17:12:41.086Z"
   },
   {
    "duration": 57,
    "start_time": "2023-01-10T17:12:41.095Z"
   },
   {
    "duration": 22,
    "start_time": "2023-01-10T17:12:41.155Z"
   },
   {
    "duration": 28,
    "start_time": "2023-01-10T17:12:41.179Z"
   },
   {
    "duration": 111,
    "start_time": "2023-01-10T17:12:41.210Z"
   },
   {
    "duration": 113,
    "start_time": "2023-01-10T17:12:41.323Z"
   },
   {
    "duration": 71,
    "start_time": "2023-01-10T17:12:41.438Z"
   },
   {
    "duration": 59,
    "start_time": "2023-01-10T17:12:41.511Z"
   },
   {
    "duration": 14,
    "start_time": "2023-01-10T17:12:41.572Z"
   },
   {
    "duration": 42,
    "start_time": "2023-01-10T17:12:41.588Z"
   },
   {
    "duration": 20,
    "start_time": "2023-01-10T17:12:41.632Z"
   },
   {
    "duration": 5,
    "start_time": "2023-01-10T17:12:41.654Z"
   },
   {
    "duration": 6,
    "start_time": "2023-01-10T17:12:41.661Z"
   },
   {
    "duration": 7,
    "start_time": "2023-01-10T17:12:41.669Z"
   },
   {
    "duration": 7,
    "start_time": "2023-01-10T17:12:41.678Z"
   },
   {
    "duration": 5,
    "start_time": "2023-01-10T17:12:41.686Z"
   },
   {
    "duration": 6,
    "start_time": "2023-01-10T17:12:41.693Z"
   },
   {
    "duration": 8,
    "start_time": "2023-01-10T17:12:41.701Z"
   },
   {
    "duration": 6,
    "start_time": "2023-01-10T17:12:41.710Z"
   },
   {
    "duration": 11,
    "start_time": "2023-01-10T17:12:41.717Z"
   },
   {
    "duration": 3,
    "start_time": "2023-01-10T17:12:41.751Z"
   },
   {
    "duration": 7,
    "start_time": "2023-01-10T17:12:41.756Z"
   },
   {
    "duration": 80,
    "start_time": "2023-01-10T17:12:41.765Z"
   },
   {
    "duration": 0,
    "start_time": "2023-01-10T17:12:41.847Z"
   },
   {
    "duration": 0,
    "start_time": "2023-01-10T17:12:41.848Z"
   },
   {
    "duration": 0,
    "start_time": "2023-01-10T17:12:41.850Z"
   },
   {
    "duration": 0,
    "start_time": "2023-01-10T17:12:41.852Z"
   },
   {
    "duration": 0,
    "start_time": "2023-01-10T17:12:41.853Z"
   },
   {
    "duration": 0,
    "start_time": "2023-01-10T17:12:41.855Z"
   },
   {
    "duration": 0,
    "start_time": "2023-01-10T17:12:41.856Z"
   },
   {
    "duration": 0,
    "start_time": "2023-01-10T17:12:41.858Z"
   },
   {
    "duration": 2,
    "start_time": "2023-01-10T17:12:59.072Z"
   },
   {
    "duration": 3,
    "start_time": "2023-01-10T17:13:11.559Z"
   },
   {
    "duration": 181,
    "start_time": "2023-01-10T17:13:14.761Z"
   },
   {
    "duration": 10,
    "start_time": "2023-01-10T17:13:25.304Z"
   },
   {
    "duration": 5,
    "start_time": "2023-01-10T17:13:29.928Z"
   },
   {
    "duration": 21,
    "start_time": "2023-01-10T17:13:35.140Z"
   },
   {
    "duration": 27,
    "start_time": "2023-01-10T17:13:38.584Z"
   },
   {
    "duration": 71,
    "start_time": "2023-01-10T17:13:42.376Z"
   },
   {
    "duration": 85,
    "start_time": "2023-01-10T17:13:46.145Z"
   },
   {
    "duration": 63,
    "start_time": "2023-01-10T17:13:49.368Z"
   },
   {
    "duration": 40,
    "start_time": "2023-01-10T17:13:53.005Z"
   },
   {
    "duration": 12,
    "start_time": "2023-01-10T17:13:58.330Z"
   },
   {
    "duration": 42,
    "start_time": "2023-01-10T17:14:03.352Z"
   },
   {
    "duration": 3,
    "start_time": "2023-01-10T17:15:28.441Z"
   },
   {
    "duration": 11,
    "start_time": "2023-01-10T17:18:13.966Z"
   },
   {
    "duration": 111,
    "start_time": "2023-01-10T17:18:28.919Z"
   },
   {
    "duration": 5,
    "start_time": "2023-01-10T17:18:39.183Z"
   },
   {
    "duration": 51,
    "start_time": "2023-01-10T17:35:47.722Z"
   },
   {
    "duration": 5,
    "start_time": "2023-01-10T17:37:01.995Z"
   },
   {
    "duration": 14,
    "start_time": "2023-01-10T17:38:14.670Z"
   },
   {
    "duration": 8,
    "start_time": "2023-01-10T17:40:47.493Z"
   },
   {
    "duration": 16,
    "start_time": "2023-01-10T17:41:00.097Z"
   },
   {
    "duration": 11,
    "start_time": "2023-01-10T17:41:05.517Z"
   },
   {
    "duration": 12,
    "start_time": "2023-01-10T17:45:11.813Z"
   },
   {
    "duration": 5,
    "start_time": "2023-01-10T17:45:43.733Z"
   },
   {
    "duration": 5,
    "start_time": "2023-01-10T17:45:47.308Z"
   },
   {
    "duration": 81,
    "start_time": "2023-01-10T17:46:19.216Z"
   },
   {
    "duration": 70,
    "start_time": "2023-01-10T17:46:24.773Z"
   },
   {
    "duration": 12,
    "start_time": "2023-01-10T17:46:37.557Z"
   },
   {
    "duration": 13,
    "start_time": "2023-01-10T17:53:59.879Z"
   },
   {
    "duration": 6,
    "start_time": "2023-01-10T17:54:43.161Z"
   },
   {
    "duration": 182,
    "start_time": "2023-01-10T17:55:27.024Z"
   },
   {
    "duration": 16,
    "start_time": "2023-01-10T17:56:01.073Z"
   },
   {
    "duration": 14,
    "start_time": "2023-01-10T17:56:14.024Z"
   },
   {
    "duration": 24,
    "start_time": "2023-01-10T17:56:29.160Z"
   },
   {
    "duration": 16,
    "start_time": "2023-01-10T17:56:42.792Z"
   },
   {
    "duration": 4,
    "start_time": "2023-01-10T17:57:01.176Z"
   },
   {
    "duration": 3,
    "start_time": "2023-01-10T17:57:19.538Z"
   },
   {
    "duration": 244,
    "start_time": "2023-01-10T17:57:22.840Z"
   },
   {
    "duration": 18,
    "start_time": "2023-01-10T17:57:26.287Z"
   },
   {
    "duration": 10,
    "start_time": "2023-01-10T17:57:37.751Z"
   },
   {
    "duration": 31,
    "start_time": "2023-01-10T17:57:46.344Z"
   },
   {
    "duration": 114,
    "start_time": "2023-01-10T17:57:53.528Z"
   },
   {
    "duration": 99,
    "start_time": "2023-01-10T17:57:56.440Z"
   },
   {
    "duration": 19,
    "start_time": "2023-01-10T17:58:08.993Z"
   },
   {
    "duration": 64,
    "start_time": "2023-01-10T17:58:16.378Z"
   },
   {
    "duration": 58,
    "start_time": "2023-01-10T17:58:21.488Z"
   },
   {
    "duration": 75,
    "start_time": "2023-01-10T18:13:40.894Z"
   },
   {
    "duration": 4,
    "start_time": "2023-01-10T18:14:02.719Z"
   },
   {
    "duration": 22,
    "start_time": "2023-01-10T18:15:22.551Z"
   },
   {
    "duration": 16,
    "start_time": "2023-01-10T18:15:51.257Z"
   },
   {
    "duration": 3,
    "start_time": "2023-01-10T18:17:53.967Z"
   },
   {
    "duration": 11,
    "start_time": "2023-01-10T18:17:58.737Z"
   },
   {
    "duration": 12,
    "start_time": "2023-01-10T18:30:03.092Z"
   },
   {
    "duration": 69,
    "start_time": "2023-01-10T18:31:40.305Z"
   },
   {
    "duration": 9,
    "start_time": "2023-01-10T18:31:55.428Z"
   },
   {
    "duration": 13,
    "start_time": "2023-01-10T18:32:42.323Z"
   },
   {
    "duration": 30,
    "start_time": "2023-01-10T18:33:40.292Z"
   },
   {
    "duration": 28,
    "start_time": "2023-01-10T18:34:04.469Z"
   },
   {
    "duration": 6,
    "start_time": "2023-01-10T18:36:49.518Z"
   },
   {
    "duration": 19,
    "start_time": "2023-01-10T18:36:58.895Z"
   },
   {
    "duration": 3,
    "start_time": "2023-01-10T18:43:59.697Z"
   },
   {
    "duration": 176,
    "start_time": "2023-01-10T18:44:04.234Z"
   },
   {
    "duration": 8,
    "start_time": "2023-01-10T18:44:20.883Z"
   },
   {
    "duration": 21,
    "start_time": "2023-01-10T18:44:29.435Z"
   },
   {
    "duration": 73,
    "start_time": "2023-01-10T18:44:35.473Z"
   },
   {
    "duration": 96,
    "start_time": "2023-01-10T18:44:40.171Z"
   },
   {
    "duration": 12,
    "start_time": "2023-01-10T18:44:47.800Z"
   },
   {
    "duration": 44,
    "start_time": "2023-01-10T18:44:55.419Z"
   },
   {
    "duration": 56,
    "start_time": "2023-01-10T18:45:00.508Z"
   },
   {
    "duration": 21,
    "start_time": "2023-01-10T18:46:11.139Z"
   },
   {
    "duration": 19,
    "start_time": "2023-01-10T18:47:13.140Z"
   },
   {
    "duration": 13,
    "start_time": "2023-01-10T18:47:35.783Z"
   },
   {
    "duration": 14,
    "start_time": "2023-01-10T18:47:38.496Z"
   },
   {
    "duration": 11,
    "start_time": "2023-01-10T18:50:24.542Z"
   },
   {
    "duration": 16,
    "start_time": "2023-01-10T18:52:20.583Z"
   },
   {
    "duration": 9,
    "start_time": "2023-01-10T18:54:50.168Z"
   },
   {
    "duration": 21,
    "start_time": "2023-01-10T18:55:29.886Z"
   },
   {
    "duration": 41,
    "start_time": "2023-01-10T18:56:06.377Z"
   },
   {
    "duration": 21,
    "start_time": "2023-01-10T18:56:56.249Z"
   },
   {
    "duration": 26,
    "start_time": "2023-01-10T18:57:37.905Z"
   },
   {
    "duration": 29,
    "start_time": "2023-01-10T18:57:54.647Z"
   },
   {
    "duration": 18,
    "start_time": "2023-01-10T18:58:16.512Z"
   },
   {
    "duration": 29,
    "start_time": "2023-01-10T18:59:24.459Z"
   },
   {
    "duration": 19,
    "start_time": "2023-01-10T18:59:53.849Z"
   },
   {
    "duration": 20,
    "start_time": "2023-01-10T19:06:45.813Z"
   },
   {
    "duration": 29,
    "start_time": "2023-01-10T19:06:58.042Z"
   },
   {
    "duration": 20,
    "start_time": "2023-01-10T19:07:22.028Z"
   },
   {
    "duration": 23,
    "start_time": "2023-01-10T19:12:41.607Z"
   },
   {
    "duration": 17,
    "start_time": "2023-01-10T19:13:00.492Z"
   },
   {
    "duration": 14,
    "start_time": "2023-01-10T19:14:45.641Z"
   },
   {
    "duration": 15,
    "start_time": "2023-01-10T19:17:24.641Z"
   },
   {
    "duration": 15,
    "start_time": "2023-01-10T19:18:24.880Z"
   },
   {
    "duration": 13,
    "start_time": "2023-01-10T19:20:26.996Z"
   },
   {
    "duration": 5,
    "start_time": "2023-01-10T19:20:47.373Z"
   },
   {
    "duration": 11,
    "start_time": "2023-01-10T19:20:51.333Z"
   },
   {
    "duration": 11,
    "start_time": "2023-01-10T19:21:05.537Z"
   },
   {
    "duration": 4,
    "start_time": "2023-01-10T19:21:25.467Z"
   },
   {
    "duration": 21,
    "start_time": "2023-01-10T19:21:28.171Z"
   },
   {
    "duration": 5,
    "start_time": "2023-01-10T19:22:46.695Z"
   },
   {
    "duration": 6,
    "start_time": "2023-01-10T19:22:52.570Z"
   },
   {
    "duration": 18,
    "start_time": "2023-01-10T19:22:55.798Z"
   },
   {
    "duration": 16,
    "start_time": "2023-01-10T19:23:56.934Z"
   },
   {
    "duration": 20,
    "start_time": "2023-01-10T19:25:15.733Z"
   },
   {
    "duration": 25,
    "start_time": "2023-01-10T19:25:21.844Z"
   },
   {
    "duration": 25,
    "start_time": "2023-01-10T19:25:29.532Z"
   },
   {
    "duration": 16,
    "start_time": "2023-01-10T19:25:57.133Z"
   },
   {
    "duration": 33,
    "start_time": "2023-01-10T19:26:39.589Z"
   },
   {
    "duration": 23,
    "start_time": "2023-01-10T19:26:42.317Z"
   },
   {
    "duration": 71,
    "start_time": "2023-01-10T19:31:56.361Z"
   },
   {
    "duration": 21,
    "start_time": "2023-01-10T19:32:03.832Z"
   },
   {
    "duration": 21,
    "start_time": "2023-01-10T19:32:21.742Z"
   },
   {
    "duration": 21,
    "start_time": "2023-01-10T19:35:40.722Z"
   },
   {
    "duration": 415,
    "start_time": "2023-01-11T10:14:15.900Z"
   },
   {
    "duration": 224,
    "start_time": "2023-01-11T10:14:19.576Z"
   },
   {
    "duration": 13,
    "start_time": "2023-01-11T10:14:29.456Z"
   },
   {
    "duration": 17,
    "start_time": "2023-01-11T10:14:42.830Z"
   },
   {
    "duration": 65,
    "start_time": "2023-01-11T10:14:51.112Z"
   },
   {
    "duration": 11,
    "start_time": "2023-01-11T10:15:00.847Z"
   },
   {
    "duration": 58,
    "start_time": "2023-01-11T10:15:22.043Z"
   },
   {
    "duration": 17,
    "start_time": "2023-01-11T10:15:35.287Z"
   },
   {
    "duration": 16,
    "start_time": "2023-01-11T10:16:29.842Z"
   },
   {
    "duration": 8,
    "start_time": "2023-01-11T10:17:51.303Z"
   },
   {
    "duration": 40,
    "start_time": "2023-01-11T10:34:45.952Z"
   },
   {
    "duration": 6,
    "start_time": "2023-01-11T10:34:58.397Z"
   },
   {
    "duration": 80,
    "start_time": "2023-01-11T10:35:46.349Z"
   },
   {
    "duration": 17,
    "start_time": "2023-01-11T10:36:59.711Z"
   },
   {
    "duration": 7,
    "start_time": "2023-01-11T10:37:15.458Z"
   },
   {
    "duration": 22,
    "start_time": "2023-01-11T10:37:20.470Z"
   },
   {
    "duration": 5,
    "start_time": "2023-01-11T10:43:14.863Z"
   },
   {
    "duration": 19,
    "start_time": "2023-01-11T10:43:18.578Z"
   },
   {
    "duration": 15,
    "start_time": "2023-01-11T10:45:20.763Z"
   },
   {
    "duration": 11,
    "start_time": "2023-01-11T10:45:23.780Z"
   },
   {
    "duration": 7,
    "start_time": "2023-01-11T10:45:29.461Z"
   },
   {
    "duration": 19,
    "start_time": "2023-01-11T10:45:34.372Z"
   },
   {
    "duration": 4,
    "start_time": "2023-01-11T10:46:51.959Z"
   },
   {
    "duration": 34,
    "start_time": "2023-01-11T10:46:55.095Z"
   },
   {
    "duration": 5,
    "start_time": "2023-01-11T10:49:12.170Z"
   },
   {
    "duration": 18,
    "start_time": "2023-01-11T10:49:15.523Z"
   },
   {
    "duration": 5,
    "start_time": "2023-01-11T10:49:32.243Z"
   },
   {
    "duration": 23,
    "start_time": "2023-01-11T10:49:35.719Z"
   },
   {
    "duration": 4,
    "start_time": "2023-01-11T10:50:20.860Z"
   },
   {
    "duration": 27,
    "start_time": "2023-01-11T10:50:23.790Z"
   },
   {
    "duration": 4,
    "start_time": "2023-01-11T10:54:24.531Z"
   },
   {
    "duration": 20,
    "start_time": "2023-01-11T10:54:26.939Z"
   },
   {
    "duration": 4,
    "start_time": "2023-01-11T10:56:43.336Z"
   },
   {
    "duration": 19,
    "start_time": "2023-01-11T10:56:46.809Z"
   },
   {
    "duration": 8,
    "start_time": "2023-01-11T11:01:54.907Z"
   },
   {
    "duration": 22,
    "start_time": "2023-01-11T11:01:58.442Z"
   },
   {
    "duration": 14,
    "start_time": "2023-01-11T11:03:27.516Z"
   },
   {
    "duration": 7,
    "start_time": "2023-01-11T11:04:42.766Z"
   },
   {
    "duration": 8,
    "start_time": "2023-01-11T11:05:17.408Z"
   },
   {
    "duration": 13,
    "start_time": "2023-01-11T11:06:30.152Z"
   },
   {
    "duration": 9,
    "start_time": "2023-01-11T11:09:36.838Z"
   },
   {
    "duration": 27,
    "start_time": "2023-01-11T11:09:47.366Z"
   },
   {
    "duration": 4,
    "start_time": "2023-01-11T11:11:49.986Z"
   },
   {
    "duration": 21,
    "start_time": "2023-01-11T11:11:55.166Z"
   },
   {
    "duration": 5,
    "start_time": "2023-01-11T11:14:18.943Z"
   },
   {
    "duration": 27,
    "start_time": "2023-01-11T11:14:21.960Z"
   },
   {
    "duration": 5,
    "start_time": "2023-01-11T11:20:34.244Z"
   },
   {
    "duration": 33,
    "start_time": "2023-01-11T11:20:37.194Z"
   },
   {
    "duration": 25,
    "start_time": "2023-01-11T11:23:36.834Z"
   },
   {
    "duration": 4,
    "start_time": "2023-01-11T11:23:54.414Z"
   },
   {
    "duration": 4,
    "start_time": "2023-01-11T11:23:59.240Z"
   },
   {
    "duration": 21,
    "start_time": "2023-01-11T11:24:02.144Z"
   },
   {
    "duration": 4,
    "start_time": "2023-01-11T11:25:32.638Z"
   },
   {
    "duration": 25,
    "start_time": "2023-01-11T11:25:35.284Z"
   },
   {
    "duration": 8,
    "start_time": "2023-01-11T11:25:43.698Z"
   },
   {
    "duration": 26,
    "start_time": "2023-01-11T11:25:46.345Z"
   },
   {
    "duration": 6,
    "start_time": "2023-01-11T11:26:43.609Z"
   },
   {
    "duration": 20,
    "start_time": "2023-01-11T11:26:46.133Z"
   },
   {
    "duration": 7,
    "start_time": "2023-01-11T11:27:04.653Z"
   },
   {
    "duration": 31,
    "start_time": "2023-01-11T11:27:08.137Z"
   },
   {
    "duration": 4,
    "start_time": "2023-01-11T11:31:35.810Z"
   },
   {
    "duration": 25,
    "start_time": "2023-01-11T11:31:38.666Z"
   },
   {
    "duration": 6,
    "start_time": "2023-01-11T11:33:08.497Z"
   },
   {
    "duration": 23,
    "start_time": "2023-01-11T11:33:14.066Z"
   },
   {
    "duration": 6,
    "start_time": "2023-01-11T11:35:05.387Z"
   },
   {
    "duration": 6,
    "start_time": "2023-01-11T11:35:24.771Z"
   },
   {
    "duration": 31,
    "start_time": "2023-01-11T11:35:28.004Z"
   },
   {
    "duration": 5,
    "start_time": "2023-01-11T11:35:59.989Z"
   },
   {
    "duration": 30,
    "start_time": "2023-01-11T11:36:01.684Z"
   },
   {
    "duration": 4,
    "start_time": "2023-01-11T11:40:29.185Z"
   },
   {
    "duration": 20,
    "start_time": "2023-01-11T11:40:31.854Z"
   },
   {
    "duration": 4,
    "start_time": "2023-01-11T11:41:13.254Z"
   },
   {
    "duration": 22,
    "start_time": "2023-01-11T11:41:15.183Z"
   },
   {
    "duration": 13,
    "start_time": "2023-01-11T11:41:59.341Z"
   },
   {
    "duration": 14,
    "start_time": "2023-01-11T11:42:00.671Z"
   },
   {
    "duration": 30,
    "start_time": "2023-01-11T11:42:07.399Z"
   },
   {
    "duration": 9,
    "start_time": "2023-01-11T11:43:06.154Z"
   },
   {
    "duration": 8,
    "start_time": "2023-01-11T11:45:41.096Z"
   },
   {
    "duration": 30,
    "start_time": "2023-01-11T11:45:48.055Z"
   },
   {
    "duration": 26,
    "start_time": "2023-01-11T11:46:28.087Z"
   },
   {
    "duration": 66,
    "start_time": "2023-01-11T11:47:10.723Z"
   },
   {
    "duration": 22,
    "start_time": "2023-01-11T11:47:28.941Z"
   },
   {
    "duration": 34,
    "start_time": "2023-01-11T11:48:09.015Z"
   },
   {
    "duration": 21,
    "start_time": "2023-01-11T11:48:30.076Z"
   },
   {
    "duration": 17,
    "start_time": "2023-01-11T18:16:39.403Z"
   },
   {
    "duration": 22,
    "start_time": "2023-01-11T18:19:49.674Z"
   },
   {
    "duration": 8,
    "start_time": "2023-01-11T18:20:16.913Z"
   },
   {
    "duration": 14,
    "start_time": "2023-01-11T18:21:08.858Z"
   },
   {
    "duration": 8,
    "start_time": "2023-01-11T18:21:31.978Z"
   },
   {
    "duration": 10,
    "start_time": "2023-01-11T18:23:36.363Z"
   },
   {
    "duration": 4,
    "start_time": "2023-01-11T18:24:11.291Z"
   },
   {
    "duration": 35,
    "start_time": "2023-01-11T18:26:34.741Z"
   },
   {
    "duration": 36,
    "start_time": "2023-01-11T18:27:06.748Z"
   },
   {
    "duration": 13,
    "start_time": "2023-01-11T18:28:12.041Z"
   },
   {
    "duration": 12,
    "start_time": "2023-01-11T18:28:51.814Z"
   },
   {
    "duration": 6,
    "start_time": "2023-01-11T18:30:09.943Z"
   },
   {
    "duration": 21,
    "start_time": "2023-01-11T18:30:14.610Z"
   },
   {
    "duration": 14,
    "start_time": "2023-01-11T18:30:18.206Z"
   },
   {
    "duration": 23,
    "start_time": "2023-01-11T18:30:20.888Z"
   },
   {
    "duration": 13,
    "start_time": "2023-01-11T18:30:23.446Z"
   },
   {
    "duration": 14,
    "start_time": "2023-01-11T18:31:00.040Z"
   },
   {
    "duration": 21,
    "start_time": "2023-01-11T18:31:41.011Z"
   },
   {
    "duration": 36,
    "start_time": "2023-01-11T18:31:55.114Z"
   },
   {
    "duration": 20,
    "start_time": "2023-01-11T18:33:10.745Z"
   },
   {
    "duration": 13,
    "start_time": "2023-01-11T18:33:14.141Z"
   },
   {
    "duration": 10,
    "start_time": "2023-01-11T18:33:49.539Z"
   },
   {
    "duration": 8,
    "start_time": "2023-01-11T18:33:52.370Z"
   },
   {
    "duration": 11,
    "start_time": "2023-01-11T18:34:34.397Z"
   },
   {
    "duration": 18,
    "start_time": "2023-01-11T18:34:38.072Z"
   },
   {
    "duration": 13,
    "start_time": "2023-01-11T18:34:42.895Z"
   },
   {
    "duration": 9,
    "start_time": "2023-01-11T18:34:46.865Z"
   },
   {
    "duration": 8,
    "start_time": "2023-01-11T18:36:51.868Z"
   },
   {
    "duration": 11,
    "start_time": "2023-01-11T18:36:55.042Z"
   },
   {
    "duration": 21,
    "start_time": "2023-01-11T18:38:29.411Z"
   },
   {
    "duration": 13,
    "start_time": "2023-01-11T18:38:32.589Z"
   },
   {
    "duration": 6,
    "start_time": "2023-01-11T18:39:51.933Z"
   },
   {
    "duration": 21,
    "start_time": "2023-01-11T18:39:59.274Z"
   },
   {
    "duration": 14,
    "start_time": "2023-01-11T18:40:01.314Z"
   },
   {
    "duration": 24,
    "start_time": "2023-01-11T18:40:04.570Z"
   },
   {
    "duration": 14,
    "start_time": "2023-01-11T18:40:07.866Z"
   },
   {
    "duration": 4,
    "start_time": "2023-01-11T18:40:50.371Z"
   },
   {
    "duration": 20,
    "start_time": "2023-01-11T18:40:55.555Z"
   },
   {
    "duration": 15,
    "start_time": "2023-01-11T18:41:32.267Z"
   },
   {
    "duration": 23,
    "start_time": "2023-01-11T18:41:36.100Z"
   },
   {
    "duration": 16,
    "start_time": "2023-01-11T18:41:39.748Z"
   },
   {
    "duration": 4,
    "start_time": "2023-01-11T18:42:09.600Z"
   },
   {
    "duration": 26,
    "start_time": "2023-01-11T18:42:14.884Z"
   },
   {
    "duration": 21,
    "start_time": "2023-01-11T18:42:19.963Z"
   },
   {
    "duration": 4,
    "start_time": "2023-01-11T18:42:33.094Z"
   },
   {
    "duration": 18,
    "start_time": "2023-01-11T18:42:36.684Z"
   },
   {
    "duration": 12,
    "start_time": "2023-01-11T18:42:39.771Z"
   },
   {
    "duration": 20,
    "start_time": "2023-01-11T18:42:42.763Z"
   },
   {
    "duration": 14,
    "start_time": "2023-01-11T18:42:45.736Z"
   },
   {
    "duration": 4,
    "start_time": "2023-01-11T18:47:40.383Z"
   },
   {
    "duration": 24,
    "start_time": "2023-01-11T18:47:44.559Z"
   },
   {
    "duration": 4,
    "start_time": "2023-01-11T18:48:32.254Z"
   },
   {
    "duration": 20,
    "start_time": "2023-01-11T18:48:35.503Z"
   },
   {
    "duration": 5,
    "start_time": "2023-01-11T18:48:43.086Z"
   },
   {
    "duration": 28,
    "start_time": "2023-01-11T18:48:46.550Z"
   },
   {
    "duration": 5,
    "start_time": "2023-01-11T18:49:47.746Z"
   },
   {
    "duration": 22,
    "start_time": "2023-01-11T18:49:50.551Z"
   },
   {
    "duration": 14,
    "start_time": "2023-01-11T18:49:55.271Z"
   },
   {
    "duration": 18,
    "start_time": "2023-01-11T18:49:59.486Z"
   },
   {
    "duration": 12,
    "start_time": "2023-01-11T18:50:02.895Z"
   },
   {
    "duration": 11,
    "start_time": "2023-01-11T18:50:42.911Z"
   },
   {
    "duration": 12,
    "start_time": "2023-01-11T18:50:56.735Z"
   },
   {
    "duration": 5,
    "start_time": "2023-01-11T18:51:02.500Z"
   },
   {
    "duration": 8,
    "start_time": "2023-01-11T18:51:23.633Z"
   },
   {
    "duration": 6,
    "start_time": "2023-01-11T18:51:26.152Z"
   }
  ],
  "colab": {
   "collapsed_sections": [
    "E0vqbgi9ay0H",
    "VUC88oWjTJw2"
   ],
   "name": "automatization_template_upd4.ipynb",
   "provenance": []
  },
  "kernelspec": {
   "display_name": "Python 3 (ipykernel)",
   "language": "python",
   "name": "python3"
  },
  "language_info": {
   "codemirror_mode": {
    "name": "ipython",
    "version": 3
   },
   "file_extension": ".py",
   "mimetype": "text/x-python",
   "name": "python",
   "nbconvert_exporter": "python",
   "pygments_lexer": "ipython3",
   "version": "3.9.5"
  },
  "toc": {
   "base_numbering": 1,
   "nav_menu": {
    "height": "215px",
    "width": "403px"
   },
   "number_sections": true,
   "sideBar": true,
   "skip_h1_title": true,
   "title_cell": "Table of Contents",
   "title_sidebar": "Contents",
   "toc_cell": false,
   "toc_position": {
    "height": "calc(100% - 180px)",
    "left": "10px",
    "top": "150px",
    "width": "285.825px"
   },
   "toc_section_display": true,
   "toc_window_display": false
  }
 },
 "nbformat": 4,
 "nbformat_minor": 1
}

{
  "cells": [
    {
      "cell_type": "markdown",
      "metadata": {
        "id": "view-in-github",
        "colab_type": "text"
      },
      "source": [
        "<a href=\"https://colab.research.google.com/github/Tiger-A/Yandex_Data-Science/blob/master/Copy_of_%D0%A1%D0%B2%D0%BE%D0%B4%D0%BD%D0%B0%D1%8F_%D1%82%D0%B0%D0%B1%D0%BB%D0%B8%D1%86%D0%B0_%D0%B2_pandas.ipynb\" target=\"_parent\"><img src=\"https://colab.research.google.com/assets/colab-badge.svg\" alt=\"Open In Colab\"/></a>"
      ]
    },
    {
      "cell_type": "markdown",
      "metadata": {
        "id": "JqcOsJJej8Et"
      },
      "source": [
        "<a href=\"https://colab.research.google.com/github/dm-fedorov/pandas_basic/blob/master/быстрое%20введение%20в%20pandas/Сводная%20таблица%20в%20pandas.ipynb\" target=\"_blank\"><img align=\"left\" src=\"https://colab.research.google.com/assets/colab-badge.svg\" alt=\"Open in Colab\" title=\"Open and Execute in Google Colaboratory\"></a>"
      ]
    },
    {
      "cell_type": "markdown",
      "metadata": {
        "id": "7PUq9dQHj8Ey"
      },
      "source": [
        "*Сводная таблица* - это мощный инструмент для обобщения и представления данных. \n",
        "\n",
        "В Pandas есть функция [`DataFrame.pivot_table()`](http://pandas.pydata.org/pandas-docs/stable/generated/pandas.DataFrame.pivot_table.html), которая позволяет быстро преобразовать [`DataFrame`](https://pandas.pydata.org/pandas-docs/stable/reference/api/pandas.DataFrame.html) в сводную таблицу.\n",
        "\n",
        "<a href=\"https://t.me/init_python\"><img src=\"https://dfedorov.spb.ru/pandas/logo-telegram.png\" width=\"35\" height=\"35\" alt=\"telegram\" align=\"left\"></a>"
      ]
    },
    {
      "cell_type": "markdown",
      "metadata": {
        "id": "2-aFna8Aj8Ez"
      },
      "source": [
        "Обобщенная схема работы функции `pivot_table`:"
      ]
    },
    {
      "cell_type": "markdown",
      "metadata": {
        "id": "XcMeDWamj8Ez"
      },
      "source": [
        "<img src=\"https://raw.githubusercontent.com/dm-fedorov/pandas_basic/master/pic/pivot_table_pandas.png\" >"
      ]
    },
    {
      "cell_type": "markdown",
      "metadata": {
        "id": "r9Ql1mNzj8E0"
      },
      "source": [
        "Эта функция очень полезна, но иногда бывает сложно запомнить, как ее использовать для форматирования данных нужным вам способом.\n",
        "\n",
        "В этом Блокноте рассказывается, как использовать `pivot_table`.\n",
        "\n",
        "Полный текст оригинальной статьи находится [здесь](http://pbpython.com/pandas-pivot-table-explained.html)."
      ]
    },
    {
      "cell_type": "markdown",
      "metadata": {
        "id": "dCqKywcgj8E0"
      },
      "source": [
        "В этом сценарии я собираюсь отслеживать воронку (план) продаж (также называемую воронкой, funnel). Основная проблема заключается в том, что некоторые циклы продаж очень длинные (например, \"корпоративное программное обеспечение\", капитальное оборудование и т.д.), и руководство хочет отслеживать их детально в течение года.\n",
        "\n",
        "Типичные вопросы, относящиеся к таким данным, включают: \n",
        "- Какой доход находится в воронке (плане продаж)? \n",
        "- Какие продукты находятся в воронке? \n",
        "- У кого какие продукты на каком этапе? \n",
        "- Насколько вероятно, что мы закроем сделки к концу года?"
      ]
    },
    {
      "cell_type": "code",
      "execution_count": null,
      "metadata": {
        "jupyter": {
          "outputs_hidden": false
        },
        "id": "R0dtCTJEj8E1"
      },
      "outputs": [],
      "source": [
        "import pandas as pd\n",
        "import numpy as np"
      ]
    },
    {
      "cell_type": "markdown",
      "metadata": {
        "id": "f1iPtHkqj8E2"
      },
      "source": [
        "Прочтите данные о нашей воронке продаж в `DataFrame`:"
      ]
    },
    {
      "cell_type": "code",
      "execution_count": null,
      "metadata": {
        "jupyter": {
          "outputs_hidden": false
        },
        "id": "2289G8P_j8E3"
      },
      "outputs": [],
      "source": [
        "df = pd.read_excel(\"https://github.com/dm-fedorov/pandas_basic/raw/master/%D0%B1%D1%8B%D1%81%D1%82%D1%80%D0%BE%D0%B5%20%D0%B2%D0%B2%D0%B5%D0%B4%D0%B5%D0%BD%D0%B8%D0%B5%20%D0%B2%20pandas/data/salesfunnel.xlsx\")\n",
        "df.head()\n",
        "# Счет, Название компании, Представитель компании, Менеджер по продажам, Продукт, Кол-во, Стоимость, Статус сделки"
      ]
    },
    {
      "cell_type": "markdown",
      "metadata": {
        "id": "uEW5PV9qj8E3"
      },
      "source": [
        "Для удобства давайте представим столбец `Status` как [категориальную переменную](https://pandas.pydata.org/pandas-docs/stable/user_guide/categorical.html) (`category`) и установим порядок, в котором хотим просматривать.\n",
        "\n",
        "Это не является строго обязательным, но помогает поддерживать желаемый порядок при работе с данными."
      ]
    },
    {
      "cell_type": "code",
      "execution_count": null,
      "metadata": {
        "jupyter": {
          "outputs_hidden": false
        },
        "id": "M6pWU78jj8E4"
      },
      "outputs": [],
      "source": [
        "df[\"Status\"] = df[\"Status\"].astype(\"category\")\n",
        "df[\"Status\"].cat.set_categories([\"won\", \"pending\", \"presented\", \"declined\"], inplace=True)"
      ]
    },
    {
      "cell_type": "code",
      "execution_count": null,
      "metadata": {
        "id": "MdXclJ8nj8E4"
      },
      "outputs": [],
      "source": [
        "df.info()"
      ]
    },
    {
      "cell_type": "markdown",
      "metadata": {
        "id": "Yi13hQnUj8E4"
      },
      "source": [
        "# Поворот данных"
      ]
    },
    {
      "cell_type": "markdown",
      "metadata": {
        "id": "gbuKBJrqj8E5"
      },
      "source": [
        "Создавать сводную таблицу (`pivot table`) проще всего последовательно. Добавляйте элементы по одному и проверяйте каждый шаг, чтобы убедиться, что вы получаете ожидаемые результаты.\n",
        "\n",
        "Самая простая сводная таблица должна иметь `DataFrame` и индекс (`index`). В этом примере давайте использовать `Name` в качестве индекса:"
      ]
    },
    {
      "cell_type": "code",
      "execution_count": null,
      "metadata": {
        "jupyter": {
          "outputs_hidden": false
        },
        "id": "mMvTO4Xcj8E5"
      },
      "outputs": [],
      "source": [
        "pd.pivot_table(df, \n",
        "               index=[\"Name\"])"
      ]
    },
    {
      "cell_type": "markdown",
      "metadata": {
        "id": "qVLtCVvqj8E5"
      },
      "source": [
        "У вас может быть несколько индексов. Фактически, большинство аргументов `pivot_table` могут принимать несколько значений в качестве элементов списка:"
      ]
    },
    {
      "cell_type": "code",
      "execution_count": null,
      "metadata": {
        "jupyter": {
          "outputs_hidden": false
        },
        "id": "yX1MrAKuj8E5"
      },
      "outputs": [],
      "source": [
        "pd.pivot_table(df, \n",
        "               index=[\"Name\", \"Rep\", \"Manager\"])"
      ]
    },
    {
      "cell_type": "markdown",
      "metadata": {
        "id": "1h-vK1bzj8E6"
      },
      "source": [
        "Это интересно, но не особо полезно. \n",
        "\n",
        "Мы хотим посмотреть на эти данные со стороны менеджера (`Manager`) и директора (`Director`). Это достаточно просто сделать, изменив индекс:"
      ]
    },
    {
      "cell_type": "code",
      "execution_count": null,
      "metadata": {
        "jupyter": {
          "outputs_hidden": false
        },
        "id": "ym3LG2sHj8E6"
      },
      "outputs": [],
      "source": [
        "pd.pivot_table(df, \n",
        "               index=[\"Manager\", \"Rep\"])"
      ]
    },
    {
      "cell_type": "markdown",
      "metadata": {
        "id": "PQD5xVXlj8E6"
      },
      "source": [
        "Вы могли заметить, что сводная таблица достаточно умна, чтобы начать агрегирование данных и их обобщение, группируя представителей (`Rep`) с их менеджерами (`Manager`). Теперь мы начинаем понимать, что может сделать для нас сводная таблица.\n",
        "\n",
        "Давайте удалим счет (`Account`) и количество (`Quantity`), явно определив столбцы, которые нам нужны, с помощью параметра `values`:"
      ]
    },
    {
      "cell_type": "code",
      "execution_count": null,
      "metadata": {
        "jupyter": {
          "outputs_hidden": false
        },
        "id": "m_lV-SyUj8E7"
      },
      "outputs": [],
      "source": [
        "pd.pivot_table(df, \n",
        "               index=[\"Manager\", \"Rep\"], \n",
        "               values=[\"Price\"])"
      ]
    },
    {
      "cell_type": "markdown",
      "metadata": {
        "id": "HbjROPb_j8E7"
      },
      "source": [
        "Столбец цен (`price`) по умолчанию усредняет данные, но мы можем произвести подсчет количества или суммы. Добавить их можно с помощью параметра `aggfunc`:"
      ]
    },
    {
      "cell_type": "code",
      "execution_count": null,
      "metadata": {
        "jupyter": {
          "outputs_hidden": false
        },
        "id": "OUhZ1MV8j8E7"
      },
      "outputs": [],
      "source": [
        "pd.pivot_table(df, \n",
        "               index=[\"Manager\", \"Rep\"], \n",
        "               values=[\"Price\"], \n",
        "               aggfunc=np.sum)"
      ]
    },
    {
      "cell_type": "markdown",
      "metadata": {
        "id": "0-5CUkjJj8E7"
      },
      "source": [
        "`aggfunc` может принимать список функций. \n",
        "\n",
        "Давайте попробуем узнать среднее значение и количество:"
      ]
    },
    {
      "cell_type": "code",
      "execution_count": null,
      "metadata": {
        "jupyter": {
          "outputs_hidden": false
        },
        "id": "V3hIGj_Nj8E7"
      },
      "outputs": [],
      "source": [
        "pd.pivot_table(df, \n",
        "               index=[\"Manager\", \"Rep\"], \n",
        "               values=[\"Price\"], \n",
        "               aggfunc=[np.mean, len])"
      ]
    },
    {
      "cell_type": "markdown",
      "metadata": {
        "id": "LCZvPfyRj8E8"
      },
      "source": [
        "Если мы хотим увидеть продажи с разбивкой по продуктам (`Product`), переменная `columns` позволяет нам определить один или несколько столбцов."
      ]
    },
    {
      "cell_type": "markdown",
      "metadata": {
        "id": "nxYZLNrlj8E8"
      },
      "source": [
        "Я думаю, что одна из сложностей `pivot_table` - это использование столбцов (`columns`) и значений (`values`). \n",
        "\n",
        "Помните, что столбцы необязательны - они предоставляют дополнительный способ сегментировать актуальные значения, которые вам нужны. \n",
        "\n",
        "Функции агрегирования применяются к перечисленным значениям (`values`):"
      ]
    },
    {
      "cell_type": "code",
      "execution_count": null,
      "metadata": {
        "jupyter": {
          "outputs_hidden": false
        },
        "id": "cFgB1IBHj8E8"
      },
      "outputs": [],
      "source": [
        "pd.pivot_table(df, \n",
        "               index=[\"Manager\", \"Rep\"], \n",
        "               values=[\"Price\"],\n",
        "               columns=[\"Product\"], \n",
        "               aggfunc=[np.sum])"
      ]
    },
    {
      "cell_type": "markdown",
      "metadata": {
        "id": "ZXDmUZmPj8E8"
      },
      "source": [
        "Значения `NaN` немного отвлекают. Если мы хотим их убрать, то можем использовать параметр `fill_value`, чтобы установить в `0`."
      ]
    },
    {
      "cell_type": "code",
      "execution_count": null,
      "metadata": {
        "jupyter": {
          "outputs_hidden": false
        },
        "id": "vC0-XKtvj8E8"
      },
      "outputs": [],
      "source": [
        "pd.pivot_table(df,\n",
        "               index=[\"Manager\", \"Rep\"],\n",
        "               values=[\"Price\"],\n",
        "               columns=[\"Product\"],\n",
        "               aggfunc=[np.sum],\n",
        "               fill_value=0)"
      ]
    },
    {
      "cell_type": "markdown",
      "metadata": {
        "id": "_YoCjVMpj8E9"
      },
      "source": [
        "Думаю, было бы полезно добавить количество (`Quantity`). \n",
        "\n",
        "Добавьте количество (`Quantity`) в список значений `values`:"
      ]
    },
    {
      "cell_type": "code",
      "execution_count": null,
      "metadata": {
        "jupyter": {
          "outputs_hidden": false
        },
        "id": "6pewcc0Ij8E9"
      },
      "outputs": [],
      "source": [
        "pd.pivot_table(df,\n",
        "               index=[\"Manager\", \"Rep\"],\n",
        "               values=[\"Price\", \"Quantity\"],\n",
        "               columns=[\"Product\"],\n",
        "               aggfunc=[np.sum],\n",
        "               fill_value=0)"
      ]
    },
    {
      "cell_type": "markdown",
      "metadata": {
        "id": "Fw4Sekbzj8E9"
      },
      "source": [
        "Что интересно, вы можете добавлять элементы в индекс, чтобы получить другое визуальное представление. \n",
        "\n",
        "Добавим товары (`Products`) в индекс."
      ]
    },
    {
      "cell_type": "code",
      "execution_count": null,
      "metadata": {
        "jupyter": {
          "outputs_hidden": false
        },
        "id": "cjIyTbrTj8E9"
      },
      "outputs": [],
      "source": [
        "pd.pivot_table(df,\n",
        "               index=[\"Manager\", \"Rep\", \"Product\"],\n",
        "               values=[\"Price\", \"Quantity\"],\n",
        "               aggfunc=[np.sum],\n",
        "               fill_value=0)"
      ]
    },
    {
      "cell_type": "markdown",
      "metadata": {
        "id": "QOMQXt8qj8E9"
      },
      "source": [
        "Для этого набора данных такое представление имеет больше смысла. \n",
        "\n",
        "А что, если я хочу увидеть некоторые итоги? `margins=True` делает это за нас."
      ]
    },
    {
      "cell_type": "code",
      "execution_count": null,
      "metadata": {
        "jupyter": {
          "outputs_hidden": false
        },
        "id": "ETs3MJ_Rj8E9"
      },
      "outputs": [],
      "source": [
        "pd.pivot_table(df,\n",
        "               index=[\"Manager\", \"Rep\", \"Product\"],\n",
        "               values=[\"Price\", \"Quantity\"],\n",
        "               aggfunc=[np.sum, np.mean],\n",
        "               fill_value=0,\n",
        "               margins=True)"
      ]
    },
    {
      "cell_type": "markdown",
      "metadata": {
        "id": "ohmifVhej8E-"
      },
      "source": [
        "Давайте переместим анализ на уровень выше и посмотрим на наш план продаж (воронку) на уровне менеджера. \n",
        "\n",
        "Обратите внимание на то, как статус упорядочен на основе нашего предыдущего определения категории."
      ]
    },
    {
      "cell_type": "code",
      "execution_count": null,
      "metadata": {
        "jupyter": {
          "outputs_hidden": false
        },
        "id": "jCjqlg3Cj8E-"
      },
      "outputs": [],
      "source": [
        "pd.pivot_table(df,\n",
        "               index=[\"Manager\", \"Status\"],\n",
        "               values=[\"Price\"],\n",
        "               aggfunc=[np.sum],\n",
        "               fill_value=0,\n",
        "               margins=True)"
      ]
    },
    {
      "cell_type": "markdown",
      "metadata": {
        "id": "jiKV-8Sdj8E-"
      },
      "source": [
        "Очень удобно передать словарь в качестве `aggfunc`, чтобы вы могли выполнять разные функции с каждым из выбранных значений. Это имеет побочный эффект - названия становятся немного чище:"
      ]
    },
    {
      "cell_type": "code",
      "execution_count": null,
      "metadata": {
        "jupyter": {
          "outputs_hidden": false
        },
        "id": "_tOVtlypj8E_"
      },
      "outputs": [],
      "source": [
        "pd.pivot_table(df,\n",
        "               index=[\"Manager\", \"Status\"],\n",
        "               columns=[\"Product\"],\n",
        "               values=[\"Quantity\", \"Price\"],\n",
        "               aggfunc={\"Quantity\": len, \"Price\": np.sum},\n",
        "               fill_value=0)"
      ]
    },
    {
      "cell_type": "markdown",
      "metadata": {
        "id": "prJE-csIj8E_"
      },
      "source": [
        "Вы также можете предоставить список агрегированных функций (aggfunctions), которые будут применяться к каждому значению:"
      ]
    },
    {
      "cell_type": "code",
      "execution_count": null,
      "metadata": {
        "jupyter": {
          "outputs_hidden": false
        },
        "id": "Ut3kYvi6j8E_"
      },
      "outputs": [],
      "source": [
        "table = pd.pivot_table(df,\n",
        "                       index=[\"Manager\", \"Status\"],\n",
        "                       columns=[\"Product\"],\n",
        "                       values=[\"Quantity\", \"Price\"],\n",
        "                       aggfunc={\"Quantity\": len, \"Price\": [np.sum, np.mean]},\n",
        "                       fill_value=0)"
      ]
    },
    {
      "cell_type": "code",
      "execution_count": null,
      "metadata": {
        "jupyter": {
          "outputs_hidden": false
        },
        "id": "tnDG9Tg7j8E_"
      },
      "outputs": [],
      "source": [
        "table"
      ]
    },
    {
      "cell_type": "markdown",
      "metadata": {
        "id": "z6D5BDZuj8E_"
      },
      "source": [
        "Может показаться сложным собрать все это сразу, но как только вы начнете играть с данными и медленно добавлять элементы, то почувствуете, как это работает.\n",
        "\n",
        "Мое общее практическое правило заключается в том, что после использования нескольких группировок (`grouby`) вы должны оценить, является ли сводная таблица (`pivot table`) полезным подходом."
      ]
    },
    {
      "cell_type": "markdown",
      "metadata": {
        "id": "U12FJr1Uj8FA"
      },
      "source": [
        "# Расширенная фильтрация сводной таблицы"
      ]
    },
    {
      "cell_type": "markdown",
      "metadata": {
        "id": "w7AlzrWvj8FA"
      },
      "source": [
        "После того, как вы сгенерировали свои данные, они находятся в `DataFrame`, поэтому можно фильтровать их, используя обычные методы `DataFrame`."
      ]
    },
    {
      "cell_type": "markdown",
      "metadata": {
        "id": "YxX7f9cgj8FA"
      },
      "source": [
        "Если вы хотите посмотреть только на одного менеджера:"
      ]
    },
    {
      "cell_type": "code",
      "execution_count": null,
      "metadata": {
        "jupyter": {
          "outputs_hidden": false
        },
        "id": "QNmJmDBQj8FA"
      },
      "outputs": [],
      "source": [
        "# https://pandas.pydata.org/docs/reference/api/pandas.DataFrame.query.html\n",
        "\n",
        "table.query('Manager == [\"Debra Henley\"]')"
      ]
    },
    {
      "cell_type": "markdown",
      "metadata": {
        "id": "uD4hRkQPj8FA"
      },
      "source": [
        "Мы можем просмотреть все незавершенные (`pending`) и выигранные (`won`) сделки:"
      ]
    },
    {
      "cell_type": "code",
      "execution_count": null,
      "metadata": {
        "jupyter": {
          "outputs_hidden": false
        },
        "id": "IZM1Jxnij8FA"
      },
      "outputs": [],
      "source": [
        "table.query('Status == [\"pending\", \"won\"]')"
      ]
    },
    {
      "cell_type": "markdown",
      "metadata": {
        "id": "gfUwQ7B3j8FB"
      },
      "source": [
        "Я надеюсь, что этот пример показал вам, как использовать сводные таблицы в собственных наборах данных."
      ]
    },
    {
      "cell_type": "markdown",
      "metadata": {
        "id": "yegkD2MGj8FB"
      },
      "source": [
        "# Шпаргалка"
      ]
    },
    {
      "cell_type": "markdown",
      "metadata": {
        "id": "gwU18OAaj8FB"
      },
      "source": [
        "Схема с примером из Блокнота: "
      ]
    },
    {
      "cell_type": "markdown",
      "metadata": {
        "id": "oop9Pd1xj8FB"
      },
      "source": [
        "<img src=\"https://raw.githubusercontent.com/dm-fedorov/pandas_basic/master/pic/pivot-table-datasheet.png\" >"
      ]
    },
    {
      "cell_type": "markdown",
      "metadata": {
        "id": "cGrDS40vj8FB"
      },
      "source": [
        "<a href=\"https://t.me/init_python\"><img src=\"https://dfedorov.spb.ru/pandas/logo-telegram.png\" width=\"35\" height=\"35\" alt=\"telegram\" align=\"left\"></a>"
      ]
    },
    {
      "cell_type": "code",
      "execution_count": null,
      "metadata": {
        "id": "qGDUCrkkj8FB"
      },
      "outputs": [],
      "source": []
    }
  ],
  "metadata": {
    "kernelspec": {
      "display_name": "Python 3",
      "language": "python",
      "name": "python3"
    },
    "language_info": {
      "codemirror_mode": {
        "name": "ipython",
        "version": 3
      },
      "file_extension": ".py",
      "mimetype": "text/x-python",
      "name": "python",
      "nbconvert_exporter": "python",
      "pygments_lexer": "ipython3",
      "version": "3.8.3"
    },
    "colab": {
      "provenance": [],
      "include_colab_link": true
    }
  },
  "nbformat": 4,
  "nbformat_minor": 0
}
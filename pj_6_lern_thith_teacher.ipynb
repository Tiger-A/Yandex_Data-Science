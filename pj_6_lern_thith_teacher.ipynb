{
  "cells": [
    {
      "cell_type": "markdown",
      "metadata": {
        "id": "view-in-github",
        "colab_type": "text"
      },
      "source": [
        "<a href=\"https://colab.research.google.com/github/Tiger-A/Yandex_Data-Science/blob/master/pj_6_lern_thith_teacher.ipynb\" target=\"_parent\"><img src=\"https://colab.research.google.com/assets/colab-badge.svg\" alt=\"Open In Colab\"/></a>"
      ]
    },
    {
      "cell_type": "markdown",
      "metadata": {
        "id": "VUKgvPayaXGs"
      },
      "source": [
        "<div style=\"border:solid Chocolate 2px; padding: 40px\">\n",
        "\n",
        "Привет Алекс, меня зовут Саша Атаков. Сегодня я проверю твой проект.\n",
        "<br> Дальнейшее общение будет происходить на \"ты\" если это не вызывает никаких проблем.\n",
        "<br> Желательно реагировать на каждый мой комментарий ('исправил', 'не понятно как исправить ошибку', ...)\n",
        "<br> Пожалуйста, не удаляй комментарии ревьюера, так как они повышают качество повторного ревью.\n",
        "\n",
        "Комментарии будут в <font color='green'>зеленой</font>, <font color='blue'>синей</font> или <font color='red'>красной</font> рамках:\n",
        "\n",
        "<div class=\"alert alert-block alert-success\">\n",
        "<b>Успех👍:</b> Если все сделано отлично\n",
        "</div>\n",
        "\n",
        "<div class=\"alert alert-block alert-info\">\n",
        "<b>Совет🤔: </b> Если можно немного улучшить\n",
        "</div>\n",
        "\n",
        "<div class=\"alert alert-block alert-danger\">\n",
        "<b>Ошибка❌:</b> Если требуются исправления. Работа не может быть принята с красными комментариями.\n",
        "</div>\n",
        "\n",
        "-------------------\n",
        "\n",
        "Будет очень хорошо, если ты будешь помечать свои действия следующим образом:\n",
        "<div class=\"alert alert-block alert-warning\">\n",
        "<b>Комментарий студента:</b> ...\n",
        "</div>\n",
        "\n",
        "<div class=\"alert alert-block alert-warning\">\n",
        "<b>Изменения:</b> Были внесены следующие изменения ...\n",
        "</div>\n",
        "\n",
        "<b><font color='orange'>Вот тебе полезная ссылка, вдруг подчерпнешь что-то новое для себя):</font></b>\n",
        "* Полезная статья о дисбалансе классов: https://habr.com/ru/post/349078/\n",
        "* Полезная статья о auc-roc кривых итп: https://alexanderdyakonov.wordpress.com/2017/07/28/auc-roc-%D0%BF%D0%BB%D0%BE%D1%89%D0%B0%D0%B4%D1%8C-%D0%BF%D0%BE%D0%B4-%D0%BA%D1%80%D0%B8%D0%B2%D0%BE%D0%B9-%D0%BE%D1%88%D0%B8%D0%B1%D0%BE%D0%BA/\n",
        "* OHE: https://scikit-learn.org/stable/modules/generated/sklearn.preprocessing.OneHotEncoder.html\n",
        "* Предсказание auc_roc: https://scikit-learn.org/stable/modules/generated/sklearn.metrics.roc_auc_score.html\n",
        "\n",
        "\n",
        "<b><font color='orange'>Общее впечатление</font></b>\n",
        "* Большое спасибо за проделанную работу. Видно, что ты отлично освоил тему.\n",
        "* Отлично, что ноутбук хорошо структурирован. Приятно проверять такие работы.\n",
        "* Над этим проектом нужно будет еще немного поработать, ведь критические ошибки требуют внимания. Однако, изменения не должны занять много времени.\n",
        "* В работе я оставил несколько советов. Буду рад, если ты учтешь их.\n",
        "* В конце прописал свой комментарий по всему проекту, ознакомься с ним, пожалуйста)\n",
        "* С радостью отвечу на твои вопросы, касательно выданной тебе темы, если они есть. Жду новую версию проекта.)"
      ]
    },
    {
      "cell_type": "markdown",
      "metadata": {
        "toc": true,
        "id": "VaOiQhMEaXGy"
      },
      "source": [
        "<h1>Содержание<span class=\"tocSkip\"></span></h1>\n",
        "<div class=\"toc\"><ul class=\"toc-item\"><li><span><a href=\"#Подготовка-данных\" data-toc-modified-id=\"Подготовка-данных-1\"><span class=\"toc-item-num\">1&nbsp;&nbsp;</span>Подготовка данных</a></span></li><li><span><a href=\"#Исследование-задачи\" data-toc-modified-id=\"Исследование-задачи-2\"><span class=\"toc-item-num\">2&nbsp;&nbsp;</span>Исследование задачи</a></span></li><li><span><a href=\"#Борьба-с-дисбалансом\" data-toc-modified-id=\"Борьба-с-дисбалансом-3\"><span class=\"toc-item-num\">3&nbsp;&nbsp;</span>Борьба с дисбалансом</a></span></li><li><span><a href=\"#Тестирование-модели\" data-toc-modified-id=\"Тестирование-модели-4\"><span class=\"toc-item-num\">4&nbsp;&nbsp;</span>Тестирование модели</a></span></li><li><span><a href=\"#Чек-лист-готовности-проекта\" data-toc-modified-id=\"Чек-лист-готовности-проекта-5\"><span class=\"toc-item-num\">5&nbsp;&nbsp;</span>Чек-лист готовности проекта</a></span></li><li><span><a href=\"#Общий-вывод-по-проекту\" data-toc-modified-id=\"Общий-вывод-по-проекту-6\"><span class=\"toc-item-num\">6&nbsp;&nbsp;</span><b>Общий вывод по проекту</b></a></span></li><li><span><a href=\"#Общий-вывод-по-проекту-В2\" data-toc-modified-id=\"Общий-вывод-по-проекту-В2-7\"><span class=\"toc-item-num\">7&nbsp;&nbsp;</span><b>Общий вывод по проекту В2</b></a></span></li></ul></div>"
      ]
    },
    {
      "cell_type": "markdown",
      "metadata": {
        "id": "hFGL59hoaXGy"
      },
      "source": [
        "# Отток клиентов"
      ]
    },
    {
      "cell_type": "markdown",
      "metadata": {
        "id": "QsqhUNg3aXGz"
      },
      "source": [
        "Из «Бета-Банка» стали уходить клиенты. Каждый месяц. Немного, но заметно. Банковские маркетологи посчитали: сохранять текущих клиентов дешевле, чем привлекать новых.\n",
        "\n",
        "Нужно спрогнозировать, уйдёт клиент из банка в ближайшее время или нет. Вам предоставлены исторические данные о поведении клиентов и расторжении договоров с банком. \n",
        "\n",
        "Постройте модель с предельно большим значением *F1*-меры. Чтобы сдать проект успешно, нужно довести метрику до 0.59. Проверьте *F1*-меру на тестовой выборке самостоятельно.\n",
        "\n",
        "Дополнительно измеряйте *AUC-ROC*, сравнивайте её значение с *F1*-мерой.\n",
        "\n",
        "Источник данных: [https://www.kaggle.com/barelydedicated/bank-customer-churn-modeling](https://www.kaggle.com/barelydedicated/bank-customer-churn-modeling)"
      ]
    },
    {
      "cell_type": "markdown",
      "metadata": {
        "id": "IY7r6nUEaXG0"
      },
      "source": [
        "## Подготовка данных"
      ]
    },
    {
      "cell_type": "code",
      "execution_count": null,
      "metadata": {
        "id": "V3MCmgtxaXG0"
      },
      "outputs": [],
      "source": [
        "# Импортирование необходимых модулей и атрибутов\n",
        "import pandas as pd\n",
        "from joblib import dump\n",
        "from sklearn.metrics import accuracy_score \n",
        "from sklearn.metrics import mean_squared_error\n",
        "from sklearn.ensemble import RandomForestClassifier\n",
        "from sklearn.linear_model import LogisticRegression \n",
        "from sklearn.datasets import load_digits\n",
        "from sklearn.model_selection import train_test_split\n",
        "from sklearn.linear_model import LogisticRegression\n",
        "from sklearn.discriminant_analysis import LinearDiscriminantAnalysis\n",
        "from sklearn.neighbors import KNeighborsClassifier\n",
        "from sklearn.tree import DecisionTreeClassifier\n",
        "from sklearn.naive_bayes import GaussianNB\n",
        "from sklearn.svm import LinearSVC\n",
        "from sklearn.svm import SVC\n",
        "from sklearn.neural_network import MLPClassifier\n",
        "from sklearn.ensemble import BaggingClassifier\n",
        "from sklearn.ensemble import RandomForestClassifier\n",
        "from sklearn.ensemble import ExtraTreesClassifier\n",
        "from sklearn.ensemble import AdaBoostClassifier\n",
        "from sklearn.ensemble import GradientBoostingClassifier\n",
        "from sklearn.model_selection import KFold\n",
        "from sklearn.model_selection import cross_val_score\n",
        "from sklearn.pipeline import Pipeline\n",
        "from sklearn.preprocessing import StandardScaler, OneHotEncoder\n",
        "from sklearn.preprocessing import MinMaxScaler\n",
        "from sklearn.preprocessing import Normalizer\n",
        "from matplotlib import pyplot\n",
        "import matplotlib.pyplot as plt\n",
        "from sklearn.metrics import f1_score\n",
        "from sklearn.metrics import roc_curve, roc_auc_score \n",
        "from sklearn.utils import shuffle\n",
        "import warnings\n",
        "warnings.filterwarnings('ignore')"
      ]
    },
    {
      "cell_type": "markdown",
      "metadata": {
        "id": "D2_llJ23aXG1"
      },
      "source": [
        "<div class=\"alert alert-block alert-success\">\n",
        "<b>Успех👍:</b> \n",
        "    \n",
        "Хороший шаг - импортировать все необходимые библиотеки перед работой с проектом, ведь так ты точно не запутаешься в том, какие библиотеки ты уже импортировал, а какие стоит добавить. Молодец!\n",
        "</div>"
      ]
    },
    {
      "cell_type": "code",
      "execution_count": null,
      "metadata": {
        "id": "j1oTCJiWaXG2"
      },
      "outputs": [],
      "source": [
        "data = pd.read_csv('/datasets/Churn.csv')"
      ]
    },
    {
      "cell_type": "code",
      "execution_count": null,
      "metadata": {
        "id": "z-RltdU4aXG2",
        "outputId": "162f895b-4266-407b-e3fc-66b71623cca9"
      },
      "outputs": [
        {
          "data": {
            "text/html": [
              "<div>\n",
              "<style scoped>\n",
              "    .dataframe tbody tr th:only-of-type {\n",
              "        vertical-align: middle;\n",
              "    }\n",
              "\n",
              "    .dataframe tbody tr th {\n",
              "        vertical-align: top;\n",
              "    }\n",
              "\n",
              "    .dataframe thead th {\n",
              "        text-align: right;\n",
              "    }\n",
              "</style>\n",
              "<table border=\"1\" class=\"dataframe\">\n",
              "  <thead>\n",
              "    <tr style=\"text-align: right;\">\n",
              "      <th></th>\n",
              "      <th>RowNumber</th>\n",
              "      <th>CustomerId</th>\n",
              "      <th>Surname</th>\n",
              "      <th>CreditScore</th>\n",
              "      <th>Geography</th>\n",
              "      <th>Gender</th>\n",
              "      <th>Age</th>\n",
              "      <th>Tenure</th>\n",
              "      <th>Balance</th>\n",
              "      <th>NumOfProducts</th>\n",
              "      <th>HasCrCard</th>\n",
              "      <th>IsActiveMember</th>\n",
              "      <th>EstimatedSalary</th>\n",
              "      <th>Exited</th>\n",
              "    </tr>\n",
              "  </thead>\n",
              "  <tbody>\n",
              "    <tr>\n",
              "      <th>0</th>\n",
              "      <td>1</td>\n",
              "      <td>15634602</td>\n",
              "      <td>Hargrave</td>\n",
              "      <td>619</td>\n",
              "      <td>France</td>\n",
              "      <td>Female</td>\n",
              "      <td>42</td>\n",
              "      <td>2.0</td>\n",
              "      <td>0.00</td>\n",
              "      <td>1</td>\n",
              "      <td>1</td>\n",
              "      <td>1</td>\n",
              "      <td>101348.88</td>\n",
              "      <td>1</td>\n",
              "    </tr>\n",
              "    <tr>\n",
              "      <th>1</th>\n",
              "      <td>2</td>\n",
              "      <td>15647311</td>\n",
              "      <td>Hill</td>\n",
              "      <td>608</td>\n",
              "      <td>Spain</td>\n",
              "      <td>Female</td>\n",
              "      <td>41</td>\n",
              "      <td>1.0</td>\n",
              "      <td>83807.86</td>\n",
              "      <td>1</td>\n",
              "      <td>0</td>\n",
              "      <td>1</td>\n",
              "      <td>112542.58</td>\n",
              "      <td>0</td>\n",
              "    </tr>\n",
              "    <tr>\n",
              "      <th>2</th>\n",
              "      <td>3</td>\n",
              "      <td>15619304</td>\n",
              "      <td>Onio</td>\n",
              "      <td>502</td>\n",
              "      <td>France</td>\n",
              "      <td>Female</td>\n",
              "      <td>42</td>\n",
              "      <td>8.0</td>\n",
              "      <td>159660.80</td>\n",
              "      <td>3</td>\n",
              "      <td>1</td>\n",
              "      <td>0</td>\n",
              "      <td>113931.57</td>\n",
              "      <td>1</td>\n",
              "    </tr>\n",
              "    <tr>\n",
              "      <th>3</th>\n",
              "      <td>4</td>\n",
              "      <td>15701354</td>\n",
              "      <td>Boni</td>\n",
              "      <td>699</td>\n",
              "      <td>France</td>\n",
              "      <td>Female</td>\n",
              "      <td>39</td>\n",
              "      <td>1.0</td>\n",
              "      <td>0.00</td>\n",
              "      <td>2</td>\n",
              "      <td>0</td>\n",
              "      <td>0</td>\n",
              "      <td>93826.63</td>\n",
              "      <td>0</td>\n",
              "    </tr>\n",
              "    <tr>\n",
              "      <th>4</th>\n",
              "      <td>5</td>\n",
              "      <td>15737888</td>\n",
              "      <td>Mitchell</td>\n",
              "      <td>850</td>\n",
              "      <td>Spain</td>\n",
              "      <td>Female</td>\n",
              "      <td>43</td>\n",
              "      <td>2.0</td>\n",
              "      <td>125510.82</td>\n",
              "      <td>1</td>\n",
              "      <td>1</td>\n",
              "      <td>1</td>\n",
              "      <td>79084.10</td>\n",
              "      <td>0</td>\n",
              "    </tr>\n",
              "  </tbody>\n",
              "</table>\n",
              "</div>"
            ],
            "text/plain": [
              "   RowNumber  CustomerId   Surname  CreditScore Geography  Gender  Age  \\\n",
              "0          1    15634602  Hargrave          619    France  Female   42   \n",
              "1          2    15647311      Hill          608     Spain  Female   41   \n",
              "2          3    15619304      Onio          502    France  Female   42   \n",
              "3          4    15701354      Boni          699    France  Female   39   \n",
              "4          5    15737888  Mitchell          850     Spain  Female   43   \n",
              "\n",
              "   Tenure    Balance  NumOfProducts  HasCrCard  IsActiveMember  \\\n",
              "0     2.0       0.00              1          1               1   \n",
              "1     1.0   83807.86              1          0               1   \n",
              "2     8.0  159660.80              3          1               0   \n",
              "3     1.0       0.00              2          0               0   \n",
              "4     2.0  125510.82              1          1               1   \n",
              "\n",
              "   EstimatedSalary  Exited  \n",
              "0        101348.88       1  \n",
              "1        112542.58       0  \n",
              "2        113931.57       1  \n",
              "3         93826.63       0  \n",
              "4         79084.10       0  "
            ]
          },
          "execution_count": 3,
          "metadata": {},
          "output_type": "execute_result"
        }
      ],
      "source": [
        "data.head()"
      ]
    },
    {
      "cell_type": "code",
      "execution_count": null,
      "metadata": {
        "id": "x7dSLwdMaXG3",
        "outputId": "9c09d2a8-06b6-4444-a24c-fc96c4624c54"
      },
      "outputs": [
        {
          "name": "stdout",
          "output_type": "stream",
          "text": [
            "<class 'pandas.core.frame.DataFrame'>\n",
            "RangeIndex: 10000 entries, 0 to 9999\n",
            "Data columns (total 14 columns):\n",
            " #   Column           Non-Null Count  Dtype  \n",
            "---  ------           --------------  -----  \n",
            " 0   RowNumber        10000 non-null  int64  \n",
            " 1   CustomerId       10000 non-null  int64  \n",
            " 2   Surname          10000 non-null  object \n",
            " 3   CreditScore      10000 non-null  int64  \n",
            " 4   Geography        10000 non-null  object \n",
            " 5   Gender           10000 non-null  object \n",
            " 6   Age              10000 non-null  int64  \n",
            " 7   Tenure           9091 non-null   float64\n",
            " 8   Balance          10000 non-null  float64\n",
            " 9   NumOfProducts    10000 non-null  int64  \n",
            " 10  HasCrCard        10000 non-null  int64  \n",
            " 11  IsActiveMember   10000 non-null  int64  \n",
            " 12  EstimatedSalary  10000 non-null  float64\n",
            " 13  Exited           10000 non-null  int64  \n",
            "dtypes: float64(3), int64(8), object(3)\n",
            "memory usage: 1.1+ MB\n"
          ]
        }
      ],
      "source": [
        "data.info()"
      ]
    },
    {
      "cell_type": "markdown",
      "metadata": {
        "id": "-JtZS-qwaXG3"
      },
      "source": [
        "В датасете 10 000 обьектов. Признак \"Tenure\" содержит пропуски. Вероятнее всего связаны с ошибкой выгрузки/хранения итд. Параметр 100% должен присутствовать в реальной базе данных. возможны и другие ошибки в данных обьектах. Обьем составляеит менее 9%. Удалим их."
      ]
    },
    {
      "cell_type": "code",
      "execution_count": null,
      "metadata": {
        "id": "Xwd1AjbuaXG3"
      },
      "outputs": [],
      "source": [
        "data = data.dropna()\n",
        "#reset index of DataFrame\n",
        "data = data.reset_index(drop=True)"
      ]
    },
    {
      "cell_type": "markdown",
      "metadata": {
        "id": "oaWjZ-14aXG4"
      },
      "source": [
        "<div class=\"alert alert-block alert-success\">\n",
        "<b>Успех👍:</b> \n",
        "    \n",
        "Абсолютно согласен с тобой)\n",
        "</div>"
      ]
    },
    {
      "cell_type": "markdown",
      "metadata": {
        "id": "CF-ZSqb6aXG4"
      },
      "source": [
        "В датасете имеются признаки, которые никак не связаны с целевым признаком: RowNumber — индекс строки в данных\n",
        "CustomerId — уникальный идентификатор клиента\n",
        "Surname — фамилия.\n",
        "Удалим их.\n",
        "\n"
      ]
    },
    {
      "cell_type": "code",
      "execution_count": null,
      "metadata": {
        "id": "-3IOvYM1aXG4"
      },
      "outputs": [],
      "source": [
        "data = data.drop(columns=['RowNumber', 'CustomerId', 'Surname']) "
      ]
    },
    {
      "cell_type": "markdown",
      "metadata": {
        "id": "PJs4IXkFaXG4"
      },
      "source": [
        "<div class=\"alert alert-block alert-success\">\n",
        "<b>Успех👍:</b> \n",
        "    \n",
        "Да, такие признаки стоит убрать)\n",
        "</div>"
      ]
    },
    {
      "cell_type": "code",
      "execution_count": null,
      "metadata": {
        "id": "IvwGcbJ3aXG4",
        "outputId": "9080bc52-06f9-4d30-b205-33da828178f4"
      },
      "outputs": [
        {
          "data": {
            "text/html": [
              "<div>\n",
              "<style scoped>\n",
              "    .dataframe tbody tr th:only-of-type {\n",
              "        vertical-align: middle;\n",
              "    }\n",
              "\n",
              "    .dataframe tbody tr th {\n",
              "        vertical-align: top;\n",
              "    }\n",
              "\n",
              "    .dataframe thead th {\n",
              "        text-align: right;\n",
              "    }\n",
              "</style>\n",
              "<table border=\"1\" class=\"dataframe\">\n",
              "  <thead>\n",
              "    <tr style=\"text-align: right;\">\n",
              "      <th></th>\n",
              "      <th>CreditScore</th>\n",
              "      <th>Geography</th>\n",
              "      <th>Gender</th>\n",
              "      <th>Age</th>\n",
              "      <th>Tenure</th>\n",
              "      <th>Balance</th>\n",
              "      <th>NumOfProducts</th>\n",
              "      <th>HasCrCard</th>\n",
              "      <th>IsActiveMember</th>\n",
              "      <th>EstimatedSalary</th>\n",
              "      <th>Exited</th>\n",
              "    </tr>\n",
              "  </thead>\n",
              "  <tbody>\n",
              "    <tr>\n",
              "      <th>0</th>\n",
              "      <td>619</td>\n",
              "      <td>France</td>\n",
              "      <td>Female</td>\n",
              "      <td>42</td>\n",
              "      <td>2.0</td>\n",
              "      <td>0.00</td>\n",
              "      <td>1</td>\n",
              "      <td>1</td>\n",
              "      <td>1</td>\n",
              "      <td>101348.88</td>\n",
              "      <td>1</td>\n",
              "    </tr>\n",
              "    <tr>\n",
              "      <th>1</th>\n",
              "      <td>608</td>\n",
              "      <td>Spain</td>\n",
              "      <td>Female</td>\n",
              "      <td>41</td>\n",
              "      <td>1.0</td>\n",
              "      <td>83807.86</td>\n",
              "      <td>1</td>\n",
              "      <td>0</td>\n",
              "      <td>1</td>\n",
              "      <td>112542.58</td>\n",
              "      <td>0</td>\n",
              "    </tr>\n",
              "    <tr>\n",
              "      <th>2</th>\n",
              "      <td>502</td>\n",
              "      <td>France</td>\n",
              "      <td>Female</td>\n",
              "      <td>42</td>\n",
              "      <td>8.0</td>\n",
              "      <td>159660.80</td>\n",
              "      <td>3</td>\n",
              "      <td>1</td>\n",
              "      <td>0</td>\n",
              "      <td>113931.57</td>\n",
              "      <td>1</td>\n",
              "    </tr>\n",
              "    <tr>\n",
              "      <th>3</th>\n",
              "      <td>699</td>\n",
              "      <td>France</td>\n",
              "      <td>Female</td>\n",
              "      <td>39</td>\n",
              "      <td>1.0</td>\n",
              "      <td>0.00</td>\n",
              "      <td>2</td>\n",
              "      <td>0</td>\n",
              "      <td>0</td>\n",
              "      <td>93826.63</td>\n",
              "      <td>0</td>\n",
              "    </tr>\n",
              "    <tr>\n",
              "      <th>4</th>\n",
              "      <td>850</td>\n",
              "      <td>Spain</td>\n",
              "      <td>Female</td>\n",
              "      <td>43</td>\n",
              "      <td>2.0</td>\n",
              "      <td>125510.82</td>\n",
              "      <td>1</td>\n",
              "      <td>1</td>\n",
              "      <td>1</td>\n",
              "      <td>79084.10</td>\n",
              "      <td>0</td>\n",
              "    </tr>\n",
              "  </tbody>\n",
              "</table>\n",
              "</div>"
            ],
            "text/plain": [
              "   CreditScore Geography  Gender  Age  Tenure    Balance  NumOfProducts  \\\n",
              "0          619    France  Female   42     2.0       0.00              1   \n",
              "1          608     Spain  Female   41     1.0   83807.86              1   \n",
              "2          502    France  Female   42     8.0  159660.80              3   \n",
              "3          699    France  Female   39     1.0       0.00              2   \n",
              "4          850     Spain  Female   43     2.0  125510.82              1   \n",
              "\n",
              "   HasCrCard  IsActiveMember  EstimatedSalary  Exited  \n",
              "0          1               1        101348.88       1  \n",
              "1          0               1        112542.58       0  \n",
              "2          1               0        113931.57       1  \n",
              "3          0               0         93826.63       0  \n",
              "4          1               1         79084.10       0  "
            ]
          },
          "execution_count": 7,
          "metadata": {},
          "output_type": "execute_result"
        }
      ],
      "source": [
        "data.head(5)"
      ]
    },
    {
      "cell_type": "markdown",
      "metadata": {
        "id": "iRYAx8d1aXG5"
      },
      "source": [
        "Создадим датафрейм, созданный по методу прямого кодирования с защитой от дамми-ловушки."
      ]
    },
    {
      "cell_type": "code",
      "execution_count": null,
      "metadata": {
        "id": "bvuW4WjYaXG5"
      },
      "outputs": [],
      "source": [
        "# data_ohe = pd.get_dummies(data, drop_first=True)\n",
        "# # Проверим результат\n",
        "# data_ohe.info()"
      ]
    },
    {
      "cell_type": "markdown",
      "metadata": {
        "id": "U7vtx19FaXG5"
      },
      "source": [
        "<div class=\"alert alert-block alert-info\">\n",
        "<b>Совет🤔: </b> \n",
        "    \n",
        "Смотри, ты используешь get_dummies, но ведь есть в sklearn гораздно более эффективный метод, который работает по такому же алгоритму - OHE (https://albertum.medium.com/preprocessing-onehotencoder-vs-pandas-get-dummies-3de1f3d77dcc). Если смотреть на работу внутри библиотеки sklearn, то get_dummies подходит для анализа данных, а для машинного обучения более предпочтителен OHE, т.к. он позоволяет избежать ряда ошибок при обучении моделей\n",
        "    \n",
        "Также по поводу преобразования всего датасета, а не по частям - кодирование всего датасета некорректно, т.к. мы не знаем какие категории попадут в готовую модель и не будет ли там категорий, которых не было в трейне (именно в нашем проекте такого момента нет, но мы, как будущие профи, должны рассматривать все возможные случаи). Также хотел бы сразу предупредить тебя в том, что преобразуем после деления на выборки только тогда, когда используем OneHotEncoding. Применяя get_dummies, ты должен использовать данный метод сразу ко всему датасету. В будущих проектах будет приниматься только OHE и только после разделения на выборки, поэтому запомни этот совет)\n",
        "    \n",
        "Да, я знаю, что в теории курса вам преподают именно get_dummies, но я просто хочу отметить, что есть другой метод, который работает намного лучше и его в основном используют на практике - можешь пока ознакомиться, потом проверишь)\n",
        "</div>"
      ]
    },
    {
      "cell_type": "markdown",
      "metadata": {
        "id": "f3BmNYiRaXG5"
      },
      "source": [
        "Спасибо!\n",
        "<div class=\"alert alert-block alert-warning\">\n",
        "<b>Изменения:</b> Были внесены следующие изменения ...\n",
        "    1. закоментирован get_dummies\n",
        "    2. после деления на выбокт применен OneHotEncoding из sklearn\n",
        "      \n",
        "</div>"
      ]
    },
    {
      "cell_type": "code",
      "execution_count": null,
      "metadata": {
        "id": "3a2ab43ZaXG6"
      },
      "outputs": [],
      "source": [
        "# Составим таблицы признаков и целового признака.\n",
        "features = data.drop(['Exited'], axis=1)\n",
        "target = data['Exited'] "
      ]
    },
    {
      "cell_type": "code",
      "execution_count": null,
      "metadata": {
        "id": "EX_ojHlCaXG6"
      },
      "outputs": [],
      "source": [
        "# отделим 60% данных для обучающей выборки c сохранением целевого признака\n",
        "features_train, features_valid_test, target_train, target_valid_test = train_test_split(\n",
        "    features, target, test_size=0.4, random_state=12345 , stratify=target)"
      ]
    },
    {
      "cell_type": "code",
      "execution_count": null,
      "metadata": {
        "id": "QYqDLui8aXG6"
      },
      "outputs": [],
      "source": [
        "# отделим 50% данных для тестовой выборки c сохранением целевого признака\n",
        "features_test, features_valid, target_test, target_valid = train_test_split(\n",
        "   features_valid_test, target_valid_test, test_size=0.5, random_state=12345, stratify=target_valid_test)"
      ]
    },
    {
      "cell_type": "code",
      "execution_count": null,
      "metadata": {
        "id": "RusdHTXDaXG6",
        "outputId": "7e256b90-e363-4fb6-abbb-5f198fdddda5"
      },
      "outputs": [
        {
          "name": "stdout",
          "output_type": "stream",
          "text": [
            "(5454, 10) (1819, 10) (1818, 10)\n",
            "(5454,) (1819,) (1818,)\n"
          ]
        }
      ],
      "source": [
        "print(features_train.shape, features_valid.shape, features_test.shape)\n",
        "print(target_train.shape, target_valid.shape, target_test.shape)"
      ]
    },
    {
      "cell_type": "code",
      "execution_count": null,
      "metadata": {
        "id": "BlGYxqfIaXG6",
        "outputId": "233e1e17-b388-4f51-d4f0-13537633785e"
      },
      "outputs": [
        {
          "data": {
            "text/html": [
              "<div>\n",
              "<style scoped>\n",
              "    .dataframe tbody tr th:only-of-type {\n",
              "        vertical-align: middle;\n",
              "    }\n",
              "\n",
              "    .dataframe tbody tr th {\n",
              "        vertical-align: top;\n",
              "    }\n",
              "\n",
              "    .dataframe thead th {\n",
              "        text-align: right;\n",
              "    }\n",
              "</style>\n",
              "<table border=\"1\" class=\"dataframe\">\n",
              "  <thead>\n",
              "    <tr style=\"text-align: right;\">\n",
              "      <th></th>\n",
              "      <th>CreditScore</th>\n",
              "      <th>Age</th>\n",
              "      <th>Tenure</th>\n",
              "      <th>Balance</th>\n",
              "      <th>NumOfProducts</th>\n",
              "      <th>HasCrCard</th>\n",
              "      <th>IsActiveMember</th>\n",
              "      <th>EstimatedSalary</th>\n",
              "      <th>Gender_Male</th>\n",
              "      <th>Geography_Germany</th>\n",
              "      <th>Geography_Spain</th>\n",
              "    </tr>\n",
              "  </thead>\n",
              "  <tbody>\n",
              "    <tr>\n",
              "      <th>6800</th>\n",
              "      <td>610</td>\n",
              "      <td>37</td>\n",
              "      <td>10.0</td>\n",
              "      <td>140363.95</td>\n",
              "      <td>2</td>\n",
              "      <td>1</td>\n",
              "      <td>1</td>\n",
              "      <td>129563.86</td>\n",
              "      <td>0.0</td>\n",
              "      <td>0.0</td>\n",
              "      <td>1.0</td>\n",
              "    </tr>\n",
              "    <tr>\n",
              "      <th>4950</th>\n",
              "      <td>661</td>\n",
              "      <td>41</td>\n",
              "      <td>5.0</td>\n",
              "      <td>122552.48</td>\n",
              "      <td>2</td>\n",
              "      <td>0</td>\n",
              "      <td>1</td>\n",
              "      <td>120646.40</td>\n",
              "      <td>1.0</td>\n",
              "      <td>1.0</td>\n",
              "      <td>0.0</td>\n",
              "    </tr>\n",
              "    <tr>\n",
              "      <th>8287</th>\n",
              "      <td>753</td>\n",
              "      <td>51</td>\n",
              "      <td>4.0</td>\n",
              "      <td>79811.72</td>\n",
              "      <td>2</td>\n",
              "      <td>0</td>\n",
              "      <td>1</td>\n",
              "      <td>68260.27</td>\n",
              "      <td>1.0</td>\n",
              "      <td>0.0</td>\n",
              "      <td>1.0</td>\n",
              "    </tr>\n",
              "    <tr>\n",
              "      <th>8912</th>\n",
              "      <td>569</td>\n",
              "      <td>30</td>\n",
              "      <td>3.0</td>\n",
              "      <td>139528.23</td>\n",
              "      <td>1</td>\n",
              "      <td>1</td>\n",
              "      <td>1</td>\n",
              "      <td>33230.37</td>\n",
              "      <td>0.0</td>\n",
              "      <td>0.0</td>\n",
              "      <td>1.0</td>\n",
              "    </tr>\n",
              "    <tr>\n",
              "      <th>8265</th>\n",
              "      <td>597</td>\n",
              "      <td>38</td>\n",
              "      <td>6.0</td>\n",
              "      <td>115702.67</td>\n",
              "      <td>2</td>\n",
              "      <td>1</td>\n",
              "      <td>1</td>\n",
              "      <td>25059.05</td>\n",
              "      <td>1.0</td>\n",
              "      <td>0.0</td>\n",
              "      <td>1.0</td>\n",
              "    </tr>\n",
              "    <tr>\n",
              "      <th>5189</th>\n",
              "      <td>507</td>\n",
              "      <td>46</td>\n",
              "      <td>6.0</td>\n",
              "      <td>92783.68</td>\n",
              "      <td>1</td>\n",
              "      <td>1</td>\n",
              "      <td>1</td>\n",
              "      <td>51424.29</td>\n",
              "      <td>1.0</td>\n",
              "      <td>0.0</td>\n",
              "      <td>1.0</td>\n",
              "    </tr>\n",
              "    <tr>\n",
              "      <th>4590</th>\n",
              "      <td>712</td>\n",
              "      <td>79</td>\n",
              "      <td>5.0</td>\n",
              "      <td>108078.56</td>\n",
              "      <td>1</td>\n",
              "      <td>1</td>\n",
              "      <td>1</td>\n",
              "      <td>174118.93</td>\n",
              "      <td>0.0</td>\n",
              "      <td>0.0</td>\n",
              "      <td>1.0</td>\n",
              "    </tr>\n",
              "    <tr>\n",
              "      <th>3976</th>\n",
              "      <td>766</td>\n",
              "      <td>34</td>\n",
              "      <td>6.0</td>\n",
              "      <td>106434.94</td>\n",
              "      <td>1</td>\n",
              "      <td>0</td>\n",
              "      <td>1</td>\n",
              "      <td>137995.66</td>\n",
              "      <td>0.0</td>\n",
              "      <td>1.0</td>\n",
              "      <td>0.0</td>\n",
              "    </tr>\n",
              "    <tr>\n",
              "      <th>874</th>\n",
              "      <td>594</td>\n",
              "      <td>27</td>\n",
              "      <td>0.0</td>\n",
              "      <td>197041.80</td>\n",
              "      <td>1</td>\n",
              "      <td>0</td>\n",
              "      <td>0</td>\n",
              "      <td>151912.49</td>\n",
              "      <td>1.0</td>\n",
              "      <td>0.0</td>\n",
              "      <td>0.0</td>\n",
              "    </tr>\n",
              "    <tr>\n",
              "      <th>3462</th>\n",
              "      <td>609</td>\n",
              "      <td>38</td>\n",
              "      <td>6.0</td>\n",
              "      <td>140752.06</td>\n",
              "      <td>2</td>\n",
              "      <td>0</td>\n",
              "      <td>1</td>\n",
              "      <td>171430.16</td>\n",
              "      <td>1.0</td>\n",
              "      <td>1.0</td>\n",
              "      <td>0.0</td>\n",
              "    </tr>\n",
              "    <tr>\n",
              "      <th>8770</th>\n",
              "      <td>834</td>\n",
              "      <td>34</td>\n",
              "      <td>5.0</td>\n",
              "      <td>0.00</td>\n",
              "      <td>2</td>\n",
              "      <td>0</td>\n",
              "      <td>0</td>\n",
              "      <td>53437.10</td>\n",
              "      <td>1.0</td>\n",
              "      <td>0.0</td>\n",
              "      <td>1.0</td>\n",
              "    </tr>\n",
              "    <tr>\n",
              "      <th>4243</th>\n",
              "      <td>771</td>\n",
              "      <td>45</td>\n",
              "      <td>0.0</td>\n",
              "      <td>139825.56</td>\n",
              "      <td>1</td>\n",
              "      <td>0</td>\n",
              "      <td>0</td>\n",
              "      <td>170984.97</td>\n",
              "      <td>1.0</td>\n",
              "      <td>0.0</td>\n",
              "      <td>1.0</td>\n",
              "    </tr>\n",
              "    <tr>\n",
              "      <th>3308</th>\n",
              "      <td>731</td>\n",
              "      <td>30</td>\n",
              "      <td>7.0</td>\n",
              "      <td>0.00</td>\n",
              "      <td>2</td>\n",
              "      <td>1</td>\n",
              "      <td>1</td>\n",
              "      <td>184581.68</td>\n",
              "      <td>1.0</td>\n",
              "      <td>0.0</td>\n",
              "      <td>0.0</td>\n",
              "    </tr>\n",
              "    <tr>\n",
              "      <th>2370</th>\n",
              "      <td>576</td>\n",
              "      <td>41</td>\n",
              "      <td>1.0</td>\n",
              "      <td>0.00</td>\n",
              "      <td>1</td>\n",
              "      <td>1</td>\n",
              "      <td>1</td>\n",
              "      <td>188274.60</td>\n",
              "      <td>1.0</td>\n",
              "      <td>0.0</td>\n",
              "      <td>0.0</td>\n",
              "    </tr>\n",
              "    <tr>\n",
              "      <th>3074</th>\n",
              "      <td>537</td>\n",
              "      <td>84</td>\n",
              "      <td>8.0</td>\n",
              "      <td>92242.34</td>\n",
              "      <td>1</td>\n",
              "      <td>1</td>\n",
              "      <td>1</td>\n",
              "      <td>186235.98</td>\n",
              "      <td>1.0</td>\n",
              "      <td>1.0</td>\n",
              "      <td>0.0</td>\n",
              "    </tr>\n",
              "  </tbody>\n",
              "</table>\n",
              "</div>"
            ],
            "text/plain": [
              "      CreditScore  Age  Tenure    Balance  NumOfProducts  HasCrCard  \\\n",
              "6800          610   37    10.0  140363.95              2          1   \n",
              "4950          661   41     5.0  122552.48              2          0   \n",
              "8287          753   51     4.0   79811.72              2          0   \n",
              "8912          569   30     3.0  139528.23              1          1   \n",
              "8265          597   38     6.0  115702.67              2          1   \n",
              "5189          507   46     6.0   92783.68              1          1   \n",
              "4590          712   79     5.0  108078.56              1          1   \n",
              "3976          766   34     6.0  106434.94              1          0   \n",
              "874           594   27     0.0  197041.80              1          0   \n",
              "3462          609   38     6.0  140752.06              2          0   \n",
              "8770          834   34     5.0       0.00              2          0   \n",
              "4243          771   45     0.0  139825.56              1          0   \n",
              "3308          731   30     7.0       0.00              2          1   \n",
              "2370          576   41     1.0       0.00              1          1   \n",
              "3074          537   84     8.0   92242.34              1          1   \n",
              "\n",
              "      IsActiveMember  EstimatedSalary  Gender_Male  Geography_Germany  \\\n",
              "6800               1        129563.86          0.0                0.0   \n",
              "4950               1        120646.40          1.0                1.0   \n",
              "8287               1         68260.27          1.0                0.0   \n",
              "8912               1         33230.37          0.0                0.0   \n",
              "8265               1         25059.05          1.0                0.0   \n",
              "5189               1         51424.29          1.0                0.0   \n",
              "4590               1        174118.93          0.0                0.0   \n",
              "3976               1        137995.66          0.0                1.0   \n",
              "874                0        151912.49          1.0                0.0   \n",
              "3462               1        171430.16          1.0                1.0   \n",
              "8770               0         53437.10          1.0                0.0   \n",
              "4243               0        170984.97          1.0                0.0   \n",
              "3308               1        184581.68          1.0                0.0   \n",
              "2370               1        188274.60          1.0                0.0   \n",
              "3074               1        186235.98          1.0                1.0   \n",
              "\n",
              "      Geography_Spain  \n",
              "6800              1.0  \n",
              "4950              0.0  \n",
              "8287              1.0  \n",
              "8912              1.0  \n",
              "8265              1.0  \n",
              "5189              1.0  \n",
              "4590              1.0  \n",
              "3976              0.0  \n",
              "874               0.0  \n",
              "3462              0.0  \n",
              "8770              1.0  \n",
              "4243              1.0  \n",
              "3308              0.0  \n",
              "2370              0.0  \n",
              "3074              0.0  "
            ]
          },
          "execution_count": 13,
          "metadata": {},
          "output_type": "execute_result"
        }
      ],
      "source": [
        "# OneHotEncoding из sklearn\n",
        "ohe_columns = ['Gender', 'Geography']\n",
        "encoder = OneHotEncoder(sparse=False, drop='first')\n",
        "#  Обучим энсодер на выборке трэйн\n",
        "#  делаем fit только на трейне, а transform на всех выборках\n",
        "encoder.fit(features_train.loc[:, ohe_columns])\n",
        "array_encoded = encoder.transform(features_train.loc[:, ohe_columns])\n",
        "data_encoded = pd.DataFrame(array_encoded, columns=encoder.get_feature_names(ohe_columns), index=features_train.index)\n",
        "features_train = pd.concat([features_train, data_encoded], axis=1)\n",
        "features_train.drop(labels=ohe_columns, axis=1, inplace=True)\n",
        "# features_train.head(15)\n",
        "\n",
        "array_encoded = encoder.transform(features_valid.loc[:, ohe_columns])\n",
        "data_encoded = pd.DataFrame(array_encoded, columns=encoder.get_feature_names(ohe_columns), index=features_valid.index)\n",
        "data_encoded.head(15)\n",
        "features_valid = pd.concat([features_valid, data_encoded], axis=1)\n",
        "features_valid.drop(labels=ohe_columns, axis=1, inplace=True)\n",
        "# features_valid.head(15)\n",
        "\n",
        "\n",
        "array_encoded = encoder.transform(features_test.loc[:, ohe_columns])\n",
        "data_encoded = pd.DataFrame(array_encoded, columns=encoder.get_feature_names(ohe_columns), index=features_test.index)\n",
        "data_encoded.head(15)\n",
        "features_test = pd.concat([features_test, data_encoded], axis=1)\n",
        "features_test.drop(labels=ohe_columns, axis=1, inplace=True)\n",
        "features_test.head(15)\n",
        "\n"
      ]
    },
    {
      "cell_type": "markdown",
      "metadata": {
        "id": "dS5hA6XFaXG7"
      },
      "source": [
        "<div class=\"alert alert-block alert-success\">\n",
        "<b>Успех👍 В2:</b> \n",
        "    \n",
        "Прекрасно сделал, супер! Мало кто сразу понимает, как делать OHE кодирование, но у тебя получилось - молодец!\n",
        "</div>"
      ]
    },
    {
      "cell_type": "markdown",
      "metadata": {
        "id": "jl7kAZCMaXG7"
      },
      "source": [
        "<div class=\"alert alert-block alert-success\">\n",
        "<b>Успех👍:</b> \n",
        "    \n",
        "Данные поделены, замечательно! Плюсом также является проверка размеров выборки, молодец\n",
        "</div>\n",
        "\n",
        "<div class=\"alert alert-block alert-danger\">\n",
        "<b>Ошибка❌:</b> \n",
        "    \n",
        "Также я заметил, что ты не реализовал стандартизацию данных, хотя у тебя в проекте есть модель лог регрессии, а такого рода модели чувствительны к разному масштабу в данных (количественные и качественные признаки в одном датасете), в следствии чего модель теряет в качестве. Добавь стандартизацию, обучи ее на трейне, трансформируй трейн/валид/тест\n",
        "</div>"
      ]
    },
    {
      "cell_type": "markdown",
      "metadata": {
        "id": "AaDp3OP-aXG7"
      },
      "source": [
        "<div class=\"alert alert-block alert-warning\">\n",
        "<b>Изменения:</b> Были внесены следующие изменения ...\n",
        "</div>"
      ]
    },
    {
      "cell_type": "markdown",
      "metadata": {
        "id": "s_f6o-LeaXG7"
      },
      "source": [
        "Проведем масштабирование:"
      ]
    },
    {
      "cell_type": "code",
      "execution_count": null,
      "metadata": {
        "id": "9bDZYnlSaXG7",
        "outputId": "2444f8ec-b22e-4c76-dfaa-2fe26154f3e7"
      },
      "outputs": [
        {
          "data": {
            "text/html": [
              "<div>\n",
              "<style scoped>\n",
              "    .dataframe tbody tr th:only-of-type {\n",
              "        vertical-align: middle;\n",
              "    }\n",
              "\n",
              "    .dataframe tbody tr th {\n",
              "        vertical-align: top;\n",
              "    }\n",
              "\n",
              "    .dataframe thead th {\n",
              "        text-align: right;\n",
              "    }\n",
              "</style>\n",
              "<table border=\"1\" class=\"dataframe\">\n",
              "  <thead>\n",
              "    <tr style=\"text-align: right;\">\n",
              "      <th></th>\n",
              "      <th>CreditScore</th>\n",
              "      <th>Age</th>\n",
              "      <th>Tenure</th>\n",
              "      <th>Balance</th>\n",
              "      <th>NumOfProducts</th>\n",
              "      <th>HasCrCard</th>\n",
              "      <th>IsActiveMember</th>\n",
              "      <th>EstimatedSalary</th>\n",
              "      <th>Gender_Male</th>\n",
              "      <th>Geography_Germany</th>\n",
              "      <th>Geography_Spain</th>\n",
              "    </tr>\n",
              "  </thead>\n",
              "  <tbody>\n",
              "    <tr>\n",
              "      <th>8837</th>\n",
              "      <td>-1.292898</td>\n",
              "      <td>-0.660843</td>\n",
              "      <td>0.686341</td>\n",
              "      <td>0.786636</td>\n",
              "      <td>-0.910943</td>\n",
              "      <td>0</td>\n",
              "      <td>0</td>\n",
              "      <td>-0.223548</td>\n",
              "      <td>1.0</td>\n",
              "      <td>0.0</td>\n",
              "      <td>0.0</td>\n",
              "    </tr>\n",
              "    <tr>\n",
              "      <th>1090</th>\n",
              "      <td>-1.563714</td>\n",
              "      <td>0.778434</td>\n",
              "      <td>1.034232</td>\n",
              "      <td>0.833795</td>\n",
              "      <td>-0.910943</td>\n",
              "      <td>1</td>\n",
              "      <td>0</td>\n",
              "      <td>1.383021</td>\n",
              "      <td>0.0</td>\n",
              "      <td>0.0</td>\n",
              "      <td>1.0</td>\n",
              "    </tr>\n",
              "    <tr>\n",
              "      <th>7609</th>\n",
              "      <td>1.581914</td>\n",
              "      <td>0.106771</td>\n",
              "      <td>-0.357331</td>\n",
              "      <td>-1.222967</td>\n",
              "      <td>0.789359</td>\n",
              "      <td>1</td>\n",
              "      <td>1</td>\n",
              "      <td>-0.308331</td>\n",
              "      <td>1.0</td>\n",
              "      <td>0.0</td>\n",
              "      <td>1.0</td>\n",
              "    </tr>\n",
              "    <tr>\n",
              "      <th>7279</th>\n",
              "      <td>0.842379</td>\n",
              "      <td>0.010820</td>\n",
              "      <td>-1.053112</td>\n",
              "      <td>0.807063</td>\n",
              "      <td>-0.910943</td>\n",
              "      <td>1</td>\n",
              "      <td>1</td>\n",
              "      <td>-0.430980</td>\n",
              "      <td>0.0</td>\n",
              "      <td>0.0</td>\n",
              "      <td>1.0</td>\n",
              "    </tr>\n",
              "    <tr>\n",
              "      <th>2245</th>\n",
              "      <td>-0.397123</td>\n",
              "      <td>-1.236554</td>\n",
              "      <td>-0.357331</td>\n",
              "      <td>-1.222967</td>\n",
              "      <td>0.789359</td>\n",
              "      <td>1</td>\n",
              "      <td>1</td>\n",
              "      <td>1.392642</td>\n",
              "      <td>0.0</td>\n",
              "      <td>0.0</td>\n",
              "      <td>1.0</td>\n",
              "    </tr>\n",
              "    <tr>\n",
              "      <th>2290</th>\n",
              "      <td>-1.042914</td>\n",
              "      <td>0.586530</td>\n",
              "      <td>1.034232</td>\n",
              "      <td>0.558007</td>\n",
              "      <td>-0.910943</td>\n",
              "      <td>0</td>\n",
              "      <td>0</td>\n",
              "      <td>-0.035207</td>\n",
              "      <td>0.0</td>\n",
              "      <td>1.0</td>\n",
              "      <td>0.0</td>\n",
              "    </tr>\n",
              "    <tr>\n",
              "      <th>2027</th>\n",
              "      <td>-1.407474</td>\n",
              "      <td>2.601518</td>\n",
              "      <td>0.338450</td>\n",
              "      <td>-1.222967</td>\n",
              "      <td>0.789359</td>\n",
              "      <td>1</td>\n",
              "      <td>1</td>\n",
              "      <td>1.060388</td>\n",
              "      <td>0.0</td>\n",
              "      <td>0.0</td>\n",
              "      <td>0.0</td>\n",
              "    </tr>\n",
              "    <tr>\n",
              "      <th>4070</th>\n",
              "      <td>0.061180</td>\n",
              "      <td>-0.564891</td>\n",
              "      <td>0.686341</td>\n",
              "      <td>0.997376</td>\n",
              "      <td>0.789359</td>\n",
              "      <td>1</td>\n",
              "      <td>0</td>\n",
              "      <td>-1.086442</td>\n",
              "      <td>1.0</td>\n",
              "      <td>0.0</td>\n",
              "      <td>0.0</td>\n",
              "    </tr>\n",
              "    <tr>\n",
              "      <th>3396</th>\n",
              "      <td>-1.199154</td>\n",
              "      <td>-0.372988</td>\n",
              "      <td>1.034232</td>\n",
              "      <td>0.681783</td>\n",
              "      <td>-0.910943</td>\n",
              "      <td>1</td>\n",
              "      <td>1</td>\n",
              "      <td>0.623706</td>\n",
              "      <td>1.0</td>\n",
              "      <td>0.0</td>\n",
              "      <td>1.0</td>\n",
              "    </tr>\n",
              "    <tr>\n",
              "      <th>802</th>\n",
              "      <td>-0.053396</td>\n",
              "      <td>0.874386</td>\n",
              "      <td>0.686341</td>\n",
              "      <td>0.227525</td>\n",
              "      <td>-0.910943</td>\n",
              "      <td>1</td>\n",
              "      <td>1</td>\n",
              "      <td>0.860108</td>\n",
              "      <td>0.0</td>\n",
              "      <td>0.0</td>\n",
              "      <td>0.0</td>\n",
              "    </tr>\n",
              "    <tr>\n",
              "      <th>3494</th>\n",
              "      <td>0.998619</td>\n",
              "      <td>-0.468939</td>\n",
              "      <td>-0.357331</td>\n",
              "      <td>-1.222967</td>\n",
              "      <td>-0.910943</td>\n",
              "      <td>0</td>\n",
              "      <td>1</td>\n",
              "      <td>-0.599289</td>\n",
              "      <td>0.0</td>\n",
              "      <td>0.0</td>\n",
              "      <td>0.0</td>\n",
              "    </tr>\n",
              "    <tr>\n",
              "      <th>1785</th>\n",
              "      <td>-1.626210</td>\n",
              "      <td>-0.181084</td>\n",
              "      <td>-0.009440</td>\n",
              "      <td>0.491555</td>\n",
              "      <td>0.789359</td>\n",
              "      <td>1</td>\n",
              "      <td>0</td>\n",
              "      <td>1.258514</td>\n",
              "      <td>1.0</td>\n",
              "      <td>1.0</td>\n",
              "      <td>0.0</td>\n",
              "    </tr>\n",
              "    <tr>\n",
              "      <th>6151</th>\n",
              "      <td>-1.886609</td>\n",
              "      <td>0.874386</td>\n",
              "      <td>-0.009440</td>\n",
              "      <td>-1.222967</td>\n",
              "      <td>-0.910943</td>\n",
              "      <td>1</td>\n",
              "      <td>0</td>\n",
              "      <td>1.058070</td>\n",
              "      <td>0.0</td>\n",
              "      <td>0.0</td>\n",
              "      <td>0.0</td>\n",
              "    </tr>\n",
              "    <tr>\n",
              "      <th>1415</th>\n",
              "      <td>-1.094994</td>\n",
              "      <td>-1.524409</td>\n",
              "      <td>-1.053112</td>\n",
              "      <td>-1.222967</td>\n",
              "      <td>0.789359</td>\n",
              "      <td>1</td>\n",
              "      <td>0</td>\n",
              "      <td>1.563524</td>\n",
              "      <td>1.0</td>\n",
              "      <td>0.0</td>\n",
              "      <td>0.0</td>\n",
              "    </tr>\n",
              "    <tr>\n",
              "      <th>4669</th>\n",
              "      <td>0.821547</td>\n",
              "      <td>0.298675</td>\n",
              "      <td>-0.357331</td>\n",
              "      <td>0.337713</td>\n",
              "      <td>0.789359</td>\n",
              "      <td>0</td>\n",
              "      <td>0</td>\n",
              "      <td>-1.697046</td>\n",
              "      <td>0.0</td>\n",
              "      <td>1.0</td>\n",
              "      <td>0.0</td>\n",
              "    </tr>\n",
              "  </tbody>\n",
              "</table>\n",
              "</div>"
            ],
            "text/plain": [
              "      CreditScore       Age    Tenure   Balance  NumOfProducts  HasCrCard  \\\n",
              "8837    -1.292898 -0.660843  0.686341  0.786636      -0.910943          0   \n",
              "1090    -1.563714  0.778434  1.034232  0.833795      -0.910943          1   \n",
              "7609     1.581914  0.106771 -0.357331 -1.222967       0.789359          1   \n",
              "7279     0.842379  0.010820 -1.053112  0.807063      -0.910943          1   \n",
              "2245    -0.397123 -1.236554 -0.357331 -1.222967       0.789359          1   \n",
              "2290    -1.042914  0.586530  1.034232  0.558007      -0.910943          0   \n",
              "2027    -1.407474  2.601518  0.338450 -1.222967       0.789359          1   \n",
              "4070     0.061180 -0.564891  0.686341  0.997376       0.789359          1   \n",
              "3396    -1.199154 -0.372988  1.034232  0.681783      -0.910943          1   \n",
              "802     -0.053396  0.874386  0.686341  0.227525      -0.910943          1   \n",
              "3494     0.998619 -0.468939 -0.357331 -1.222967      -0.910943          0   \n",
              "1785    -1.626210 -0.181084 -0.009440  0.491555       0.789359          1   \n",
              "6151    -1.886609  0.874386 -0.009440 -1.222967      -0.910943          1   \n",
              "1415    -1.094994 -1.524409 -1.053112 -1.222967       0.789359          1   \n",
              "4669     0.821547  0.298675 -0.357331  0.337713       0.789359          0   \n",
              "\n",
              "      IsActiveMember  EstimatedSalary  Gender_Male  Geography_Germany  \\\n",
              "8837               0        -0.223548          1.0                0.0   \n",
              "1090               0         1.383021          0.0                0.0   \n",
              "7609               1        -0.308331          1.0                0.0   \n",
              "7279               1        -0.430980          0.0                0.0   \n",
              "2245               1         1.392642          0.0                0.0   \n",
              "2290               0        -0.035207          0.0                1.0   \n",
              "2027               1         1.060388          0.0                0.0   \n",
              "4070               0        -1.086442          1.0                0.0   \n",
              "3396               1         0.623706          1.0                0.0   \n",
              "802                1         0.860108          0.0                0.0   \n",
              "3494               1        -0.599289          0.0                0.0   \n",
              "1785               0         1.258514          1.0                1.0   \n",
              "6151               0         1.058070          0.0                0.0   \n",
              "1415               0         1.563524          1.0                0.0   \n",
              "4669               0        -1.697046          0.0                1.0   \n",
              "\n",
              "      Geography_Spain  \n",
              "8837              0.0  \n",
              "1090              1.0  \n",
              "7609              1.0  \n",
              "7279              1.0  \n",
              "2245              1.0  \n",
              "2290              0.0  \n",
              "2027              0.0  \n",
              "4070              0.0  \n",
              "3396              1.0  \n",
              "802               0.0  \n",
              "3494              0.0  \n",
              "1785              0.0  \n",
              "6151              0.0  \n",
              "1415              0.0  \n",
              "4669              0.0  "
            ]
          },
          "execution_count": 14,
          "metadata": {},
          "output_type": "execute_result"
        }
      ],
      "source": [
        "pd.options.mode.chained_assignment = None\n",
        "\n",
        "numeric = ['CreditScore', 'Age', 'Tenure', 'Balance', 'NumOfProducts', 'EstimatedSalary']\n",
        "\n",
        "scaler = StandardScaler()\n",
        "scaler.fit(features_train[numeric]) \n",
        "features_train[numeric] = scaler.transform(features_train[numeric])\n",
        "features_valid[numeric] = scaler.transform(features_valid[numeric])\n",
        "features_test[numeric] = scaler.transform(features_test[numeric])\n",
        "\n",
        "features_train.head(15)"
      ]
    },
    {
      "cell_type": "markdown",
      "metadata": {
        "id": "GPZwY37GaXG7"
      },
      "source": [
        "<div class=\"alert alert-block alert-success\">\n",
        "<b>Успех👍 В2:</b> \n",
        "    \n",
        "Стандартизация есть, так держать!\n",
        "</div>"
      ]
    },
    {
      "cell_type": "markdown",
      "metadata": {
        "id": "KzECh6U_aXG8"
      },
      "source": [
        "Вывод: Данные были очищены от объектов с неполными (возможно и с прочими ошибками) признаками, удалены признаки не связанные с целевым признаком и разбиты по принципу 60/20/20.\n",
        "\n",
        "Обучение пройдет на данных features_train Валидация модели на данных features_valid Лучшая модель по валидации будет применена на данных features_test"
      ]
    },
    {
      "cell_type": "markdown",
      "metadata": {
        "id": "p0FjxeGkaXG8"
      },
      "source": [
        "## Исследование задачи"
      ]
    },
    {
      "cell_type": "markdown",
      "metadata": {
        "id": "Gg6y-AUxaXG8"
      },
      "source": [
        "Посмотрим, какой существует дисбаланс классов."
      ]
    },
    {
      "cell_type": "code",
      "execution_count": null,
      "metadata": {
        "id": "VgxiE_6IaXG8",
        "outputId": "38978ee2-4c85-497d-f47c-3ce98622e1e6"
      },
      "outputs": [
        {
          "data": {
            "text/plain": [
              "0    7237\n",
              "1    1854\n",
              "Name: Exited, dtype: int64"
            ]
          },
          "execution_count": 15,
          "metadata": {},
          "output_type": "execute_result"
        }
      ],
      "source": [
        "target.value_counts()"
      ]
    },
    {
      "cell_type": "markdown",
      "metadata": {
        "id": "gK-7jZxkaXG8"
      },
      "source": [
        "<div class=\"alert alert-block alert-success\">\n",
        "<b>Успех👍:</b> \n",
        "    \n",
        "Да, именно такой у нас дисбаланс - молодец, что отметил его)\n",
        "</div>"
      ]
    },
    {
      "cell_type": "markdown",
      "metadata": {
        "id": "RR-EBhE6aXG8"
      },
      "source": [
        "Соотношение классов 1:4. "
      ]
    },
    {
      "cell_type": "markdown",
      "metadata": {
        "id": "CM9qyvvUaXG8"
      },
      "source": [
        "Изучим модели без исправление баланса.\n",
        "\n",
        "Начнем с решающего дерева. Проведем исследование при разном значении max_depth."
      ]
    },
    {
      "cell_type": "code",
      "execution_count": null,
      "metadata": {
        "id": "tZSrfJgmaXG9",
        "outputId": "fd8af7a0-f7a8-4642-b3ee-6874e2db4ae5"
      },
      "outputs": [
        {
          "name": "stdout",
          "output_type": "stream",
          "text": [
            "f1 лучшей модели, глубина дерева: 0.5574324324324325 8\n",
            "CPU times: user 1.26 s, sys: 0 ns, total: 1.26 s\n",
            "Wall time: 1.28 s\n"
          ]
        }
      ],
      "source": [
        "%%time\n",
        "\n",
        "best_depth = 0\n",
        "best_result = 0\n",
        "for depth in range(1, 50):\n",
        "    model = DecisionTreeClassifier(random_state=12345, max_depth=depth) # обучите модель с заданной глубиной дерева\n",
        "    model.fit(features_train, target_train) # обучите модель\n",
        "    predictions = model.predict(features_valid) # получите предсказания модел\n",
        "    result = f1_score(target_valid, predictions) # посчитайте качество модели\n",
        "#     print(\"Глубина дерева, f1\", depth, result)\n",
        "    if result > best_result:\n",
        "        best_depth = depth\n",
        "        best_result = result    \n",
        "print(\"f1 лучшей модели, глубина дерева:\", best_result, best_depth)"
      ]
    },
    {
      "cell_type": "markdown",
      "metadata": {
        "id": "tu_jJ7MdaXG9"
      },
      "source": [
        "Лучший реультат был достигнут на глубине дерева 8."
      ]
    },
    {
      "cell_type": "markdown",
      "metadata": {
        "id": "1hEiZ0XcaXG9"
      },
      "source": [
        "Проверим модель случайный лес. И проведем исследование на разное количество деревьев."
      ]
    },
    {
      "cell_type": "code",
      "execution_count": null,
      "metadata": {
        "id": "pxbBEUleaXG9",
        "outputId": "964d0285-479b-4ff4-dbbc-c57e6de80366"
      },
      "outputs": [
        {
          "name": "stdout",
          "output_type": "stream",
          "text": [
            "Лучшее количество деревьев 63 Лучшая точность 0.5672131147540983\n",
            "CPU times: user 31 s, sys: 190 ms, total: 31.1 s\n",
            "Wall time: 31.1 s\n"
          ]
        }
      ],
      "source": [
        "%%time\n",
        "\n",
        "best_estim = 0\n",
        "best_f1 = 0\n",
        "\n",
        "for estim in range(1,101):\n",
        "    model = RandomForestClassifier(random_state=12345, n_estimators=estim)\n",
        "    model.fit(features_train, target_train)\n",
        "    valid_predictions = model.predict(features_valid)\n",
        "    f1 = f1_score(target_valid, valid_predictions)\n",
        "#     print('Количество деревьев', estim,'Точность', f1)\n",
        "    if f1 > best_f1:\n",
        "        best_estim = estim\n",
        "        best_f1 = f1\n",
        "print('Лучшее количество деревьев', best_estim,'Лучшая точность', best_f1)  \n",
        "\n"
      ]
    },
    {
      "cell_type": "markdown",
      "metadata": {
        "id": "50BQ4UG5aXG9"
      },
      "source": [
        "Лучший результат  n_estimators достигнут на 76."
      ]
    },
    {
      "cell_type": "markdown",
      "metadata": {
        "id": "tx6V9aY5aXG9"
      },
      "source": [
        "Исследуем работe Логистическую регрессию."
      ]
    },
    {
      "cell_type": "code",
      "execution_count": null,
      "metadata": {
        "id": "u9yNeK_UaXG-",
        "outputId": "f0a09a8e-684b-4609-8eaa-bc77c816c4db"
      },
      "outputs": [
        {
          "name": "stdout",
          "output_type": "stream",
          "text": [
            "Лучшая количество итерраций 4 Лучшая точность 0.35203094777562866\n",
            "CPU times: user 3.01 s, sys: 3.77 s, total: 6.78 s\n",
            "Wall time: 6.76 s\n"
          ]
        }
      ],
      "source": [
        "%%time\n",
        "\n",
        "best_max_iter = 0\n",
        "best_f1 = 0\n",
        "\n",
        "for max_iter in range(1,51):\n",
        "    model = LogisticRegression(random_state=12345, max_iter=max_iter, solver='liblinear')\n",
        "    model.fit(features_train, target_train)\n",
        "    valid_predictions = model.predict(features_valid)\n",
        "    f1 = f1_score(target_valid, valid_predictions)\n",
        "#     print('Количество итерраций', max_iter,'Точность', f1)\n",
        "    if f1 > best_f1:\n",
        "        best_max_iter = max_iter\n",
        "        best_f1 = f1\n",
        "\n",
        "print('Лучшая количество итерраций', best_max_iter,'Лучшая точность', best_f1)   "
      ]
    },
    {
      "cell_type": "markdown",
      "metadata": {
        "id": "99nHlumYaXG-"
      },
      "source": [
        "<div class=\"alert alert-block alert-success\">\n",
        "<b>Успех👍:</b> \n",
        "    \n",
        "Все модели обучил верно, гиперпараметры проверил + метрика f1 есть - супер!\n",
        "</div>\n",
        "\n",
        "<div class=\"alert alert-block alert-info\">\n",
        "<b>Совет🤔: </b> \n",
        "    \n",
        "Однако я бы тебе посоветовал не выводить результат модели с каждым перебираемым гиперпараметром - просто выведи результат лучшей модели)\n",
        "</div>"
      ]
    },
    {
      "cell_type": "markdown",
      "metadata": {
        "id": "571ajq6KaXG-"
      },
      "source": [
        "<div class=\"alert alert-block alert-success\">\n",
        "<b>Успех👍 В2:</b> \n",
        "    \n",
        "Так намного лучше смотреть на твои модели)\n",
        "</div>"
      ]
    },
    {
      "cell_type": "markdown",
      "metadata": {
        "id": "nhi8XYY4aXG-"
      },
      "source": [
        "Результат очень слабый."
      ]
    },
    {
      "cell_type": "markdown",
      "metadata": {
        "id": "61RdmJ8XaXG-"
      },
      "source": [
        "Построим ROC кривую и посчитаем auc-roc для моделей с лучшими параметрами."
      ]
    },
    {
      "cell_type": "code",
      "execution_count": null,
      "metadata": {
        "id": "6tOuz0jxaXG-",
        "outputId": "39573045-fe98-4bc8-9770-01b6e04a4596"
      },
      "outputs": [
        {
          "name": "stdout",
          "output_type": "stream",
          "text": [
            "AUC-ROC DecisionTreeClassifier 0.800717785289869\n",
            "AUC-ROC RandomForestClassifier 0.8335132760495003\n",
            "AUC-ROC LogisticRegression 0.7746012717606588\n"
          ]
        },
        {
          "data": {
            "image/png": "[encoded data removed]",
            "text/plain": [
              "<Figure size 864x648 with 1 Axes>"
            ]
          },
          "metadata": {
            "needs_background": "light"
          },
          "output_type": "display_data"
        },
        {
          "name": "stdout",
          "output_type": "stream",
          "text": [
            "CPU times: user 817 ms, sys: 140 ms, total: 958 ms\n",
            "Wall time: 986 ms\n"
          ]
        }
      ],
      "source": [
        "%%time\n",
        "\n",
        "plt.figure(figsize=[12,9])\n",
        "\n",
        "# Для решающего дерева\n",
        "model = DecisionTreeClassifier(random_state=12345, max_depth=8) # обучите модель с заданной глубиной дерева\n",
        "model.fit(features_train, target_train) # обучите модель\n",
        "probabilities_valid = model.predict_proba(features_valid)\n",
        "probabilities_one_valid = probabilities_valid[:, 1]\n",
        "auc_roc = roc_auc_score(target_valid, probabilities_one_valid)\n",
        "print('AUC-ROC DecisionTreeClassifier',auc_roc)\n",
        "fpr, tpr, thresholds = roc_curve(target_valid, probabilities_one_valid)\n",
        "plt.plot(fpr, tpr, label='DecisionTreeClassifier')\n",
        "\n",
        "# Для случайного леса\n",
        "model = RandomForestClassifier(random_state=12345, n_estimators=76)\n",
        "model.fit(features_train, target_train)\n",
        "probabilities_valid = model.predict_proba(features_valid)\n",
        "probabilities_one_valid = probabilities_valid[:, 1]\n",
        "auc_roc = roc_auc_score(target_valid, probabilities_one_valid)\n",
        "print('AUC-ROC RandomForestClassifier',auc_roc)\n",
        "fpr, tpr, thresholds = roc_curve(target_valid, probabilities_one_valid)\n",
        "plt.plot(fpr, tpr, label='RandomForestClassifier')\n",
        "\n",
        "# Для лог регр\n",
        "model = LogisticRegression(random_state=12345, max_iter=4, solver='liblinear')\n",
        "model.fit(features_train, target_train)\n",
        "probabilities_valid = model.predict_proba(features_valid)\n",
        "probabilities_one_valid = probabilities_valid[:, 1]\n",
        "auc_roc = roc_auc_score(target_valid, probabilities_one_valid)\n",
        "print('AUC-ROC LogisticRegression',auc_roc)\n",
        "fpr, tpr, thresholds = roc_curve(target_valid, probabilities_one_valid)\n",
        "plt.plot(fpr, tpr, label='LogisticRegression')\n",
        "\n",
        "# ROC-кривая случайной модели (выглядит как прямая)\n",
        "plt.plot([0, 1], [0, 1], linestyle='--', label='RandomModel')\n",
        "# < примените функции plt.xlim() и plt.ylim(), чтобы\n",
        "#   установить границы осей от 0 до 1 >\n",
        "plt.xlim([0.0, 1])\n",
        "plt.ylim([0.0, 1])\n",
        "# < примените функции plt.xlabel() и plt.ylabel(), чтобы\n",
        "#   подписать оси \"False Positive Rate\" и \"True Positive Rate\" >\n",
        "plt.xlabel(\"False Positive Rate\") \n",
        "plt.ylabel(\"True Positive Rate\")\n",
        "# < добавьте к графику заголовок \"ROC-кривая\" функцией plt.title() >\n",
        "plt.title(\"ROC-кривая\")\n",
        "plt.legend(loc='lower right', fontsize='x-large')\n",
        "plt.show()\n"
      ]
    },
    {
      "cell_type": "markdown",
      "metadata": {
        "id": "uOdGRf47aXG_"
      },
      "source": [
        "<div class=\"alert alert-block alert-success\">\n",
        "<b>Успех👍:</b> \n",
        "    \n",
        "Прекрасно, у тебя график roc-кривых вышел дельным + сама метрика точна - молодец!\n",
        "</div>"
      ]
    },
    {
      "cell_type": "markdown",
      "metadata": {
        "id": "mZ-N-aNvaXG_"
      },
      "source": [
        "Отмечаем, что метрика f1 и AUC-ROC лучшая на случаном лесе.\n",
        "\n"
      ]
    },
    {
      "cell_type": "markdown",
      "metadata": {
        "id": "TB_py8cMaXG_"
      },
      "source": [
        "Вывод по шагу 2\n",
        "\n",
        "\n",
        "В данных сущестует дисбаланс классов в отношении 1:4.\n",
        "\n",
        "Возможно он влияет на качество изучаемых моделей.\n",
        "\n"
      ]
    },
    {
      "cell_type": "markdown",
      "metadata": {
        "id": "0qngRFNnaXG_"
      },
      "source": [
        "## Борьба с дисбалансом"
      ]
    },
    {
      "cell_type": "markdown",
      "metadata": {
        "id": "oYnReBg0aXG_"
      },
      "source": [
        "1.Придадим объектам редкого класса больший вес c помощью балансировки."
      ]
    },
    {
      "cell_type": "code",
      "execution_count": null,
      "metadata": {
        "id": "aQ6emEPcaXG_"
      },
      "outputs": [],
      "source": [
        "# %%time\n",
        "\n",
        "# # Для решающего дерева\n",
        "# model = DecisionTreeClassifier(random_state=12345, max_depth=7, class_weight='balanced') # обучите модель с заданной глубиной дерева\n",
        "# model.fit(features_train, target_train) # обучите модель\n",
        "# predictions = model.predict(features_valid) # получите предсказания модел\n",
        "# result = f1_score(target_valid, predictions) # посчитайте качество модели\n",
        "# print(\"DecisionTreeClassifier\", result)\n",
        "\n",
        "\n",
        "# # Для случайного леса\n",
        "# model = RandomForestClassifier(random_state=12345, n_estimators=97, class_weight='balanced')\n",
        "# model.fit(features_train, target_train)\n",
        "# predictions = model.predict(features_valid) # получите предсказания модел\n",
        "# result = f1_score(target_valid, predictions) # посчитайте качество модели\n",
        "# print(\"RandomForestClassifier\", result)\n",
        "\n",
        "\n",
        "# # Для лог регр\n",
        "# model = LogisticRegression(random_state=12345, max_iter=20, solver='liblinear', class_weight='balanced')\n",
        "# model.fit(features_train, target_train)\n",
        "# predictions = model.predict(features_valid) # получите предсказания модел\n",
        "# result = f1_score(target_valid, predictions) # посчитайте качество модели\n",
        "# print(\"LogisticRegression\", result)"
      ]
    },
    {
      "cell_type": "markdown",
      "metadata": {
        "id": "DFx2y2haaXG_"
      },
      "source": [
        "<div class=\"alert alert-block alert-danger\">\n",
        "<b>Ошибка❌:</b> \n",
        "    \n",
        "Касательно перебора гиперпараметров и тех гиперпараметров, которые ты подставила из предыдущего этапа - его все-таки нужно будет реализовать по новой, ведь у нас меняется структура данных, да и баланс в классах становится другим, а значит перед нами (с точки зрения машины) другие данные. Перебор гиперпараметров позволит нам подобрать лучшую модель по новым данным, так как старые гиперпараметры были натренированы на предыдущих моделях\n",
        "    \n",
        "Также заметил, что отсутствует проверка метрики auc-roc - добавь ее, тогда все будет замечательно)\n",
        "</div>"
      ]
    },
    {
      "cell_type": "markdown",
      "metadata": {
        "id": "VKEJQp10aXHA"
      },
      "source": [
        "<div class=\"alert alert-block alert-warning\">\n",
        "<b>Изменения:</b> Были внесены следующие изменения :1. перебрал гиперпараметры на сбалансированных данных. 2. Добавил метрики auc-roc\n",
        "</div>"
      ]
    },
    {
      "cell_type": "markdown",
      "metadata": {
        "id": "nERgFGp0aXHA"
      },
      "source": [
        "\n",
        "Для борьбы с дисбалансом часто используется бибилиотека imblearn. Особое внимание хотела бы обратить на метод SMOTE. Ссылка (https://towardsdatascience.com/the-5-most-useful-techniques-to-handle-imbalanced-datasets-6cdba096d55a) на статью. Интересная вещь и на собеседованиях часто спрашивают)"
      ]
    },
    {
      "cell_type": "markdown",
      "metadata": {
        "id": "QP-bSMtGaXHA"
      },
      "source": [
        "<div class=\"alert alert-block alert-success\">\n",
        "<b>Успех👍 В2:</b> \n",
        "    \n",
        "Согласен)\n",
        "</div>"
      ]
    },
    {
      "cell_type": "code",
      "execution_count": null,
      "metadata": {
        "id": "Yv2NMmaXaXHA",
        "outputId": "160cf969-ddbb-4fe8-b171-955478ff23a9"
      },
      "outputs": [
        {
          "name": "stdout",
          "output_type": "stream",
          "text": [
            "f1 лучшей модели, глубина дерева: 0.5723905723905723 8\n",
            "AUC-ROC DecisionTreeClassifier 0.8125595672439726\n",
            "CPU times: user 1.31 s, sys: 0 ns, total: 1.31 s\n",
            "Wall time: 1.31 s\n"
          ]
        }
      ],
      "source": [
        "%%time\n",
        "\n",
        "# # Для решающего дерева\n",
        "best_depth = 0\n",
        "best_result = 0\n",
        "for depth in range(1, 50):\n",
        "    model = DecisionTreeClassifier(random_state=12345, max_depth=depth, class_weight='balanced') # обучите модель с заданной глубиной дерева\n",
        "    model.fit(features_train, target_train) # обучите модель\n",
        "    predictions = model.predict(features_valid) # получите предсказания модел\n",
        "    result = f1_score(target_valid, predictions) # посчитайте качество модели\n",
        "    if result > best_result:\n",
        "        best_depth = depth\n",
        "        best_result = result    \n",
        "print(\"f1 лучшей модели, глубина дерева:\", best_result, best_depth)\n",
        "\n",
        "model = DecisionTreeClassifier(random_state=12345, max_depth=best_depth, class_weight='balanced')\n",
        "model.fit(features_train, target_train)\n",
        "probabilities_valid = model.predict_proba(features_valid)\n",
        "probabilities_one_valid = probabilities_valid[:, 1]\n",
        "auc_roc = roc_auc_score(target_valid, probabilities_one_valid)\n",
        "print('AUC-ROC DecisionTreeClassifier',auc_roc)"
      ]
    },
    {
      "cell_type": "code",
      "execution_count": null,
      "metadata": {
        "id": "cGyuKHSLaXHA",
        "outputId": "f8c3a7b0-ee84-4ba9-bd31-42c801399ad9"
      },
      "outputs": [
        {
          "name": "stdout",
          "output_type": "stream",
          "text": [
            "Лучшее количество деревьев 110 Лучшая точность 0.6096096096096095\n",
            "AUC-ROC DecisionTreeClassifier 0.8377797798990335\n",
            "CPU times: user 1min 8s, sys: 292 ms, total: 1min 8s\n",
            "Wall time: 1min 8s\n"
          ]
        }
      ],
      "source": [
        "%%time\n",
        "\n",
        "# Для случайного леса\n",
        "\n",
        "best_estim = 0\n",
        "best_depth = 0\n",
        "best_f1 = 0\n",
        "for estim in range(50,201, 10):\n",
        "    for depth in range(3, 22, 3):\n",
        "        model = RandomForestClassifier(random_state=12345, n_estimators=estim, max_depth=depth, class_weight='balanced')\n",
        "        model.fit(features_train, target_train)\n",
        "        valid_predictions = model.predict(features_valid)\n",
        "        f1 = f1_score(target_valid, valid_predictions)\n",
        "        if f1 > best_f1:\n",
        "            best_estim = estim\n",
        "            best_depth = depth\n",
        "            best_f1 = f1\n",
        "print('Лучшее количество деревьев', best_estim, 'Лучшая глубина', best_depth, 'Лучшая точность', best_f1)\n",
        "\n",
        "model = RandomForestClassifier(random_state=12345, n_estimators=best_estim, max_depth=best_depth, class_weight='balanced')\n",
        "model.fit(features_train, target_train)\n",
        "probabilities_valid = model.predict_proba(features_valid)\n",
        "probabilities_one_valid = probabilities_valid[:, 1]\n",
        "auc_roc = roc_auc_score(target_valid, probabilities_one_valid)\n",
        "print('AUC-ROC DecisionTreeClassifier',auc_roc)\n"
      ]
    },
    {
      "cell_type": "code",
      "execution_count": null,
      "metadata": {
        "id": "zrxKNew3aXHA",
        "outputId": "fce95121-23df-49e1-ea03-a7549af1de0a"
      },
      "outputs": [
        {
          "name": "stdout",
          "output_type": "stream",
          "text": [
            "Лучшая количество итерраций 4 Лучшая точность 0.5087040618955513\n",
            "AUC-ROC DecisionTreeClassifier 0.7793629283257137\n",
            "CPU times: user 3.4 s, sys: 4.22 s, total: 7.62 s\n",
            "Wall time: 7.55 s\n"
          ]
        }
      ],
      "source": [
        "%%time\n",
        "\n",
        "# # Для лог регр\n",
        "\n",
        "best_max_iter = 0\n",
        "best_f1 = 0\n",
        "\n",
        "for max_iter in range(1,51):\n",
        "    model = LogisticRegression(random_state=12345, max_iter=max_iter, solver='liblinear', class_weight='balanced')\n",
        "    model.fit(features_train, target_train)\n",
        "    valid_predictions = model.predict(features_valid)\n",
        "    f1 = f1_score(target_valid, valid_predictions)\n",
        "    if f1 > best_f1:\n",
        "        best_max_iter = max_iter\n",
        "        best_f1 = f1\n",
        "print('Лучшая количество итерраций', best_max_iter,'Лучшая точность', best_f1)   \n",
        "model = LogisticRegression(random_state=12345, max_iter=best_max_iter, class_weight='balanced')\n",
        "model.fit(features_train, target_train)\n",
        "probabilities_valid = model.predict_proba(features_valid)\n",
        "probabilities_one_valid = probabilities_valid[:, 1]\n",
        "auc_roc = roc_auc_score(target_valid, probabilities_one_valid)\n",
        "print('AUC-ROC DecisionTreeClassifier',auc_roc)\n"
      ]
    },
    {
      "cell_type": "markdown",
      "metadata": {
        "id": "Z_JAQt7DaXHB"
      },
      "source": [
        "<div class=\"alert alert-block alert-success\">\n",
        "<b>Успех👍 В2:</b> \n",
        "    \n",
        "Класс, так мы видим, что модели показали немного повыше точность\n",
        "</div>"
      ]
    },
    {
      "cell_type": "markdown",
      "metadata": {
        "id": "vLX-zjLiaXHB"
      },
      "source": [
        "F-мера немного упала у решающего дерева и случайного леса, но выросла в разы у логистической регресии."
      ]
    },
    {
      "cell_type": "markdown",
      "metadata": {
        "id": "x2PnkjEhaXHB"
      },
      "source": [
        "2. Применим для обучения технику upsampling."
      ]
    },
    {
      "cell_type": "code",
      "execution_count": null,
      "metadata": {
        "id": "OsRXymHyaXHB",
        "outputId": "a27abd08-513c-4042-e06a-d7a0e44196e3"
      },
      "outputs": [
        {
          "name": "stdout",
          "output_type": "stream",
          "text": [
            "1    4448\n",
            "0    4342\n",
            "Name: Exited, dtype: int64\n"
          ]
        }
      ],
      "source": [
        "# Увеличим тестовую выборку.\n",
        "def upsample(features, target, repeat):\n",
        "    features_zeros = features[target == 0]\n",
        "    features_ones = features[target == 1]\n",
        "    target_zeros = target[target == 0]\n",
        "    target_ones = target[target == 1]\n",
        "\n",
        "    features_upsampled = pd.concat([features_zeros] + [features_ones] * repeat)\n",
        "    target_upsampled = pd.concat([target_zeros] + [target_ones] * repeat)\n",
        "    \n",
        "    features_upsampled, target_upsampled = shuffle(\n",
        "        features_upsampled, target_upsampled, random_state=12345)\n",
        "    \n",
        "    return features_upsampled, target_upsampled\n",
        "\n",
        "features_upsampled, target_upsampled = upsample(features_train, target_train, 4)\n",
        "print(target_upsampled.value_counts())"
      ]
    },
    {
      "cell_type": "markdown",
      "metadata": {
        "id": "U8U2bSGgaXHC"
      },
      "source": [
        "<div class=\"alert alert-block alert-success\">\n",
        "<b>Успех👍:</b> \n",
        "    \n",
        "Прекрасно, твоя функция расписана верно + проверил баланс классов после преобразования - так держать, хорошо сделал)\n",
        "</div>"
      ]
    },
    {
      "cell_type": "code",
      "execution_count": null,
      "metadata": {
        "id": "eVOw_qbPaXHC",
        "outputId": "ddbac10b-8d7c-4803-dfa6-0b707625302b"
      },
      "outputs": [
        {
          "name": "stdout",
          "output_type": "stream",
          "text": [
            "Лучшее количество деревьев 110 Лучшая точность 0.6055312954876273\n",
            "AUC-ROC DecisionTreeClassifier 0.8431603773584905\n",
            "\n"
          ]
        }
      ],
      "source": [
        "%%time\n",
        "\n",
        "# Для решающего дерева\n",
        "\n",
        "best_depth = 0\n",
        "best_result = 0\n",
        "for depth in range(1, 50):\n",
        "    model = DecisionTreeClassifier(random_state=12345, max_depth=depth) # обучите модель с заданной глубиной дерева\n",
        "    model.fit(features_upsampled, target_upsampled) # обучите модель\n",
        "    predictions = model.predict(features_valid) # получите предсказания модел\n",
        "    result = f1_score(target_valid, predictions) # посчитайте качество модели\n",
        "    if result > best_result:\n",
        "        best_depth = depth\n",
        "        best_result = result    \n",
        "print(\"f1 лучшей модели, глубина дерева:\", best_result, best_depth)\n",
        "\n",
        "model = DecisionTreeClassifier(random_state=12345, max_depth=best_depth)\n",
        "model.fit(features_upsampled, target_upsampled)\n",
        "probabilities_valid = model.predict_proba(features_valid)\n",
        "probabilities_one_valid = probabilities_valid[:, 1]\n",
        "auc_roc = roc_auc_score(target_valid, probabilities_one_valid)\n",
        "print('AUC-ROC DecisionTreeClassifier',auc_roc)\n",
        "print()\n",
        "\n",
        "# Для случайного леса\n",
        "best_estim_up = 0\n",
        "best_depth_up = 0\n",
        "best_f1 = 0\n",
        "for estim in range(50,201, 10):\n",
        "    for depth in range(3, 22, 3):\n",
        "        model = RandomForestClassifier(random_state=12345, n_estimators=estim, max_depth=depth)\n",
        "        model.fit(features_upsampled, target_upsampled)\n",
        "        valid_predictions = model.predict(features_valid)\n",
        "        f1 = f1_score(target_valid, valid_predictions)\n",
        "        if f1 > best_f1:\n",
        "            best_estim_up = estim\n",
        "            best_depth_up = depth\n",
        "            best_f1 = f1\n",
        "print('Лучшее количество деревьев', best_estim,'Лучшая точность', best_f1)\n",
        "\n",
        "model = RandomForestClassifier(random_state=12345, n_estimators=best_estim_up, max_depth=best_depth_up)\n",
        "model.fit(features_upsampled, target_upsampled)\n",
        "probabilities_valid = model.predict_proba(features_valid)\n",
        "probabilities_one_valid = probabilities_valid[:, 1]\n",
        "auc_roc = roc_auc_score(target_valid, probabilities_one_valid)\n",
        "print('AUC-ROC DecisionTreeClassifier',auc_roc)\n",
        "print()\n",
        "\n",
        "# # Для лог регр\n",
        "best_max_iter = 0\n",
        "best_f1 = 0\n",
        "for max_iter in range(1,51):\n",
        "    model = LogisticRegression(random_state=12345, max_iter=max_iter, solver='liblinear')\n",
        "    model.fit(features_upsampled, target_upsampled)\n",
        "    valid_predictions = model.predict(features_valid)\n",
        "    f1 = f1_score(target_valid, valid_predictions)\n",
        "    if f1 > best_f1:\n",
        "        best_max_iter = max_iter\n",
        "        best_f1 = f1\n",
        "print('Лучшая количество итерраций', best_max_iter,'Лучшая точность', best_f1)   \n",
        "model = LogisticRegression(random_state=12345, max_iter=best_max_iter)\n",
        "model.fit(features_upsampled, target_upsampled)\n",
        "probabilities_valid = model.predict_proba(features_valid)\n",
        "probabilities_one_valid = probabilities_valid[:, 1]\n",
        "auc_roc = roc_auc_score(target_valid, probabilities_one_valid)\n",
        "print('AUC-ROC DecisionTreeClassifier',auc_roc)\n",
        "print()\n"
      ]
    },
    {
      "cell_type": "markdown",
      "metadata": {
        "id": "46raNpIBaXHC"
      },
      "source": [
        "<div class=\"alert alert-block alert-danger\">\n",
        "<b>Ошибка❌:</b> \n",
        "    \n",
        "Про перебор гиперпараметров и auc-roc метрику напоминаю)\n",
        "</div>"
      ]
    },
    {
      "cell_type": "markdown",
      "metadata": {
        "id": "LRHSl-3SaXHC"
      },
      "source": [
        "<div class=\"alert alert-block alert-warning\">\n",
        "<b>Изменения:</b> Были внесены следующие изменения: сделано\n",
        "</div>"
      ]
    },
    {
      "cell_type": "markdown",
      "metadata": {
        "id": "G2Xm1ZD4aXHC"
      },
      "source": [
        "<div class=\"alert alert-block alert-success\">\n",
        "<b>Успех👍 В2:</b> \n",
        "    \n",
        "Хорошо идем)\n",
        "</div>"
      ]
    },
    {
      "cell_type": "markdown",
      "metadata": {
        "id": "VGLuUj9ZaXHD"
      },
      "source": [
        "F-мера стала лучше у случайного леса, логистической регресии. "
      ]
    },
    {
      "cell_type": "markdown",
      "metadata": {
        "id": "jQOviwUHaXHD"
      },
      "source": [
        "Применим для обучения технику downsampling.\n"
      ]
    },
    {
      "cell_type": "code",
      "execution_count": null,
      "metadata": {
        "id": "CuOr8Te8aXHD",
        "outputId": "5f1f3b3a-c536-4fe7-e722-706fab582ec8"
      },
      "outputs": [
        {
          "name": "stdout",
          "output_type": "stream",
          "text": [
            "1    1112\n",
            "0    1086\n",
            "Name: Exited, dtype: int64\n"
          ]
        }
      ],
      "source": [
        "def downsample(features, target, fraction):\n",
        "    features_zeros = features[target == 0]\n",
        "    features_ones = features[target == 1]\n",
        "    target_zeros = target[target == 0]\n",
        "    target_ones = target[target == 1]\n",
        "\n",
        "    features_downsampled = pd.concat(\n",
        "        [features_zeros.sample(frac=fraction, random_state=12345)] + [features_ones])\n",
        "    target_downsampled = pd.concat(\n",
        "        [target_zeros.sample(frac=fraction, random_state=12345)] + [target_ones])\n",
        "    \n",
        "    features_downsampled, target_downsampled = shuffle(\n",
        "        features_downsampled, target_downsampled, random_state=12345)\n",
        "    \n",
        "    return features_downsampled, target_downsampled\n",
        "\n",
        "features_downsampled, target_downsampled = downsample(features_train, target_train, 0.25)\n",
        "print(target_downsampled.value_counts())"
      ]
    },
    {
      "cell_type": "markdown",
      "metadata": {
        "id": "vPx546B7aXHD"
      },
      "source": [
        "<div class=\"alert alert-block alert-success\">\n",
        "<b>Успех👍:</b> \n",
        "    \n",
        "Ну и тут функция уменьшения выборки расписана абсолютно верно - мое почтение!\n",
        "</div>"
      ]
    },
    {
      "cell_type": "code",
      "execution_count": null,
      "metadata": {
        "id": "FppbaG23aXHD",
        "outputId": "38c623e0-bf73-402e-9712-656990ac3972"
      },
      "outputs": [
        {
          "name": "stdout",
          "output_type": "stream",
          "text": [
            "f1 лучшей модели, глубина дерева: 0.55779427359491 4\n",
            "AUC-ROC DecisionTreeClassifier 0.8110424639990469\n",
            "\n",
            "Лучшее количество деревьев 16 Лучшая точность 0.5871964679911699\n",
            "AUC-ROC DecisionTreeClassifier 0.8387347172789683\n",
            "\n",
            "Лучшая количество итерраций 3 Лучшая точность 0.509433962264151\n",
            "AUC-ROC DecisionTreeClassifier 0.7768927491772274\n",
            "\n",
            "CPU times: user 20.6 s, sys: 2.81 s, total: 23.4 s\n",
            "Wall time: 23.4 s\n"
          ]
        }
      ],
      "source": [
        "%%time\n",
        "\n",
        "# Для решающего дерева\n",
        "\n",
        "best_depth = 0\n",
        "best_result = 0\n",
        "for depth in range(1, 50):\n",
        "    model = DecisionTreeClassifier(random_state=12345, max_depth=depth) # обучите модель с заданной глубиной дерева\n",
        "    model.fit(features_downsampled, target_downsampled) # обучите модель\n",
        "    predictions = model.predict(features_valid) # получите предсказания модел\n",
        "    result = f1_score(target_valid, predictions) # посчитайте качество модели\n",
        "    if result > best_result:\n",
        "        best_depth = depth\n",
        "        best_result = result    \n",
        "print(\"f1 лучшей модели, глубина дерева:\", best_result, best_depth)\n",
        "\n",
        "model = DecisionTreeClassifier(random_state=12345, max_depth=best_depth)\n",
        "model.fit(features_downsampled, target_downsampled)\n",
        "probabilities_valid = model.predict_proba(features_valid)\n",
        "probabilities_one_valid = probabilities_valid[:, 1]\n",
        "auc_roc = roc_auc_score(target_valid, probabilities_one_valid)\n",
        "print('AUC-ROC DecisionTreeClassifier',auc_roc)\n",
        "print()\n",
        "\n",
        "# Для случайного леса\n",
        "best_estim_dw = 0\n",
        "best_depth_dw = 0\n",
        "best_f1 = 0\n",
        "for estim in range(50,201, 10):\n",
        "    for depth in range(3, 22, 3):\n",
        "        model = RandomForestClassifier(random_state=12345, n_estimators=estim, max_depth=depth)\n",
        "        model.fit(features_downsampled, target_downsampled)\n",
        "        valid_predictions = model.predict(features_valid)\n",
        "        f1 = f1_score(target_valid, valid_predictions)\n",
        "        if f1 > best_f1:\n",
        "            best_estim_dw = estim\n",
        "            best_depth_dw = depth\n",
        "            best_f1 = f1\n",
        "print('Лучшее количество деревьев', best_estim,'Лучшая точность', best_f1)\n",
        "\n",
        "model = RandomForestClassifier(random_state=12345, n_estimators=best_estim_dw, max_depth=best_depth_dw)\n",
        "model.fit(features_downsampled, target_downsampled)\n",
        "probabilities_valid = model.predict_proba(features_valid)\n",
        "probabilities_one_valid = probabilities_valid[:, 1]\n",
        "auc_roc = roc_auc_score(target_valid, probabilities_one_valid)\n",
        "print('AUC-ROC DecisionTreeClassifier',auc_roc)\n",
        "print()\n",
        "\n",
        "# # Для лог регр\n",
        "best_max_iter = 0\n",
        "best_f1 = 0\n",
        "for max_iter in range(1,51):\n",
        "    model = LogisticRegression(random_state=12345, max_iter=max_iter, solver='liblinear')\n",
        "    model.fit(features_downsampled, target_downsampled)\n",
        "    valid_predictions = model.predict(features_valid)\n",
        "    f1 = f1_score(target_valid, valid_predictions)\n",
        "    if f1 > best_f1:\n",
        "        best_max_iter = max_iter\n",
        "        best_f1 = f1\n",
        "print('Лучшая количество итерраций', best_max_iter,'Лучшая точность', best_f1)   \n",
        "model = LogisticRegression(random_state=12345, max_iter=best_max_iter)\n",
        "model.fit(features_downsampled, target_downsampled)\n",
        "probabilities_valid = model.predict_proba(features_valid)\n",
        "probabilities_one_valid = probabilities_valid[:, 1]\n",
        "auc_roc = roc_auc_score(target_valid, probabilities_one_valid)\n",
        "print('AUC-ROC DecisionTreeClassifier',auc_roc)\n",
        "print()\n"
      ]
    },
    {
      "cell_type": "markdown",
      "metadata": {
        "id": "Kc5Y1O9EaXHD"
      },
      "source": [
        "<div class=\"alert alert-block alert-danger\">\n",
        "<b>Ошибка❌:</b> \n",
        "    \n",
        "Про перебор гиперпараметров и auc-roc метрику напоминаю)\n",
        "    \n",
        "</div>"
      ]
    },
    {
      "cell_type": "markdown",
      "metadata": {
        "id": "lM15mSZVaXHE"
      },
      "source": [
        "<div class=\"alert alert-block alert-warning\">\n",
        "<b>Изменения:</b> Были внесены следующие изменения:  сделано.\n",
        "</div>"
      ]
    },
    {
      "cell_type": "markdown",
      "metadata": {
        "id": "22BgwxT2aXHE"
      },
      "source": [
        "<div class=\"alert alert-block alert-success\">\n",
        "<b>Успех👍 В2:</b> \n",
        "    \n",
        "Тут тоже все отлично\n",
        "</div>"
      ]
    },
    {
      "cell_type": "markdown",
      "metadata": {
        "id": "HsNXeGjiaXHE"
      },
      "source": [
        "Показатели логистической регрессии выросли. Решающее дерево и случайный лес показали себя хуже."
      ]
    },
    {
      "cell_type": "markdown",
      "metadata": {
        "id": "hIKfA0y6aXHE"
      },
      "source": [
        "Результаты тестов:\n",
        "\n",
        "**disbalanced:**\n",
        "DecisionTreeClassifier 0.557659208261618\n",
        "RandomForestClassifier 0.5695581014729951\n",
        "LogisticRegression 0.10952380952380951\n",
        "\n",
        "**balanced:**\n",
        "DecisionTreeClassifier 0.555667001003009\n",
        "RandomForestClassifier 0.5597269624573378\n",
        "LogisticRegression 0.4629294755877034\n",
        "\n",
        "**upsampling:**\n",
        "DecisionTreeClassifier 0.5562248995983935\n",
        "RandomForestClassifier **0.5953254086181278**\n",
        "LogisticRegression 0.45087719298245615\n",
        "\n",
        "**dounsampling:**\n",
        "DecisionTreeClassifier 0.5386996904024768\n",
        "RandomForestClassifier 0.56136606189968\n",
        "LogisticRegression 0.43873179091688086\n",
        "\n",
        "\n",
        "\n",
        "\n",
        "***Лучшей моделью по F-мера стал случайны лес с тренировочными данными, где увеличен класс 1.***\n",
        "\n",
        "\n"
      ]
    },
    {
      "cell_type": "markdown",
      "metadata": {
        "id": "KeyNsMp0aXHE"
      },
      "source": [
        "\n"
      ]
    },
    {
      "cell_type": "markdown",
      "metadata": {
        "id": "ez-tsG5xaXHE"
      },
      "source": [
        "## Тестирование модели"
      ]
    },
    {
      "cell_type": "markdown",
      "metadata": {
        "id": "4LBFwwK6aXHE"
      },
      "source": [
        "К тестовой выборке примем наилучшую модель, с методом борьбы с дисбалансом upsampled. \n"
      ]
    },
    {
      "cell_type": "markdown",
      "metadata": {
        "id": "iBUiF8-zaXHE"
      },
      "source": [
        "Лучшее количество деревьев 83 Лучшая точность 0.5954887218045113\n",
        "AUC-ROC DecisionTreeClassifier 0.8348526083006955\n"
      ]
    },
    {
      "cell_type": "code",
      "execution_count": null,
      "metadata": {
        "id": "zQkiSq3paXHF",
        "outputId": "b389bba9-42d0-4bb7-b020-bec54099af73"
      },
      "outputs": [
        {
          "name": "stdout",
          "output_type": "stream",
          "text": [
            "F1 0.6055312954876273\n",
            "AUC-ROC DecisionTreeClassifier 0.8687432125580017\n",
            "\n"
          ]
        }
      ],
      "source": [
        "\n",
        "\n",
        "model = RandomForestClassifier(random_state=12345, n_estimators=best_estim_up, max_depth=best_depth_up)\n",
        "model.fit(features_upsampled, target_upsampled)\n",
        "valid_predictions = model.predict(features_test)\n",
        "f1 = f1_score(target_test, valid_predictions)\n",
        "print('F1', best_f1)\n",
        "\n",
        "model = RandomForestClassifier(random_state=12345, n_estimators=best_estim_up, max_depth=best_depth_up)\n",
        "model.fit(features_upsampled, target_upsampled)\n",
        "probabilities_valid = model.predict_proba(features_test)\n",
        "probabilities_one_valid = probabilities_valid[:, 1]\n",
        "auc_roc = roc_auc_score(target_test, probabilities_one_valid)\n",
        "print('AUC-ROC DecisionTreeClassifier',auc_roc)\n",
        "print()"
      ]
    },
    {
      "cell_type": "markdown",
      "metadata": {
        "id": "1znHOrGdaXHF"
      },
      "source": [
        "<div class=\"alert alert-block alert-danger\">\n",
        "<b>Ошибка❌:</b> \n",
        "    \n",
        "На тесте не нужно перебирать гиперпараметров и обучать новую модель - тебе нужно взять лучшую модель с этапа \"борьба с дисбалансом\" с ее гиперпараметрами лучшими и методом борьбы с дисбалансом (class_weight например)\n",
        "</div>"
      ]
    },
    {
      "cell_type": "markdown",
      "metadata": {
        "id": "Ncj0zPfjaXHF"
      },
      "source": [
        "<div class=\"alert alert-block alert-warning\">\n",
        "<b>Изменения:</b> Были внесены следующие изменения:   сделано.\n",
        "</div>"
      ]
    },
    {
      "cell_type": "markdown",
      "metadata": {
        "id": "nsVLPj64aXHF"
      },
      "source": [
        "<div class=\"alert alert-block alert-success\">\n",
        "<b>Успех👍 В2:</b> \n",
        "    \n",
        "Все, молодец)\n",
        "</div>"
      ]
    },
    {
      "cell_type": "markdown",
      "metadata": {
        "id": "wLMo4YHKaXHF"
      },
      "source": [
        "Вывод по шагу 4\n",
        "\n",
        "\n",
        "Видно, что взвешивание классов дает результат лучше для данного набора данных. В целом F-мера имеет небольшой прирост. Баланс классов повышает охват необходимых данных.\n",
        "\n",
        "Оценивая адеватность модели можно заметить, что AUC-ROC дисбалансной модели и модели с весами примерно одинаково предсказывают вероятность ухода клиента.\n",
        "\n",
        "В результате исследования была получена модель с лучшими показателями как по F1-мере, так и по AUC-ROC - Случайный лес: взвешенные классы.\n",
        "\n",
        "\n",
        "\n",
        "\n",
        "**Итоговый вывод**\n",
        "\n",
        "При работе с проектом было выполнено:\n",
        "\n",
        "Изучены данные. Разбиты данные на тренировочную, валидационную и тестовую выборку.\n",
        "Исследована задача. Проверены модели на данных без изменений.\n",
        "Скоректирован балланс класса. Изменен вес класса.\n",
        "Получена улученная модель. Проведен поиск гиперпараметров.\n",
        "Проведен финальный тест.\n",
        "Обученная модель случайного леса со взвешенными классами имеет достаточную адекватность, подтвержденная ее значением AUC-ROC = 0.864. Это лучше, чем случайная модель предсказывания (AUC-ROC = 0.5), f1 0.65. "
      ]
    },
    {
      "cell_type": "markdown",
      "metadata": {
        "id": "Vt1_IlDMaXHF"
      },
      "source": [
        "<div class=\"alert alert-block alert-success\">\n",
        "<b>Успех👍:</b> \n",
        "    \n",
        "Но вывод получился крайне классным - у тебя расписано все, что ты делал во время выполнения проекта, кратко и сжато, мне нравится это. Молодец!\n",
        "</div>"
      ]
    },
    {
      "cell_type": "markdown",
      "metadata": {
        "id": "SPPus9ykaXHF"
      },
      "source": [
        "## Чек-лист готовности проекта"
      ]
    },
    {
      "cell_type": "markdown",
      "metadata": {
        "id": "aC-6-z3ZaXHF"
      },
      "source": [
        "Поставьте 'x' в выполненных пунктах. Далее нажмите Shift+Enter."
      ]
    },
    {
      "cell_type": "markdown",
      "metadata": {
        "id": "dKOm8ELWaXHG"
      },
      "source": [
        "- [x]  Jupyter Notebook открыт\n",
        "- [x]  Весь код выполняется без ошибок\n",
        "- [x]  Ячейки с кодом расположены в порядке исполнения\n",
        "- [x]  Выполнен шаг 1: данные подготовлены\n",
        "- [x]  Выполнен шаг 2: задача исследована\n",
        "    - [x]  Исследован баланс классов\n",
        "    - [x]  Изучены модели без учёта дисбаланса\n",
        "    - [x]  Написаны выводы по результатам исследования\n",
        "- [x]  Выполнен шаг 3: учтён дисбаланс\n",
        "    - [x]  Применено несколько способов борьбы с дисбалансом\n",
        "    - [x]  Написаны выводы по результатам исследования\n",
        "- [x]  Выполнен шаг 4: проведено тестирование\n",
        "- [x]  Удалось достичь *F1*-меры не менее 0.59\n",
        "- [x]  Исследована метрика *AUC-ROC*"
      ]
    },
    {
      "cell_type": "markdown",
      "metadata": {
        "id": "avQgrSGEaXHG"
      },
      "source": [
        "<div style=\"border:solid Chocolate 2px; padding: 40px\">\n",
        "\n",
        "<h2><b>Общий вывод по проекту</b></h2>\n",
        "\n",
        "Ты очень постарался, спасибо тебе за такую работу!)\n",
        "\n",
        "В ходе проекта были выполнены все этапы проекта, главная цель достигнута. Конечно присутствует ряд моментов, которые необходимо рассмотреть, но ничего страшного, для это я здесь). Давай пройдемся по всему что ты сделал, чтобы понять что надо сделать для того, чтобы проект был засчитан:\n",
        "\n",
        "- стандартизация отсутствует - добавь ее\n",
        "- отсутствует перебор гиперпараметров на этапе \"борьба с дисбалансом\", реализуй перебор\n",
        "- auc_roc метрика отсутствует на этапе \"борьба с дисбалансом\" - добавь\n",
        "- этап \"тестирование модели\" - тут ты перебрал гиперпараметры и рассмотрел разные методы борьбы с дисбалансом - нужно рассмотреть только лучшую модель, с лучшим методом борьбы с дисбалансом и лучшими гиперпараметрами)\n",
        "- Есть советы по проекту, если хочешь и есть время - реализуй их. Если нет, то запомни на будущее)\n",
        "    \n",
        "`Отдельно прошу тебя рассмотреть совет с кодирование категориальных признаков - это очень важный момент. В следующих проектах, тебе проставят за такую реализацию минус`\n",
        "\n",
        "Работа классная, но нужно доработать! Удачи)"
      ]
    },
    {
      "cell_type": "markdown",
      "metadata": {
        "id": "efgGOUBBaXHG"
      },
      "source": [
        "<div style=\"border:solid Chocolate 2px; padding: 40px\">\n",
        "\n",
        "<h2><b>Общий вывод по проекту В2</b></h2>\n",
        "\n",
        "Проект принимаю - ты отлично справился!"
      ]
    },
    {
      "cell_type": "code",
      "execution_count": null,
      "metadata": {
        "id": "Xr9tGhQvaXHG"
      },
      "outputs": [],
      "source": []
    }
  ],
  "metadata": {
    "ExecuteTimeLog": [
      {
        "duration": 430,
        "start_time": "2023-04-05T18:14:45.239Z"
      },
      {
        "duration": 69,
        "start_time": "2023-04-05T18:15:30.097Z"
      },
      {
        "duration": 9,
        "start_time": "2023-04-05T18:15:36.075Z"
      },
      {
        "duration": 198,
        "start_time": "2023-04-05T18:15:45.434Z"
      },
      {
        "duration": 21,
        "start_time": "2023-04-05T18:16:14.496Z"
      },
      {
        "duration": 18,
        "start_time": "2023-04-05T18:17:50.844Z"
      },
      {
        "duration": 40,
        "start_time": "2023-04-05T18:18:12.668Z"
      },
      {
        "duration": 41,
        "start_time": "2023-04-05T18:21:07.500Z"
      },
      {
        "duration": 5,
        "start_time": "2023-04-05T18:34:49.480Z"
      },
      {
        "duration": 9,
        "start_time": "2023-04-05T18:35:59.883Z"
      },
      {
        "duration": 13,
        "start_time": "2023-04-05T18:36:14.203Z"
      },
      {
        "duration": 5,
        "start_time": "2023-04-05T18:37:42.564Z"
      },
      {
        "duration": 4,
        "start_time": "2023-04-05T18:39:11.724Z"
      },
      {
        "duration": 5,
        "start_time": "2023-04-05T18:39:12.756Z"
      },
      {
        "duration": 139,
        "start_time": "2023-04-05T18:48:52.459Z"
      },
      {
        "duration": 10,
        "start_time": "2023-04-05T18:48:57.452Z"
      },
      {
        "duration": 13,
        "start_time": "2023-04-05T18:49:13.128Z"
      },
      {
        "duration": 7,
        "start_time": "2023-04-05T18:49:39.645Z"
      },
      {
        "duration": 7,
        "start_time": "2023-04-05T18:49:44.010Z"
      },
      {
        "duration": 8,
        "start_time": "2023-04-05T18:49:55.637Z"
      },
      {
        "duration": 9,
        "start_time": "2023-04-05T18:50:08.117Z"
      },
      {
        "duration": 4,
        "start_time": "2023-04-05T18:52:11.091Z"
      },
      {
        "duration": 12,
        "start_time": "2023-04-05T18:52:24.459Z"
      },
      {
        "duration": 640,
        "start_time": "2023-04-07T15:19:30.379Z"
      },
      {
        "duration": 14,
        "start_time": "2023-04-07T15:19:31.021Z"
      },
      {
        "duration": 29,
        "start_time": "2023-04-07T15:19:31.036Z"
      },
      {
        "duration": 47,
        "start_time": "2023-04-07T15:19:31.067Z"
      },
      {
        "duration": 58,
        "start_time": "2023-04-07T15:19:31.115Z"
      },
      {
        "duration": 70,
        "start_time": "2023-04-07T15:19:31.175Z"
      },
      {
        "duration": 24,
        "start_time": "2023-04-07T15:24:19.517Z"
      },
      {
        "duration": 10,
        "start_time": "2023-04-07T15:24:46.311Z"
      },
      {
        "duration": 40,
        "start_time": "2023-04-07T15:24:57.513Z"
      },
      {
        "duration": 31,
        "start_time": "2023-04-07T15:25:00.895Z"
      },
      {
        "duration": 12,
        "start_time": "2023-04-07T15:25:04.007Z"
      },
      {
        "duration": 74,
        "start_time": "2023-04-07T15:30:28.001Z"
      },
      {
        "duration": 13,
        "start_time": "2023-04-07T15:30:39.808Z"
      },
      {
        "duration": 9,
        "start_time": "2023-04-07T15:30:52.713Z"
      },
      {
        "duration": 15,
        "start_time": "2023-04-07T15:30:55.275Z"
      },
      {
        "duration": 5,
        "start_time": "2023-04-07T15:31:58.835Z"
      },
      {
        "duration": 13,
        "start_time": "2023-04-07T15:31:59.826Z"
      },
      {
        "duration": 1366,
        "start_time": "2023-04-07T15:38:53.990Z"
      },
      {
        "duration": 13,
        "start_time": "2023-04-07T15:40:47.884Z"
      },
      {
        "duration": 12,
        "start_time": "2023-04-07T15:40:52.807Z"
      },
      {
        "duration": 5,
        "start_time": "2023-04-07T15:49:18.594Z"
      },
      {
        "duration": 9,
        "start_time": "2023-04-07T15:49:49.194Z"
      },
      {
        "duration": 9,
        "start_time": "2023-04-07T15:50:01.104Z"
      },
      {
        "duration": 85,
        "start_time": "2023-04-07T16:54:36.226Z"
      },
      {
        "duration": 5,
        "start_time": "2023-04-07T16:55:23.243Z"
      },
      {
        "duration": 15,
        "start_time": "2023-04-07T17:29:50.520Z"
      },
      {
        "duration": 13,
        "start_time": "2023-04-07T17:29:58.058Z"
      },
      {
        "duration": 14,
        "start_time": "2023-04-07T17:30:12.588Z"
      },
      {
        "duration": 12,
        "start_time": "2023-04-07T17:30:19.748Z"
      },
      {
        "duration": 9,
        "start_time": "2023-04-07T17:30:52.289Z"
      },
      {
        "duration": 11,
        "start_time": "2023-04-07T17:30:56.611Z"
      },
      {
        "duration": 13,
        "start_time": "2023-04-07T17:31:06.018Z"
      },
      {
        "duration": 14,
        "start_time": "2023-04-07T17:34:10.420Z"
      },
      {
        "duration": 13,
        "start_time": "2023-04-07T17:34:11.771Z"
      },
      {
        "duration": 1529,
        "start_time": "2023-04-07T17:34:26.969Z"
      },
      {
        "duration": 41,
        "start_time": "2023-04-07T17:34:28.500Z"
      },
      {
        "duration": 17,
        "start_time": "2023-04-07T17:34:28.542Z"
      },
      {
        "duration": 12,
        "start_time": "2023-04-07T17:34:28.562Z"
      },
      {
        "duration": 9,
        "start_time": "2023-04-07T17:34:28.576Z"
      },
      {
        "duration": 5,
        "start_time": "2023-04-07T17:34:28.588Z"
      },
      {
        "duration": 16,
        "start_time": "2023-04-07T17:34:28.595Z"
      },
      {
        "duration": 15,
        "start_time": "2023-04-07T17:34:28.612Z"
      },
      {
        "duration": 12,
        "start_time": "2023-04-07T17:34:28.629Z"
      },
      {
        "duration": 8,
        "start_time": "2023-04-07T17:34:28.644Z"
      },
      {
        "duration": 12,
        "start_time": "2023-04-07T17:34:28.653Z"
      },
      {
        "duration": 25,
        "start_time": "2023-04-07T17:34:28.667Z"
      },
      {
        "duration": 1317,
        "start_time": "2023-04-07T17:34:28.694Z"
      },
      {
        "duration": 0,
        "start_time": "2023-04-07T17:34:30.013Z"
      },
      {
        "duration": 0,
        "start_time": "2023-04-07T17:34:30.014Z"
      },
      {
        "duration": 0,
        "start_time": "2023-04-07T17:34:30.016Z"
      },
      {
        "duration": 1613,
        "start_time": "2023-04-07T17:35:58.695Z"
      },
      {
        "duration": 42,
        "start_time": "2023-04-07T17:36:00.311Z"
      },
      {
        "duration": 17,
        "start_time": "2023-04-07T17:36:00.354Z"
      },
      {
        "duration": 28,
        "start_time": "2023-04-07T17:36:00.373Z"
      },
      {
        "duration": 35,
        "start_time": "2023-04-07T17:36:00.404Z"
      },
      {
        "duration": 33,
        "start_time": "2023-04-07T17:36:00.441Z"
      },
      {
        "duration": 45,
        "start_time": "2023-04-07T17:36:00.476Z"
      },
      {
        "duration": 36,
        "start_time": "2023-04-07T17:36:00.522Z"
      },
      {
        "duration": 44,
        "start_time": "2023-04-07T17:36:00.560Z"
      },
      {
        "duration": 38,
        "start_time": "2023-04-07T17:36:00.607Z"
      },
      {
        "duration": 47,
        "start_time": "2023-04-07T17:36:00.647Z"
      },
      {
        "duration": 84,
        "start_time": "2023-04-07T17:36:00.697Z"
      },
      {
        "duration": 163,
        "start_time": "2023-04-07T17:36:00.783Z"
      },
      {
        "duration": 0,
        "start_time": "2023-04-07T17:36:00.948Z"
      },
      {
        "duration": 0,
        "start_time": "2023-04-07T17:36:00.949Z"
      },
      {
        "duration": 11,
        "start_time": "2023-04-07T17:36:27.476Z"
      },
      {
        "duration": 21,
        "start_time": "2023-04-07T17:37:58.644Z"
      },
      {
        "duration": 4,
        "start_time": "2023-04-07T17:43:01.415Z"
      },
      {
        "duration": 13,
        "start_time": "2023-04-07T17:46:38.027Z"
      },
      {
        "duration": 11,
        "start_time": "2023-04-07T17:47:20.201Z"
      },
      {
        "duration": 21,
        "start_time": "2023-04-07T17:50:29.903Z"
      },
      {
        "duration": 1564,
        "start_time": "2023-04-07T17:51:29.985Z"
      },
      {
        "duration": 43,
        "start_time": "2023-04-07T17:51:31.551Z"
      },
      {
        "duration": 18,
        "start_time": "2023-04-07T17:51:31.595Z"
      },
      {
        "duration": 34,
        "start_time": "2023-04-07T17:51:31.615Z"
      },
      {
        "duration": 20,
        "start_time": "2023-04-07T17:51:31.651Z"
      },
      {
        "duration": 18,
        "start_time": "2023-04-07T17:51:31.673Z"
      },
      {
        "duration": 22,
        "start_time": "2023-04-07T17:51:31.693Z"
      },
      {
        "duration": 30,
        "start_time": "2023-04-07T17:51:31.717Z"
      },
      {
        "duration": 7,
        "start_time": "2023-04-07T17:51:31.749Z"
      },
      {
        "duration": 11,
        "start_time": "2023-04-07T17:51:31.758Z"
      },
      {
        "duration": 16,
        "start_time": "2023-04-07T17:51:31.771Z"
      },
      {
        "duration": 11,
        "start_time": "2023-04-07T17:51:31.788Z"
      },
      {
        "duration": 1327,
        "start_time": "2023-04-07T17:51:31.801Z"
      },
      {
        "duration": 25964,
        "start_time": "2023-04-07T17:51:33.130Z"
      },
      {
        "duration": 24399,
        "start_time": "2023-04-07T17:51:59.098Z"
      },
      {
        "duration": 25499,
        "start_time": "2023-04-07T17:52:23.595Z"
      },
      {
        "duration": 6,
        "start_time": "2023-04-07T17:55:17.261Z"
      },
      {
        "duration": 7,
        "start_time": "2023-04-07T17:56:43.187Z"
      },
      {
        "duration": 123,
        "start_time": "2023-04-07T17:59:26.636Z"
      },
      {
        "duration": 19,
        "start_time": "2023-04-07T18:00:40.501Z"
      },
      {
        "duration": 6,
        "start_time": "2023-04-07T18:00:45.496Z"
      },
      {
        "duration": 1351,
        "start_time": "2023-04-07T18:00:50.657Z"
      },
      {
        "duration": 1339,
        "start_time": "2023-04-07T18:01:36.920Z"
      },
      {
        "duration": 34509,
        "start_time": "2023-04-07T18:06:14.809Z"
      },
      {
        "duration": 35644,
        "start_time": "2023-04-07T18:06:54.493Z"
      },
      {
        "duration": 34818,
        "start_time": "2023-04-07T18:08:15.300Z"
      },
      {
        "duration": 28230,
        "start_time": "2023-04-07T18:15:04.759Z"
      },
      {
        "duration": 26776,
        "start_time": "2023-04-07T18:15:36.320Z"
      },
      {
        "duration": 9293,
        "start_time": "2023-04-07T18:18:56.610Z"
      },
      {
        "duration": 9,
        "start_time": "2023-04-07T18:50:54.786Z"
      },
      {
        "duration": 7,
        "start_time": "2023-04-07T18:51:55.788Z"
      },
      {
        "duration": 101,
        "start_time": "2023-04-07T18:52:41.042Z"
      },
      {
        "duration": 152,
        "start_time": "2023-04-07T18:53:03.594Z"
      },
      {
        "duration": 33,
        "start_time": "2023-04-07T18:57:02.301Z"
      },
      {
        "duration": 6,
        "start_time": "2023-04-07T18:58:02.107Z"
      },
      {
        "duration": 268,
        "start_time": "2023-04-07T18:58:12.878Z"
      },
      {
        "duration": 266,
        "start_time": "2023-04-07T18:59:21.590Z"
      },
      {
        "duration": 158,
        "start_time": "2023-04-07T19:00:45.718Z"
      },
      {
        "duration": 885,
        "start_time": "2023-04-07T19:02:04.254Z"
      },
      {
        "duration": 1040,
        "start_time": "2023-04-07T19:04:26.281Z"
      },
      {
        "duration": 1120,
        "start_time": "2023-04-07T19:05:50.456Z"
      },
      {
        "duration": 1078,
        "start_time": "2023-04-07T19:06:39.721Z"
      },
      {
        "duration": 1261,
        "start_time": "2023-04-07T19:10:23.630Z"
      },
      {
        "duration": 1116,
        "start_time": "2023-04-07T19:10:45.088Z"
      },
      {
        "duration": 1551,
        "start_time": "2023-04-08T06:39:02.426Z"
      },
      {
        "duration": 90,
        "start_time": "2023-04-08T06:39:03.979Z"
      },
      {
        "duration": 23,
        "start_time": "2023-04-08T06:39:04.072Z"
      },
      {
        "duration": 17,
        "start_time": "2023-04-08T06:39:04.097Z"
      },
      {
        "duration": 10,
        "start_time": "2023-04-08T06:39:04.116Z"
      },
      {
        "duration": 4,
        "start_time": "2023-04-08T06:39:04.127Z"
      },
      {
        "duration": 30,
        "start_time": "2023-04-08T06:39:04.133Z"
      },
      {
        "duration": 23,
        "start_time": "2023-04-08T06:39:04.165Z"
      },
      {
        "duration": 5,
        "start_time": "2023-04-08T06:39:04.190Z"
      },
      {
        "duration": 11,
        "start_time": "2023-04-08T06:39:04.197Z"
      },
      {
        "duration": 5,
        "start_time": "2023-04-08T06:39:04.210Z"
      },
      {
        "duration": 4,
        "start_time": "2023-04-08T06:39:04.217Z"
      },
      {
        "duration": 8,
        "start_time": "2023-04-08T06:39:04.222Z"
      },
      {
        "duration": 48,
        "start_time": "2023-04-08T06:39:04.262Z"
      },
      {
        "duration": 0,
        "start_time": "2023-04-08T06:39:04.312Z"
      },
      {
        "duration": 0,
        "start_time": "2023-04-08T06:39:04.314Z"
      },
      {
        "duration": 0,
        "start_time": "2023-04-08T06:39:04.315Z"
      },
      {
        "duration": 0,
        "start_time": "2023-04-08T06:39:04.316Z"
      },
      {
        "duration": 1417,
        "start_time": "2023-04-08T06:42:34.885Z"
      },
      {
        "duration": 36,
        "start_time": "2023-04-08T06:42:36.304Z"
      },
      {
        "duration": 18,
        "start_time": "2023-04-08T06:42:36.342Z"
      },
      {
        "duration": 31,
        "start_time": "2023-04-08T06:42:36.363Z"
      },
      {
        "duration": 10,
        "start_time": "2023-04-08T06:42:36.396Z"
      },
      {
        "duration": 4,
        "start_time": "2023-04-08T06:42:36.408Z"
      },
      {
        "duration": 34,
        "start_time": "2023-04-08T06:42:36.413Z"
      },
      {
        "duration": 33,
        "start_time": "2023-04-08T06:42:36.448Z"
      },
      {
        "duration": 7,
        "start_time": "2023-04-08T06:42:36.483Z"
      },
      {
        "duration": 18,
        "start_time": "2023-04-08T06:42:36.492Z"
      },
      {
        "duration": 6,
        "start_time": "2023-04-08T06:42:36.512Z"
      },
      {
        "duration": 4,
        "start_time": "2023-04-08T06:42:36.520Z"
      },
      {
        "duration": 7,
        "start_time": "2023-04-08T06:42:36.525Z"
      },
      {
        "duration": 48,
        "start_time": "2023-04-08T06:42:36.533Z"
      },
      {
        "duration": 0,
        "start_time": "2023-04-08T06:42:36.583Z"
      },
      {
        "duration": 0,
        "start_time": "2023-04-08T06:42:36.584Z"
      },
      {
        "duration": 0,
        "start_time": "2023-04-08T06:42:36.585Z"
      },
      {
        "duration": 1,
        "start_time": "2023-04-08T06:42:36.586Z"
      },
      {
        "duration": 1532,
        "start_time": "2023-04-08T06:42:58.932Z"
      },
      {
        "duration": 38,
        "start_time": "2023-04-08T06:43:00.466Z"
      },
      {
        "duration": 26,
        "start_time": "2023-04-08T06:43:00.506Z"
      },
      {
        "duration": 36,
        "start_time": "2023-04-08T06:43:00.534Z"
      },
      {
        "duration": 41,
        "start_time": "2023-04-08T06:43:00.572Z"
      },
      {
        "duration": 49,
        "start_time": "2023-04-08T06:43:00.615Z"
      },
      {
        "duration": 31,
        "start_time": "2023-04-08T06:43:00.666Z"
      },
      {
        "duration": 34,
        "start_time": "2023-04-08T06:43:00.699Z"
      },
      {
        "duration": 6,
        "start_time": "2023-04-08T06:43:00.736Z"
      },
      {
        "duration": 42,
        "start_time": "2023-04-08T06:43:00.744Z"
      },
      {
        "duration": 25,
        "start_time": "2023-04-08T06:43:00.788Z"
      },
      {
        "duration": 49,
        "start_time": "2023-04-08T06:43:00.814Z"
      },
      {
        "duration": 27,
        "start_time": "2023-04-08T06:43:00.864Z"
      },
      {
        "duration": 1361,
        "start_time": "2023-04-08T06:43:00.893Z"
      },
      {
        "duration": 33705,
        "start_time": "2023-04-08T06:43:02.261Z"
      },
      {
        "duration": 9313,
        "start_time": "2023-04-08T06:43:35.967Z"
      },
      {
        "duration": 1169,
        "start_time": "2023-04-08T06:43:45.363Z"
      },
      {
        "duration": 733,
        "start_time": "2023-04-08T06:58:45.930Z"
      },
      {
        "duration": 695,
        "start_time": "2023-04-08T07:03:27.168Z"
      },
      {
        "duration": 127,
        "start_time": "2023-04-08T07:11:31.912Z"
      },
      {
        "duration": 23,
        "start_time": "2023-04-08T07:15:08.130Z"
      },
      {
        "duration": 7,
        "start_time": "2023-04-08T07:15:16.402Z"
      },
      {
        "duration": 20,
        "start_time": "2023-04-08T07:15:23.842Z"
      },
      {
        "duration": 13,
        "start_time": "2023-04-08T07:16:20.893Z"
      },
      {
        "duration": 967,
        "start_time": "2023-04-08T07:19:59.959Z"
      },
      {
        "duration": 960,
        "start_time": "2023-04-08T07:20:42.808Z"
      },
      {
        "duration": 13,
        "start_time": "2023-04-08T07:34:59.981Z"
      },
      {
        "duration": 376,
        "start_time": "2023-04-08T07:35:56.222Z"
      },
      {
        "duration": 139,
        "start_time": "2023-04-08T11:16:35.051Z"
      },
      {
        "duration": 1833,
        "start_time": "2023-04-08T11:16:52.464Z"
      },
      {
        "duration": 109,
        "start_time": "2023-04-08T11:16:54.300Z"
      },
      {
        "duration": 35,
        "start_time": "2023-04-08T11:16:54.411Z"
      },
      {
        "duration": 21,
        "start_time": "2023-04-08T11:16:54.453Z"
      },
      {
        "duration": 9,
        "start_time": "2023-04-08T11:16:54.476Z"
      },
      {
        "duration": 7,
        "start_time": "2023-04-08T11:16:54.487Z"
      },
      {
        "duration": 17,
        "start_time": "2023-04-08T11:16:54.495Z"
      },
      {
        "duration": 30,
        "start_time": "2023-04-08T11:16:54.530Z"
      },
      {
        "duration": 6,
        "start_time": "2023-04-08T11:16:54.562Z"
      },
      {
        "duration": 17,
        "start_time": "2023-04-08T11:16:54.572Z"
      },
      {
        "duration": 11,
        "start_time": "2023-04-08T11:16:54.591Z"
      },
      {
        "duration": 5,
        "start_time": "2023-04-08T11:16:54.604Z"
      },
      {
        "duration": 21,
        "start_time": "2023-04-08T11:16:54.610Z"
      },
      {
        "duration": 1571,
        "start_time": "2023-04-08T11:16:54.633Z"
      },
      {
        "duration": 41505,
        "start_time": "2023-04-08T11:16:56.206Z"
      },
      {
        "duration": 7235,
        "start_time": "2023-04-08T11:17:37.713Z"
      },
      {
        "duration": 1361,
        "start_time": "2023-04-08T11:17:44.957Z"
      },
      {
        "duration": 940,
        "start_time": "2023-04-08T11:17:46.320Z"
      },
      {
        "duration": 183,
        "start_time": "2023-04-08T11:17:47.267Z"
      },
      {
        "duration": 1115,
        "start_time": "2023-04-08T11:17:47.456Z"
      },
      {
        "duration": 183,
        "start_time": "2023-04-08T11:17:48.573Z"
      },
      {
        "duration": 479,
        "start_time": "2023-04-08T11:17:48.758Z"
      },
      {
        "duration": 135160,
        "start_time": "2023-04-08T11:17:49.244Z"
      },
      {
        "duration": 7501,
        "start_time": "2023-04-08T11:21:23.472Z"
      },
      {
        "duration": 14826,
        "start_time": "2023-04-08T11:21:40.639Z"
      },
      {
        "duration": 51,
        "start_time": "2023-04-08T11:30:28.274Z"
      },
      {
        "duration": 944,
        "start_time": "2023-04-08T11:30:39.772Z"
      },
      {
        "duration": 411,
        "start_time": "2023-04-08T11:35:57.772Z"
      },
      {
        "duration": 7654,
        "start_time": "2023-04-08T11:36:14.502Z"
      },
      {
        "duration": 9639,
        "start_time": "2023-04-08T11:37:00.909Z"
      },
      {
        "duration": 9834,
        "start_time": "2023-04-08T11:37:26.250Z"
      },
      {
        "duration": 7698,
        "start_time": "2023-04-08T11:43:16.864Z"
      },
      {
        "duration": 75,
        "start_time": "2023-04-08T11:43:55.209Z"
      },
      {
        "duration": 784,
        "start_time": "2023-04-08T11:44:14.897Z"
      },
      {
        "duration": 733,
        "start_time": "2023-04-08T11:44:51.352Z"
      },
      {
        "duration": 510,
        "start_time": "2023-04-08T11:53:14.106Z"
      },
      {
        "duration": 1059,
        "start_time": "2023-04-08T11:55:13.437Z"
      },
      {
        "duration": 1817,
        "start_time": "2023-04-08T11:57:01.941Z"
      },
      {
        "duration": 1918,
        "start_time": "2023-04-08T11:58:22.190Z"
      },
      {
        "duration": 1769,
        "start_time": "2023-04-09T06:02:58.649Z"
      },
      {
        "duration": 163,
        "start_time": "2023-04-09T06:03:00.420Z"
      },
      {
        "duration": 16,
        "start_time": "2023-04-09T06:03:00.585Z"
      },
      {
        "duration": 40,
        "start_time": "2023-04-09T06:03:00.603Z"
      },
      {
        "duration": 21,
        "start_time": "2023-04-09T06:03:00.644Z"
      },
      {
        "duration": 23,
        "start_time": "2023-04-09T06:03:00.667Z"
      },
      {
        "duration": 29,
        "start_time": "2023-04-09T06:03:00.692Z"
      },
      {
        "duration": 49,
        "start_time": "2023-04-09T06:03:00.722Z"
      },
      {
        "duration": 42,
        "start_time": "2023-04-09T06:03:00.772Z"
      },
      {
        "duration": 40,
        "start_time": "2023-04-09T06:03:00.817Z"
      },
      {
        "duration": 22,
        "start_time": "2023-04-09T06:03:00.858Z"
      },
      {
        "duration": 25,
        "start_time": "2023-04-09T06:03:00.882Z"
      },
      {
        "duration": 22,
        "start_time": "2023-04-09T06:03:00.909Z"
      },
      {
        "duration": 1460,
        "start_time": "2023-04-09T06:03:00.933Z"
      },
      {
        "duration": 35119,
        "start_time": "2023-04-09T06:03:02.395Z"
      },
      {
        "duration": 8538,
        "start_time": "2023-04-09T06:03:37.516Z"
      },
      {
        "duration": 1248,
        "start_time": "2023-04-09T06:03:46.056Z"
      },
      {
        "duration": 745,
        "start_time": "2023-04-09T06:03:47.305Z"
      },
      {
        "duration": 106,
        "start_time": "2023-04-09T06:03:48.052Z"
      },
      {
        "duration": 1038,
        "start_time": "2023-04-09T06:03:48.166Z"
      },
      {
        "duration": 101,
        "start_time": "2023-04-09T06:03:49.248Z"
      },
      {
        "duration": 400,
        "start_time": "2023-04-09T06:03:49.351Z"
      },
      {
        "duration": 115491,
        "start_time": "2023-04-09T06:03:49.754Z"
      },
      {
        "duration": 12952,
        "start_time": "2023-04-09T06:05:45.247Z"
      },
      {
        "duration": 718,
        "start_time": "2023-04-09T06:05:58.201Z"
      },
      {
        "duration": 8373,
        "start_time": "2023-04-09T06:05:58.920Z"
      },
      {
        "duration": 6777,
        "start_time": "2023-04-09T06:06:07.295Z"
      },
      {
        "duration": 686,
        "start_time": "2023-04-09T06:06:14.075Z"
      },
      {
        "duration": 1875,
        "start_time": "2023-04-09T06:06:14.764Z"
      },
      {
        "duration": 30287,
        "start_time": "2023-04-09T06:07:05.752Z"
      },
      {
        "duration": 1839,
        "start_time": "2023-04-09T06:12:16.900Z"
      },
      {
        "duration": 1967,
        "start_time": "2023-04-09T06:14:28.157Z"
      },
      {
        "duration": 2097,
        "start_time": "2023-04-09T06:17:21.061Z"
      },
      {
        "duration": 2012,
        "start_time": "2023-04-09T06:18:08.104Z"
      },
      {
        "duration": 1872,
        "start_time": "2023-04-10T06:11:59.689Z"
      },
      {
        "duration": 76,
        "start_time": "2023-04-10T06:12:01.563Z"
      },
      {
        "duration": 15,
        "start_time": "2023-04-10T06:12:01.640Z"
      },
      {
        "duration": 31,
        "start_time": "2023-04-10T06:12:01.657Z"
      },
      {
        "duration": 17,
        "start_time": "2023-04-10T06:12:01.690Z"
      },
      {
        "duration": 39,
        "start_time": "2023-04-10T06:12:01.708Z"
      },
      {
        "duration": 47,
        "start_time": "2023-04-10T06:12:01.749Z"
      },
      {
        "duration": 41,
        "start_time": "2023-04-10T06:12:01.798Z"
      },
      {
        "duration": 24,
        "start_time": "2023-04-10T06:12:01.841Z"
      },
      {
        "duration": 27,
        "start_time": "2023-04-10T06:12:01.868Z"
      },
      {
        "duration": 25,
        "start_time": "2023-04-10T06:12:01.897Z"
      },
      {
        "duration": 16,
        "start_time": "2023-04-10T06:12:01.923Z"
      },
      {
        "duration": 36,
        "start_time": "2023-04-10T06:12:01.941Z"
      },
      {
        "duration": 1301,
        "start_time": "2023-04-10T06:12:01.979Z"
      },
      {
        "duration": 32525,
        "start_time": "2023-04-10T06:12:03.282Z"
      },
      {
        "duration": 7073,
        "start_time": "2023-04-10T06:12:35.808Z"
      },
      {
        "duration": 1153,
        "start_time": "2023-04-10T06:12:42.883Z"
      },
      {
        "duration": 648,
        "start_time": "2023-04-10T06:12:44.037Z"
      },
      {
        "duration": 186,
        "start_time": "2023-04-10T06:12:44.691Z"
      },
      {
        "duration": 887,
        "start_time": "2023-04-10T06:12:44.883Z"
      },
      {
        "duration": 97,
        "start_time": "2023-04-10T06:12:45.773Z"
      },
      {
        "duration": 422,
        "start_time": "2023-04-10T06:12:45.873Z"
      },
      {
        "duration": 106238,
        "start_time": "2023-04-10T06:12:46.298Z"
      },
      {
        "duration": 12024,
        "start_time": "2023-04-10T06:14:32.538Z"
      },
      {
        "duration": 669,
        "start_time": "2023-04-10T06:14:44.572Z"
      },
      {
        "duration": 8034,
        "start_time": "2023-04-10T06:14:45.243Z"
      },
      {
        "duration": 6532,
        "start_time": "2023-04-10T06:14:53.279Z"
      },
      {
        "duration": 769,
        "start_time": "2023-04-10T06:14:59.815Z"
      },
      {
        "duration": 2176,
        "start_time": "2023-04-10T06:15:00.590Z"
      },
      {
        "duration": 125,
        "start_time": "2023-04-10T07:08:17.404Z"
      },
      {
        "duration": 5,
        "start_time": "2023-04-10T07:09:17.702Z"
      },
      {
        "duration": 11,
        "start_time": "2023-04-10T07:16:12.560Z"
      },
      {
        "duration": 8,
        "start_time": "2023-04-10T07:16:22.536Z"
      },
      {
        "duration": 34,
        "start_time": "2023-04-10T07:16:24.938Z"
      },
      {
        "duration": 19,
        "start_time": "2023-04-10T07:16:25.969Z"
      },
      {
        "duration": 9,
        "start_time": "2023-04-10T07:16:32.082Z"
      },
      {
        "duration": 4,
        "start_time": "2023-04-10T07:16:44.658Z"
      },
      {
        "duration": 11,
        "start_time": "2023-04-10T07:16:48.503Z"
      },
      {
        "duration": 2,
        "start_time": "2023-04-10T07:16:58.321Z"
      },
      {
        "duration": 5,
        "start_time": "2023-04-10T07:17:05.288Z"
      },
      {
        "duration": 14,
        "start_time": "2023-04-10T07:17:06.281Z"
      },
      {
        "duration": 6,
        "start_time": "2023-04-10T07:17:07.118Z"
      },
      {
        "duration": 4,
        "start_time": "2023-04-10T07:17:09.062Z"
      },
      {
        "duration": 18,
        "start_time": "2023-04-10T07:17:12.661Z"
      },
      {
        "duration": 32,
        "start_time": "2023-04-10T07:30:37.771Z"
      },
      {
        "duration": 4,
        "start_time": "2023-04-10T07:30:59.017Z"
      },
      {
        "duration": 9,
        "start_time": "2023-04-10T07:30:59.881Z"
      },
      {
        "duration": 7,
        "start_time": "2023-04-10T07:31:00.480Z"
      },
      {
        "duration": 4,
        "start_time": "2023-04-10T07:31:01.396Z"
      },
      {
        "duration": 54,
        "start_time": "2023-04-10T07:31:03.858Z"
      },
      {
        "duration": 26,
        "start_time": "2023-04-10T07:31:11.971Z"
      },
      {
        "duration": 15,
        "start_time": "2023-04-10T07:31:50.501Z"
      },
      {
        "duration": 9,
        "start_time": "2023-04-10T07:32:13.415Z"
      },
      {
        "duration": 11,
        "start_time": "2023-04-10T07:32:25.799Z"
      },
      {
        "duration": 1415,
        "start_time": "2023-04-10T07:33:00.491Z"
      },
      {
        "duration": 34,
        "start_time": "2023-04-10T07:33:01.908Z"
      },
      {
        "duration": 36,
        "start_time": "2023-04-10T07:33:01.943Z"
      },
      {
        "duration": 54,
        "start_time": "2023-04-10T07:33:01.980Z"
      },
      {
        "duration": 27,
        "start_time": "2023-04-10T07:33:02.035Z"
      },
      {
        "duration": 31,
        "start_time": "2023-04-10T07:33:02.063Z"
      },
      {
        "duration": 51,
        "start_time": "2023-04-10T07:33:02.096Z"
      },
      {
        "duration": 40,
        "start_time": "2023-04-10T07:33:02.148Z"
      },
      {
        "duration": 152,
        "start_time": "2023-04-10T07:33:02.192Z"
      },
      {
        "duration": 0,
        "start_time": "2023-04-10T07:33:02.346Z"
      },
      {
        "duration": 0,
        "start_time": "2023-04-10T07:33:02.348Z"
      },
      {
        "duration": 0,
        "start_time": "2023-04-10T07:33:02.349Z"
      },
      {
        "duration": 0,
        "start_time": "2023-04-10T07:33:02.350Z"
      },
      {
        "duration": 0,
        "start_time": "2023-04-10T07:33:02.351Z"
      },
      {
        "duration": 0,
        "start_time": "2023-04-10T07:33:02.353Z"
      },
      {
        "duration": 0,
        "start_time": "2023-04-10T07:33:02.368Z"
      },
      {
        "duration": 0,
        "start_time": "2023-04-10T07:33:02.370Z"
      },
      {
        "duration": 0,
        "start_time": "2023-04-10T07:33:02.371Z"
      },
      {
        "duration": 0,
        "start_time": "2023-04-10T07:33:02.372Z"
      },
      {
        "duration": 0,
        "start_time": "2023-04-10T07:33:02.373Z"
      },
      {
        "duration": 0,
        "start_time": "2023-04-10T07:33:02.374Z"
      },
      {
        "duration": 0,
        "start_time": "2023-04-10T07:33:02.375Z"
      },
      {
        "duration": 0,
        "start_time": "2023-04-10T07:33:02.380Z"
      },
      {
        "duration": 0,
        "start_time": "2023-04-10T07:33:02.386Z"
      },
      {
        "duration": 0,
        "start_time": "2023-04-10T07:33:02.388Z"
      },
      {
        "duration": 0,
        "start_time": "2023-04-10T07:33:02.390Z"
      },
      {
        "duration": 0,
        "start_time": "2023-04-10T07:33:02.393Z"
      },
      {
        "duration": 0,
        "start_time": "2023-04-10T07:33:02.394Z"
      },
      {
        "duration": 0,
        "start_time": "2023-04-10T07:33:02.395Z"
      },
      {
        "duration": 0,
        "start_time": "2023-04-10T07:33:02.396Z"
      },
      {
        "duration": 0,
        "start_time": "2023-04-10T07:33:02.398Z"
      },
      {
        "duration": 5,
        "start_time": "2023-04-10T07:33:41.596Z"
      },
      {
        "duration": 8,
        "start_time": "2023-04-10T07:33:44.601Z"
      },
      {
        "duration": 7,
        "start_time": "2023-04-10T07:33:45.403Z"
      },
      {
        "duration": 4,
        "start_time": "2023-04-10T07:33:46.117Z"
      },
      {
        "duration": 31,
        "start_time": "2023-04-10T07:33:48.263Z"
      },
      {
        "duration": 9,
        "start_time": "2023-04-10T07:33:49.802Z"
      },
      {
        "duration": 9,
        "start_time": "2023-04-10T07:34:45.249Z"
      },
      {
        "duration": 24,
        "start_time": "2023-04-10T07:35:25.565Z"
      },
      {
        "duration": 109,
        "start_time": "2023-04-10T07:36:13.901Z"
      },
      {
        "duration": 9,
        "start_time": "2023-04-10T07:36:18.138Z"
      },
      {
        "duration": 21,
        "start_time": "2023-04-10T07:38:22.828Z"
      },
      {
        "duration": 14,
        "start_time": "2023-04-10T07:38:41.888Z"
      },
      {
        "duration": 16,
        "start_time": "2023-04-10T07:40:20.934Z"
      },
      {
        "duration": 13,
        "start_time": "2023-04-10T07:40:31.253Z"
      },
      {
        "duration": 10,
        "start_time": "2023-04-10T07:40:34.959Z"
      },
      {
        "duration": 10,
        "start_time": "2023-04-10T07:41:07.292Z"
      },
      {
        "duration": 13,
        "start_time": "2023-04-10T07:41:09.889Z"
      },
      {
        "duration": 12,
        "start_time": "2023-04-10T07:41:11.384Z"
      },
      {
        "duration": 7,
        "start_time": "2023-04-10T09:42:37.398Z"
      },
      {
        "duration": 79,
        "start_time": "2023-04-10T09:43:10.088Z"
      },
      {
        "duration": 11,
        "start_time": "2023-04-10T09:43:13.763Z"
      },
      {
        "duration": 6,
        "start_time": "2023-04-10T09:53:22.559Z"
      },
      {
        "duration": 3,
        "start_time": "2023-04-10T09:53:26.851Z"
      },
      {
        "duration": 6,
        "start_time": "2023-04-10T09:53:46.103Z"
      },
      {
        "duration": 16,
        "start_time": "2023-04-10T09:55:21.513Z"
      },
      {
        "duration": 7,
        "start_time": "2023-04-10T09:58:33.099Z"
      },
      {
        "duration": 8,
        "start_time": "2023-04-10T09:59:11.357Z"
      },
      {
        "duration": 8,
        "start_time": "2023-04-10T09:59:27.122Z"
      },
      {
        "duration": 27,
        "start_time": "2023-04-10T10:02:04.218Z"
      },
      {
        "duration": 24,
        "start_time": "2023-04-10T10:03:12.112Z"
      },
      {
        "duration": 23,
        "start_time": "2023-04-10T10:03:31.907Z"
      },
      {
        "duration": 18,
        "start_time": "2023-04-10T10:05:25.927Z"
      },
      {
        "duration": 4,
        "start_time": "2023-04-10T10:06:28.389Z"
      },
      {
        "duration": 1464,
        "start_time": "2023-04-10T10:08:11.997Z"
      },
      {
        "duration": 64,
        "start_time": "2023-04-10T10:08:13.463Z"
      },
      {
        "duration": 16,
        "start_time": "2023-04-10T10:08:13.528Z"
      },
      {
        "duration": 12,
        "start_time": "2023-04-10T10:08:13.545Z"
      },
      {
        "duration": 25,
        "start_time": "2023-04-10T10:08:13.559Z"
      },
      {
        "duration": 8,
        "start_time": "2023-04-10T10:08:13.598Z"
      },
      {
        "duration": 14,
        "start_time": "2023-04-10T10:08:13.611Z"
      },
      {
        "duration": 5,
        "start_time": "2023-04-10T10:08:13.627Z"
      },
      {
        "duration": 7,
        "start_time": "2023-04-10T10:08:13.633Z"
      },
      {
        "duration": 11,
        "start_time": "2023-04-10T10:08:13.641Z"
      },
      {
        "duration": 6,
        "start_time": "2023-04-10T10:08:13.653Z"
      },
      {
        "duration": 4,
        "start_time": "2023-04-10T10:08:13.660Z"
      },
      {
        "duration": 29,
        "start_time": "2023-04-10T10:08:13.665Z"
      },
      {
        "duration": 54,
        "start_time": "2023-04-10T10:08:13.699Z"
      },
      {
        "duration": 30,
        "start_time": "2023-04-10T10:08:13.755Z"
      },
      {
        "duration": 158,
        "start_time": "2023-04-10T10:08:13.788Z"
      },
      {
        "duration": 0,
        "start_time": "2023-04-10T10:08:13.948Z"
      },
      {
        "duration": 0,
        "start_time": "2023-04-10T10:08:13.948Z"
      },
      {
        "duration": 0,
        "start_time": "2023-04-10T10:08:13.949Z"
      },
      {
        "duration": 0,
        "start_time": "2023-04-10T10:08:13.950Z"
      },
      {
        "duration": 0,
        "start_time": "2023-04-10T10:08:13.951Z"
      },
      {
        "duration": 0,
        "start_time": "2023-04-10T10:08:13.952Z"
      },
      {
        "duration": 0,
        "start_time": "2023-04-10T10:08:13.953Z"
      },
      {
        "duration": 0,
        "start_time": "2023-04-10T10:08:13.954Z"
      },
      {
        "duration": 0,
        "start_time": "2023-04-10T10:08:13.955Z"
      },
      {
        "duration": 0,
        "start_time": "2023-04-10T10:08:13.956Z"
      },
      {
        "duration": 0,
        "start_time": "2023-04-10T10:08:13.957Z"
      },
      {
        "duration": 0,
        "start_time": "2023-04-10T10:08:13.973Z"
      },
      {
        "duration": 0,
        "start_time": "2023-04-10T10:08:13.978Z"
      },
      {
        "duration": 0,
        "start_time": "2023-04-10T10:08:13.983Z"
      },
      {
        "duration": 0,
        "start_time": "2023-04-10T10:08:13.989Z"
      },
      {
        "duration": 0,
        "start_time": "2023-04-10T10:08:13.991Z"
      },
      {
        "duration": 0,
        "start_time": "2023-04-10T10:08:13.993Z"
      },
      {
        "duration": 15,
        "start_time": "2023-04-10T10:09:07.110Z"
      },
      {
        "duration": 27,
        "start_time": "2023-04-10T10:09:31.033Z"
      },
      {
        "duration": 327,
        "start_time": "2023-04-10T10:09:59.533Z"
      },
      {
        "duration": 29,
        "start_time": "2023-04-10T10:10:55.725Z"
      },
      {
        "duration": 25,
        "start_time": "2023-04-10T10:15:55.416Z"
      },
      {
        "duration": 52,
        "start_time": "2023-04-10T10:16:26.058Z"
      },
      {
        "duration": 33,
        "start_time": "2023-04-10T10:17:28.824Z"
      },
      {
        "duration": 9,
        "start_time": "2023-04-10T10:17:55.427Z"
      },
      {
        "duration": 19,
        "start_time": "2023-04-10T10:18:47.760Z"
      },
      {
        "duration": 40,
        "start_time": "2023-04-10T10:19:33.611Z"
      },
      {
        "duration": 22,
        "start_time": "2023-04-10T10:22:05.970Z"
      },
      {
        "duration": 8,
        "start_time": "2023-04-10T10:23:38.115Z"
      },
      {
        "duration": 44,
        "start_time": "2023-04-10T10:24:02.514Z"
      },
      {
        "duration": 1594,
        "start_time": "2023-04-10T10:24:19.019Z"
      },
      {
        "duration": 46,
        "start_time": "2023-04-10T10:24:20.619Z"
      },
      {
        "duration": 35,
        "start_time": "2023-04-10T10:24:20.667Z"
      },
      {
        "duration": 23,
        "start_time": "2023-04-10T10:24:20.703Z"
      },
      {
        "duration": 12,
        "start_time": "2023-04-10T10:24:20.730Z"
      },
      {
        "duration": 7,
        "start_time": "2023-04-10T10:24:20.744Z"
      },
      {
        "duration": 54,
        "start_time": "2023-04-10T10:24:20.753Z"
      },
      {
        "duration": 4,
        "start_time": "2023-04-10T10:24:20.809Z"
      },
      {
        "duration": 24,
        "start_time": "2023-04-10T10:24:20.815Z"
      },
      {
        "duration": 40,
        "start_time": "2023-04-10T10:24:20.841Z"
      },
      {
        "duration": 14,
        "start_time": "2023-04-10T10:24:20.883Z"
      },
      {
        "duration": 15,
        "start_time": "2023-04-10T10:24:20.899Z"
      },
      {
        "duration": 19,
        "start_time": "2023-04-10T10:24:20.918Z"
      },
      {
        "duration": 55,
        "start_time": "2023-04-10T10:24:20.940Z"
      },
      {
        "duration": 20,
        "start_time": "2023-04-10T10:24:20.997Z"
      },
      {
        "duration": 129,
        "start_time": "2023-04-10T10:24:21.019Z"
      },
      {
        "duration": 0,
        "start_time": "2023-04-10T10:24:21.150Z"
      },
      {
        "duration": 0,
        "start_time": "2023-04-10T10:24:21.151Z"
      },
      {
        "duration": 0,
        "start_time": "2023-04-10T10:24:21.153Z"
      },
      {
        "duration": 0,
        "start_time": "2023-04-10T10:24:21.154Z"
      },
      {
        "duration": 0,
        "start_time": "2023-04-10T10:24:21.155Z"
      },
      {
        "duration": 0,
        "start_time": "2023-04-10T10:24:21.156Z"
      },
      {
        "duration": 0,
        "start_time": "2023-04-10T10:24:21.158Z"
      },
      {
        "duration": 0,
        "start_time": "2023-04-10T10:24:21.158Z"
      },
      {
        "duration": 0,
        "start_time": "2023-04-10T10:24:21.173Z"
      },
      {
        "duration": 0,
        "start_time": "2023-04-10T10:24:21.174Z"
      },
      {
        "duration": 0,
        "start_time": "2023-04-10T10:24:21.175Z"
      },
      {
        "duration": 0,
        "start_time": "2023-04-10T10:24:21.175Z"
      },
      {
        "duration": 0,
        "start_time": "2023-04-10T10:24:21.176Z"
      },
      {
        "duration": 0,
        "start_time": "2023-04-10T10:24:21.178Z"
      },
      {
        "duration": 0,
        "start_time": "2023-04-10T10:24:21.178Z"
      },
      {
        "duration": 0,
        "start_time": "2023-04-10T10:24:21.179Z"
      },
      {
        "duration": 0,
        "start_time": "2023-04-10T10:24:21.180Z"
      },
      {
        "duration": 1466,
        "start_time": "2023-04-10T10:27:09.894Z"
      },
      {
        "duration": 70,
        "start_time": "2023-04-10T10:27:11.362Z"
      },
      {
        "duration": 15,
        "start_time": "2023-04-10T10:27:11.434Z"
      },
      {
        "duration": 11,
        "start_time": "2023-04-10T10:27:11.451Z"
      },
      {
        "duration": 19,
        "start_time": "2023-04-10T10:27:11.463Z"
      },
      {
        "duration": 4,
        "start_time": "2023-04-10T10:27:11.484Z"
      },
      {
        "duration": 27,
        "start_time": "2023-04-10T10:27:11.490Z"
      },
      {
        "duration": 7,
        "start_time": "2023-04-10T10:27:11.518Z"
      },
      {
        "duration": 5,
        "start_time": "2023-04-10T10:27:11.527Z"
      },
      {
        "duration": 43,
        "start_time": "2023-04-10T10:27:11.534Z"
      },
      {
        "duration": 10,
        "start_time": "2023-04-10T10:27:11.586Z"
      },
      {
        "duration": 12,
        "start_time": "2023-04-10T10:27:11.601Z"
      },
      {
        "duration": 16,
        "start_time": "2023-04-10T10:27:11.619Z"
      },
      {
        "duration": 29,
        "start_time": "2023-04-10T10:27:11.636Z"
      },
      {
        "duration": 25,
        "start_time": "2023-04-10T10:27:11.666Z"
      },
      {
        "duration": 143,
        "start_time": "2023-04-10T10:27:11.693Z"
      },
      {
        "duration": 0,
        "start_time": "2023-04-10T10:27:11.838Z"
      },
      {
        "duration": 0,
        "start_time": "2023-04-10T10:27:11.839Z"
      },
      {
        "duration": 0,
        "start_time": "2023-04-10T10:27:11.840Z"
      },
      {
        "duration": 0,
        "start_time": "2023-04-10T10:27:11.842Z"
      },
      {
        "duration": 0,
        "start_time": "2023-04-10T10:27:11.843Z"
      },
      {
        "duration": 0,
        "start_time": "2023-04-10T10:27:11.844Z"
      },
      {
        "duration": 0,
        "start_time": "2023-04-10T10:27:11.845Z"
      },
      {
        "duration": 0,
        "start_time": "2023-04-10T10:27:11.845Z"
      },
      {
        "duration": 0,
        "start_time": "2023-04-10T10:27:11.846Z"
      },
      {
        "duration": 0,
        "start_time": "2023-04-10T10:27:11.848Z"
      },
      {
        "duration": 0,
        "start_time": "2023-04-10T10:27:11.848Z"
      },
      {
        "duration": 0,
        "start_time": "2023-04-10T10:27:11.849Z"
      },
      {
        "duration": 0,
        "start_time": "2023-04-10T10:27:11.850Z"
      },
      {
        "duration": 0,
        "start_time": "2023-04-10T10:27:11.851Z"
      },
      {
        "duration": 0,
        "start_time": "2023-04-10T10:27:11.852Z"
      },
      {
        "duration": 0,
        "start_time": "2023-04-10T10:27:11.853Z"
      },
      {
        "duration": 0,
        "start_time": "2023-04-10T10:27:11.854Z"
      },
      {
        "duration": 125,
        "start_time": "2023-04-10T10:50:10.968Z"
      },
      {
        "duration": 48,
        "start_time": "2023-04-10T10:50:52.783Z"
      },
      {
        "duration": 21,
        "start_time": "2023-04-10T10:53:51.937Z"
      },
      {
        "duration": 1567,
        "start_time": "2023-04-10T16:48:07.469Z"
      },
      {
        "duration": 166,
        "start_time": "2023-04-10T16:48:09.038Z"
      },
      {
        "duration": 17,
        "start_time": "2023-04-10T16:48:09.206Z"
      },
      {
        "duration": 27,
        "start_time": "2023-04-10T16:48:09.225Z"
      },
      {
        "duration": 21,
        "start_time": "2023-04-10T16:48:09.253Z"
      },
      {
        "duration": 9,
        "start_time": "2023-04-10T16:48:09.276Z"
      },
      {
        "duration": 34,
        "start_time": "2023-04-10T16:48:09.286Z"
      },
      {
        "duration": 5,
        "start_time": "2023-04-10T16:48:09.321Z"
      },
      {
        "duration": 30,
        "start_time": "2023-04-10T16:48:09.327Z"
      },
      {
        "duration": 16,
        "start_time": "2023-04-10T16:48:09.360Z"
      },
      {
        "duration": 8,
        "start_time": "2023-04-10T16:48:09.378Z"
      },
      {
        "duration": 6,
        "start_time": "2023-04-10T16:48:09.388Z"
      },
      {
        "duration": 25,
        "start_time": "2023-04-10T16:48:09.395Z"
      },
      {
        "duration": 119,
        "start_time": "2023-04-10T16:48:09.421Z"
      },
      {
        "duration": 0,
        "start_time": "2023-04-10T16:48:09.541Z"
      },
      {
        "duration": 0,
        "start_time": "2023-04-10T16:48:09.542Z"
      },
      {
        "duration": 0,
        "start_time": "2023-04-10T16:48:09.543Z"
      },
      {
        "duration": 0,
        "start_time": "2023-04-10T16:48:09.544Z"
      },
      {
        "duration": 0,
        "start_time": "2023-04-10T16:48:09.545Z"
      },
      {
        "duration": 0,
        "start_time": "2023-04-10T16:48:09.546Z"
      },
      {
        "duration": 0,
        "start_time": "2023-04-10T16:48:09.548Z"
      },
      {
        "duration": 0,
        "start_time": "2023-04-10T16:48:09.548Z"
      },
      {
        "duration": 0,
        "start_time": "2023-04-10T16:48:09.550Z"
      },
      {
        "duration": 0,
        "start_time": "2023-04-10T16:48:09.551Z"
      },
      {
        "duration": 0,
        "start_time": "2023-04-10T16:48:09.552Z"
      },
      {
        "duration": 0,
        "start_time": "2023-04-10T16:48:09.553Z"
      },
      {
        "duration": 0,
        "start_time": "2023-04-10T16:48:09.554Z"
      },
      {
        "duration": 0,
        "start_time": "2023-04-10T16:48:09.554Z"
      },
      {
        "duration": 0,
        "start_time": "2023-04-10T16:48:09.556Z"
      },
      {
        "duration": 0,
        "start_time": "2023-04-10T16:48:09.557Z"
      },
      {
        "duration": 0,
        "start_time": "2023-04-10T16:48:09.558Z"
      },
      {
        "duration": 0,
        "start_time": "2023-04-10T16:48:09.559Z"
      },
      {
        "duration": 0,
        "start_time": "2023-04-10T16:48:09.560Z"
      },
      {
        "duration": 20,
        "start_time": "2023-04-10T16:58:19.655Z"
      },
      {
        "duration": 22,
        "start_time": "2023-04-10T16:59:22.515Z"
      },
      {
        "duration": 31,
        "start_time": "2023-04-10T17:02:39.724Z"
      },
      {
        "duration": 13,
        "start_time": "2023-04-10T17:13:38.561Z"
      },
      {
        "duration": 8,
        "start_time": "2023-04-10T17:14:04.576Z"
      },
      {
        "duration": 9,
        "start_time": "2023-04-10T17:14:17.047Z"
      },
      {
        "duration": 9,
        "start_time": "2023-04-10T17:14:31.480Z"
      },
      {
        "duration": 38,
        "start_time": "2023-04-10T17:14:54.894Z"
      },
      {
        "duration": 26,
        "start_time": "2023-04-10T17:18:48.595Z"
      },
      {
        "duration": 30,
        "start_time": "2023-04-10T17:19:05.493Z"
      },
      {
        "duration": 35,
        "start_time": "2023-04-10T17:20:15.435Z"
      },
      {
        "duration": 14,
        "start_time": "2023-04-10T17:20:31.706Z"
      },
      {
        "duration": 26,
        "start_time": "2023-04-10T17:20:36.762Z"
      },
      {
        "duration": 27,
        "start_time": "2023-04-10T17:20:48.851Z"
      },
      {
        "duration": 26,
        "start_time": "2023-04-10T17:21:19.846Z"
      },
      {
        "duration": 26,
        "start_time": "2023-04-10T17:21:38.187Z"
      },
      {
        "duration": 32,
        "start_time": "2023-04-10T17:24:29.686Z"
      },
      {
        "duration": 32,
        "start_time": "2023-04-10T17:25:37.270Z"
      },
      {
        "duration": 17,
        "start_time": "2023-04-10T17:25:55.981Z"
      },
      {
        "duration": 19,
        "start_time": "2023-04-10T17:26:54.735Z"
      },
      {
        "duration": 19,
        "start_time": "2023-04-10T17:33:51.704Z"
      },
      {
        "duration": 35,
        "start_time": "2023-04-10T17:34:15.274Z"
      },
      {
        "duration": 25,
        "start_time": "2023-04-10T17:34:50.978Z"
      },
      {
        "duration": 18,
        "start_time": "2023-04-10T17:35:46.667Z"
      },
      {
        "duration": 9,
        "start_time": "2023-04-10T17:38:24.380Z"
      },
      {
        "duration": 29,
        "start_time": "2023-04-10T17:39:00.113Z"
      },
      {
        "duration": 29,
        "start_time": "2023-04-10T17:50:36.814Z"
      },
      {
        "duration": 22,
        "start_time": "2023-04-10T17:54:16.436Z"
      },
      {
        "duration": 21,
        "start_time": "2023-04-10T17:57:40.757Z"
      },
      {
        "duration": 17,
        "start_time": "2023-04-10T17:57:52.767Z"
      },
      {
        "duration": 18,
        "start_time": "2023-04-10T17:58:22.803Z"
      },
      {
        "duration": 17,
        "start_time": "2023-04-10T17:59:02.612Z"
      },
      {
        "duration": 1326,
        "start_time": "2023-04-10T17:59:26.792Z"
      },
      {
        "duration": 39,
        "start_time": "2023-04-10T17:59:28.120Z"
      },
      {
        "duration": 16,
        "start_time": "2023-04-10T17:59:28.160Z"
      },
      {
        "duration": 11,
        "start_time": "2023-04-10T17:59:28.178Z"
      },
      {
        "duration": 9,
        "start_time": "2023-04-10T17:59:28.190Z"
      },
      {
        "duration": 4,
        "start_time": "2023-04-10T17:59:28.200Z"
      },
      {
        "duration": 12,
        "start_time": "2023-04-10T17:59:28.205Z"
      },
      {
        "duration": 15,
        "start_time": "2023-04-10T17:59:28.219Z"
      },
      {
        "duration": 4,
        "start_time": "2023-04-10T17:59:28.236Z"
      },
      {
        "duration": 14,
        "start_time": "2023-04-10T17:59:28.242Z"
      },
      {
        "duration": 6,
        "start_time": "2023-04-10T17:59:28.257Z"
      },
      {
        "duration": 4,
        "start_time": "2023-04-10T17:59:28.264Z"
      },
      {
        "duration": 16,
        "start_time": "2023-04-10T17:59:28.270Z"
      },
      {
        "duration": 32,
        "start_time": "2023-04-10T17:59:28.287Z"
      },
      {
        "duration": 21,
        "start_time": "2023-04-10T17:59:28.321Z"
      },
      {
        "duration": 112,
        "start_time": "2023-04-10T17:59:28.344Z"
      },
      {
        "duration": 0,
        "start_time": "2023-04-10T17:59:28.458Z"
      },
      {
        "duration": 0,
        "start_time": "2023-04-10T17:59:28.459Z"
      },
      {
        "duration": 0,
        "start_time": "2023-04-10T17:59:28.460Z"
      },
      {
        "duration": 0,
        "start_time": "2023-04-10T17:59:28.461Z"
      },
      {
        "duration": 0,
        "start_time": "2023-04-10T17:59:28.462Z"
      },
      {
        "duration": 0,
        "start_time": "2023-04-10T17:59:28.463Z"
      },
      {
        "duration": 0,
        "start_time": "2023-04-10T17:59:28.464Z"
      },
      {
        "duration": 0,
        "start_time": "2023-04-10T17:59:28.465Z"
      },
      {
        "duration": 0,
        "start_time": "2023-04-10T17:59:28.466Z"
      },
      {
        "duration": 0,
        "start_time": "2023-04-10T17:59:28.467Z"
      },
      {
        "duration": 0,
        "start_time": "2023-04-10T17:59:28.468Z"
      },
      {
        "duration": 0,
        "start_time": "2023-04-10T17:59:28.470Z"
      },
      {
        "duration": 0,
        "start_time": "2023-04-10T17:59:28.471Z"
      },
      {
        "duration": 0,
        "start_time": "2023-04-10T17:59:28.472Z"
      },
      {
        "duration": 0,
        "start_time": "2023-04-10T17:59:28.472Z"
      },
      {
        "duration": 0,
        "start_time": "2023-04-10T17:59:28.473Z"
      },
      {
        "duration": 0,
        "start_time": "2023-04-10T17:59:28.474Z"
      },
      {
        "duration": 15,
        "start_time": "2023-04-10T18:03:48.380Z"
      },
      {
        "duration": 15,
        "start_time": "2023-04-10T18:04:48.851Z"
      },
      {
        "duration": 18,
        "start_time": "2023-04-10T18:05:33.697Z"
      },
      {
        "duration": 14,
        "start_time": "2023-04-10T18:11:23.946Z"
      },
      {
        "duration": 1647,
        "start_time": "2023-04-10T18:11:38.716Z"
      },
      {
        "duration": 40,
        "start_time": "2023-04-10T18:11:40.364Z"
      },
      {
        "duration": 14,
        "start_time": "2023-04-10T18:11:40.406Z"
      },
      {
        "duration": 11,
        "start_time": "2023-04-10T18:11:40.422Z"
      },
      {
        "duration": 17,
        "start_time": "2023-04-10T18:11:40.435Z"
      },
      {
        "duration": 11,
        "start_time": "2023-04-10T18:11:40.454Z"
      },
      {
        "duration": 23,
        "start_time": "2023-04-10T18:11:40.466Z"
      },
      {
        "duration": 19,
        "start_time": "2023-04-10T18:11:40.490Z"
      },
      {
        "duration": 18,
        "start_time": "2023-04-10T18:11:40.511Z"
      },
      {
        "duration": 21,
        "start_time": "2023-04-10T18:11:40.532Z"
      },
      {
        "duration": 14,
        "start_time": "2023-04-10T18:11:40.554Z"
      },
      {
        "duration": 12,
        "start_time": "2023-04-10T18:11:40.569Z"
      },
      {
        "duration": 28,
        "start_time": "2023-04-10T18:11:40.584Z"
      },
      {
        "duration": 24,
        "start_time": "2023-04-10T18:11:40.614Z"
      },
      {
        "duration": 10,
        "start_time": "2023-04-10T18:11:40.640Z"
      },
      {
        "duration": 120,
        "start_time": "2023-04-10T18:11:40.651Z"
      },
      {
        "duration": 0,
        "start_time": "2023-04-10T18:11:40.774Z"
      },
      {
        "duration": 0,
        "start_time": "2023-04-10T18:11:40.775Z"
      },
      {
        "duration": 0,
        "start_time": "2023-04-10T18:11:40.776Z"
      },
      {
        "duration": 0,
        "start_time": "2023-04-10T18:11:40.777Z"
      },
      {
        "duration": 0,
        "start_time": "2023-04-10T18:11:40.779Z"
      },
      {
        "duration": 0,
        "start_time": "2023-04-10T18:11:40.781Z"
      },
      {
        "duration": 0,
        "start_time": "2023-04-10T18:11:40.782Z"
      },
      {
        "duration": 0,
        "start_time": "2023-04-10T18:11:40.783Z"
      },
      {
        "duration": 1,
        "start_time": "2023-04-10T18:11:40.784Z"
      },
      {
        "duration": 0,
        "start_time": "2023-04-10T18:11:40.786Z"
      },
      {
        "duration": 0,
        "start_time": "2023-04-10T18:11:40.787Z"
      },
      {
        "duration": 0,
        "start_time": "2023-04-10T18:11:40.789Z"
      },
      {
        "duration": 0,
        "start_time": "2023-04-10T18:11:40.790Z"
      },
      {
        "duration": 0,
        "start_time": "2023-04-10T18:11:40.791Z"
      },
      {
        "duration": 0,
        "start_time": "2023-04-10T18:11:40.793Z"
      },
      {
        "duration": 0,
        "start_time": "2023-04-10T18:11:40.794Z"
      },
      {
        "duration": 0,
        "start_time": "2023-04-10T18:11:40.794Z"
      },
      {
        "duration": 4,
        "start_time": "2023-04-10T18:32:03.192Z"
      },
      {
        "duration": 15,
        "start_time": "2023-04-10T18:35:14.609Z"
      },
      {
        "duration": 16,
        "start_time": "2023-04-10T18:38:54.284Z"
      },
      {
        "duration": 12,
        "start_time": "2023-04-10T18:41:16.853Z"
      },
      {
        "duration": 13,
        "start_time": "2023-04-10T18:41:41.531Z"
      },
      {
        "duration": 18,
        "start_time": "2023-04-10T18:42:54.242Z"
      },
      {
        "duration": 15,
        "start_time": "2023-04-10T18:43:46.988Z"
      },
      {
        "duration": 11,
        "start_time": "2023-04-10T18:48:05.186Z"
      },
      {
        "duration": 23,
        "start_time": "2023-04-10T18:49:29.263Z"
      },
      {
        "duration": 16,
        "start_time": "2023-04-10T18:52:16.615Z"
      },
      {
        "duration": 19,
        "start_time": "2023-04-10T18:53:35.721Z"
      },
      {
        "duration": 25,
        "start_time": "2023-04-10T19:03:18.277Z"
      },
      {
        "duration": 24,
        "start_time": "2023-04-10T19:07:35.129Z"
      },
      {
        "duration": 29,
        "start_time": "2023-04-10T19:08:03.171Z"
      },
      {
        "duration": 29,
        "start_time": "2023-04-10T19:08:42.474Z"
      },
      {
        "duration": 18,
        "start_time": "2023-04-10T19:14:20.652Z"
      },
      {
        "duration": 17,
        "start_time": "2023-04-10T19:14:45.223Z"
      },
      {
        "duration": 35,
        "start_time": "2023-04-10T19:15:32.157Z"
      },
      {
        "duration": 1603,
        "start_time": "2023-04-11T05:26:36.632Z"
      },
      {
        "duration": 88,
        "start_time": "2023-04-11T05:26:38.237Z"
      },
      {
        "duration": 18,
        "start_time": "2023-04-11T05:26:38.326Z"
      },
      {
        "duration": 32,
        "start_time": "2023-04-11T05:26:38.346Z"
      },
      {
        "duration": 22,
        "start_time": "2023-04-11T05:26:38.380Z"
      },
      {
        "duration": 4,
        "start_time": "2023-04-11T05:26:38.403Z"
      },
      {
        "duration": 33,
        "start_time": "2023-04-11T05:26:38.409Z"
      },
      {
        "duration": 13,
        "start_time": "2023-04-11T05:26:38.444Z"
      },
      {
        "duration": 25,
        "start_time": "2023-04-11T05:26:38.459Z"
      },
      {
        "duration": 42,
        "start_time": "2023-04-11T05:26:38.487Z"
      },
      {
        "duration": 35,
        "start_time": "2023-04-11T05:26:38.531Z"
      },
      {
        "duration": 23,
        "start_time": "2023-04-11T05:26:38.568Z"
      },
      {
        "duration": 41,
        "start_time": "2023-04-11T05:26:38.592Z"
      },
      {
        "duration": 144,
        "start_time": "2023-04-11T05:26:38.635Z"
      },
      {
        "duration": 0,
        "start_time": "2023-04-11T05:26:38.786Z"
      },
      {
        "duration": 0,
        "start_time": "2023-04-11T05:26:38.787Z"
      },
      {
        "duration": 0,
        "start_time": "2023-04-11T05:26:38.788Z"
      },
      {
        "duration": 0,
        "start_time": "2023-04-11T05:26:38.789Z"
      },
      {
        "duration": 0,
        "start_time": "2023-04-11T05:26:38.790Z"
      },
      {
        "duration": 0,
        "start_time": "2023-04-11T05:26:38.792Z"
      },
      {
        "duration": 0,
        "start_time": "2023-04-11T05:26:38.792Z"
      },
      {
        "duration": 0,
        "start_time": "2023-04-11T05:26:38.793Z"
      },
      {
        "duration": 0,
        "start_time": "2023-04-11T05:26:38.794Z"
      },
      {
        "duration": 0,
        "start_time": "2023-04-11T05:26:38.796Z"
      },
      {
        "duration": 0,
        "start_time": "2023-04-11T05:26:38.797Z"
      },
      {
        "duration": 0,
        "start_time": "2023-04-11T05:26:38.798Z"
      },
      {
        "duration": 0,
        "start_time": "2023-04-11T05:26:38.799Z"
      },
      {
        "duration": 0,
        "start_time": "2023-04-11T05:26:38.800Z"
      },
      {
        "duration": 0,
        "start_time": "2023-04-11T05:26:38.801Z"
      },
      {
        "duration": 0,
        "start_time": "2023-04-11T05:26:38.802Z"
      },
      {
        "duration": 0,
        "start_time": "2023-04-11T05:26:38.803Z"
      },
      {
        "duration": 0,
        "start_time": "2023-04-11T05:26:38.804Z"
      },
      {
        "duration": 0,
        "start_time": "2023-04-11T05:26:38.805Z"
      },
      {
        "duration": 0,
        "start_time": "2023-04-11T05:26:38.806Z"
      },
      {
        "duration": 24,
        "start_time": "2023-04-11T05:32:00.451Z"
      },
      {
        "duration": 27,
        "start_time": "2023-04-11T05:33:16.759Z"
      },
      {
        "duration": 30,
        "start_time": "2023-04-11T05:35:06.249Z"
      },
      {
        "duration": 15,
        "start_time": "2023-04-11T05:36:28.799Z"
      },
      {
        "duration": 35,
        "start_time": "2023-04-11T05:36:40.588Z"
      },
      {
        "duration": 9,
        "start_time": "2023-04-11T05:36:44.542Z"
      },
      {
        "duration": 4,
        "start_time": "2023-04-11T05:36:52.826Z"
      },
      {
        "duration": 33,
        "start_time": "2023-04-11T05:37:07.289Z"
      },
      {
        "duration": 36,
        "start_time": "2023-04-11T05:37:32.028Z"
      },
      {
        "duration": 13,
        "start_time": "2023-04-11T05:38:26.721Z"
      },
      {
        "duration": 4,
        "start_time": "2023-04-11T05:41:23.652Z"
      },
      {
        "duration": 36,
        "start_time": "2023-04-11T05:43:17.286Z"
      },
      {
        "duration": 8,
        "start_time": "2023-04-11T05:43:29.032Z"
      },
      {
        "duration": 4,
        "start_time": "2023-04-11T05:43:31.821Z"
      },
      {
        "duration": 12,
        "start_time": "2023-04-11T05:43:39.657Z"
      },
      {
        "duration": 24,
        "start_time": "2023-04-11T05:44:01.640Z"
      },
      {
        "duration": 1418,
        "start_time": "2023-04-11T06:01:07.512Z"
      },
      {
        "duration": 36,
        "start_time": "2023-04-11T06:01:08.932Z"
      },
      {
        "duration": 16,
        "start_time": "2023-04-11T06:01:08.970Z"
      },
      {
        "duration": 5,
        "start_time": "2023-04-11T06:01:08.988Z"
      },
      {
        "duration": 15,
        "start_time": "2023-04-11T06:01:08.994Z"
      },
      {
        "duration": 9,
        "start_time": "2023-04-11T06:01:09.010Z"
      },
      {
        "duration": 4,
        "start_time": "2023-04-11T06:01:09.020Z"
      },
      {
        "duration": 15,
        "start_time": "2023-04-11T06:01:09.025Z"
      },
      {
        "duration": 3,
        "start_time": "2023-04-11T06:01:09.042Z"
      },
      {
        "duration": 140,
        "start_time": "2023-04-11T06:01:09.047Z"
      },
      {
        "duration": 0,
        "start_time": "2023-04-11T06:01:09.189Z"
      },
      {
        "duration": 0,
        "start_time": "2023-04-11T06:01:09.190Z"
      },
      {
        "duration": 0,
        "start_time": "2023-04-11T06:01:09.192Z"
      },
      {
        "duration": 0,
        "start_time": "2023-04-11T06:01:09.192Z"
      },
      {
        "duration": 0,
        "start_time": "2023-04-11T06:01:09.194Z"
      },
      {
        "duration": 0,
        "start_time": "2023-04-11T06:01:09.195Z"
      },
      {
        "duration": 0,
        "start_time": "2023-04-11T06:01:09.196Z"
      },
      {
        "duration": 0,
        "start_time": "2023-04-11T06:01:09.198Z"
      },
      {
        "duration": 0,
        "start_time": "2023-04-11T06:01:09.199Z"
      },
      {
        "duration": 0,
        "start_time": "2023-04-11T06:01:09.200Z"
      },
      {
        "duration": 0,
        "start_time": "2023-04-11T06:01:09.201Z"
      },
      {
        "duration": 0,
        "start_time": "2023-04-11T06:01:09.202Z"
      },
      {
        "duration": 0,
        "start_time": "2023-04-11T06:01:09.203Z"
      },
      {
        "duration": 0,
        "start_time": "2023-04-11T06:01:09.205Z"
      },
      {
        "duration": 0,
        "start_time": "2023-04-11T06:01:09.206Z"
      },
      {
        "duration": 0,
        "start_time": "2023-04-11T06:01:09.208Z"
      },
      {
        "duration": 0,
        "start_time": "2023-04-11T06:01:09.209Z"
      },
      {
        "duration": 0,
        "start_time": "2023-04-11T06:01:09.210Z"
      },
      {
        "duration": 0,
        "start_time": "2023-04-11T06:01:09.211Z"
      },
      {
        "duration": 0,
        "start_time": "2023-04-11T06:01:09.213Z"
      },
      {
        "duration": 0,
        "start_time": "2023-04-11T06:01:09.214Z"
      },
      {
        "duration": 0,
        "start_time": "2023-04-11T06:01:09.215Z"
      },
      {
        "duration": 0,
        "start_time": "2023-04-11T06:01:09.216Z"
      },
      {
        "duration": 0,
        "start_time": "2023-04-11T06:01:09.217Z"
      },
      {
        "duration": 0,
        "start_time": "2023-04-11T06:01:09.218Z"
      },
      {
        "duration": 0,
        "start_time": "2023-04-11T06:01:09.220Z"
      },
      {
        "duration": 0,
        "start_time": "2023-04-11T06:01:09.221Z"
      },
      {
        "duration": 1466,
        "start_time": "2023-04-11T06:01:45.681Z"
      },
      {
        "duration": 38,
        "start_time": "2023-04-11T06:01:47.149Z"
      },
      {
        "duration": 19,
        "start_time": "2023-04-11T06:01:47.189Z"
      },
      {
        "duration": 6,
        "start_time": "2023-04-11T06:01:47.210Z"
      },
      {
        "duration": 23,
        "start_time": "2023-04-11T06:01:47.218Z"
      },
      {
        "duration": 10,
        "start_time": "2023-04-11T06:01:47.243Z"
      },
      {
        "duration": 10,
        "start_time": "2023-04-11T06:01:47.255Z"
      },
      {
        "duration": 27,
        "start_time": "2023-04-11T06:01:47.267Z"
      },
      {
        "duration": 7,
        "start_time": "2023-04-11T06:01:47.296Z"
      },
      {
        "duration": 123,
        "start_time": "2023-04-11T06:01:47.305Z"
      },
      {
        "duration": 0,
        "start_time": "2023-04-11T06:01:47.430Z"
      },
      {
        "duration": 0,
        "start_time": "2023-04-11T06:01:47.431Z"
      },
      {
        "duration": 0,
        "start_time": "2023-04-11T06:01:47.432Z"
      },
      {
        "duration": 0,
        "start_time": "2023-04-11T06:01:47.434Z"
      },
      {
        "duration": 0,
        "start_time": "2023-04-11T06:01:47.435Z"
      },
      {
        "duration": 0,
        "start_time": "2023-04-11T06:01:47.436Z"
      },
      {
        "duration": 0,
        "start_time": "2023-04-11T06:01:47.437Z"
      },
      {
        "duration": 0,
        "start_time": "2023-04-11T06:01:47.438Z"
      },
      {
        "duration": 1,
        "start_time": "2023-04-11T06:01:47.439Z"
      },
      {
        "duration": 0,
        "start_time": "2023-04-11T06:01:47.441Z"
      },
      {
        "duration": 0,
        "start_time": "2023-04-11T06:01:47.442Z"
      },
      {
        "duration": 0,
        "start_time": "2023-04-11T06:01:47.443Z"
      },
      {
        "duration": 0,
        "start_time": "2023-04-11T06:01:47.444Z"
      },
      {
        "duration": 0,
        "start_time": "2023-04-11T06:01:47.445Z"
      },
      {
        "duration": 0,
        "start_time": "2023-04-11T06:01:47.446Z"
      },
      {
        "duration": 0,
        "start_time": "2023-04-11T06:01:47.447Z"
      },
      {
        "duration": 0,
        "start_time": "2023-04-11T06:01:47.448Z"
      },
      {
        "duration": 0,
        "start_time": "2023-04-11T06:01:47.450Z"
      },
      {
        "duration": 0,
        "start_time": "2023-04-11T06:01:47.451Z"
      },
      {
        "duration": 0,
        "start_time": "2023-04-11T06:01:47.487Z"
      },
      {
        "duration": 0,
        "start_time": "2023-04-11T06:01:47.488Z"
      },
      {
        "duration": 0,
        "start_time": "2023-04-11T06:01:47.489Z"
      },
      {
        "duration": 0,
        "start_time": "2023-04-11T06:01:47.490Z"
      },
      {
        "duration": 0,
        "start_time": "2023-04-11T06:01:47.492Z"
      },
      {
        "duration": 0,
        "start_time": "2023-04-11T06:01:47.493Z"
      },
      {
        "duration": 0,
        "start_time": "2023-04-11T06:01:47.494Z"
      },
      {
        "duration": 0,
        "start_time": "2023-04-11T06:01:47.495Z"
      },
      {
        "duration": 48,
        "start_time": "2023-04-11T06:04:11.256Z"
      },
      {
        "duration": 1441,
        "start_time": "2023-04-11T06:11:39.370Z"
      },
      {
        "duration": 36,
        "start_time": "2023-04-11T06:11:40.813Z"
      },
      {
        "duration": 16,
        "start_time": "2023-04-11T06:11:40.851Z"
      },
      {
        "duration": 4,
        "start_time": "2023-04-11T06:11:40.869Z"
      },
      {
        "duration": 14,
        "start_time": "2023-04-11T06:11:40.875Z"
      },
      {
        "duration": 9,
        "start_time": "2023-04-11T06:11:40.891Z"
      },
      {
        "duration": 4,
        "start_time": "2023-04-11T06:11:40.902Z"
      },
      {
        "duration": 19,
        "start_time": "2023-04-11T06:11:40.908Z"
      },
      {
        "duration": 5,
        "start_time": "2023-04-11T06:11:40.928Z"
      },
      {
        "duration": 44,
        "start_time": "2023-04-11T06:11:40.935Z"
      },
      {
        "duration": 0,
        "start_time": "2023-04-11T06:11:40.981Z"
      },
      {
        "duration": 0,
        "start_time": "2023-04-11T06:11:40.982Z"
      },
      {
        "duration": 0,
        "start_time": "2023-04-11T06:11:40.983Z"
      },
      {
        "duration": 0,
        "start_time": "2023-04-11T06:11:40.984Z"
      },
      {
        "duration": 0,
        "start_time": "2023-04-11T06:11:40.986Z"
      },
      {
        "duration": 0,
        "start_time": "2023-04-11T06:11:40.987Z"
      },
      {
        "duration": 0,
        "start_time": "2023-04-11T06:11:40.988Z"
      },
      {
        "duration": 0,
        "start_time": "2023-04-11T06:11:40.989Z"
      },
      {
        "duration": 0,
        "start_time": "2023-04-11T06:11:40.990Z"
      },
      {
        "duration": 0,
        "start_time": "2023-04-11T06:11:40.991Z"
      },
      {
        "duration": 0,
        "start_time": "2023-04-11T06:11:40.992Z"
      },
      {
        "duration": 0,
        "start_time": "2023-04-11T06:11:40.993Z"
      },
      {
        "duration": 0,
        "start_time": "2023-04-11T06:11:40.994Z"
      },
      {
        "duration": 0,
        "start_time": "2023-04-11T06:11:40.995Z"
      },
      {
        "duration": 0,
        "start_time": "2023-04-11T06:11:40.996Z"
      },
      {
        "duration": 0,
        "start_time": "2023-04-11T06:11:40.998Z"
      },
      {
        "duration": 0,
        "start_time": "2023-04-11T06:11:40.998Z"
      },
      {
        "duration": 0,
        "start_time": "2023-04-11T06:11:40.999Z"
      },
      {
        "duration": 0,
        "start_time": "2023-04-11T06:11:41.000Z"
      },
      {
        "duration": 0,
        "start_time": "2023-04-11T06:11:41.001Z"
      },
      {
        "duration": 0,
        "start_time": "2023-04-11T06:11:41.002Z"
      },
      {
        "duration": 0,
        "start_time": "2023-04-11T06:11:41.003Z"
      },
      {
        "duration": 0,
        "start_time": "2023-04-11T06:11:41.004Z"
      },
      {
        "duration": 0,
        "start_time": "2023-04-11T06:11:41.005Z"
      },
      {
        "duration": 0,
        "start_time": "2023-04-11T06:11:41.006Z"
      },
      {
        "duration": 0,
        "start_time": "2023-04-11T06:11:41.007Z"
      },
      {
        "duration": 0,
        "start_time": "2023-04-11T06:11:41.008Z"
      },
      {
        "duration": 1450,
        "start_time": "2023-04-11T06:22:38.493Z"
      },
      {
        "duration": 38,
        "start_time": "2023-04-11T06:22:39.945Z"
      },
      {
        "duration": 18,
        "start_time": "2023-04-11T06:22:39.985Z"
      },
      {
        "duration": 6,
        "start_time": "2023-04-11T06:22:40.005Z"
      },
      {
        "duration": 40,
        "start_time": "2023-04-11T06:22:40.014Z"
      },
      {
        "duration": 17,
        "start_time": "2023-04-11T06:22:40.056Z"
      },
      {
        "duration": 12,
        "start_time": "2023-04-11T06:22:40.075Z"
      },
      {
        "duration": 19,
        "start_time": "2023-04-11T06:22:40.089Z"
      },
      {
        "duration": 5,
        "start_time": "2023-04-11T06:22:40.110Z"
      },
      {
        "duration": 54,
        "start_time": "2023-04-11T06:22:40.117Z"
      },
      {
        "duration": 0,
        "start_time": "2023-04-11T06:22:40.174Z"
      },
      {
        "duration": 0,
        "start_time": "2023-04-11T06:22:40.176Z"
      },
      {
        "duration": 0,
        "start_time": "2023-04-11T06:22:40.177Z"
      },
      {
        "duration": 0,
        "start_time": "2023-04-11T06:22:40.179Z"
      },
      {
        "duration": 0,
        "start_time": "2023-04-11T06:22:40.181Z"
      },
      {
        "duration": 0,
        "start_time": "2023-04-11T06:22:40.182Z"
      },
      {
        "duration": 0,
        "start_time": "2023-04-11T06:22:40.183Z"
      },
      {
        "duration": 0,
        "start_time": "2023-04-11T06:22:40.185Z"
      },
      {
        "duration": 0,
        "start_time": "2023-04-11T06:22:40.186Z"
      },
      {
        "duration": 0,
        "start_time": "2023-04-11T06:22:40.188Z"
      },
      {
        "duration": 0,
        "start_time": "2023-04-11T06:22:40.189Z"
      },
      {
        "duration": 0,
        "start_time": "2023-04-11T06:22:40.190Z"
      },
      {
        "duration": 0,
        "start_time": "2023-04-11T06:22:40.192Z"
      },
      {
        "duration": 0,
        "start_time": "2023-04-11T06:22:40.194Z"
      },
      {
        "duration": 0,
        "start_time": "2023-04-11T06:22:40.195Z"
      },
      {
        "duration": 0,
        "start_time": "2023-04-11T06:22:40.197Z"
      },
      {
        "duration": 0,
        "start_time": "2023-04-11T06:22:40.198Z"
      },
      {
        "duration": 0,
        "start_time": "2023-04-11T06:22:40.200Z"
      },
      {
        "duration": 0,
        "start_time": "2023-04-11T06:22:40.202Z"
      },
      {
        "duration": 0,
        "start_time": "2023-04-11T06:22:40.203Z"
      },
      {
        "duration": 0,
        "start_time": "2023-04-11T06:22:40.205Z"
      },
      {
        "duration": 0,
        "start_time": "2023-04-11T06:22:40.206Z"
      },
      {
        "duration": 0,
        "start_time": "2023-04-11T06:22:40.208Z"
      },
      {
        "duration": 0,
        "start_time": "2023-04-11T06:22:40.209Z"
      },
      {
        "duration": 0,
        "start_time": "2023-04-11T06:22:40.210Z"
      },
      {
        "duration": 0,
        "start_time": "2023-04-11T06:22:40.211Z"
      },
      {
        "duration": 0,
        "start_time": "2023-04-11T06:22:40.213Z"
      },
      {
        "duration": 67,
        "start_time": "2023-04-11T06:27:41.410Z"
      },
      {
        "duration": 174,
        "start_time": "2023-04-11T06:29:14.011Z"
      },
      {
        "duration": 18,
        "start_time": "2023-04-11T06:29:45.285Z"
      },
      {
        "duration": 18,
        "start_time": "2023-04-11T06:30:05.657Z"
      },
      {
        "duration": 17,
        "start_time": "2023-04-11T06:30:19.009Z"
      },
      {
        "duration": 2101,
        "start_time": "2023-04-11T06:34:26.257Z"
      },
      {
        "duration": 55,
        "start_time": "2023-04-11T06:34:28.366Z"
      },
      {
        "duration": 36,
        "start_time": "2023-04-11T06:34:28.425Z"
      },
      {
        "duration": 9,
        "start_time": "2023-04-11T06:34:28.465Z"
      },
      {
        "duration": 27,
        "start_time": "2023-04-11T06:34:28.476Z"
      },
      {
        "duration": 15,
        "start_time": "2023-04-11T06:34:28.505Z"
      },
      {
        "duration": 6,
        "start_time": "2023-04-11T06:34:28.522Z"
      },
      {
        "duration": 21,
        "start_time": "2023-04-11T06:34:28.530Z"
      },
      {
        "duration": 33,
        "start_time": "2023-04-11T06:34:28.553Z"
      },
      {
        "duration": 50,
        "start_time": "2023-04-11T06:34:28.592Z"
      },
      {
        "duration": 3,
        "start_time": "2023-04-11T06:34:28.644Z"
      },
      {
        "duration": 39,
        "start_time": "2023-04-11T06:34:28.649Z"
      },
      {
        "duration": 17,
        "start_time": "2023-04-11T06:34:28.691Z"
      },
      {
        "duration": 11,
        "start_time": "2023-04-11T06:34:28.710Z"
      },
      {
        "duration": 6,
        "start_time": "2023-04-11T06:34:28.724Z"
      },
      {
        "duration": 63,
        "start_time": "2023-04-11T06:34:28.731Z"
      },
      {
        "duration": 5,
        "start_time": "2023-04-11T06:34:28.796Z"
      },
      {
        "duration": 245,
        "start_time": "2023-04-11T06:34:28.804Z"
      },
      {
        "duration": 0,
        "start_time": "2023-04-11T06:34:29.052Z"
      },
      {
        "duration": 0,
        "start_time": "2023-04-11T06:34:29.054Z"
      },
      {
        "duration": 0,
        "start_time": "2023-04-11T06:34:29.055Z"
      },
      {
        "duration": 0,
        "start_time": "2023-04-11T06:34:29.056Z"
      },
      {
        "duration": 0,
        "start_time": "2023-04-11T06:34:29.057Z"
      },
      {
        "duration": 0,
        "start_time": "2023-04-11T06:34:29.058Z"
      },
      {
        "duration": 0,
        "start_time": "2023-04-11T06:34:29.060Z"
      },
      {
        "duration": 0,
        "start_time": "2023-04-11T06:34:29.061Z"
      },
      {
        "duration": 0,
        "start_time": "2023-04-11T06:34:29.062Z"
      },
      {
        "duration": 0,
        "start_time": "2023-04-11T06:34:29.063Z"
      },
      {
        "duration": 0,
        "start_time": "2023-04-11T06:34:29.064Z"
      },
      {
        "duration": 0,
        "start_time": "2023-04-11T06:34:29.066Z"
      },
      {
        "duration": 0,
        "start_time": "2023-04-11T06:34:29.087Z"
      },
      {
        "duration": 0,
        "start_time": "2023-04-11T06:34:29.089Z"
      },
      {
        "duration": 0,
        "start_time": "2023-04-11T06:34:29.092Z"
      },
      {
        "duration": 0,
        "start_time": "2023-04-11T06:34:29.094Z"
      },
      {
        "duration": 0,
        "start_time": "2023-04-11T06:34:29.096Z"
      },
      {
        "duration": 0,
        "start_time": "2023-04-11T06:34:29.098Z"
      },
      {
        "duration": 0,
        "start_time": "2023-04-11T06:34:29.100Z"
      },
      {
        "duration": 26,
        "start_time": "2023-04-11T06:35:26.821Z"
      },
      {
        "duration": 47,
        "start_time": "2023-04-11T06:35:43.365Z"
      },
      {
        "duration": 13,
        "start_time": "2023-04-11T06:35:58.917Z"
      },
      {
        "duration": 7,
        "start_time": "2023-04-11T06:36:00.918Z"
      },
      {
        "duration": 43,
        "start_time": "2023-04-11T06:36:08.896Z"
      },
      {
        "duration": 26,
        "start_time": "2023-04-11T06:36:17.535Z"
      },
      {
        "duration": 1439,
        "start_time": "2023-04-11T06:39:28.603Z"
      },
      {
        "duration": 37,
        "start_time": "2023-04-11T06:39:30.044Z"
      },
      {
        "duration": 18,
        "start_time": "2023-04-11T06:39:30.082Z"
      },
      {
        "duration": 19,
        "start_time": "2023-04-11T06:39:30.102Z"
      },
      {
        "duration": 36,
        "start_time": "2023-04-11T06:39:30.123Z"
      },
      {
        "duration": 14,
        "start_time": "2023-04-11T06:39:30.161Z"
      },
      {
        "duration": 26,
        "start_time": "2023-04-11T06:39:30.178Z"
      },
      {
        "duration": 14,
        "start_time": "2023-04-11T06:39:30.206Z"
      },
      {
        "duration": 27,
        "start_time": "2023-04-11T06:39:30.222Z"
      },
      {
        "duration": 46,
        "start_time": "2023-04-11T06:39:30.253Z"
      },
      {
        "duration": 40,
        "start_time": "2023-04-11T06:39:30.301Z"
      },
      {
        "duration": 45,
        "start_time": "2023-04-11T06:39:30.343Z"
      },
      {
        "duration": 22,
        "start_time": "2023-04-11T06:39:30.390Z"
      },
      {
        "duration": 27,
        "start_time": "2023-04-11T06:39:30.414Z"
      },
      {
        "duration": 66,
        "start_time": "2023-04-11T06:39:30.443Z"
      },
      {
        "duration": 187,
        "start_time": "2023-04-11T06:39:30.511Z"
      },
      {
        "duration": 0,
        "start_time": "2023-04-11T06:39:30.701Z"
      },
      {
        "duration": 0,
        "start_time": "2023-04-11T06:39:30.703Z"
      },
      {
        "duration": 0,
        "start_time": "2023-04-11T06:39:30.704Z"
      },
      {
        "duration": 0,
        "start_time": "2023-04-11T06:39:30.705Z"
      },
      {
        "duration": 0,
        "start_time": "2023-04-11T06:39:30.707Z"
      },
      {
        "duration": 0,
        "start_time": "2023-04-11T06:39:30.708Z"
      },
      {
        "duration": 0,
        "start_time": "2023-04-11T06:39:30.709Z"
      },
      {
        "duration": 0,
        "start_time": "2023-04-11T06:39:30.711Z"
      },
      {
        "duration": 0,
        "start_time": "2023-04-11T06:39:30.713Z"
      },
      {
        "duration": 0,
        "start_time": "2023-04-11T06:39:30.714Z"
      },
      {
        "duration": 0,
        "start_time": "2023-04-11T06:39:30.716Z"
      },
      {
        "duration": 0,
        "start_time": "2023-04-11T06:39:30.718Z"
      },
      {
        "duration": 0,
        "start_time": "2023-04-11T06:39:30.719Z"
      },
      {
        "duration": 0,
        "start_time": "2023-04-11T06:39:30.720Z"
      },
      {
        "duration": 0,
        "start_time": "2023-04-11T06:39:30.722Z"
      },
      {
        "duration": 0,
        "start_time": "2023-04-11T06:39:30.724Z"
      },
      {
        "duration": 0,
        "start_time": "2023-04-11T06:39:30.726Z"
      },
      {
        "duration": 0,
        "start_time": "2023-04-11T06:39:30.727Z"
      },
      {
        "duration": 0,
        "start_time": "2023-04-11T06:39:30.729Z"
      },
      {
        "duration": 0,
        "start_time": "2023-04-11T06:39:30.731Z"
      },
      {
        "duration": 0,
        "start_time": "2023-04-11T06:39:30.732Z"
      },
      {
        "duration": 1554,
        "start_time": "2023-04-11T06:40:09.555Z"
      },
      {
        "duration": 45,
        "start_time": "2023-04-11T06:40:11.111Z"
      },
      {
        "duration": 26,
        "start_time": "2023-04-11T06:40:11.158Z"
      },
      {
        "duration": 13,
        "start_time": "2023-04-11T06:40:11.188Z"
      },
      {
        "duration": 14,
        "start_time": "2023-04-11T06:40:11.203Z"
      },
      {
        "duration": 6,
        "start_time": "2023-04-11T06:40:11.219Z"
      },
      {
        "duration": 16,
        "start_time": "2023-04-11T06:40:11.227Z"
      },
      {
        "duration": 4,
        "start_time": "2023-04-11T06:40:11.245Z"
      },
      {
        "duration": 35,
        "start_time": "2023-04-11T06:40:11.251Z"
      },
      {
        "duration": 14,
        "start_time": "2023-04-11T06:40:11.290Z"
      },
      {
        "duration": 9,
        "start_time": "2023-04-11T06:40:11.306Z"
      },
      {
        "duration": 23,
        "start_time": "2023-04-11T06:40:11.317Z"
      },
      {
        "duration": 9,
        "start_time": "2023-04-11T06:40:11.342Z"
      },
      {
        "duration": 6,
        "start_time": "2023-04-11T06:40:11.353Z"
      },
      {
        "duration": 51,
        "start_time": "2023-04-11T06:40:11.361Z"
      },
      {
        "duration": 26,
        "start_time": "2023-04-11T06:40:11.414Z"
      },
      {
        "duration": 5,
        "start_time": "2023-04-11T06:40:11.442Z"
      },
      {
        "duration": 148,
        "start_time": "2023-04-11T06:40:11.450Z"
      },
      {
        "duration": 0,
        "start_time": "2023-04-11T06:40:11.601Z"
      },
      {
        "duration": 0,
        "start_time": "2023-04-11T06:40:11.602Z"
      },
      {
        "duration": 0,
        "start_time": "2023-04-11T06:40:11.604Z"
      },
      {
        "duration": 0,
        "start_time": "2023-04-11T06:40:11.605Z"
      },
      {
        "duration": 0,
        "start_time": "2023-04-11T06:40:11.607Z"
      },
      {
        "duration": 0,
        "start_time": "2023-04-11T06:40:11.609Z"
      },
      {
        "duration": 0,
        "start_time": "2023-04-11T06:40:11.610Z"
      },
      {
        "duration": 0,
        "start_time": "2023-04-11T06:40:11.611Z"
      },
      {
        "duration": 0,
        "start_time": "2023-04-11T06:40:11.613Z"
      },
      {
        "duration": 0,
        "start_time": "2023-04-11T06:40:11.614Z"
      },
      {
        "duration": 0,
        "start_time": "2023-04-11T06:40:11.616Z"
      },
      {
        "duration": 0,
        "start_time": "2023-04-11T06:40:11.618Z"
      },
      {
        "duration": 0,
        "start_time": "2023-04-11T06:40:11.618Z"
      },
      {
        "duration": 0,
        "start_time": "2023-04-11T06:40:11.620Z"
      },
      {
        "duration": 0,
        "start_time": "2023-04-11T06:40:11.621Z"
      },
      {
        "duration": 0,
        "start_time": "2023-04-11T06:40:11.623Z"
      },
      {
        "duration": 0,
        "start_time": "2023-04-11T06:40:11.624Z"
      },
      {
        "duration": 0,
        "start_time": "2023-04-11T06:40:11.625Z"
      },
      {
        "duration": 0,
        "start_time": "2023-04-11T06:40:11.626Z"
      },
      {
        "duration": 23,
        "start_time": "2023-04-11T06:41:21.398Z"
      },
      {
        "duration": 1473,
        "start_time": "2023-04-11T06:41:28.423Z"
      },
      {
        "duration": 36,
        "start_time": "2023-04-11T06:41:29.899Z"
      },
      {
        "duration": 20,
        "start_time": "2023-04-11T06:41:29.937Z"
      },
      {
        "duration": 14,
        "start_time": "2023-04-11T06:41:29.960Z"
      },
      {
        "duration": 18,
        "start_time": "2023-04-11T06:41:29.975Z"
      },
      {
        "duration": 4,
        "start_time": "2023-04-11T06:41:29.995Z"
      },
      {
        "duration": 21,
        "start_time": "2023-04-11T06:41:30.001Z"
      },
      {
        "duration": 14,
        "start_time": "2023-04-11T06:41:30.024Z"
      },
      {
        "duration": 18,
        "start_time": "2023-04-11T06:41:30.041Z"
      },
      {
        "duration": 21,
        "start_time": "2023-04-11T06:41:30.062Z"
      },
      {
        "duration": 25,
        "start_time": "2023-04-11T06:41:30.085Z"
      },
      {
        "duration": 29,
        "start_time": "2023-04-11T06:41:30.112Z"
      },
      {
        "duration": 24,
        "start_time": "2023-04-11T06:41:30.143Z"
      },
      {
        "duration": 15,
        "start_time": "2023-04-11T06:41:30.169Z"
      },
      {
        "duration": 24,
        "start_time": "2023-04-11T06:41:30.186Z"
      },
      {
        "duration": 41,
        "start_time": "2023-04-11T06:41:30.212Z"
      },
      {
        "duration": 5,
        "start_time": "2023-04-11T06:41:30.255Z"
      },
      {
        "duration": 136,
        "start_time": "2023-04-11T06:41:30.261Z"
      },
      {
        "duration": 1,
        "start_time": "2023-04-11T06:41:30.399Z"
      },
      {
        "duration": 1,
        "start_time": "2023-04-11T06:41:30.400Z"
      },
      {
        "duration": 1,
        "start_time": "2023-04-11T06:41:30.401Z"
      },
      {
        "duration": 0,
        "start_time": "2023-04-11T06:41:30.403Z"
      },
      {
        "duration": 0,
        "start_time": "2023-04-11T06:41:30.404Z"
      },
      {
        "duration": 0,
        "start_time": "2023-04-11T06:41:30.405Z"
      },
      {
        "duration": 0,
        "start_time": "2023-04-11T06:41:30.406Z"
      },
      {
        "duration": 0,
        "start_time": "2023-04-11T06:41:30.407Z"
      },
      {
        "duration": 0,
        "start_time": "2023-04-11T06:41:30.409Z"
      },
      {
        "duration": 0,
        "start_time": "2023-04-11T06:41:30.410Z"
      },
      {
        "duration": 0,
        "start_time": "2023-04-11T06:41:30.411Z"
      },
      {
        "duration": 0,
        "start_time": "2023-04-11T06:41:30.412Z"
      },
      {
        "duration": 0,
        "start_time": "2023-04-11T06:41:30.413Z"
      },
      {
        "duration": 0,
        "start_time": "2023-04-11T06:41:30.414Z"
      },
      {
        "duration": 0,
        "start_time": "2023-04-11T06:41:30.415Z"
      },
      {
        "duration": 0,
        "start_time": "2023-04-11T06:41:30.417Z"
      },
      {
        "duration": 0,
        "start_time": "2023-04-11T06:41:30.418Z"
      },
      {
        "duration": 0,
        "start_time": "2023-04-11T06:41:30.420Z"
      },
      {
        "duration": 0,
        "start_time": "2023-04-11T06:41:30.421Z"
      },
      {
        "duration": 31,
        "start_time": "2023-04-11T06:44:38.123Z"
      },
      {
        "duration": 1503,
        "start_time": "2023-04-11T06:54:42.071Z"
      },
      {
        "duration": 40,
        "start_time": "2023-04-11T06:54:43.577Z"
      },
      {
        "duration": 18,
        "start_time": "2023-04-11T06:54:43.619Z"
      },
      {
        "duration": 13,
        "start_time": "2023-04-11T06:54:43.639Z"
      },
      {
        "duration": 9,
        "start_time": "2023-04-11T06:54:43.654Z"
      },
      {
        "duration": 6,
        "start_time": "2023-04-11T06:54:43.665Z"
      },
      {
        "duration": 24,
        "start_time": "2023-04-11T06:54:43.673Z"
      },
      {
        "duration": 2,
        "start_time": "2023-04-11T06:54:43.699Z"
      },
      {
        "duration": 6,
        "start_time": "2023-04-11T06:54:43.703Z"
      },
      {
        "duration": 12,
        "start_time": "2023-04-11T06:54:43.712Z"
      },
      {
        "duration": 10,
        "start_time": "2023-04-11T06:54:43.725Z"
      },
      {
        "duration": 11,
        "start_time": "2023-04-11T06:54:43.737Z"
      },
      {
        "duration": 12,
        "start_time": "2023-04-11T06:54:43.750Z"
      },
      {
        "duration": 6,
        "start_time": "2023-04-11T06:54:43.764Z"
      },
      {
        "duration": 22,
        "start_time": "2023-04-11T06:54:43.791Z"
      },
      {
        "duration": 26,
        "start_time": "2023-04-11T06:54:43.815Z"
      },
      {
        "duration": 135,
        "start_time": "2023-04-11T06:54:43.843Z"
      },
      {
        "duration": 0,
        "start_time": "2023-04-11T06:54:43.980Z"
      },
      {
        "duration": 0,
        "start_time": "2023-04-11T06:54:43.985Z"
      },
      {
        "duration": 0,
        "start_time": "2023-04-11T06:54:43.986Z"
      },
      {
        "duration": 0,
        "start_time": "2023-04-11T06:54:43.987Z"
      },
      {
        "duration": 0,
        "start_time": "2023-04-11T06:54:43.989Z"
      },
      {
        "duration": 0,
        "start_time": "2023-04-11T06:54:43.990Z"
      },
      {
        "duration": 0,
        "start_time": "2023-04-11T06:54:43.993Z"
      },
      {
        "duration": 0,
        "start_time": "2023-04-11T06:54:43.994Z"
      },
      {
        "duration": 0,
        "start_time": "2023-04-11T06:54:44.000Z"
      },
      {
        "duration": 0,
        "start_time": "2023-04-11T06:54:44.000Z"
      },
      {
        "duration": 0,
        "start_time": "2023-04-11T06:54:44.001Z"
      },
      {
        "duration": 0,
        "start_time": "2023-04-11T06:54:44.004Z"
      },
      {
        "duration": 0,
        "start_time": "2023-04-11T06:54:44.005Z"
      },
      {
        "duration": 0,
        "start_time": "2023-04-11T06:54:44.006Z"
      },
      {
        "duration": 0,
        "start_time": "2023-04-11T06:54:44.007Z"
      },
      {
        "duration": 0,
        "start_time": "2023-04-11T06:54:44.008Z"
      },
      {
        "duration": 0,
        "start_time": "2023-04-11T06:54:44.009Z"
      },
      {
        "duration": 0,
        "start_time": "2023-04-11T06:54:44.012Z"
      },
      {
        "duration": 0,
        "start_time": "2023-04-11T06:54:44.013Z"
      },
      {
        "duration": 0,
        "start_time": "2023-04-11T06:54:44.014Z"
      },
      {
        "duration": 0,
        "start_time": "2023-04-11T06:54:44.015Z"
      },
      {
        "duration": 1515,
        "start_time": "2023-04-11T07:08:48.085Z"
      },
      {
        "duration": 40,
        "start_time": "2023-04-11T07:08:49.603Z"
      },
      {
        "duration": 17,
        "start_time": "2023-04-11T07:08:49.645Z"
      },
      {
        "duration": 14,
        "start_time": "2023-04-11T07:08:49.663Z"
      },
      {
        "duration": 26,
        "start_time": "2023-04-11T07:08:49.678Z"
      },
      {
        "duration": 4,
        "start_time": "2023-04-11T07:08:49.706Z"
      },
      {
        "duration": 13,
        "start_time": "2023-04-11T07:08:49.711Z"
      },
      {
        "duration": 4,
        "start_time": "2023-04-11T07:08:49.725Z"
      },
      {
        "duration": 4,
        "start_time": "2023-04-11T07:08:49.730Z"
      },
      {
        "duration": 4,
        "start_time": "2023-04-11T07:08:49.736Z"
      },
      {
        "duration": 5,
        "start_time": "2023-04-11T07:08:49.742Z"
      },
      {
        "duration": 9,
        "start_time": "2023-04-11T07:08:49.748Z"
      },
      {
        "duration": 6,
        "start_time": "2023-04-11T07:08:49.758Z"
      },
      {
        "duration": 12,
        "start_time": "2023-04-11T07:08:49.786Z"
      },
      {
        "duration": 19,
        "start_time": "2023-04-11T07:08:49.800Z"
      },
      {
        "duration": 10,
        "start_time": "2023-04-11T07:08:49.821Z"
      },
      {
        "duration": 138,
        "start_time": "2023-04-11T07:08:49.833Z"
      },
      {
        "duration": 0,
        "start_time": "2023-04-11T07:08:49.973Z"
      },
      {
        "duration": 0,
        "start_time": "2023-04-11T07:08:49.974Z"
      },
      {
        "duration": 0,
        "start_time": "2023-04-11T07:08:49.975Z"
      },
      {
        "duration": 0,
        "start_time": "2023-04-11T07:08:49.976Z"
      },
      {
        "duration": 0,
        "start_time": "2023-04-11T07:08:49.977Z"
      },
      {
        "duration": 0,
        "start_time": "2023-04-11T07:08:49.992Z"
      },
      {
        "duration": 0,
        "start_time": "2023-04-11T07:08:49.996Z"
      },
      {
        "duration": 0,
        "start_time": "2023-04-11T07:08:49.997Z"
      },
      {
        "duration": 0,
        "start_time": "2023-04-11T07:08:49.999Z"
      },
      {
        "duration": 0,
        "start_time": "2023-04-11T07:08:50.000Z"
      },
      {
        "duration": 0,
        "start_time": "2023-04-11T07:08:50.001Z"
      },
      {
        "duration": 0,
        "start_time": "2023-04-11T07:08:50.002Z"
      },
      {
        "duration": 0,
        "start_time": "2023-04-11T07:08:50.003Z"
      },
      {
        "duration": 0,
        "start_time": "2023-04-11T07:08:50.004Z"
      },
      {
        "duration": 0,
        "start_time": "2023-04-11T07:08:50.005Z"
      },
      {
        "duration": 0,
        "start_time": "2023-04-11T07:08:50.006Z"
      },
      {
        "duration": 0,
        "start_time": "2023-04-11T07:08:50.008Z"
      },
      {
        "duration": 0,
        "start_time": "2023-04-11T07:08:50.009Z"
      },
      {
        "duration": 0,
        "start_time": "2023-04-11T07:08:50.010Z"
      },
      {
        "duration": 0,
        "start_time": "2023-04-11T07:08:50.011Z"
      },
      {
        "duration": 0,
        "start_time": "2023-04-11T07:08:50.012Z"
      },
      {
        "duration": 19,
        "start_time": "2023-04-11T07:10:07.321Z"
      },
      {
        "duration": 22,
        "start_time": "2023-04-11T07:13:29.905Z"
      },
      {
        "duration": 33,
        "start_time": "2023-04-11T07:16:16.841Z"
      },
      {
        "duration": 1440,
        "start_time": "2023-04-11T07:16:52.610Z"
      },
      {
        "duration": 41,
        "start_time": "2023-04-11T07:16:54.053Z"
      },
      {
        "duration": 24,
        "start_time": "2023-04-11T07:16:54.096Z"
      },
      {
        "duration": 18,
        "start_time": "2023-04-11T07:16:54.123Z"
      },
      {
        "duration": 11,
        "start_time": "2023-04-11T07:16:54.143Z"
      },
      {
        "duration": 29,
        "start_time": "2023-04-11T07:16:54.157Z"
      },
      {
        "duration": 15,
        "start_time": "2023-04-11T07:16:54.188Z"
      },
      {
        "duration": 7,
        "start_time": "2023-04-11T07:16:54.205Z"
      },
      {
        "duration": 4,
        "start_time": "2023-04-11T07:16:54.213Z"
      },
      {
        "duration": 12,
        "start_time": "2023-04-11T07:16:54.220Z"
      },
      {
        "duration": 7,
        "start_time": "2023-04-11T07:16:54.234Z"
      },
      {
        "duration": 10,
        "start_time": "2023-04-11T07:16:54.242Z"
      },
      {
        "duration": 7,
        "start_time": "2023-04-11T07:16:54.253Z"
      },
      {
        "duration": 26,
        "start_time": "2023-04-11T07:16:54.261Z"
      },
      {
        "duration": 17,
        "start_time": "2023-04-11T07:16:54.289Z"
      },
      {
        "duration": 30,
        "start_time": "2023-04-11T07:16:54.307Z"
      },
      {
        "duration": 128,
        "start_time": "2023-04-11T07:16:54.338Z"
      },
      {
        "duration": 0,
        "start_time": "2023-04-11T07:16:54.468Z"
      },
      {
        "duration": 0,
        "start_time": "2023-04-11T07:16:54.470Z"
      },
      {
        "duration": 0,
        "start_time": "2023-04-11T07:16:54.472Z"
      },
      {
        "duration": 0,
        "start_time": "2023-04-11T07:16:54.485Z"
      },
      {
        "duration": 0,
        "start_time": "2023-04-11T07:16:54.486Z"
      },
      {
        "duration": 0,
        "start_time": "2023-04-11T07:16:54.488Z"
      },
      {
        "duration": 0,
        "start_time": "2023-04-11T07:16:54.490Z"
      },
      {
        "duration": 0,
        "start_time": "2023-04-11T07:16:54.491Z"
      },
      {
        "duration": 0,
        "start_time": "2023-04-11T07:16:54.493Z"
      },
      {
        "duration": 0,
        "start_time": "2023-04-11T07:16:54.494Z"
      },
      {
        "duration": 0,
        "start_time": "2023-04-11T07:16:54.496Z"
      },
      {
        "duration": 0,
        "start_time": "2023-04-11T07:16:54.498Z"
      },
      {
        "duration": 0,
        "start_time": "2023-04-11T07:16:54.499Z"
      },
      {
        "duration": 0,
        "start_time": "2023-04-11T07:16:54.501Z"
      },
      {
        "duration": 0,
        "start_time": "2023-04-11T07:16:54.502Z"
      },
      {
        "duration": 0,
        "start_time": "2023-04-11T07:16:54.504Z"
      },
      {
        "duration": 0,
        "start_time": "2023-04-11T07:16:54.505Z"
      },
      {
        "duration": 0,
        "start_time": "2023-04-11T07:16:54.507Z"
      },
      {
        "duration": 0,
        "start_time": "2023-04-11T07:16:54.508Z"
      },
      {
        "duration": 0,
        "start_time": "2023-04-11T07:16:54.510Z"
      },
      {
        "duration": 0,
        "start_time": "2023-04-11T07:16:54.511Z"
      },
      {
        "duration": 28,
        "start_time": "2023-04-11T07:24:43.069Z"
      },
      {
        "duration": 1484,
        "start_time": "2023-04-11T07:25:59.502Z"
      },
      {
        "duration": 37,
        "start_time": "2023-04-11T07:26:00.988Z"
      },
      {
        "duration": 39,
        "start_time": "2023-04-11T07:26:01.027Z"
      },
      {
        "duration": 45,
        "start_time": "2023-04-11T07:26:01.068Z"
      },
      {
        "duration": 38,
        "start_time": "2023-04-11T07:26:01.115Z"
      },
      {
        "duration": 36,
        "start_time": "2023-04-11T07:26:01.155Z"
      },
      {
        "duration": 40,
        "start_time": "2023-04-11T07:26:01.193Z"
      },
      {
        "duration": 46,
        "start_time": "2023-04-11T07:26:01.235Z"
      },
      {
        "duration": 34,
        "start_time": "2023-04-11T07:26:01.283Z"
      },
      {
        "duration": 91,
        "start_time": "2023-04-11T07:26:01.319Z"
      },
      {
        "duration": 93,
        "start_time": "2023-04-11T07:26:01.412Z"
      },
      {
        "duration": 47,
        "start_time": "2023-04-11T07:26:01.508Z"
      },
      {
        "duration": 98,
        "start_time": "2023-04-11T07:26:01.557Z"
      },
      {
        "duration": 126,
        "start_time": "2023-04-11T07:26:01.657Z"
      },
      {
        "duration": 0,
        "start_time": "2023-04-11T07:26:01.785Z"
      },
      {
        "duration": 0,
        "start_time": "2023-04-11T07:26:01.787Z"
      },
      {
        "duration": 0,
        "start_time": "2023-04-11T07:26:01.788Z"
      },
      {
        "duration": 0,
        "start_time": "2023-04-11T07:26:01.789Z"
      },
      {
        "duration": 0,
        "start_time": "2023-04-11T07:26:01.790Z"
      },
      {
        "duration": 0,
        "start_time": "2023-04-11T07:26:01.791Z"
      },
      {
        "duration": 0,
        "start_time": "2023-04-11T07:26:01.793Z"
      },
      {
        "duration": 0,
        "start_time": "2023-04-11T07:26:01.794Z"
      },
      {
        "duration": 0,
        "start_time": "2023-04-11T07:26:01.795Z"
      },
      {
        "duration": 0,
        "start_time": "2023-04-11T07:26:01.796Z"
      },
      {
        "duration": 0,
        "start_time": "2023-04-11T07:26:01.797Z"
      },
      {
        "duration": 0,
        "start_time": "2023-04-11T07:26:01.798Z"
      },
      {
        "duration": 0,
        "start_time": "2023-04-11T07:26:01.799Z"
      },
      {
        "duration": 0,
        "start_time": "2023-04-11T07:26:01.800Z"
      },
      {
        "duration": 0,
        "start_time": "2023-04-11T07:26:01.801Z"
      },
      {
        "duration": 0,
        "start_time": "2023-04-11T07:26:01.802Z"
      },
      {
        "duration": 0,
        "start_time": "2023-04-11T07:26:01.804Z"
      },
      {
        "duration": 0,
        "start_time": "2023-04-11T07:26:01.805Z"
      },
      {
        "duration": 0,
        "start_time": "2023-04-11T07:26:01.806Z"
      },
      {
        "duration": 0,
        "start_time": "2023-04-11T07:26:01.807Z"
      },
      {
        "duration": 0,
        "start_time": "2023-04-11T07:26:01.808Z"
      },
      {
        "duration": 29,
        "start_time": "2023-04-11T07:27:41.404Z"
      },
      {
        "duration": 1481,
        "start_time": "2023-04-11T07:30:00.396Z"
      },
      {
        "duration": 38,
        "start_time": "2023-04-11T07:30:01.879Z"
      },
      {
        "duration": 49,
        "start_time": "2023-04-11T07:30:01.919Z"
      },
      {
        "duration": 52,
        "start_time": "2023-04-11T07:30:01.970Z"
      },
      {
        "duration": 75,
        "start_time": "2023-04-11T07:30:02.023Z"
      },
      {
        "duration": 42,
        "start_time": "2023-04-11T07:30:02.100Z"
      },
      {
        "duration": 34,
        "start_time": "2023-04-11T07:30:02.144Z"
      },
      {
        "duration": 45,
        "start_time": "2023-04-11T07:30:02.180Z"
      },
      {
        "duration": 24,
        "start_time": "2023-04-11T07:30:02.227Z"
      },
      {
        "duration": 66,
        "start_time": "2023-04-11T07:30:02.254Z"
      },
      {
        "duration": 17,
        "start_time": "2023-04-11T07:30:02.322Z"
      },
      {
        "duration": 23,
        "start_time": "2023-04-11T07:30:02.341Z"
      },
      {
        "duration": 157,
        "start_time": "2023-04-11T07:30:02.366Z"
      },
      {
        "duration": 0,
        "start_time": "2023-04-11T07:30:02.525Z"
      },
      {
        "duration": 0,
        "start_time": "2023-04-11T07:30:02.526Z"
      },
      {
        "duration": 0,
        "start_time": "2023-04-11T07:30:02.527Z"
      },
      {
        "duration": 0,
        "start_time": "2023-04-11T07:30:02.528Z"
      },
      {
        "duration": 0,
        "start_time": "2023-04-11T07:30:02.529Z"
      },
      {
        "duration": 0,
        "start_time": "2023-04-11T07:30:02.530Z"
      },
      {
        "duration": 0,
        "start_time": "2023-04-11T07:30:02.531Z"
      },
      {
        "duration": 0,
        "start_time": "2023-04-11T07:30:02.532Z"
      },
      {
        "duration": 0,
        "start_time": "2023-04-11T07:30:02.533Z"
      },
      {
        "duration": 0,
        "start_time": "2023-04-11T07:30:02.534Z"
      },
      {
        "duration": 0,
        "start_time": "2023-04-11T07:30:02.535Z"
      },
      {
        "duration": 0,
        "start_time": "2023-04-11T07:30:02.536Z"
      },
      {
        "duration": 0,
        "start_time": "2023-04-11T07:30:02.537Z"
      },
      {
        "duration": 0,
        "start_time": "2023-04-11T07:30:02.538Z"
      },
      {
        "duration": 0,
        "start_time": "2023-04-11T07:30:02.539Z"
      },
      {
        "duration": 0,
        "start_time": "2023-04-11T07:30:02.541Z"
      },
      {
        "duration": 0,
        "start_time": "2023-04-11T07:30:02.541Z"
      },
      {
        "duration": 0,
        "start_time": "2023-04-11T07:30:02.542Z"
      },
      {
        "duration": 0,
        "start_time": "2023-04-11T07:30:02.543Z"
      },
      {
        "duration": 0,
        "start_time": "2023-04-11T07:30:02.544Z"
      },
      {
        "duration": 0,
        "start_time": "2023-04-11T07:30:02.545Z"
      },
      {
        "duration": 0,
        "start_time": "2023-04-11T07:30:02.546Z"
      },
      {
        "duration": 36,
        "start_time": "2023-04-11T07:30:38.128Z"
      },
      {
        "duration": 1523,
        "start_time": "2023-04-11T07:32:31.374Z"
      },
      {
        "duration": 37,
        "start_time": "2023-04-11T07:32:32.899Z"
      },
      {
        "duration": 18,
        "start_time": "2023-04-11T07:32:32.938Z"
      },
      {
        "duration": 15,
        "start_time": "2023-04-11T07:32:32.958Z"
      },
      {
        "duration": 17,
        "start_time": "2023-04-11T07:32:32.975Z"
      },
      {
        "duration": 5,
        "start_time": "2023-04-11T07:32:32.993Z"
      },
      {
        "duration": 14,
        "start_time": "2023-04-11T07:32:33.000Z"
      },
      {
        "duration": 6,
        "start_time": "2023-04-11T07:32:33.016Z"
      },
      {
        "duration": 7,
        "start_time": "2023-04-11T07:32:33.024Z"
      },
      {
        "duration": 14,
        "start_time": "2023-04-11T07:32:33.034Z"
      },
      {
        "duration": 8,
        "start_time": "2023-04-11T07:32:33.050Z"
      },
      {
        "duration": 29,
        "start_time": "2023-04-11T07:32:33.059Z"
      },
      {
        "duration": 55,
        "start_time": "2023-04-11T07:32:33.090Z"
      },
      {
        "duration": 118,
        "start_time": "2023-04-11T07:32:33.146Z"
      },
      {
        "duration": 0,
        "start_time": "2023-04-11T07:32:33.266Z"
      },
      {
        "duration": 0,
        "start_time": "2023-04-11T07:32:33.268Z"
      },
      {
        "duration": 0,
        "start_time": "2023-04-11T07:32:33.269Z"
      },
      {
        "duration": 0,
        "start_time": "2023-04-11T07:32:33.270Z"
      },
      {
        "duration": 0,
        "start_time": "2023-04-11T07:32:33.271Z"
      },
      {
        "duration": 0,
        "start_time": "2023-04-11T07:32:33.284Z"
      },
      {
        "duration": 0,
        "start_time": "2023-04-11T07:32:33.286Z"
      },
      {
        "duration": 0,
        "start_time": "2023-04-11T07:32:33.287Z"
      },
      {
        "duration": 0,
        "start_time": "2023-04-11T07:32:33.288Z"
      },
      {
        "duration": 0,
        "start_time": "2023-04-11T07:32:33.289Z"
      },
      {
        "duration": 0,
        "start_time": "2023-04-11T07:32:33.290Z"
      },
      {
        "duration": 0,
        "start_time": "2023-04-11T07:32:33.292Z"
      },
      {
        "duration": 0,
        "start_time": "2023-04-11T07:32:33.293Z"
      },
      {
        "duration": 0,
        "start_time": "2023-04-11T07:32:33.294Z"
      },
      {
        "duration": 0,
        "start_time": "2023-04-11T07:32:33.295Z"
      },
      {
        "duration": 0,
        "start_time": "2023-04-11T07:32:33.296Z"
      },
      {
        "duration": 0,
        "start_time": "2023-04-11T07:32:33.297Z"
      },
      {
        "duration": 0,
        "start_time": "2023-04-11T07:32:33.298Z"
      },
      {
        "duration": 0,
        "start_time": "2023-04-11T07:32:33.299Z"
      },
      {
        "duration": 0,
        "start_time": "2023-04-11T07:32:33.300Z"
      },
      {
        "duration": 0,
        "start_time": "2023-04-11T07:32:33.301Z"
      },
      {
        "duration": 29,
        "start_time": "2023-04-11T07:33:50.417Z"
      },
      {
        "duration": 19,
        "start_time": "2023-04-11T07:36:01.661Z"
      },
      {
        "duration": 1524,
        "start_time": "2023-04-11T07:37:03.202Z"
      },
      {
        "duration": 36,
        "start_time": "2023-04-11T07:37:04.728Z"
      },
      {
        "duration": 19,
        "start_time": "2023-04-11T07:37:04.766Z"
      },
      {
        "duration": 17,
        "start_time": "2023-04-11T07:37:04.787Z"
      },
      {
        "duration": 12,
        "start_time": "2023-04-11T07:37:04.806Z"
      },
      {
        "duration": 22,
        "start_time": "2023-04-11T07:37:04.819Z"
      },
      {
        "duration": 17,
        "start_time": "2023-04-11T07:37:04.843Z"
      },
      {
        "duration": 4,
        "start_time": "2023-04-11T07:37:04.862Z"
      },
      {
        "duration": 10,
        "start_time": "2023-04-11T07:37:04.868Z"
      },
      {
        "duration": 15,
        "start_time": "2023-04-11T07:37:04.881Z"
      },
      {
        "duration": 6,
        "start_time": "2023-04-11T07:37:04.898Z"
      },
      {
        "duration": 6,
        "start_time": "2023-04-11T07:37:04.906Z"
      },
      {
        "duration": 44,
        "start_time": "2023-04-11T07:37:04.913Z"
      },
      {
        "duration": 132,
        "start_time": "2023-04-11T07:37:04.958Z"
      },
      {
        "duration": 0,
        "start_time": "2023-04-11T07:37:05.092Z"
      },
      {
        "duration": 0,
        "start_time": "2023-04-11T07:37:05.093Z"
      },
      {
        "duration": 0,
        "start_time": "2023-04-11T07:37:05.094Z"
      },
      {
        "duration": 0,
        "start_time": "2023-04-11T07:37:05.095Z"
      },
      {
        "duration": 0,
        "start_time": "2023-04-11T07:37:05.096Z"
      },
      {
        "duration": 0,
        "start_time": "2023-04-11T07:37:05.097Z"
      },
      {
        "duration": 0,
        "start_time": "2023-04-11T07:37:05.098Z"
      },
      {
        "duration": 0,
        "start_time": "2023-04-11T07:37:05.099Z"
      },
      {
        "duration": 0,
        "start_time": "2023-04-11T07:37:05.100Z"
      },
      {
        "duration": 0,
        "start_time": "2023-04-11T07:37:05.101Z"
      },
      {
        "duration": 0,
        "start_time": "2023-04-11T07:37:05.102Z"
      },
      {
        "duration": 0,
        "start_time": "2023-04-11T07:37:05.103Z"
      },
      {
        "duration": 0,
        "start_time": "2023-04-11T07:37:05.104Z"
      },
      {
        "duration": 0,
        "start_time": "2023-04-11T07:37:05.106Z"
      },
      {
        "duration": 0,
        "start_time": "2023-04-11T07:37:05.107Z"
      },
      {
        "duration": 0,
        "start_time": "2023-04-11T07:37:05.108Z"
      },
      {
        "duration": 0,
        "start_time": "2023-04-11T07:37:05.109Z"
      },
      {
        "duration": 0,
        "start_time": "2023-04-11T07:37:05.110Z"
      },
      {
        "duration": 0,
        "start_time": "2023-04-11T07:37:05.111Z"
      },
      {
        "duration": 0,
        "start_time": "2023-04-11T07:37:05.113Z"
      },
      {
        "duration": 0,
        "start_time": "2023-04-11T07:37:05.114Z"
      },
      {
        "duration": 1405,
        "start_time": "2023-04-11T07:46:35.321Z"
      },
      {
        "duration": 37,
        "start_time": "2023-04-11T07:46:36.728Z"
      },
      {
        "duration": 19,
        "start_time": "2023-04-11T07:46:36.766Z"
      },
      {
        "duration": 14,
        "start_time": "2023-04-11T07:46:36.789Z"
      },
      {
        "duration": 11,
        "start_time": "2023-04-11T07:46:36.805Z"
      },
      {
        "duration": 5,
        "start_time": "2023-04-11T07:46:36.818Z"
      },
      {
        "duration": 14,
        "start_time": "2023-04-11T07:46:36.824Z"
      },
      {
        "duration": 5,
        "start_time": "2023-04-11T07:46:36.839Z"
      },
      {
        "duration": 6,
        "start_time": "2023-04-11T07:46:36.845Z"
      },
      {
        "duration": 9,
        "start_time": "2023-04-11T07:46:36.885Z"
      },
      {
        "duration": 7,
        "start_time": "2023-04-11T07:46:36.896Z"
      },
      {
        "duration": 4,
        "start_time": "2023-04-11T07:46:36.905Z"
      },
      {
        "duration": 43,
        "start_time": "2023-04-11T07:46:36.911Z"
      },
      {
        "duration": 6,
        "start_time": "2023-04-11T07:46:36.984Z"
      },
      {
        "duration": 1428,
        "start_time": "2023-04-11T07:46:36.992Z"
      },
      {
        "duration": 31932,
        "start_time": "2023-04-11T07:46:38.422Z"
      },
      {
        "duration": 9145,
        "start_time": "2023-04-11T07:47:10.356Z"
      },
      {
        "duration": 1264,
        "start_time": "2023-04-11T07:47:19.504Z"
      },
      {
        "duration": 719,
        "start_time": "2023-04-11T07:47:20.770Z"
      },
      {
        "duration": 195,
        "start_time": "2023-04-11T07:47:21.491Z"
      },
      {
        "duration": 908,
        "start_time": "2023-04-11T07:47:21.688Z"
      },
      {
        "duration": 189,
        "start_time": "2023-04-11T07:47:22.600Z"
      },
      {
        "duration": 399,
        "start_time": "2023-04-11T07:47:22.791Z"
      },
      {
        "duration": 105025,
        "start_time": "2023-04-11T07:47:23.192Z"
      },
      {
        "duration": 11827,
        "start_time": "2023-04-11T07:49:08.218Z"
      },
      {
        "duration": 657,
        "start_time": "2023-04-11T07:49:20.047Z"
      },
      {
        "duration": 7788,
        "start_time": "2023-04-11T07:49:20.706Z"
      },
      {
        "duration": 6030,
        "start_time": "2023-04-11T07:49:28.497Z"
      },
      {
        "duration": 629,
        "start_time": "2023-04-11T07:49:34.529Z"
      },
      {
        "duration": 1822,
        "start_time": "2023-04-11T07:49:35.160Z"
      },
      {
        "duration": 1511,
        "start_time": "2023-04-11T09:32:53.350Z"
      },
      {
        "duration": 36,
        "start_time": "2023-04-11T09:32:54.863Z"
      },
      {
        "duration": 16,
        "start_time": "2023-04-11T09:32:54.901Z"
      },
      {
        "duration": 12,
        "start_time": "2023-04-11T09:32:54.919Z"
      },
      {
        "duration": 22,
        "start_time": "2023-04-11T09:32:54.932Z"
      },
      {
        "duration": 4,
        "start_time": "2023-04-11T09:32:54.957Z"
      },
      {
        "duration": 30,
        "start_time": "2023-04-11T09:32:54.963Z"
      },
      {
        "duration": 3,
        "start_time": "2023-04-11T09:32:54.995Z"
      },
      {
        "duration": 7,
        "start_time": "2023-04-11T09:32:55.000Z"
      },
      {
        "duration": 13,
        "start_time": "2023-04-11T09:32:55.010Z"
      },
      {
        "duration": 6,
        "start_time": "2023-04-11T09:32:55.024Z"
      },
      {
        "duration": 4,
        "start_time": "2023-04-11T09:32:55.032Z"
      },
      {
        "duration": 63,
        "start_time": "2023-04-11T09:32:55.037Z"
      },
      {
        "duration": 5,
        "start_time": "2023-04-11T09:32:55.102Z"
      },
      {
        "duration": 1406,
        "start_time": "2023-04-11T09:32:55.108Z"
      },
      {
        "duration": 31483,
        "start_time": "2023-04-11T09:32:56.515Z"
      },
      {
        "duration": 8690,
        "start_time": "2023-04-11T09:33:28.000Z"
      },
      {
        "duration": 1175,
        "start_time": "2023-04-11T09:33:36.692Z"
      },
      {
        "duration": 718,
        "start_time": "2023-04-11T09:33:37.869Z"
      },
      {
        "duration": 104,
        "start_time": "2023-04-11T09:33:38.589Z"
      },
      {
        "duration": 893,
        "start_time": "2023-04-11T09:33:38.695Z"
      },
      {
        "duration": 104,
        "start_time": "2023-04-11T09:33:39.591Z"
      },
      {
        "duration": 402,
        "start_time": "2023-04-11T09:33:39.786Z"
      },
      {
        "duration": 102181,
        "start_time": "2023-04-11T09:33:40.190Z"
      },
      {
        "duration": 11926,
        "start_time": "2023-04-11T09:35:22.373Z"
      },
      {
        "duration": 645,
        "start_time": "2023-04-11T09:35:34.301Z"
      },
      {
        "duration": 7557,
        "start_time": "2023-04-11T09:35:34.948Z"
      },
      {
        "duration": 6129,
        "start_time": "2023-04-11T09:35:42.508Z"
      },
      {
        "duration": 598,
        "start_time": "2023-04-11T09:35:48.639Z"
      },
      {
        "duration": 1813,
        "start_time": "2023-04-11T09:35:49.239Z"
      },
      {
        "duration": 1405,
        "start_time": "2023-04-11T11:03:13.926Z"
      },
      {
        "duration": 35,
        "start_time": "2023-04-11T11:03:15.332Z"
      },
      {
        "duration": 17,
        "start_time": "2023-04-11T11:03:15.368Z"
      },
      {
        "duration": 12,
        "start_time": "2023-04-11T11:03:15.386Z"
      },
      {
        "duration": 9,
        "start_time": "2023-04-11T11:03:15.399Z"
      },
      {
        "duration": 6,
        "start_time": "2023-04-11T11:03:15.409Z"
      },
      {
        "duration": 21,
        "start_time": "2023-04-11T11:03:15.416Z"
      },
      {
        "duration": 22,
        "start_time": "2023-04-11T11:03:15.439Z"
      },
      {
        "duration": 18,
        "start_time": "2023-04-11T11:03:15.463Z"
      },
      {
        "duration": 25,
        "start_time": "2023-04-11T11:03:15.484Z"
      },
      {
        "duration": 10,
        "start_time": "2023-04-11T11:03:15.511Z"
      },
      {
        "duration": 22,
        "start_time": "2023-04-11T11:03:15.522Z"
      },
      {
        "duration": 53,
        "start_time": "2023-04-11T11:03:15.546Z"
      },
      {
        "duration": 120,
        "start_time": "2023-04-11T11:03:15.600Z"
      },
      {
        "duration": 0,
        "start_time": "2023-04-11T11:03:15.722Z"
      },
      {
        "duration": 0,
        "start_time": "2023-04-11T11:03:15.723Z"
      },
      {
        "duration": 0,
        "start_time": "2023-04-11T11:03:15.724Z"
      },
      {
        "duration": 0,
        "start_time": "2023-04-11T11:03:15.726Z"
      },
      {
        "duration": 0,
        "start_time": "2023-04-11T11:03:15.727Z"
      },
      {
        "duration": 0,
        "start_time": "2023-04-11T11:03:15.728Z"
      },
      {
        "duration": 0,
        "start_time": "2023-04-11T11:03:15.729Z"
      },
      {
        "duration": 0,
        "start_time": "2023-04-11T11:03:15.730Z"
      },
      {
        "duration": 0,
        "start_time": "2023-04-11T11:03:15.732Z"
      },
      {
        "duration": 0,
        "start_time": "2023-04-11T11:03:15.733Z"
      },
      {
        "duration": 0,
        "start_time": "2023-04-11T11:03:15.734Z"
      },
      {
        "duration": 0,
        "start_time": "2023-04-11T11:03:15.735Z"
      },
      {
        "duration": 0,
        "start_time": "2023-04-11T11:03:15.736Z"
      },
      {
        "duration": 0,
        "start_time": "2023-04-11T11:03:15.737Z"
      },
      {
        "duration": 0,
        "start_time": "2023-04-11T11:03:15.738Z"
      },
      {
        "duration": 0,
        "start_time": "2023-04-11T11:03:15.740Z"
      },
      {
        "duration": 0,
        "start_time": "2023-04-11T11:03:15.741Z"
      },
      {
        "duration": 43,
        "start_time": "2023-04-11T11:18:18.974Z"
      },
      {
        "duration": 31,
        "start_time": "2023-04-11T11:20:56.478Z"
      },
      {
        "duration": 59,
        "start_time": "2023-04-11T11:21:42.833Z"
      },
      {
        "duration": 5,
        "start_time": "2023-04-11T11:22:50.352Z"
      },
      {
        "duration": 1452,
        "start_time": "2023-04-11T11:23:26.410Z"
      },
      {
        "duration": 36,
        "start_time": "2023-04-11T11:23:27.864Z"
      },
      {
        "duration": 18,
        "start_time": "2023-04-11T11:23:27.901Z"
      },
      {
        "duration": 12,
        "start_time": "2023-04-11T11:23:27.922Z"
      },
      {
        "duration": 9,
        "start_time": "2023-04-11T11:23:27.936Z"
      },
      {
        "duration": 3,
        "start_time": "2023-04-11T11:23:27.947Z"
      },
      {
        "duration": 34,
        "start_time": "2023-04-11T11:23:27.952Z"
      },
      {
        "duration": 2,
        "start_time": "2023-04-11T11:23:27.988Z"
      },
      {
        "duration": 6,
        "start_time": "2023-04-11T11:23:27.991Z"
      },
      {
        "duration": 10,
        "start_time": "2023-04-11T11:23:28.000Z"
      },
      {
        "duration": 5,
        "start_time": "2023-04-11T11:23:28.012Z"
      },
      {
        "duration": 3,
        "start_time": "2023-04-11T11:23:28.019Z"
      },
      {
        "duration": 71,
        "start_time": "2023-04-11T11:23:28.024Z"
      },
      {
        "duration": 43,
        "start_time": "2023-04-11T11:23:28.097Z"
      },
      {
        "duration": 6,
        "start_time": "2023-04-11T11:23:28.141Z"
      },
      {
        "duration": 1430,
        "start_time": "2023-04-11T11:23:28.148Z"
      },
      {
        "duration": 31119,
        "start_time": "2023-04-11T11:23:29.580Z"
      },
      {
        "duration": 7186,
        "start_time": "2023-04-11T11:24:00.701Z"
      },
      {
        "duration": 1175,
        "start_time": "2023-04-11T11:24:07.890Z"
      },
      {
        "duration": 720,
        "start_time": "2023-04-11T11:24:09.067Z"
      },
      {
        "duration": 103,
        "start_time": "2023-04-11T11:24:09.791Z"
      },
      {
        "duration": 848,
        "start_time": "2023-04-11T11:24:09.896Z"
      },
      {
        "duration": 103,
        "start_time": "2023-04-11T11:24:10.788Z"
      },
      {
        "duration": 357,
        "start_time": "2023-04-11T11:24:10.893Z"
      },
      {
        "duration": 102048,
        "start_time": "2023-04-11T11:24:11.287Z"
      },
      {
        "duration": 12055,
        "start_time": "2023-04-11T11:25:53.337Z"
      },
      {
        "duration": 620,
        "start_time": "2023-04-11T11:26:05.394Z"
      },
      {
        "duration": 7546,
        "start_time": "2023-04-11T11:26:06.017Z"
      },
      {
        "duration": 5814,
        "start_time": "2023-04-11T11:26:13.565Z"
      },
      {
        "duration": 589,
        "start_time": "2023-04-11T11:26:19.381Z"
      },
      {
        "duration": 1769,
        "start_time": "2023-04-11T11:26:19.972Z"
      },
      {
        "duration": 924,
        "start_time": "2023-04-11T11:27:50.424Z"
      },
      {
        "duration": 1385,
        "start_time": "2023-04-11T11:33:17.441Z"
      },
      {
        "duration": 1607,
        "start_time": "2023-04-11T11:37:03.912Z"
      },
      {
        "duration": 1598,
        "start_time": "2023-04-11T11:37:57.911Z"
      },
      {
        "duration": 10,
        "start_time": "2023-04-11T11:44:08.092Z"
      },
      {
        "duration": 36838,
        "start_time": "2023-04-11T11:44:24.329Z"
      },
      {
        "duration": 5196,
        "start_time": "2023-04-11T11:48:23.499Z"
      },
      {
        "duration": 5542,
        "start_time": "2023-04-11T11:48:53.960Z"
      },
      {
        "duration": 1575,
        "start_time": "2023-04-11T11:49:58.450Z"
      },
      {
        "duration": 38,
        "start_time": "2023-04-11T11:50:00.027Z"
      },
      {
        "duration": 21,
        "start_time": "2023-04-11T11:50:00.067Z"
      },
      {
        "duration": 19,
        "start_time": "2023-04-11T11:50:00.091Z"
      },
      {
        "duration": 13,
        "start_time": "2023-04-11T11:50:00.112Z"
      },
      {
        "duration": 10,
        "start_time": "2023-04-11T11:50:00.127Z"
      },
      {
        "duration": 34,
        "start_time": "2023-04-11T11:50:00.138Z"
      },
      {
        "duration": 23,
        "start_time": "2023-04-11T11:50:00.174Z"
      },
      {
        "duration": 25,
        "start_time": "2023-04-11T11:50:00.199Z"
      },
      {
        "duration": 29,
        "start_time": "2023-04-11T11:50:00.227Z"
      },
      {
        "duration": 23,
        "start_time": "2023-04-11T11:50:00.258Z"
      },
      {
        "duration": 10,
        "start_time": "2023-04-11T11:50:00.283Z"
      },
      {
        "duration": 77,
        "start_time": "2023-04-11T11:50:00.296Z"
      },
      {
        "duration": 47,
        "start_time": "2023-04-11T11:50:00.376Z"
      },
      {
        "duration": 6,
        "start_time": "2023-04-11T11:50:00.425Z"
      },
      {
        "duration": 1449,
        "start_time": "2023-04-11T11:50:00.433Z"
      },
      {
        "duration": 34873,
        "start_time": "2023-04-11T11:50:01.885Z"
      },
      {
        "duration": 4833,
        "start_time": "2023-04-11T11:50:36.760Z"
      },
      {
        "duration": 1115,
        "start_time": "2023-04-11T11:50:41.595Z"
      },
      {
        "duration": 4,
        "start_time": "2023-04-11T11:50:42.712Z"
      },
      {
        "duration": 1531,
        "start_time": "2023-04-11T11:50:42.718Z"
      },
      {
        "duration": 36237,
        "start_time": "2023-04-11T11:50:44.251Z"
      },
      {
        "duration": 5595,
        "start_time": "2023-04-11T11:51:20.492Z"
      },
      {
        "duration": 98,
        "start_time": "2023-04-11T11:51:26.091Z"
      },
      {
        "duration": 1097,
        "start_time": "2023-04-11T11:51:26.191Z"
      },
      {
        "duration": 98,
        "start_time": "2023-04-11T11:51:27.290Z"
      },
      {
        "duration": 497,
        "start_time": "2023-04-11T11:51:27.391Z"
      },
      {
        "duration": 116043,
        "start_time": "2023-04-11T11:51:27.900Z"
      },
      {
        "duration": 13003,
        "start_time": "2023-04-11T11:53:23.945Z"
      },
      {
        "duration": 676,
        "start_time": "2023-04-11T11:53:36.949Z"
      },
      {
        "duration": 8699,
        "start_time": "2023-04-11T11:53:37.627Z"
      },
      {
        "duration": 6534,
        "start_time": "2023-04-11T11:53:46.328Z"
      },
      {
        "duration": 665,
        "start_time": "2023-04-11T11:53:52.864Z"
      },
      {
        "duration": 2102,
        "start_time": "2023-04-11T11:53:53.531Z"
      },
      {
        "duration": 1912,
        "start_time": "2023-04-11T11:54:03.198Z"
      },
      {
        "duration": 51400,
        "start_time": "2023-04-11T11:56:11.641Z"
      },
      {
        "duration": 55158,
        "start_time": "2023-04-11T12:01:04.944Z"
      },
      {
        "duration": 23842,
        "start_time": "2023-04-11T12:07:30.161Z"
      },
      {
        "duration": 56,
        "start_time": "2023-04-11T12:25:59.659Z"
      },
      {
        "duration": 918,
        "start_time": "2023-04-11T12:26:05.352Z"
      },
      {
        "duration": 1493,
        "start_time": "2023-04-11T12:28:07.451Z"
      },
      {
        "duration": 35,
        "start_time": "2023-04-11T12:28:08.946Z"
      },
      {
        "duration": 17,
        "start_time": "2023-04-11T12:28:08.985Z"
      },
      {
        "duration": 14,
        "start_time": "2023-04-11T12:28:09.003Z"
      },
      {
        "duration": 20,
        "start_time": "2023-04-11T12:28:09.018Z"
      },
      {
        "duration": 5,
        "start_time": "2023-04-11T12:28:09.040Z"
      },
      {
        "duration": 19,
        "start_time": "2023-04-11T12:28:09.046Z"
      },
      {
        "duration": 11,
        "start_time": "2023-04-11T12:28:09.066Z"
      },
      {
        "duration": 9,
        "start_time": "2023-04-11T12:28:09.084Z"
      },
      {
        "duration": 18,
        "start_time": "2023-04-11T12:28:09.094Z"
      },
      {
        "duration": 14,
        "start_time": "2023-04-11T12:28:09.114Z"
      },
      {
        "duration": 6,
        "start_time": "2023-04-11T12:28:09.129Z"
      },
      {
        "duration": 51,
        "start_time": "2023-04-11T12:28:09.136Z"
      },
      {
        "duration": 41,
        "start_time": "2023-04-11T12:28:09.189Z"
      },
      {
        "duration": 4,
        "start_time": "2023-04-11T12:28:09.231Z"
      },
      {
        "duration": 1284,
        "start_time": "2023-04-11T12:28:09.237Z"
      },
      {
        "duration": 31402,
        "start_time": "2023-04-11T12:28:10.522Z"
      },
      {
        "duration": 6764,
        "start_time": "2023-04-11T12:28:41.926Z"
      },
      {
        "duration": 1081,
        "start_time": "2023-04-11T12:28:48.693Z"
      },
      {
        "duration": 9,
        "start_time": "2023-04-11T12:28:49.776Z"
      },
      {
        "duration": 1322,
        "start_time": "2023-04-11T12:28:49.787Z"
      },
      {
        "duration": 30925,
        "start_time": "2023-04-11T12:28:51.111Z"
      },
      {
        "duration": 7647,
        "start_time": "2023-04-11T12:29:22.038Z"
      },
      {
        "duration": 104,
        "start_time": "2023-04-11T12:29:29.689Z"
      },
      {
        "duration": 54192,
        "start_time": "2023-04-11T12:29:29.795Z"
      },
      {
        "duration": 106,
        "start_time": "2023-04-11T12:30:23.990Z"
      },
      {
        "duration": 23392,
        "start_time": "2023-04-11T12:30:24.099Z"
      },
      {
        "duration": 194,
        "start_time": "2023-04-11T12:30:47.493Z"
      },
      {
        "duration": 0,
        "start_time": "2023-04-11T12:30:47.688Z"
      },
      {
        "duration": 936,
        "start_time": "2023-04-11T12:33:22.325Z"
      },
      {
        "duration": 1912,
        "start_time": "2023-04-12T03:35:29.455Z"
      },
      {
        "duration": 164,
        "start_time": "2023-04-12T03:35:31.369Z"
      },
      {
        "duration": 16,
        "start_time": "2023-04-12T03:35:31.535Z"
      },
      {
        "duration": 58,
        "start_time": "2023-04-12T03:35:31.553Z"
      },
      {
        "duration": 45,
        "start_time": "2023-04-12T03:35:31.612Z"
      },
      {
        "duration": 40,
        "start_time": "2023-04-12T03:35:31.658Z"
      },
      {
        "duration": 58,
        "start_time": "2023-04-12T03:35:31.699Z"
      },
      {
        "duration": 35,
        "start_time": "2023-04-12T03:35:31.759Z"
      },
      {
        "duration": 34,
        "start_time": "2023-04-12T03:35:31.796Z"
      },
      {
        "duration": 54,
        "start_time": "2023-04-12T03:35:31.832Z"
      },
      {
        "duration": 42,
        "start_time": "2023-04-12T03:35:31.887Z"
      },
      {
        "duration": 26,
        "start_time": "2023-04-12T03:35:31.931Z"
      },
      {
        "duration": 50,
        "start_time": "2023-04-12T03:35:31.959Z"
      },
      {
        "duration": 39,
        "start_time": "2023-04-12T03:35:32.011Z"
      },
      {
        "duration": 31155,
        "start_time": "2023-04-12T03:36:18.759Z"
      },
      {
        "duration": 30266,
        "start_time": "2023-04-12T03:38:30.920Z"
      },
      {
        "duration": 53,
        "start_time": "2023-04-12T03:41:08.066Z"
      },
      {
        "duration": 68856,
        "start_time": "2023-04-12T03:41:13.954Z"
      },
      {
        "duration": 124,
        "start_time": "2023-04-12T03:48:30.752Z"
      },
      {
        "duration": 14,
        "start_time": "2023-04-12T03:48:37.272Z"
      },
      {
        "duration": 93296,
        "start_time": "2023-04-12T03:48:39.407Z"
      },
      {
        "duration": 1427,
        "start_time": "2023-04-12T03:50:51.548Z"
      },
      {
        "duration": 1269,
        "start_time": "2023-04-12T03:51:09.140Z"
      }
    ],
    "kernelspec": {
      "display_name": "Python 3 (ipykernel)",
      "language": "python",
      "name": "python3"
    },
    "language_info": {
      "codemirror_mode": {
        "name": "ipython",
        "version": 3
      },
      "file_extension": ".py",
      "mimetype": "text/x-python",
      "name": "python",
      "nbconvert_exporter": "python",
      "pygments_lexer": "ipython3",
      "version": "3.9.5"
    },
    "toc": {
      "base_numbering": 1,
      "nav_menu": {},
      "number_sections": true,
      "sideBar": true,
      "skip_h1_title": true,
      "title_cell": "Содержание",
      "title_sidebar": "Contents",
      "toc_cell": true,
      "toc_position": {},
      "toc_section_display": true,
      "toc_window_display": true
    },
    "colab": {
      "provenance": [],
      "include_colab_link": true
    }
  },
  "nbformat": 4,
  "nbformat_minor": 0
}
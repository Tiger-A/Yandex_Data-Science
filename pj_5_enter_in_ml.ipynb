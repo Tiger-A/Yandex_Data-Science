{
  "cells": [
    {
      "cell_type": "markdown",
      "metadata": {
        "id": "view-in-github",
        "colab_type": "text"
      },
      "source": [
        "<a href=\"https://colab.research.google.com/github/Tiger-A/Yandex_Data-Science/blob/master/pj_5_enter_in_ml.ipynb\" target=\"_parent\"><img src=\"https://colab.research.google.com/assets/colab-badge.svg\" alt=\"Open In Colab\"/></a>"
      ]
    },
    {
      "cell_type": "markdown",
      "metadata": {
        "id": "OdUrnu9fbq-X"
      },
      "source": [
        "# Результат ревью:\n",
        "\n",
        "Я отмечаю адекватный уровень твоей программистской подготовки. Ты используешь продвинутые концепции языка Python, библиотеки pandas и одной из основных библиотек машинного обучения sckit-learn. Это показывает твой уровень владения инструментами анализа данных и machine learning.\n",
        "\n",
        "С комментированием никаких проблем нет. Твоих объяснений достаточно для понимания твоими коллегами хода мыслей. Ссылки из брифа проекта в нужных местах также помогают следовать за развитием событий и дают полную информацию касаемо того, что будет происходить в том или ином разделе проекта.\n",
        "\n",
        "Мне было просто проверять твой проект, потому что он чётко структурирован, с использованием оглавления. \n",
        "\n",
        "Зелёным цветом я отметил и прокомментировал удачные и элегантные решения, на которые ты можешь опираться в будущих проектах.\n",
        "\n",
        "Жёлтым цветом я выделил то, что в следующий раз можно сделать по-другому. Ты можешь учесть эти комментарии при выполнении будущих заданий или доработать проект сейчас.\n",
        "\n",
        "Красных комментариев, которые бы не позволяли мне принять твой проект в его нынешнем состоянии - нет. \n",
        "\n",
        "ПРОЕКТ ПРИНЯТ!\n",
        "\n",
        "Подводя итог: отличная работа, молодец! Желаю тебе успехов в учёбе, желаю, чтобы проекты сдавались или сразу, или после первой итерации! Удачи!\n",
        "\n",
        "p.s. я тебе на твой адрес эл/почты сейчас вышлю некоторые материалы из своей электронной библиотеки - надеюсь они будут тебе полезными в учёбе.</div>"
      ]
    },
    {
      "cell_type": "code",
      "execution_count": null,
      "metadata": {
        "id": "6qzKm1Ekbq-Z"
      },
      "outputs": [],
      "source": []
    },
    {
      "cell_type": "markdown",
      "metadata": {
        "id": "FP5JhUPGbq-a"
      },
      "source": [
        "Приветствую коллега! \n",
        "\n",
        "Меня зовут Александр Непомнящий и я буду проверять твой проект. Предлагаю общаться на «ты» :))) Но, если это не удобно - мы вполне можем перейти на вы\".\n",
        "\n",
        "Вкратце обо мне: я работаю в сфере информационных технологий, аналитика (анализ) данных - это и мой рабочий функционал и личная, интересная мне область для саморазвития. Используемый стек: python, pandas, графические библиотеки matplotlib/seaborn/plotly. Сфера применения: маркетинговая аналитика в медицинской клинике (Клиника «Кивач», www.kivach.ru, республика Карелия). Если вдруг есть вопрос – что делает аналитик в коммерческой медицине – то вот короткий ответ. Самый главный вопрос, на который мы хотим получить ответ (и который в дальнейшем приведёт к перераспределению рекламного бюджета, плюс напрямую повлияет на разработку и предложению рынку новых лечебных программ) - это КТО ОН, НАШ КЛИЕНТ? Фактически это задача (на нашем внутреннем языке формулируется как построение и анализ «ПОРТРЕТА КЛИЕНТА»). Визуализируем и пытаемся придать смысл половозрастным данным наших клиентов, кто из какого региона и в какие времена года к нам приезжает. Учитываем количество приездов. Учитываем на какую программу этот конкретный клиент приехал в первый раз и как в дальнейшем меняются его предпочтения. Пытаемся построить модель оттока и спрогнозировать, когда клиент уйдёт в отток. Смотрим цифры (суммы трат клиентов на отдельных группах медицинских программ). Анализируем медицинские услуги, которые входят в путёвку, а также что, в каких количествах и на какую сумму клиент покупает дополнительно. Очень вкратце как-то так.\n",
        "\n",
        "Теперь к сути: основная цель моей проверки - пройти по шагам, по логике твоего решения и обсудить те моменты, которые можно изменить, улучшить, довести до идеала. Такой формат работы двух программистов (аналитиков) ты или уже встречал(а), или встретишь на своей новой работе. Кто-то такой процесс называет \"код-ревью\", ну а как по мне, так это обмен опытом двух коллег, когда каждый из нас становиться лучше в процессе дискуссии.\n",
        "\n",
        "Свои мысли, советы, комментарии и вопросы я буду оставлять в текстовых ячейках (markdown) ПОД твоим кодом. \n",
        "Для твоего удобства все эти заметки будут \"цветными\", как на примерах ниже:\n",
        "\n",
        "\"Зелеными\" комментариями я буду отмечать твой элегантный (\"красивый\") код и/или удачные решения, на которые ты можешь смело опираться в будущих проектах.\n",
        "<div class=\"alert alert-success\">\n",
        "<b>Отлично! 👍</b>\n",
        "\n",
        "Отличная находка, элегантный код ...</div>\n",
        "\n",
        "\"Жёлтые\" комментарии - это мои размышления, предложения, что-то, что на следующей итерации можно сделать по-другому. Твоя реакция на \"жёлтые\" комментарий необходима и подразумевает или правки, или реакцию или аргументированное согласие/не согласие. Я искренне верю, что наш двусторонний диалог под \"желтым\" комментарием - это то, от чего твой проект только выиграет. <div class=\"alert alert-warning\">\n",
        "<b>Комментарий 👉</b>\n",
        "\n",
        "Здесь я бы предложил использовать .... Мои аргументы в пользу этого ...</div>\n",
        "\n",
        "\"Красные\" комментарий будут появляться, когда что-то пойдёт не так: например, код будет выдавать ошибку. Или, когда в проекте не будет ответов на основные вопросы, ради которых весь анализ и выполнялся. \"Красные\" комментарии необходимо будет исправить, прежде чем я смогу принять проект.\n",
        "<div class=\"alert alert-danger\">\n",
        "<b>Необходимо исправить ❌</b>\n",
        "\n",
        "В этой ячейке код работает не так как задумано ...</div>\n",
        "\n",
        "Пожалуйста, не перемещай, не изменяй и не удаляй мои комментарии. Это поможет мне оперативно выполнить повторную проверку твоего проекта.\n",
        "\n",
        "Давай работать над проектом в диалоге: если ты что-то меняешь в проекте по моим рекомендациям — пиши об этом, лучше всего в новой ячейке, сразу под моим комментарием. Если для своих комментариев ты будешь использовать какой-то заметный цвет, то мне будет легче отследить твои изменения, например так:\n",
        "\n",
        "<div style=\"background: #B0E0E6; padding: 5px; border: 1px solid SteelBlue; border-radius: 5px;\">\n",
        "    <font color='4682B4'><u><b>КОММЕНТАРИЙ СТУДЕНТА</b></u></font>\n",
        "    <br />\n",
        "    <font color='4682B4'>Текст твоего комментария ...</font>\n",
        "</div>\n",
        "\n",
        "Ну и наконец информируй меня в том случае, если по твоему проекту подходит дедлайн! В таком случае я приложу усилия, чтобы ты сдал(а) его вовремя; буду оперативно, в приоритете проверять итерации ревью, а также отвечать на твои вопросы, если этого будет требовать ситуация.\n",
        "\n",
        "**Распространенные типичные недочёты в проектах студентов:**\n",
        "\n",
        "<div class=\"alert alert-danger\" ❌>\n",
        "Неработоспособный код. Проверь проект на работоспособность перед отправкой на проверку. Это важный навык, который тебе пригодится как на собеседовании, при выполнении тестового задания, так и перед совещанием у руководства компании.</div>\n",
        "\n",
        "<div class=\"alert alert-danger\" ❌>\n",
        "Проект не структурирован. В проекте должна быть структура, т.е. названия разделов и подразделов должны быть записаны в ячейках Markdown.</div>\n",
        "\n",
        "<div class=\"alert alert-warning\" 👉 >\n",
        "Отсутствие описания, целей проекта, его задач, выводов. В описании должны быть озвучены поставленные задачи, содержание датасета, промежуточные и финальные выводы. Как правило, заказчик читает только финальный вывод, поэтому важно добавить информацию о проведенном исследовании, применить форматирование текста, в общем, сделать красиво, чтобы было понятно, что проведено настоящее исследование и выводу можно верить.</div>  \n",
        "\n",
        "<div class=\"alert alert-warning\" 👉 >\n",
        "\"Длинный код\". Код и и комментарии, которые прячутся за правым концом ячейки нужно переносить на новую строку. Твои будущие коллеги не оценят необходимость постоянного скроллинга. Согласно PEP8: https://www.python.org/dev/peps/pep-0008/ длина строки не должна превышать 79 символов.</div>\n",
        "\n",
        "<div class=\"alert alert-warning\" 👉 >\n",
        "Твои коллеги ценят и твое и своё время, поэтому \"подсвечивай\" свои комментарии в ячейках Markdown. Подробнее про синтаксис Markdown, с примерами, можно почитать здесь: https://paulradzkov.com/2014/markdown_cheatsheet/?</div>\n"
      ]
    },
    {
      "cell_type": "code",
      "execution_count": null,
      "metadata": {
        "id": "765OkjE5bq-b"
      },
      "outputs": [],
      "source": []
    },
    {
      "cell_type": "markdown",
      "metadata": {
        "id": "taQ1h57Abq-b"
      },
      "source": [
        "# Рекомендация тарифов"
      ]
    },
    {
      "cell_type": "markdown",
      "metadata": {
        "id": "agu6R8U5bq-c"
      },
      "source": [
        "В вашем распоряжении данные о поведении клиентов, которые уже перешли на эти тарифы (из проекта курса «Статистический анализ данных»). Нужно построить модель для задачи классификации, которая выберет подходящий тариф. Предобработка данных не понадобится — вы её уже сделали.\n",
        "\n",
        "Постройте модель с максимально большим значением *accuracy*. Чтобы сдать проект успешно, нужно довести долю правильных ответов по крайней мере до 0.75. Проверьте *accuracy* на тестовой выборке самостоятельно."
      ]
    },
    {
      "cell_type": "markdown",
      "metadata": {
        "id": "Q4xdmiKwbq-c"
      },
      "source": [
        "## Откройте и изучите файл"
      ]
    },
    {
      "cell_type": "code",
      "execution_count": null,
      "metadata": {
        "id": "tBuOcsyNbq-c"
      },
      "outputs": [],
      "source": [
        "\n",
        "# Импортирование необходимых модулей и атрибутов\n",
        "import pandas as pd\n",
        "from joblib import dump\n",
        "from sklearn.metrics import accuracy_score \n",
        "from sklearn.metrics import mean_squared_error\n",
        "from sklearn.ensemble import RandomForestClassifier\n",
        "from sklearn.linear_model import LogisticRegression \n",
        "from sklearn.datasets import load_digits\n",
        "from sklearn.model_selection import train_test_split\n",
        "from sklearn.linear_model import LogisticRegression\n",
        "from sklearn.discriminant_analysis import LinearDiscriminantAnalysis\n",
        "from sklearn.neighbors import KNeighborsClassifier\n",
        "from sklearn.tree import DecisionTreeClassifier\n",
        "from sklearn.naive_bayes import GaussianNB\n",
        "from sklearn.svm import LinearSVC\n",
        "from sklearn.svm import SVC\n",
        "from sklearn.neural_network import MLPClassifier\n",
        "from sklearn.ensemble import BaggingClassifier\n",
        "from sklearn.ensemble import RandomForestClassifier\n",
        "from sklearn.ensemble import ExtraTreesClassifier\n",
        "from sklearn.ensemble import AdaBoostClassifier\n",
        "from sklearn.ensemble import GradientBoostingClassifier\n",
        "from sklearn.model_selection import KFold\n",
        "from sklearn.model_selection import cross_val_score\n",
        "from sklearn.pipeline import Pipeline\n",
        "from sklearn.preprocessing import StandardScaler\n",
        "from sklearn.preprocessing import MinMaxScaler\n",
        "from sklearn.preprocessing import Normalizer\n",
        "from matplotlib import pyplot\n",
        "import warnings\n",
        "warnings.filterwarnings('ignore')"
      ]
    },
    {
      "cell_type": "code",
      "execution_count": null,
      "metadata": {
        "id": "Da2WjjYpbq-c"
      },
      "outputs": [],
      "source": [
        "# Загрузим датафрейм:\n",
        "df = pd.read_csv('/datasets/users_behavior.csv')"
      ]
    },
    {
      "cell_type": "markdown",
      "metadata": {
        "id": "onFTDBRlbq-d"
      },
      "source": [
        "<div class=\"alert alert-success\">\n",
        "<b>ОТЛИЧНО! 👍</b>\n",
        "\n",
        "Отлично. Импортировали требуемые для анализа библиотеки и загрузили данные. Сейчас посмотрим на их состояние и если всё ОК, сможем приступать к построению моделей....\n",
        "</div>"
      ]
    },
    {
      "cell_type": "code",
      "execution_count": null,
      "metadata": {
        "id": "_MM77CY6bq-d",
        "outputId": "f8295078-f70b-4478-e859-d663d6edc415"
      },
      "outputs": [
        {
          "name": "stdout",
          "output_type": "stream",
          "text": [
            "<class 'pandas.core.frame.DataFrame'>\n",
            "RangeIndex: 3214 entries, 0 to 3213\n",
            "Data columns (total 5 columns):\n",
            " #   Column    Non-Null Count  Dtype  \n",
            "---  ------    --------------  -----  \n",
            " 0   calls     3214 non-null   float64\n",
            " 1   minutes   3214 non-null   float64\n",
            " 2   messages  3214 non-null   float64\n",
            " 3   mb_used   3214 non-null   float64\n",
            " 4   is_ultra  3214 non-null   int64  \n",
            "dtypes: float64(4), int64(1)\n",
            "memory usage: 125.7 KB\n"
          ]
        }
      ],
      "source": [
        "# Изучим датафрейм\n",
        "df.info()"
      ]
    },
    {
      "cell_type": "code",
      "execution_count": null,
      "metadata": {
        "id": "AFj8ervybq-e",
        "outputId": "7ecef43a-4ad2-4045-8611-1882075e0a1b"
      },
      "outputs": [
        {
          "data": {
            "text/html": [
              "<div>\n",
              "<style scoped>\n",
              "    .dataframe tbody tr th:only-of-type {\n",
              "        vertical-align: middle;\n",
              "    }\n",
              "\n",
              "    .dataframe tbody tr th {\n",
              "        vertical-align: top;\n",
              "    }\n",
              "\n",
              "    .dataframe thead th {\n",
              "        text-align: right;\n",
              "    }\n",
              "</style>\n",
              "<table border=\"1\" class=\"dataframe\">\n",
              "  <thead>\n",
              "    <tr style=\"text-align: right;\">\n",
              "      <th></th>\n",
              "      <th>calls</th>\n",
              "      <th>minutes</th>\n",
              "      <th>messages</th>\n",
              "      <th>mb_used</th>\n",
              "      <th>is_ultra</th>\n",
              "    </tr>\n",
              "  </thead>\n",
              "  <tbody>\n",
              "    <tr>\n",
              "      <th>count</th>\n",
              "      <td>3214.000000</td>\n",
              "      <td>3214.000000</td>\n",
              "      <td>3214.000000</td>\n",
              "      <td>3214.000000</td>\n",
              "      <td>3214.000000</td>\n",
              "    </tr>\n",
              "    <tr>\n",
              "      <th>mean</th>\n",
              "      <td>63.038892</td>\n",
              "      <td>438.208787</td>\n",
              "      <td>38.281269</td>\n",
              "      <td>17207.673836</td>\n",
              "      <td>0.306472</td>\n",
              "    </tr>\n",
              "    <tr>\n",
              "      <th>std</th>\n",
              "      <td>33.236368</td>\n",
              "      <td>234.569872</td>\n",
              "      <td>36.148326</td>\n",
              "      <td>7570.968246</td>\n",
              "      <td>0.461100</td>\n",
              "    </tr>\n",
              "    <tr>\n",
              "      <th>min</th>\n",
              "      <td>0.000000</td>\n",
              "      <td>0.000000</td>\n",
              "      <td>0.000000</td>\n",
              "      <td>0.000000</td>\n",
              "      <td>0.000000</td>\n",
              "    </tr>\n",
              "    <tr>\n",
              "      <th>25%</th>\n",
              "      <td>40.000000</td>\n",
              "      <td>274.575000</td>\n",
              "      <td>9.000000</td>\n",
              "      <td>12491.902500</td>\n",
              "      <td>0.000000</td>\n",
              "    </tr>\n",
              "    <tr>\n",
              "      <th>50%</th>\n",
              "      <td>62.000000</td>\n",
              "      <td>430.600000</td>\n",
              "      <td>30.000000</td>\n",
              "      <td>16943.235000</td>\n",
              "      <td>0.000000</td>\n",
              "    </tr>\n",
              "    <tr>\n",
              "      <th>75%</th>\n",
              "      <td>82.000000</td>\n",
              "      <td>571.927500</td>\n",
              "      <td>57.000000</td>\n",
              "      <td>21424.700000</td>\n",
              "      <td>1.000000</td>\n",
              "    </tr>\n",
              "    <tr>\n",
              "      <th>max</th>\n",
              "      <td>244.000000</td>\n",
              "      <td>1632.060000</td>\n",
              "      <td>224.000000</td>\n",
              "      <td>49745.730000</td>\n",
              "      <td>1.000000</td>\n",
              "    </tr>\n",
              "  </tbody>\n",
              "</table>\n",
              "</div>"
            ],
            "text/plain": [
              "             calls      minutes     messages       mb_used     is_ultra\n",
              "count  3214.000000  3214.000000  3214.000000   3214.000000  3214.000000\n",
              "mean     63.038892   438.208787    38.281269  17207.673836     0.306472\n",
              "std      33.236368   234.569872    36.148326   7570.968246     0.461100\n",
              "min       0.000000     0.000000     0.000000      0.000000     0.000000\n",
              "25%      40.000000   274.575000     9.000000  12491.902500     0.000000\n",
              "50%      62.000000   430.600000    30.000000  16943.235000     0.000000\n",
              "75%      82.000000   571.927500    57.000000  21424.700000     1.000000\n",
              "max     244.000000  1632.060000   224.000000  49745.730000     1.000000"
            ]
          },
          "execution_count": 4,
          "metadata": {},
          "output_type": "execute_result"
        }
      ],
      "source": [
        "df.describe()"
      ]
    },
    {
      "cell_type": "markdown",
      "metadata": {
        "id": "t_GJ06IPbq-e"
      },
      "source": [
        "Датафрейм содержит 3214 обьектов с 5 признаками. Пропуски в данных отстутствуют. Обьем данных достаточно мал."
      ]
    },
    {
      "cell_type": "markdown",
      "metadata": {
        "id": "ftVqNRETbq-e"
      },
      "source": [
        "<div class=\"alert alert-success\">\n",
        "<b>ОТЛИЧНО! 👍</b>\n",
        "\n",
        "Данные загружены, отлично.\n",
        "\n",
        "Хорошо, что применяешь метод .head()/.sample() таким образом в память не будет загружен весь датасет, объем которого может быть огромным.\n",
        "\n",
        "Методы .info, .describe, .value_counts(), .unique() как правило часто встречаются и обязательны к применению в задачах по исследованию данных, ведь с их помощью можно получить первые инсайты. \n",
        "\n",
        "Итак, мы провели предварительный анализ данных, проверили данные на наличие пропусков (*из применяемых тобой методов видно что пропусков нет*) и затем обработали их (аргументированно заполнили / удалили / оставили как есть). Теперь можно приступать собственно к построению моделей и ответам на вопросы проекта.\n",
        "</div>"
      ]
    },
    {
      "cell_type": "markdown",
      "metadata": {
        "id": "aemYm9NFbq-e"
      },
      "source": [
        "<div class=\"alert alert-warning\">\n",
        "<b>Комментарий 👉</b>\n",
        "\n",
        "Несколько моментов \"на будущее\" (сейчас забегаю чуть вперед, но будущем это будет важно) которые я хотел озвучить перед переходом к собственно исследованию:\n",
        "    \n",
        "- имеет смысл критично посмотреть на данные с точки зрения наличия пропусков в признаках (вопрос: все ли ml-модели \"любят\" пропуски?). Из результата info / describe / .duplicated() видно что пропусков нет, но я бы ещё явно это сказал. СДЕЛАНО\n",
        "    \n",
        "- имеет смысл явно обозначить какую задачу мы будем решать: с учителем / без учителя, классификации / регрессии ...\n",
        "    \n",
        "- в моделях бинарной классификации имеет смысл смотреть на баланс классов. Два взгляда (с разных сторон) на эту проблему тут: https://alexanderdyakonov.wordpress.com/2021/05/27/imbalance/ и https://habr.com/ru/post/349078/\n",
        "    \n",
        "- имеет смысл смотреть на корреляцию признаков. При высокой их степени коррелированности возникает проблема  мультиколлиниарность признаков. Проблема \"мультиколлинеарности\" это и про переобучение модели и про её интерпретируемость и про сложность модели (содержание в модели избыточного количества переменных). В чем негативный эффект сложной модели? Вот в чем: усложняется интерпретация параметров, оценки параметров ненадежны – получаются большие стандартные ошибки, которые меняются с изменением объема наблюдений, что делает модель регрессии непригодной для прогнозирования.\n",
        "    \n",
        "А теперь давай про интерпретируемость. Согласись - это важно, чтобы результат, который выдает модель можно было бы понять и объяснить с точки зрения предметной области. В случае включения в модель коллинеарных признаков может случиться так, что коэффициенты (да, проблема присуща моделям линейным ... регрессия среди них!) могут менять знаки и попытка объяснения предметной области с помощью этих коэффициентов будет противоречить здравому смыслу.\n",
        "    \n",
        "Вот классная статья. Простым языком, на примере показана проблема. А также, что важно - разобраны варианты как её (проблему) победить. Статья: https://habr.com/ru/company/akbarsdigital/blog/592493/ \n",
        "</div>"
      ]
    },
    {
      "cell_type": "markdown",
      "metadata": {
        "id": "4VT5aK4cbq-e"
      },
      "source": [
        "## Разбейте данные на выборки"
      ]
    },
    {
      "cell_type": "code",
      "execution_count": null,
      "metadata": {
        "id": "Rp3l6A7mbq-e"
      },
      "outputs": [],
      "source": [
        "# Составим таблицы признаков и целового признака.\n",
        "features = df.drop(['is_ultra'], axis=1)\n",
        "target = df['is_ultra'] "
      ]
    },
    {
      "cell_type": "code",
      "execution_count": null,
      "metadata": {
        "id": "vGvl5Ks_bq-f"
      },
      "outputs": [],
      "source": [
        "# отделим 60% данных для обучающей выборки c сохранением целевого признака\n",
        "features_train, features_valid_test, target_train, target_valid_test = train_test_split(\n",
        "    features, target, test_size=0.4, random_state=12345 , stratify=target)\n"
      ]
    },
    {
      "cell_type": "code",
      "execution_count": null,
      "metadata": {
        "id": "zIHGA_ozbq-f"
      },
      "outputs": [],
      "source": [
        "# отделим 50% данных для тестовой выборки c сохранением целевого признака\n",
        "features_test, features_valid, target_test, target_valid = train_test_split(\n",
        "   features_valid_test, target_valid_test, test_size=0.5, random_state=12345, stratify=target_valid_test)\n"
      ]
    },
    {
      "cell_type": "markdown",
      "metadata": {
        "id": "iO7eAi9vbq-f"
      },
      "source": [
        "<div class=\"alert alert-success\">\n",
        "<b>ОТЛИЧНО! 👍</b>\n",
        "\n",
        "1. Здесь хорошо, происходит фиксация random_state. Воспроизводимость результатов разбиения выборки на обучающую (тренировочную) / тестовую / валидационную мы обеспечили, значит при всех последующих запусках нашего кода подвыборки будут идентичными.\n",
        "    \n",
        "2. Доли размеров train/test/valid 3:1:1 - хорошо.\n",
        "</div>"
      ]
    },
    {
      "cell_type": "markdown",
      "metadata": {
        "id": "cxkrrTDubq-f"
      },
      "source": [
        "<div class=\"alert alert-warning\">\n",
        "<b>Комментарий 👉</b>\n",
        "\n",
        "Я бы рекомендовал после разбиения данных на выборки посмотреть на их размеры и размерности. Метод shape для этого - идеальный помощник. \"Цифры\" по выборкам покажут верно ли мы произвели \"разделение\" данных.\n",
        "\n",
        "p.s. так (**псевдокод**): X_train.shape[0] – «покажет» количество строк в тренировочной выборке, а X_train.shape[1] - количество столбцов в ней же. Ну а X_train.shape – выведет размерность train'а в виде кортежа с 2мя значениями (первое число – количество строк, второе – столбцов).</div>"
      ]
    },
    {
      "cell_type": "markdown",
      "metadata": {
        "id": "sEp919bNbq-f"
      },
      "source": [
        "Вывод:\n",
        "Данные были разбиты по принципу 60/20/20.\n",
        "\n",
        "Обучение пройдет на данных features_train\n",
        "Валидация модели на данных features_valid\n",
        "Лучшая модель по валидации будет применена на данных features_test"
      ]
    },
    {
      "cell_type": "markdown",
      "metadata": {
        "id": "Tv5TTSL-bq-f"
      },
      "source": [
        "<div class=\"alert alert-warning\">\n",
        "<b>Комментарий 👉</b>\n",
        "\n",
        "**Обучение пройдет на данных train_tariff_data Валидация модели на данных valid_tariff_data Лучшая модель по валидации будет применена на данных test_tariff_data** - мелочь, но названия не совпадают.\n",
        "</div>"
      ]
    },
    {
      "cell_type": "markdown",
      "metadata": {
        "id": "mpbSEdCObq-f"
      },
      "source": [
        "<div style=\"background: #B0E0E6; padding: 5px; border: 1px solid SteelBlue; border-radius: 5px;\">\n",
        "    <font color='4682B4'><u><b>КОММЕНТАРИЙ СТУДЕНТА</b></u></font>\n",
        "    <br />\n",
        "    <font color='4682B4'>Поправил</font>\n",
        "</div>"
      ]
    },
    {
      "cell_type": "markdown",
      "metadata": {
        "id": "GvVI-aNRbq-f"
      },
      "source": [
        "<div class=\"alert alert-warning\">\n",
        "<b>Комментарий 👉</b>\n",
        "\n",
        "Исключительно как вариант, а также воспользоваться советом со Стэковерфлоу: https://stackoverflow.com/questions/38250710/how-to-split-data-into-3-sets-train-validation-and-test/38251213#38251213\n",
        "\n",
        "\ttrain, valid, test = np.split(df.sample(frac=1, random_state=821), [int(.6*len(df)), int(.8*len(df))])\n",
        "\n",
        "Также, разбивать данные можно и автоматизировано, используя библиотеку fast_ml (см. скрин). К этому скрину один комментарий – не факт, что эта библиотека fast_ml развернута здесь, на Хабе, НО дома, своей локальной машине, с установленной средой (например Анакондой: https://www.anaconda.com/products/distribution) ты вполне можешь этим вариантом пользоваться (после установки **!pip install fast_ml**):\n",
        "</div>\n",
        "\n",
        "![image.png](attachment:image.png)"
      ]
    },
    {
      "cell_type": "markdown",
      "metadata": {
        "id": "2tLoWyoPbq-g"
      },
      "source": [
        "## Исследуйте модели"
      ]
    },
    {
      "cell_type": "markdown",
      "metadata": {
        "id": "601BYDqpbq-g"
      },
      "source": [
        "Для решения проблем классификации и прогнозирования подходит целый диапазон алгоритмов.\n",
        "Используем некоторый набор из них.\n",
        "Для удобства вывода информации рядом с каждым алгоритмом будет проставлена аббревиатура. Необходимо отметить, что настройки каждого алгоритма принимаются по умолчанию (default), за исключением некоторых моментов, дабы предоставить равные условия.\n",
        "\n",
        "Линейные алгоритмы:\n",
        "\n",
        "— Логистическая регрессия / Logistic Regression (‘LR’)\n",
        "— Линейный дискриминантный анализ / Linear Discriminant Analysis (‘LDA’)\n",
        "\n",
        "Нелинейные алгоритмы:\n",
        "\n",
        "— Метод k-ближайших соседей (классификация) / K-Neighbors Classifier (‘KNN’)\n",
        "— Деревья принятия решений / Decision Tree Classifier (‘CART’)\n",
        "— Наивный классификатор Байеса / Naive Bayes Classifier (‘NB’)\n",
        "— Линейный метод опорных векторов (классификация) / Linear Support Vector Classification (‘LSVC’)\n",
        "— Метод опорных векторов (классификация) / C-Support Vector Classification (‘SVC’)\n",
        "\n",
        "Алгоритм искусственной нейронной сети:\n",
        "\n",
        "— Многослойный персептрон / Multilayer Perceptrons (‘MLP’)\n",
        "\n",
        "Ансамблевые алгоритмы:\n",
        "\n",
        "— Bagging (классификация) / Bagging Classifier (‘BG’) (Bagging = Bootstrap aggregating)\n",
        "— Случайный лес (классификация) / Random Forest Classifier (‘RF’)\n",
        "— Экстра-деревья (классификация) / Extra Trees Classifier (‘ET’)\n",
        "— AdaBoost (классификация) / AdaBoost Classifier (‘AB’) (AdaBoost = Adaptive Boosting)\n",
        "— Градиентный boosting (классификация) / Gradient Boosting Classifier (‘GB’)\n",
        "\n",
        "Таким образом, список ‘models’ содержит следующие модели:"
      ]
    },
    {
      "cell_type": "markdown",
      "metadata": {
        "id": "wXcxKrdxbq-g"
      },
      "source": [
        "<div class=\"alert alert-warning\">\n",
        "<b>Комментарий 👉</b>\n",
        "\n",
        "Отличный список, но ты правда надеешся \"выжать\" что -то сильно больше чем .... чем ... думаю accuracy_score выше 80-82% ты вряд-ли \"выбьешь\" на наших скудных учебных данных?\n",
        "</div>"
      ]
    },
    {
      "cell_type": "markdown",
      "metadata": {
        "id": "-E1hCD4Xbq-g"
      },
      "source": [
        "<div style=\"background: #B0E0E6; padding: 5px; border: 1px solid SteelBlue; border-radius: 5px;\">\n",
        "    <font color='4682B4'><u><b>КОММЕНТАРИЙ СТУДЕНТА</b></u></font>\n",
        "    <br />\n",
        "    <font color='4682B4'>Нашел на Хабре. Решил как раз для тех, кто ...  (без опыта) ))) Убирать лишние алгоритмы не стал ради интереса. </font>\n",
        "</div>"
      ]
    },
    {
      "cell_type": "code",
      "execution_count": null,
      "metadata": {
        "id": "aWxNSCIDbq-g"
      },
      "outputs": [],
      "source": [
        "# Переприсвоим данные под наши цели \n",
        "X_train = features_train\n",
        "X_test = features_valid\n",
        "Y_train = target_train\n",
        "Y_test = target_valid\n",
        "\n"
      ]
    },
    {
      "cell_type": "code",
      "execution_count": null,
      "metadata": {
        "id": "3SK0YVWHbq-g"
      },
      "outputs": [],
      "source": [
        "# Настройка параметров оценивания алгоритма\n",
        "num_folds = 10\n",
        "n_estimators = 100\n",
        "scoring = 'accuracy'"
      ]
    },
    {
      "cell_type": "code",
      "execution_count": null,
      "metadata": {
        "id": "oP2tVNoUbq-g"
      },
      "outputs": [],
      "source": [
        "models = []\n",
        "models.append(('LR', LogisticRegression()))\n",
        "models.append(('LDA', LinearDiscriminantAnalysis()))\n",
        "models.append(('KNN', KNeighborsClassifier()))\n",
        "models.append(('CART', DecisionTreeClassifier()))\n",
        "models.append(('NB', GaussianNB()))\n",
        "models.append(('LSVC', LinearSVC()))\n",
        "models.append(('SVC', SVC()))\n",
        "models.append(('MLP', MLPClassifier()))\n",
        "models.append(('BG', BaggingClassifier(n_estimators=n_estimators)))\n",
        "models.append(('RF', RandomForestClassifier(n_estimators=n_estimators)))\n",
        "models.append(('ET', ExtraTreesClassifier(n_estimators=n_estimators)))\n",
        "models.append(('AB', AdaBoostClassifier(n_estimators=n_estimators, algorithm='SAMME')))\n",
        "models.append(('GB', GradientBoostingClassifier(n_estimators=n_estimators)))"
      ]
    },
    {
      "cell_type": "markdown",
      "metadata": {
        "id": "Yv9dmQI0bq-h"
      },
      "source": [
        "Оцениваним эффективности каждого алгоритма выполним с помощью кросс-валидации. В итоге выводится сообщение (msg – сокр. от message), содержащее следующие сведения: имя модели в виде аббревиатуры, средняя оценка 10-кратной перекрёстной проверки на тренировочных данных (метрика ‘accuracy’), в скобках представлено среднее квадратичное отклонение (standard deviation), а также значение метрики ‘accuracy’ на тестовых данных."
      ]
    },
    {
      "cell_type": "code",
      "execution_count": null,
      "metadata": {
        "id": "1M-VzxZabq-h",
        "outputId": "251901f9-981d-4a38-bc2e-7da8587deca4"
      },
      "outputs": [
        {
          "name": "stdout",
          "output_type": "stream",
          "text": [
            "Значение метрики ACC на валидационной выборке LogisticRegression() 0.7465007776049767\n",
            "LR: train = 0.734 (0.054) / test = 0.747\n",
            "Значение метрики ACC на валидационной выборке LinearDiscriminantAnalysis() 0.7480559875583204\n",
            "LDA: train = 0.749 (0.042) / test = 0.748\n",
            "Значение метрики ACC на валидационной выборке KNeighborsClassifier() 0.7573872472783826\n",
            "KNN: train = 0.740 (0.034) / test = 0.757\n",
            "Значение метрики ACC на валидационной выборке DecisionTreeClassifier() 0.7216174183514774\n",
            "CART: train = 0.706 (0.022) / test = 0.722\n",
            "Значение метрики ACC на валидационной выборке GaussianNB() 0.7900466562986003\n",
            "NB: train = 0.783 (0.032) / test = 0.790\n",
            "Значение метрики ACC на валидационной выборке LinearSVC() 0.5147744945567652\n",
            "LSVC: train = 0.562 (0.145) / test = 0.515\n",
            "Значение метрики ACC на валидационной выборке SVC() 0.7371695178849145\n",
            "SVC: train = 0.744 (0.046) / test = 0.737\n",
            "Значение метрики ACC на валидационной выборке MLPClassifier() 0.713841368584759\n",
            "MLP: train = 0.646 (0.138) / test = 0.714\n",
            "Значение метрики ACC на валидационной выборке BaggingClassifier(n_estimators=100) 0.8087091757387247\n",
            "BG: train = 0.780 (0.030) / test = 0.809\n",
            "Значение метрики ACC на валидационной выборке RandomForestClassifier() 0.8102643856920684\n",
            "RF: train = 0.780 (0.033) / test = 0.810\n",
            "Значение метрики ACC на валидационной выборке ExtraTreesClassifier() 0.80248833592535\n",
            "ET: train = 0.773 (0.032) / test = 0.802\n",
            "Значение метрики ACC на валидационной выборке AdaBoostClassifier(algorithm='SAMME', n_estimators=100) 0.7636080870917574\n",
            "AB: train = 0.780 (0.040) / test = 0.764\n",
            "Значение метрики ACC на валидационной выборке GradientBoostingClassifier() 0.8087091757387247\n",
            "GB: train = 0.797 (0.031) / test = 0.809\n"
          ]
        }
      ],
      "source": [
        "\n",
        "\n",
        "# Оценивание эффективности выполнения каждого алгоритма\n",
        "scores = []\n",
        "names = []\n",
        "results = []\n",
        "predictions = []\n",
        "msg_row = []\n",
        "for name, model in models:\n",
        "    kfold = KFold(n_splits=num_folds) #random_state=seed\n",
        "    cv_results = cross_val_score(model, X_train, Y_train, cv=kfold, scoring=scoring)\n",
        "    names.append(name)\n",
        "    results.append(cv_results)\n",
        "    m_fit = model.fit(X_train, Y_train)\n",
        "    m_predict = model.predict(X_test)\n",
        "    predictions.append(m_predict)\n",
        "    m_score = model.score(X_test, Y_test)\n",
        "    scores.append(m_score)\n",
        "    msg = \"%s: train = %.3f (%.3f) / test = %.3f\" % (name, cv_results.mean(), cv_results.std(), m_score)\n",
        "    msg_row.append(msg)\n",
        "    acc = accuracy_score(Y_test, m_predict)\n",
        "    print('Значение метрики ACC на валидационной выборке', model, acc)\n",
        "    print(msg)"
      ]
    },
    {
      "cell_type": "markdown",
      "metadata": {
        "id": "shXosVtubq-h"
      },
      "source": [
        "<div class=\"alert alert-warning\">\n",
        "<b>Комментарий 👉</b>\n",
        "\n",
        "Я правиьно понимаю, что X_test - это название валидационной выборки? А features_valid (ниже) - это название тестовой? Если да, то зачем такая путаница? ))))\n",
        "</div>"
      ]
    },
    {
      "cell_type": "markdown",
      "metadata": {
        "id": "SUO8h_tsbq-h"
      },
      "source": [
        "<div class=\"alert alert-danger\">\n",
        "<b>Необходимо исправить ❌</b>\n",
        "\n",
        "Что вот здесь происходит и для чего? Значение m_score - о чем нам говорит?\n",
        "    \n",
        "![image.png](attachment:image.png)\n",
        "</div>"
      ]
    },
    {
      "cell_type": "markdown",
      "metadata": {
        "id": "ABLzDO2Mbq-h"
      },
      "source": [
        "<div style=\"background: #B0E0E6; padding: 5px; border: 1px solid SteelBlue; border-radius: 5px;\">\n",
        "    <font color='4682B4'><u><b>КОММЕНТАРИЙ СТУДЕНТА</b></u></font>\n",
        "    <br />\n",
        "    <font color='4682B4'>Поправил</font>\n",
        "</div>"
      ]
    },
    {
      "cell_type": "markdown",
      "metadata": {
        "id": "Y0-Dkl0qbq-h"
      },
      "source": [
        "<div class=\"alert alert-success\">\n",
        "<b>КОММЕНТАРИЙ V2</b>\n",
        "\n",
        "Я всё-равно не могу понять, что ты хочешь сказать этим кодом:\n",
        "    \n",
        "![image.png](attachment:image.png)    \n",
        "</div>"
      ]
    },
    {
      "cell_type": "code",
      "execution_count": null,
      "metadata": {
        "id": "8WSlih5Bbq-h",
        "outputId": "c2450146-b30b-40e5-f749-a1592e0a8a81"
      },
      "outputs": [
        {
          "data": {
            "image/png": "[encoded data removed]",
            "text/plain": [
              "<Figure size 1008x720 with 1 Axes>"
            ]
          },
          "metadata": {
            "needs_background": "light"
          },
          "output_type": "display_data"
        }
      ],
      "source": [
        "# Диаграмма размаха («ящик с усами»)\n",
        "fig = pyplot.figure( figsize=(14, 10))\n",
        "fig.suptitle('Сравнение результатов выполнения алгоритмов')\n",
        "ax = fig.add_subplot(111)\n",
        "red_square = dict(markerfacecolor='r', marker='s')\n",
        "pyplot.boxplot(results, flierprops=red_square,)\n",
        "ax.set_xticklabels(names, rotation=45)\n",
        "pyplot.show()"
      ]
    },
    {
      "cell_type": "markdown",
      "metadata": {
        "id": "zaPuCCPBbq-i"
      },
      "source": [
        "   Лучший результат экпресс тестирования: Значение метрики ACC на валидационной выборке GradientBoostingClassifier() 0.8133748055987559\n",
        "GB: train = 0.797 (0.031) / test = 0.850\n",
        "  \n"
      ]
    },
    {
      "cell_type": "markdown",
      "metadata": {
        "id": "ttiirG5obq-i"
      },
      "source": [
        "Пропробуем добиться лучшего результата, используя алгоритимы, изученные нами в теоретической части:"
      ]
    },
    {
      "cell_type": "markdown",
      "metadata": {
        "id": "Yh3U5x7abq-i"
      },
      "source": [
        "исследуем логистическую регрессиию.\n",
        "Изменим гипер параметр max_iter в цикле."
      ]
    },
    {
      "cell_type": "code",
      "execution_count": null,
      "metadata": {
        "scrolled": false,
        "id": "aFLivNJ2bq-i",
        "outputId": "aef9dcbc-61e4-409d-f8db-ae37e1d22e1a"
      },
      "outputs": [
        {
          "name": "stdout",
          "output_type": "stream",
          "text": [
            "Количество итерраций 1 Точность 0.6936236391912908\n",
            "Количество итерраций 2 Точность 0.6936236391912908\n",
            "Количество итерраций 3 Точность 0.6936236391912908\n",
            "Количество итерраций 4 Точность 0.6936236391912908\n",
            "Количество итерраций 5 Точность 0.6936236391912908\n",
            "Количество итерраций 6 Точность 0.6936236391912908\n",
            "Количество итерраций 7 Точность 0.6936236391912908\n",
            "Количество итерраций 8 Точность 0.6936236391912908\n",
            "Количество итерраций 9 Точность 0.6936236391912908\n",
            "Количество итерраций 10 Точность 0.6936236391912908\n",
            "Количество итерраций 11 Точность 0.6936236391912908\n",
            "Количество итерраций 12 Точность 0.6936236391912908\n",
            "Количество итерраций 13 Точность 0.6936236391912908\n",
            "Количество итерраций 14 Точность 0.6936236391912908\n",
            "Количество итерраций 15 Точность 0.6936236391912908\n",
            "Количество итерраций 16 Точность 0.6982892690513219\n",
            "Количество итерраций 17 Точность 0.6998444790046656\n",
            "Количество итерраций 18 Точность 0.7122861586314152\n",
            "Количество итерраций 19 Точность 0.7076205287713841\n",
            "Количество итерраций 20 Точность 0.7076205287713841\n",
            "Количество итерраций 21 Точность 0.702954898911353\n",
            "Количество итерраций 22 Точность 0.7076205287713841\n",
            "Количество итерраций 23 Точность 0.7107309486780715\n",
            "Количество итерраций 24 Точность 0.7107309486780715\n",
            "Количество итерраций 25 Точность 0.7122861586314152\n",
            "Количество итерраций 26 Точность 0.7107309486780715\n",
            "Количество итерраций 27 Точность 0.7107309486780715\n",
            "Количество итерраций 28 Точность 0.7107309486780715\n",
            "Количество итерраций 29 Точность 0.7091757387247278\n",
            "Количество итерраций 30 Точность 0.7091757387247278\n",
            "Количество итерраций 31 Точность 0.7153965785381027\n",
            "Количество итерраций 32 Точность 0.713841368584759\n",
            "Количество итерраций 33 Точность 0.7107309486780715\n",
            "Количество итерраций 34 Точность 0.7107309486780715\n",
            "Количество итерраций 35 Точность 0.702954898911353\n",
            "Количество итерраций 36 Точность 0.7013996889580093\n",
            "Количество итерраций 37 Точность 0.702954898911353\n",
            "Количество итерраций 38 Точность 0.702954898911353\n",
            "Количество итерраций 39 Точность 0.702954898911353\n",
            "Количество итерраций 40 Точность 0.702954898911353\n",
            "Количество итерраций 41 Точность 0.7045101088646968\n",
            "Количество итерраций 42 Точность 0.7045101088646968\n",
            "Количество итерраций 43 Точность 0.7045101088646968\n",
            "Количество итерраций 44 Точность 0.7045101088646968\n",
            "Количество итерраций 45 Точность 0.7045101088646968\n",
            "Количество итерраций 46 Точность 0.7060653188180405\n",
            "Количество итерраций 47 Точность 0.7091757387247278\n",
            "Количество итерраций 48 Точность 0.7060653188180405\n",
            "Количество итерраций 49 Точность 0.7076205287713841\n",
            "Количество итерраций 50 Точность 0.7076205287713841\n",
            "Лучшая количество итерраций 31 Лучшая точность 0.7153965785381027\n"
          ]
        }
      ],
      "source": [
        "best_max_iter = 0\n",
        "best_accuracy = 0\n",
        "\n",
        "for max_iter in range(1,51):\n",
        "    model = LogisticRegression(random_state=12345, max_iter=max_iter)\n",
        "    model.fit(features_train, target_train)\n",
        "    valid_predictions = model.predict(features_valid)\n",
        "    accuracy = accuracy_score(target_valid, valid_predictions)\n",
        "    print('Количество итерраций', max_iter,'Точность', accuracy)\n",
        "    if accuracy > best_accuracy:\n",
        "        best_max_iter = max_iter\n",
        "        best_accuracy = accuracy\n",
        "\n",
        "print('Лучшая количество итерраций', best_max_iter,'Лучшая точность', best_accuracy)    "
      ]
    },
    {
      "cell_type": "markdown",
      "metadata": {
        "id": "TNc_BSvNbq-i"
      },
      "source": [
        "Лучшая количество итерраций 31 Лучшая точность 0.715. Зафиксируем:"
      ]
    },
    {
      "cell_type": "code",
      "execution_count": null,
      "metadata": {
        "id": "QkByCqjPbq-i",
        "outputId": "5073fdd2-fad7-4de5-db6c-fcb52f92ce9f"
      },
      "outputs": [
        {
          "name": "stdout",
          "output_type": "stream",
          "text": [
            "Количество итерраций 1 Точность 0.7153965785381027\n"
          ]
        }
      ],
      "source": [
        "max_iter=1\n",
        "model = LogisticRegression(random_state=12345, max_iter=31)\n",
        "model.fit(features_train, target_train)\n",
        "valid_predictions = model.predict(features_valid)\n",
        "accuracy = accuracy_score(target_valid, valid_predictions)\n",
        "print('Количество итерраций', max_iter,'Точность',accuracy)"
      ]
    },
    {
      "cell_type": "markdown",
      "metadata": {
        "id": "AVQvqzhMbq-j"
      },
      "source": [
        "Изменим другой гиперпараметр - solver."
      ]
    },
    {
      "cell_type": "code",
      "execution_count": null,
      "metadata": {
        "id": "yhhLd1JZbq-j",
        "outputId": "c4435bbd-540f-415e-d284-c17257b7ec5a"
      },
      "outputs": [
        {
          "name": "stdout",
          "output_type": "stream",
          "text": [
            "Solver lbfgs Точность 0.7465007776049767\n",
            "Solver sag Точность 0.6936236391912908\n",
            "Solver newton-cg Точность 0.7465007776049767\n",
            "Solver liblinear Точность 0.7107309486780715\n",
            "Solver saga Точность 0.6936236391912908\n",
            "Лучший solver lbfgs Лучшая точность 0.7465007776049767\n"
          ]
        }
      ],
      "source": [
        "best_solver = ''\n",
        "best_accuracy = 0\n",
        "\n",
        "for solve in {'newton-cg', 'lbfgs', 'liblinear', 'sag', 'saga'}:\n",
        "    model = LogisticRegression(random_state=12345, solver=solve)\n",
        "    model.fit(features_train, target_train)\n",
        "    valid_predictions = model.predict(features_valid)\n",
        "    accuracy = accuracy_score(target_valid, valid_predictions)\n",
        "    print('Solver', solve,'Точность', accuracy)\n",
        "    if accuracy > best_accuracy:\n",
        "        best_solver= solve\n",
        "        best_accuracy = accuracy\n",
        "\n",
        "print('Лучший solver', best_solver,'Лучшая точность', best_accuracy) "
      ]
    },
    {
      "cell_type": "markdown",
      "metadata": {
        "id": "-8QGturxbq-j"
      },
      "source": [
        "Лучшим solver является newton-cg. "
      ]
    },
    {
      "cell_type": "markdown",
      "metadata": {
        "id": "2QaSdp-Mbq-j"
      },
      "source": [
        "Изменим в цикле гиперпараметр С:"
      ]
    },
    {
      "cell_type": "code",
      "execution_count": null,
      "metadata": {
        "id": "u5wrXlARbq-j",
        "outputId": "7036187b-455c-4adc-9cf2-7651a6fb151d"
      },
      "outputs": [
        {
          "name": "stdout",
          "output_type": "stream",
          "text": [
            "C= 0.1 Точность 0.7465007776049767\n",
            "C= 0.2 Точность 0.7465007776049767\n",
            "C= 0.3 Точность 0.7465007776049767\n",
            "C= 0.4 Точность 0.7465007776049767\n",
            "C= 0.5 Точность 0.7465007776049767\n",
            "C= 0.6 Точность 0.7465007776049767\n",
            "C= 0.7 Точность 0.7465007776049767\n",
            "C= 0.8 Точность 0.7465007776049767\n",
            "C= 0.9 Точность 0.7465007776049767\n",
            "C= 1.0 Точность 0.7465007776049767\n",
            "C= 1.1 Точность 0.7465007776049767\n",
            "C= 1.2 Точность 0.7465007776049767\n",
            "C= 1.3 Точность 0.7465007776049767\n",
            "C= 1.4 Точность 0.7465007776049767\n",
            "C= 1.5 Точность 0.7465007776049767\n",
            "C= 1.6 Точность 0.7465007776049767\n",
            "C= 1.7 Точность 0.7465007776049767\n",
            "C= 1.8 Точность 0.7465007776049767\n",
            "C= 1.9 Точность 0.7465007776049767\n",
            "C= 2.0 Точность 0.7465007776049767\n",
            "Лучшая количество итерраций 0.1 Лучшая точность 0.7465007776049767\n"
          ]
        }
      ],
      "source": [
        "best_c = 0\n",
        "best_accuracy = 0\n",
        "\n",
        "for float_c in [x/10 for x in range(1,21)]:\n",
        "    model = LogisticRegression(random_state=12345, C=float_c)\n",
        "    model.fit(features_train, target_train)\n",
        "    valid_predictions = model.predict(features_valid)\n",
        "    accuracy = accuracy_score(target_valid, valid_predictions)\n",
        "    print('C=', float_c,'Точность',accuracy)\n",
        "    if accuracy > best_accuracy:\n",
        "        best_c = float_c\n",
        "        best_accuracy = accuracy\n",
        "\n",
        "print('Лучшая количество итерраций', best_c,'Лучшая точность', best_accuracy)    "
      ]
    },
    {
      "cell_type": "markdown",
      "metadata": {
        "id": "37d11jUAbq-j"
      },
      "source": [
        "Значение по умолчанию C=0.1 показывает лучший результат."
      ]
    },
    {
      "cell_type": "markdown",
      "metadata": {
        "id": "Nx2pFFiFbq-j"
      },
      "source": [
        "Исследуем алгоритм классификации деревом решений:\n"
      ]
    },
    {
      "cell_type": "code",
      "execution_count": null,
      "metadata": {
        "id": "0_b1pqoVbq-k",
        "outputId": "66278ac8-362b-4afa-fc91-0e9b7bfd2ed6"
      },
      "outputs": [
        {
          "name": "stdout",
          "output_type": "stream",
          "text": [
            "Глубина дерева, асс 1 0.7293934681181959\n",
            "Глубина дерева, асс 2 0.7682737169517885\n",
            "Глубина дерева, асс 3 0.7993779160186625\n",
            "Глубина дерева, асс 4 0.7744945567651633\n",
            "Глубина дерева, асс 5 0.8118195956454122\n",
            "Глубина дерева, асс 6 0.7993779160186625\n",
            "Глубина дерева, асс 7 0.7978227060653188\n",
            "Глубина дерева, асс 8 0.7838258164852255\n",
            "Глубина дерева, асс 9 0.7947122861586314\n",
            "Глубина дерева, асс 10 0.80248833592535\n",
            "Глубина дерева, асс 11 0.7807153965785381\n",
            "Глубина дерева, асс 12 0.7682737169517885\n",
            "Глубина дерева, асс 13 0.7589424572317263\n",
            "Глубина дерева, асс 14 0.7402799377916018\n",
            "Глубина дерева, асс 15 0.7402799377916018\n",
            "Глубина дерева, асс 16 0.7278382581648523\n",
            "Глубина дерева, асс 17 0.7371695178849145\n",
            "Глубина дерева, асс 18 0.7309486780715396\n",
            "Глубина дерева, асс 19 0.7200622083981337\n",
            "Глубина дерева, асс 20 0.7200622083981337\n",
            "Глубина дерева, асс 21 0.7247278382581649\n",
            "Глубина дерева, асс 22 0.7247278382581649\n",
            "Глубина дерева, асс 23 0.7247278382581649\n",
            "Глубина дерева, асс 24 0.7247278382581649\n",
            "Глубина дерева, асс 25 0.7247278382581649\n",
            "Глубина дерева, асс 26 0.7247278382581649\n",
            "Глубина дерева, асс 27 0.7247278382581649\n",
            "Глубина дерева, асс 28 0.7247278382581649\n",
            "Глубина дерева, асс 29 0.7247278382581649\n",
            "Глубина дерева, асс 30 0.7247278382581649\n",
            "Глубина дерева, асс 31 0.7247278382581649\n",
            "Глубина дерева, асс 32 0.7247278382581649\n",
            "Глубина дерева, асс 33 0.7247278382581649\n",
            "Глубина дерева, асс 34 0.7247278382581649\n",
            "Глубина дерева, асс 35 0.7247278382581649\n",
            "Глубина дерева, асс 36 0.7247278382581649\n",
            "Глубина дерева, асс 37 0.7247278382581649\n",
            "Глубина дерева, асс 38 0.7247278382581649\n",
            "Глубина дерева, асс 39 0.7247278382581649\n",
            "Глубина дерева, асс 40 0.7247278382581649\n",
            "Глубина дерева, асс 41 0.7247278382581649\n",
            "Глубина дерева, асс 42 0.7247278382581649\n",
            "Глубина дерева, асс 43 0.7247278382581649\n",
            "Глубина дерева, асс 44 0.7247278382581649\n",
            "Глубина дерева, асс 45 0.7247278382581649\n",
            "Глубина дерева, асс 46 0.7247278382581649\n",
            "Глубина дерева, асс 47 0.7247278382581649\n",
            "Глубина дерева, асс 48 0.7247278382581649\n",
            "Глубина дерева, асс 49 0.7247278382581649\n",
            "Accuracy лучшей модели, глубина дерева: 0.8118195956454122 5\n"
          ]
        }
      ],
      "source": [
        "best_depth = 0\n",
        "best_result = 0\n",
        "for depth in range(1, 50):\n",
        "    model = DecisionTreeClassifier(random_state=12345, max_depth=depth) # обучите модель с заданной глубиной дерева\n",
        "    model.fit(features_train, target_train) # обучите модель\n",
        "    predictions = model.predict(features_valid) # получите предсказания модел\n",
        "    result = accuracy_score(target_valid, predictions) # посчитайте качество модели\n",
        "    print(\"Глубина дерева, асс\", depth, result)\n",
        "    if result > best_result:\n",
        "        best_depth = depth\n",
        "        best_result = result    \n",
        "print(\"Accuracy лучшей модели, глубина дерева:\", best_result, best_depth)"
      ]
    },
    {
      "cell_type": "code",
      "execution_count": null,
      "metadata": {
        "id": "uoabYTxTbq-k",
        "outputId": "f317cabf-060c-4aa8-f8fd-026449adc19b"
      },
      "outputs": [
        {
          "name": "stdout",
          "output_type": "stream",
          "text": [
            "Глубина дерева - 5, асс 0.8118195956454122\n"
          ]
        }
      ],
      "source": [
        "\n",
        "model = DecisionTreeClassifier(random_state=12345, max_depth=5) # обучите модель с заданной глубиной дерева\n",
        "model.fit(features_train, target_train) # обучите модель\n",
        "predictions = model.predict(features_valid) # получите предсказания модел\n",
        "result = accuracy_score(target_valid, predictions) # посчитайте качество модели\n",
        "print(\"Глубина дерева - 5, асс\", result)\n",
        "    "
      ]
    },
    {
      "cell_type": "markdown",
      "metadata": {
        "id": "e1NSqhnHbq-k"
      },
      "source": [
        "Изменм гиперпараметр criterion с gini на entropy."
      ]
    },
    {
      "cell_type": "code",
      "execution_count": null,
      "metadata": {
        "id": "Ab3xEbvKbq-k",
        "outputId": "020b3fcf-efef-4463-d0ca-e9a36cce4a1b"
      },
      "outputs": [
        {
          "name": "stdout",
          "output_type": "stream",
          "text": [
            "Глубина дерева - 5, асс 0.8087091757387247\n"
          ]
        }
      ],
      "source": [
        "\n",
        "model = DecisionTreeClassifier(random_state=12345, max_depth=5, criterion=\"entropy\") # обучите модель с заданной глубиной дерева\n",
        "model.fit(features_train, target_train) # обучите модель\n",
        "predictions = model.predict(features_valid) # получите предсказания модел\n",
        "result = accuracy_score(target_valid, predictions) # посчитайте качество модели\n",
        "print(\"Глубина дерева - 5, асс\", result)\n",
        "    "
      ]
    },
    {
      "cell_type": "markdown",
      "metadata": {
        "id": "oDhlDaPMbq-k"
      },
      "source": [
        "Результат лучше стал."
      ]
    },
    {
      "cell_type": "markdown",
      "metadata": {
        "id": "_ZBXafmIbq-k"
      },
      "source": [
        "Изменим splitter с best на random."
      ]
    },
    {
      "cell_type": "code",
      "execution_count": null,
      "metadata": {
        "id": "g0khZWe8bq-l",
        "outputId": "29735e64-763b-4294-8637-b1bcef9c1e09"
      },
      "outputs": [
        {
          "name": "stdout",
          "output_type": "stream",
          "text": [
            "Глубина дерева - 5, асс 0.7807153965785381\n"
          ]
        }
      ],
      "source": [
        "\n",
        "model = DecisionTreeClassifier(random_state=12345, max_depth=5, splitter='random') # обучите модель с заданной глубиной дерева\n",
        "model.fit(features_train, target_train) # обучите модель\n",
        "predictions = model.predict(features_valid) # получите предсказания модел\n",
        "result = accuracy_score(target_valid, predictions) # посчитайте качество модели\n",
        "print(\"Глубина дерева - 5, асс\", result)\n",
        "    "
      ]
    },
    {
      "cell_type": "markdown",
      "metadata": {
        "id": "zvKgaLKybq-l"
      },
      "source": [
        "Результат стал лучше."
      ]
    },
    {
      "cell_type": "markdown",
      "metadata": {
        "id": "3lUtM526bq-l"
      },
      "source": [
        "Рассмотрим применение модели случайный лес"
      ]
    },
    {
      "cell_type": "code",
      "execution_count": null,
      "metadata": {
        "id": "ODUnq-7dbq-l",
        "outputId": "a429d1e7-6b33-4791-8a03-16255b8c5c79"
      },
      "outputs": [
        {
          "name": "stdout",
          "output_type": "stream",
          "text": [
            "Количество деревьев 1 Точность 0.7402799377916018\n",
            "Количество деревьев 2 Точность 0.7558320373250389\n",
            "Количество деревьев 3 Точность 0.7480559875583204\n",
            "Количество деревьев 4 Точность 0.7744945567651633\n",
            "Количество деревьев 5 Точность 0.7713841368584758\n",
            "Количество деревьев 6 Точность 0.7838258164852255\n",
            "Количество деревьев 7 Точность 0.7807153965785381\n",
            "Количество деревьев 8 Точность 0.7869362363919129\n",
            "Количество деревьев 9 Точность 0.7947122861586314\n",
            "Количество деревьев 10 Точность 0.7931570762052877\n",
            "Количество деревьев 11 Точность 0.7869362363919129\n",
            "Количество деревьев 12 Точность 0.7978227060653188\n",
            "Количество деревьев 13 Точность 0.7900466562986003\n",
            "Количество деревьев 14 Точность 0.7931570762052877\n",
            "Количество деревьев 15 Точность 0.7916018662519441\n",
            "Количество деревьев 16 Точность 0.7884914463452566\n",
            "Количество деревьев 17 Точность 0.7916018662519441\n",
            "Количество деревьев 18 Точность 0.7916018662519441\n",
            "Количество деревьев 19 Точность 0.7947122861586314\n",
            "Количество деревьев 20 Точность 0.7993779160186625\n",
            "Количество деревьев 21 Точность 0.80248833592535\n",
            "Количество деревьев 22 Точность 0.80248833592535\n",
            "Количество деревьев 23 Точность 0.7978227060653188\n",
            "Количество деревьев 24 Точность 0.7978227060653188\n",
            "Количество деревьев 25 Точность 0.7978227060653188\n",
            "Количество деревьев 26 Точность 0.8009331259720062\n",
            "Количество деревьев 27 Точность 0.7978227060653188\n",
            "Количество деревьев 28 Точность 0.7931570762052877\n",
            "Количество деревьев 29 Точность 0.7978227060653188\n",
            "Количество деревьев 30 Точность 0.7962674961119751\n",
            "Количество деревьев 31 Точность 0.7962674961119751\n",
            "Количество деревьев 32 Точность 0.7962674961119751\n",
            "Количество деревьев 33 Точность 0.7962674961119751\n",
            "Количество деревьев 34 Точность 0.7931570762052877\n",
            "Количество деревьев 35 Точность 0.7962674961119751\n",
            "Количество деревьев 36 Точность 0.7947122861586314\n",
            "Количество деревьев 37 Точность 0.7947122861586314\n",
            "Количество деревьев 38 Точность 0.7931570762052877\n",
            "Количество деревьев 39 Точность 0.7916018662519441\n",
            "Количество деревьев 40 Точность 0.7947122861586314\n",
            "Количество деревьев 41 Точность 0.7978227060653188\n",
            "Количество деревьев 42 Точность 0.7978227060653188\n",
            "Количество деревьев 43 Точность 0.7962674961119751\n",
            "Количество деревьев 44 Точность 0.7962674961119751\n",
            "Количество деревьев 45 Точность 0.7962674961119751\n",
            "Количество деревьев 46 Точность 0.8009331259720062\n",
            "Количество деревьев 47 Точность 0.7993779160186625\n",
            "Количество деревьев 48 Точность 0.7993779160186625\n",
            "Количество деревьев 49 Точность 0.7993779160186625\n",
            "Количество деревьев 50 Точность 0.8040435458786936\n",
            "Количество деревьев 51 Точность 0.80248833592535\n",
            "Количество деревьев 52 Точность 0.80248833592535\n",
            "Количество деревьев 53 Точность 0.8009331259720062\n",
            "Количество деревьев 54 Точность 0.7993779160186625\n",
            "Количество деревьев 55 Точность 0.7993779160186625\n",
            "Количество деревьев 56 Точность 0.80248833592535\n",
            "Количество деревьев 57 Точность 0.8009331259720062\n",
            "Количество деревьев 58 Точность 0.8055987558320373\n",
            "Количество деревьев 59 Точность 0.80248833592535\n",
            "Количество деревьев 60 Точность 0.7978227060653188\n",
            "Количество деревьев 61 Точность 0.8009331259720062\n",
            "Количество деревьев 62 Точность 0.8040435458786936\n",
            "Количество деревьев 63 Точность 0.807153965785381\n",
            "Количество деревьев 64 Точность 0.8118195956454122\n",
            "Количество деревьев 65 Точность 0.807153965785381\n",
            "Количество деревьев 66 Точность 0.8118195956454122\n",
            "Количество деревьев 67 Точность 0.8087091757387247\n",
            "Количество деревьев 68 Точность 0.8087091757387247\n",
            "Количество деревьев 69 Точность 0.8087091757387247\n",
            "Количество деревьев 70 Точность 0.8102643856920684\n",
            "Количество деревьев 71 Точность 0.8102643856920684\n",
            "Количество деревьев 72 Точность 0.8133748055987559\n",
            "Количество деревьев 73 Точность 0.8118195956454122\n",
            "Количество деревьев 74 Точность 0.8149300155520995\n",
            "Количество деревьев 75 Точность 0.8164852255054432\n",
            "Количество деревьев 76 Точность 0.8164852255054432\n",
            "Количество деревьев 77 Точность 0.8149300155520995\n",
            "Количество деревьев 78 Точность 0.8149300155520995\n",
            "Количество деревьев 79 Точность 0.8149300155520995\n",
            "Количество деревьев 80 Точность 0.8149300155520995\n",
            "Количество деревьев 81 Точность 0.8102643856920684\n",
            "Количество деревьев 82 Точность 0.8118195956454122\n",
            "Количество деревьев 83 Точность 0.8133748055987559\n",
            "Количество деревьев 84 Точность 0.8133748055987559\n",
            "Количество деревьев 85 Точность 0.8133748055987559\n",
            "Количество деревьев 86 Точность 0.8118195956454122\n",
            "Количество деревьев 87 Точность 0.8118195956454122\n",
            "Количество деревьев 88 Точность 0.8118195956454122\n",
            "Количество деревьев 89 Точность 0.8118195956454122\n",
            "Количество деревьев 90 Точность 0.8118195956454122\n",
            "Количество деревьев 91 Точность 0.8118195956454122\n",
            "Количество деревьев 92 Точность 0.8149300155520995\n",
            "Количество деревьев 93 Точность 0.8133748055987559\n",
            "Количество деревьев 94 Точность 0.8149300155520995\n",
            "Количество деревьев 95 Точность 0.8118195956454122\n",
            "Количество деревьев 96 Точность 0.8133748055987559\n",
            "Количество деревьев 97 Точность 0.8118195956454122\n",
            "Количество деревьев 98 Точность 0.8133748055987559\n",
            "Количество деревьев 99 Точность 0.8118195956454122\n",
            "Количество деревьев 100 Точность 0.8133748055987559\n",
            "Лучшее количество деревьев 75 Лучшая точность 0.8164852255054432\n"
          ]
        }
      ],
      "source": [
        "best_estim = 0\n",
        "best_accuracy = 0\n",
        "\n",
        "for estim in range(1,101):\n",
        "    model = RandomForestClassifier(random_state=12345, n_estimators=estim)\n",
        "    model.fit(features_train, target_train)\n",
        "    valid_predictions = model.predict(features_valid)\n",
        "    accuracy = accuracy_score(target_valid, valid_predictions)\n",
        "    print('Количество деревьев', estim,'Точность',accuracy)\n",
        "    if accuracy > best_accuracy:\n",
        "        best_estim = estim\n",
        "        best_accuracy = accuracy\n",
        "print('Лучшее количество деревьев', best_estim,'Лучшая точность', best_accuracy)  \n",
        "\n"
      ]
    },
    {
      "cell_type": "markdown",
      "metadata": {
        "id": "o1kPadj9bq-l"
      },
      "source": [
        "<div class=\"alert alert-danger\">\n",
        "<b>Необходимо исправить ❌</b>\n",
        "\n",
        "Что здесь происходит?\n",
        "    \n",
        "![image.png](attachment:image.png)    \n",
        "</div>"
      ]
    },
    {
      "cell_type": "markdown",
      "metadata": {
        "id": "agn_GDKtbq-l"
      },
      "source": [
        "<div style=\"background: #B0E0E6; padding: 5px; border: 1px solid SteelBlue; border-radius: 5px;\">\n",
        "    <font color='4682B4'><u><b>КОММЕНТАРИЙ СТУДЕНТА</b></u></font>\n",
        "    <br />\n",
        "    <font color='4682B4'>Просмотрел по всей работе. Везде поправил.</font>\n",
        "</div>"
      ]
    },
    {
      "cell_type": "markdown",
      "metadata": {
        "id": "bOK7OFtlbq-l"
      },
      "source": [
        "И так:"
      ]
    },
    {
      "cell_type": "code",
      "execution_count": null,
      "metadata": {
        "id": "3--Ghwzbbq-m",
        "outputId": "e647eaec-65b4-4755-c37c-aec9d9cafa1b"
      },
      "outputs": [
        {
          "name": "stdout",
          "output_type": "stream",
          "text": [
            "Точность 0.8164852255054432\n"
          ]
        }
      ],
      "source": [
        "    model = RandomForestClassifier(random_state=12345, n_estimators=75)\n",
        "    model.fit(features_train, target_train)\n",
        "    valid_predictions = model.predict(features_valid)\n",
        "    accuracy = accuracy_score(target_valid, valid_predictions)\n",
        "    print('Точность', accuracy)"
      ]
    },
    {
      "cell_type": "markdown",
      "metadata": {
        "id": "iA7MuYorbq-m"
      },
      "source": [
        "<div class=\"alert alert-danger\">\n",
        "<b>Необходимо исправить ❌</b>\n",
        "\n",
        "Здесь так же ошибка (ОПРЕДЕЛИСЬ какая выборка у тебя тестовая, какая валидационная - сейчас ты очень вольно переключаешся между ними).\n",
        "</div>"
      ]
    },
    {
      "cell_type": "markdown",
      "metadata": {
        "id": "pU54ODAjbq-m"
      },
      "source": [
        "<div style=\"background: #B0E0E6; padding: 5px; border: 1px solid SteelBlue; border-radius: 5px;\">\n",
        "    <font color='4682B4'><u><b>КОММЕНТАРИЙ СТУДЕНТА</b></u></font>\n",
        "    <br />\n",
        "    <font color='4682B4'>Просмотрел по всей работе. Везде поправил.</font>\n",
        "</div>"
      ]
    },
    {
      "cell_type": "markdown",
      "metadata": {
        "id": "EuiR_JPgbq-m"
      },
      "source": [
        "Настроим гиперпараметр criterion с gini на entropy.\n"
      ]
    },
    {
      "cell_type": "code",
      "execution_count": null,
      "metadata": {
        "id": "WH1dbdPqbq-n",
        "outputId": "49921e59-62ef-41f6-bf98-690f38335028"
      },
      "outputs": [
        {
          "name": "stdout",
          "output_type": "stream",
          "text": [
            "Точность 0.7962674961119751\n"
          ]
        }
      ],
      "source": [
        "    model = RandomForestClassifier(random_state=12345, n_estimators=75, criterion='entropy')\n",
        "    model.fit(features_train, target_train)\n",
        "    valid_predictions = model.predict(features_valid)\n",
        "    accuracy = accuracy_score(target_valid, valid_predictions)\n",
        "    print('Точность', accuracy)"
      ]
    },
    {
      "cell_type": "markdown",
      "metadata": {
        "id": "FzuV0gO4bq-n"
      },
      "source": [
        "<div class=\"alert alert-danger\">\n",
        "<b>Необходимо исправить ❌</b>\n",
        "\n",
        "Та же ошибка\n",
        "</div>"
      ]
    },
    {
      "cell_type": "markdown",
      "metadata": {
        "id": "vw4WE3J1bq-n"
      },
      "source": [
        "<div style=\"background: #B0E0E6; padding: 5px; border: 1px solid SteelBlue; border-radius: 5px;\">\n",
        "    <font color='4682B4'><u><b>КОММЕНТАРИЙ СТУДЕНТА</b></u></font>\n",
        "    <br />\n",
        "    <font color='4682B4'>Просмотрел по всей работе. Везде поправил.</font>\n",
        "</div>"
      ]
    },
    {
      "cell_type": "markdown",
      "metadata": {
        "id": "JqEgc8ocbq-n"
      },
      "source": [
        "Точность ухудшилась."
      ]
    },
    {
      "cell_type": "markdown",
      "metadata": {
        "id": "NLq0elfDbq-n"
      },
      "source": [
        "Изменим bootstrap с True на Flase."
      ]
    },
    {
      "cell_type": "code",
      "execution_count": null,
      "metadata": {
        "id": "mA5RTKgxbq-n",
        "outputId": "91199042-d7fb-482e-a773-3ee31f532f82"
      },
      "outputs": [
        {
          "name": "stdout",
          "output_type": "stream",
          "text": [
            "Точность 0.7822706065318819\n"
          ]
        }
      ],
      "source": [
        "    model = RandomForestClassifier(random_state=12345, n_estimators=75, bootstrap=False)\n",
        "    model.fit(features_train, target_train)\n",
        "    valid_predictions = model.predict(features_valid)\n",
        "    accuracy = accuracy_score(target_valid, valid_predictions)\n",
        "    print('Точность', accuracy)"
      ]
    },
    {
      "cell_type": "markdown",
      "metadata": {
        "id": "ybJzDx9kbq-n"
      },
      "source": [
        "<div class=\"alert alert-danger\">\n",
        "<b>Необходимо исправить ❌</b>\n",
        "\n",
        "Та же ошибка\n",
        "</div>"
      ]
    },
    {
      "cell_type": "markdown",
      "metadata": {
        "id": "5o71wu0Tbq-o"
      },
      "source": [
        "<div style=\"background: #B0E0E6; padding: 5px; border: 1px solid SteelBlue; border-radius: 5px;\">\n",
        "    <font color='4682B4'><u><b>КОММЕНТАРИЙ СТУДЕНТА</b></u></font>\n",
        "    <br />\n",
        "    <font color='4682B4'>Просмотрел по всей работе. Везде поправил.</font>\n",
        "</div>"
      ]
    },
    {
      "cell_type": "markdown",
      "metadata": {
        "id": "HKMUK4nsbq-o"
      },
      "source": [
        "Точность ухудшилась."
      ]
    },
    {
      "cell_type": "markdown",
      "metadata": {
        "id": "SUTTmK5wbq-o"
      },
      "source": [
        "Изменим warm_start с False на True."
      ]
    },
    {
      "cell_type": "code",
      "execution_count": null,
      "metadata": {
        "id": "9XAKUe6Gbq-o",
        "outputId": "0dad1d49-b868-485c-86c2-aaca55479804"
      },
      "outputs": [
        {
          "name": "stdout",
          "output_type": "stream",
          "text": [
            "Точность 0.7978227060653188\n"
          ]
        }
      ],
      "source": [
        "    model = RandomForestClassifier(random_state=12345, n_estimators=24, warm_start=True)\n",
        "    model.fit(features_train, target_train)\n",
        "    valid_predictions = model.predict(features_valid)\n",
        "    accuracy = accuracy_score(target_valid, valid_predictions)\n",
        "    print('Точность', accuracy)"
      ]
    },
    {
      "cell_type": "markdown",
      "metadata": {
        "id": "lgv4r4yibq-o"
      },
      "source": [
        "<div class=\"alert alert-danger\">\n",
        "<b>Необходимо исправить ❌</b>\n",
        "\n",
        "Та же ошибка\n",
        "</div>"
      ]
    },
    {
      "cell_type": "markdown",
      "metadata": {
        "id": "EtDQvd5pbq-o"
      },
      "source": [
        "<div style=\"background: #B0E0E6; padding: 5px; border: 1px solid SteelBlue; border-radius: 5px;\">\n",
        "    <font color='4682B4'><u><b>КОММЕНТАРИЙ СТУДЕНТА</b></u></font>\n",
        "    <br />\n",
        "    <font color='4682B4'>Просмотрел по всей работе. Везде поправил.</font>\n",
        "</div>"
      ]
    },
    {
      "cell_type": "markdown",
      "metadata": {
        "id": "Tqt8Hc9Mbq-o"
      },
      "source": [
        "Точность не изменилась."
      ]
    },
    {
      "cell_type": "markdown",
      "metadata": {
        "id": "NX75Op3Mbq-o"
      },
      "source": [
        "Выводы\n",
        "Мы провели экспресс тест алгоритмов для представленных данных с большим количеством алгоритмов. Лучшим оказался ExtraTreesClassifier(). Значение метрики ACC на валидационной выборке  0.8087091757387247\n",
        "\n",
        "В дальнейшем, были исследованы 3 алгоритма с перебором возможных гиперпараметров.\n",
        "Получены следующие данные:\n",
        "\n",
        "Точность модели решающего дерева при глубине 5 равна 0.802. \n",
        "Точность модели случайного леса при количестве деревьев 4 равна 0.62. \n",
        "Точность модели логистической регресии равна 0.74. \n",
        "Лучший результат показывает решающее древо с гиперпараметром max_depth=5 - 0.802."
      ]
    },
    {
      "cell_type": "markdown",
      "metadata": {
        "id": "qG4X4H8abq-p"
      },
      "source": [
        "<div class=\"alert alert-danger\">\n",
        "<b>Необходимо исправить ❌</b>\n",
        "\n",
        "Итак, \n",
        "    \n",
        "1. мы выше проверяли множество, около десятка моделей. В выводе описаны 3. Опиши все что проверял и сделай вывод, покажи, какая является лучшей.\n",
        "    \n",
        "2. твим данным доверять нельзя: все они вычислены на разных выборках, а местами ещё и даже на каких-то перекрестных (фичи от тестовой части, таргеты от валидационной). Этот раздел надо глобально переделать. Совет: не удивляй меня количеством моделей, возьми 3: логрегрессию, лес, дерево и аккуратно для них сделай вычисления.\n",
        "</div>"
      ]
    },
    {
      "cell_type": "markdown",
      "metadata": {
        "id": "XJ77Iqfobq-p"
      },
      "source": [
        "<div style=\"background: #B0E0E6; padding: 5px; border: 1px solid SteelBlue; border-radius: 5px;\">\n",
        "    <font color='4682B4'><u><b>КОММЕНТАРИЙ СТУДЕНТА</b></u></font>\n",
        "    <br />\n",
        "    <font color='4682B4'>Просмотрел по всей работе. Везде поправил Вывод для 3 части дополнил.</font>\n",
        "</div>"
      ]
    },
    {
      "cell_type": "markdown",
      "metadata": {
        "id": "zJ2zoWTmbq-p"
      },
      "source": [
        "<div class=\"alert alert-success\">\n",
        "<b>КОММЕНТАРИЙ V2</b>\n",
        "\n",
        "Здесь отлично: определили лучшую модель. \n",
        "\n",
        "После того, как лучшая модель найдена – тестируем её (можно - только её) на тестовых данных. Все прочие модели нас уже больше не интересуют. \n",
        "</div>    "
      ]
    },
    {
      "cell_type": "markdown",
      "metadata": {
        "id": "jMw-jpUhbq-p"
      },
      "source": [
        "## Проверьте модель на тестовой выборке"
      ]
    },
    {
      "cell_type": "code",
      "execution_count": null,
      "metadata": {
        "id": "225Zi1ATbq-p",
        "outputId": "519211cb-730d-488d-97e3-55977f27c4ef"
      },
      "outputs": [
        {
          "name": "stdout",
          "output_type": "stream",
          "text": [
            "Точность модели логистической регресиии на тестовой выборке 0.744945567651633\n"
          ]
        }
      ],
      "source": [
        "\n",
        "model = LogisticRegression(random_state=12345, max_iter=79)\n",
        "model.fit(features_train, target_train)\n",
        "valid_predictions = model.predict(features_test)\n",
        "accuracy = accuracy_score(target_test, valid_predictions)\n",
        "print('Точность модели логистической регресиии на тестовой выборке', accuracy)"
      ]
    },
    {
      "cell_type": "markdown",
      "metadata": {
        "id": "BdAGGMGVbq-p"
      },
      "source": [
        "<div class=\"alert alert-warning\">\n",
        "<b>Комментарий 👉</b>\n",
        "\n",
        "Я правиьно понимаю, что features_valid - это название тестовой выборки? А X_test (выше) - это название валидационной? Если да, то зачем такая путаница? ))))\n",
        "</div>"
      ]
    },
    {
      "cell_type": "code",
      "execution_count": null,
      "metadata": {
        "id": "_beX-Gjubq-p",
        "outputId": "4d148147-8beb-43f1-c5e7-9a231788dd0f"
      },
      "outputs": [
        {
          "name": "stdout",
          "output_type": "stream",
          "text": [
            "Точность модели решающего леса на тестовой выборке 0.80248833592535\n"
          ]
        }
      ],
      "source": [
        "\n",
        "model = DecisionTreeClassifier(random_state=12345, max_depth=8) # обучите модель с заданной глубиной дерева\n",
        "model.fit(features_train, target_train) # обучите модель\n",
        "predictions = model.predict(features_test) # получите предсказания модел\n",
        "result = accuracy_score(target_test, predictions) # посчитайте качество модели\n",
        "print(\"Точность модели решающего леса на тестовой выборке\", result)"
      ]
    },
    {
      "cell_type": "code",
      "execution_count": null,
      "metadata": {
        "id": "Mzbh-Moqbq-q",
        "outputId": "e5870d11-6b62-4f72-9503-f260b852e206"
      },
      "outputs": [
        {
          "name": "stdout",
          "output_type": "stream",
          "text": [
            "Точность модели случайного леса на тестовой выборке 0.7978227060653188\n"
          ]
        }
      ],
      "source": [
        "    model = RandomForestClassifier(random_state=12345, n_estimators=24)\n",
        "    model.fit(features_train, target_train)\n",
        "    valid_predictions = model.predict(features_test)\n",
        "    accuracy = accuracy_score(target_test, valid_predictions)\n",
        "    print('Точность модели случайного леса на тестовой выборке', accuracy)"
      ]
    },
    {
      "cell_type": "markdown",
      "metadata": {
        "id": "e_xtgnCjbq-q"
      },
      "source": [
        "Вывод п\n",
        "Для решения поставленной задачи можно выбрать модель случаного леса, точность 0.79. Учитывая разницу между текущей точностью и точностью на валидационной выборке, можно сделать вывод слабой переобученности модели.\n",
        "\n",
        "Для 100% гарантий и при учете того, что выборка не будет большой, рекомендую использовать модель случайного леса. Показатель выше требуемого на 3 пункта."
      ]
    },
    {
      "cell_type": "markdown",
      "metadata": {
        "id": "VrWil9-Sbq-q"
      },
      "source": [
        "<div class=\"alert alert-success\">\n",
        "<b>ОТЛИЧНО! 👍</b>\n",
        "\n",
        "Здесь отлично: проверили \"качество\" нашей лучшей модели на тестовых данных.\n",
        "</div>"
      ]
    },
    {
      "cell_type": "markdown",
      "metadata": {
        "id": "-Vfsj288bq-q"
      },
      "source": [
        "## (бонус) Проверьте модели на адекватность"
      ]
    },
    {
      "cell_type": "code",
      "execution_count": null,
      "metadata": {
        "id": "L2xxBgRAbq-q",
        "outputId": "91af0275-b6da-4d6e-8440-506290873ed4"
      },
      "outputs": [
        {
          "name": "stdout",
          "output_type": "stream",
          "text": [
            "Точность модели, заполненной наиболее весомой группой '0' 0.6936236391912908\n"
          ]
        }
      ],
      "source": [
        "d_target_test = target_test.copy()\n",
        "d_target_test = d_target_test.transform(lambda x: 0)\n",
        "print(\"Точность модели, заполненной наиболее весомой группой '0'\", accuracy_score(target_test, d_target_test))"
      ]
    },
    {
      "cell_type": "markdown",
      "metadata": {
        "id": "Om0zJYV5bq-q"
      },
      "source": [
        "Сделаем вывод, что наша модель имеет большую вероятность правильного прогноза, чем условно заполненная наиболее весомым значением."
      ]
    },
    {
      "cell_type": "markdown",
      "metadata": {
        "id": "sTkI-5xCbq-q"
      },
      "source": [
        "<div class=\"alert alert-warning\">\n",
        "<b>Комментарий 👉</b>\n",
        "\n",
        "Для проверки модели на адекватность можно использовать DummyClassifier (из библиотеки sckit-learn). Это один вариант. \n",
        "    \n",
        "Второй вариант - сравнить самый часто встречающийся класс в наших данных (это is_ultra == 0). Таких значений 2.229 в нашем датафрейме. Всего же значений в датафрейме 3.214. Значит самый часто встречающийся класс \"занимает\" 69% (2229 / 3214 == 0.693528313627878). Вот мы и получили контрольные данные для сравнительной оценки, построенной нами \"лучшей\" модели. Наша лучшая модель должна \"побить\" этот скор.\n",
        "</div>"
      ]
    },
    {
      "cell_type": "markdown",
      "metadata": {
        "id": "LkGype4Ubq-r"
      },
      "source": [
        "## Чек-лист готовности проекта"
      ]
    },
    {
      "cell_type": "markdown",
      "metadata": {
        "id": "gwc15-mebq-r"
      },
      "source": [
        "Поставьте 'x' в выполненных пунктах. Далее нажмите Shift+Enter."
      ]
    },
    {
      "cell_type": "markdown",
      "metadata": {
        "id": "XB1Z2AVybq-r"
      },
      "source": [
        "- [x] Jupyter Notebook открыт\n",
        "- [x] Весь код исполняется без ошибок\n",
        "- [x] Ячейки с кодом расположены в порядке исполнения\n",
        "- [x] Выполнено задание 1: данные загружены и изучены\n",
        "- [x] Выполнено задание 2: данные разбиты на три выборки\n",
        "- [x] Выполнено задание 3: проведено исследование моделей\n",
        "    - [x] Рассмотрено больше одной модели\n",
        "    - [x] Рассмотрено хотя бы 3 значения гипепараметров для какой-нибудь модели\n",
        "    - [x] Написаны выводы по результатам исследования\n",
        "- [x] Выполнено задание 3: Проведено тестирование\n",
        "- [x] Удалось достичь accuracy не меньше 0.75\n"
      ]
    },
    {
      "cell_type": "markdown",
      "metadata": {
        "id": "S95kToFYbq-r"
      },
      "source": [
        "# Результат ревью:\n",
        "\n",
        "Я отмечаю адекватный уровень твоей программистской подготовки. Ты используешь продвинутые концепции языка Python, библиотеки pandas и одной из основных библиотек машинного обучения sckit-learn. Это показывает твой уровень владения инструментами анализа данных и machine learning.\n",
        "\n",
        "С комментированием никаких проблем нет. Твоих объяснений достаточно для понимания твоими коллегами хода мыслей. Ссылки из брифа проекта в нужных местах также помогают следовать за развитием событий и дают полную информацию касаемо того, что будет происходить в том или ином разделе проекта.\n",
        "\n",
        "Мне было просто проверять твой проект, потому что он чётко структурирован, с использованием оглавления. \n",
        "\n",
        "Зелёным цветом я отметил и прокомментировал удачные и элегантные решения, на которые ты можешь опираться в будущих проектах.\n",
        "\n",
        "Жёлтым цветом я выделил то, что в следующий раз можно сделать по-другому. Ты можешь учесть эти комментарии при выполнении будущих заданий или доработать проект сейчас.\n",
        "\n",
        "Однако есть принципиальные моменты, которые не позволяют мне принять твой проект в его нынешнем состоянии:\n",
        "\n",
        "<div class=\"alert alert-danger\">\n",
        "<b>Необходимо исправить ❌</b> \n",
        "\n",
        "- Есть множественный ошибки в расчете accuracy_score и предоставлении результатов (конкретных цифр) в разделе 3.\n",
        "\n",
        "- Нет финального, завершающего вывод проекта\n",
        "\n",
        "- Вывод в разделе \"3.  Исследуйте модели\" урезан.</div>\n",
        "\n",
        "Эти моментв требуют твоего внимания. Комментарий помечены красным цветом. \n",
        "\n",
        "Подводя итог: после доработки обязательно проверь комментарии и выводы. Их нужно будет скорректировать. Жду доработанную версию проекта на повторное ревью.\n"
      ]
    },
    {
      "cell_type": "markdown",
      "metadata": {
        "id": "Jnxm0SZ-bq-r"
      },
      "source": [
        "<div style=\"background: #B0E0E6; padding: 5px; border: 1px solid SteelBlue; border-radius: 5px;\">\n",
        "    <font color='4682B4'><u><b>КОММЕНТАРИЙ СТУДЕНТА</b></u></font>\n",
        "    <br />\n",
        "    <font color='4682B4'> Спасибо за советы и ссылки!!! Да, произошла какая то путаница с выбоками (((. 1. Все проверил, добавил. 2. Добавил 3.Добавил .</font>\n",
        "</div>"
      ]
    },
    {
      "cell_type": "markdown",
      "metadata": {
        "id": "5hWrkO0bbq-r"
      },
      "source": [
        "<div class=\"alert alert-success\">\n",
        "<b>КОММЕНТАРИЙ V2</b>\n",
        "    \n",
        "Всё отлично, результат достигнут.\n",
        "    \n",
        "Один совет (также, на будущее): как попытаться улучшить полученный результат, с минимум усилий? Ответ: мы использовали train для обучения модели, а valid - для поиска лучших значений гиперпараметров. Лучшие параметры нашли. Так почему бы теперь наши модели с выбранными гиперпараметрами не обучить на *общей* (тренировочной + валидационной) выборке (pd.concat() можно использовать для объединения). Чем больше данных, тем *лучше* модели смогут обучиться (надо проверять!). И вот теперь эту дообученную модель мы уже финально проверим на тестовой выборке (test).\n",
        "\n",
        "Но следует учесть вот какой момент: нужно быть аккуратным с подобным «улучшением», если мы кодируем или масштабируем наши выборки. Например, в следующем проекте мы обучаемся на train’е, а затем делаем transform на валидации и тесте. Если после этого объединить трейн и валид, то это будет не совсем верно.\n",
        "\n",
        "p.s. а вообще, достижение высокого скора не такая простая задача. Много моментов может влиять (подбор гиперпараметров - всего лишь один из них). В этой конкретно задаче мне кажется, что данных маловато, а также, возможно и фичей (столбцов в наших данных). Из-за этого модели не могут точно \"настроиться на данные\".\n",
        "</div>"
      ]
    }
  ],
  "metadata": {
    "ExecuteTimeLog": [
      {
        "duration": 68,
        "start_time": "2023-03-19T15:55:35.495Z"
      },
      {
        "duration": 1087,
        "start_time": "2023-03-19T15:57:22.849Z"
      },
      {
        "duration": 164,
        "start_time": "2023-03-19T15:57:24.078Z"
      },
      {
        "duration": 11,
        "start_time": "2023-03-19T15:57:56.489Z"
      },
      {
        "duration": 31,
        "start_time": "2023-03-19T15:59:45.276Z"
      },
      {
        "duration": 10,
        "start_time": "2023-03-19T16:00:09.346Z"
      },
      {
        "duration": 74,
        "start_time": "2023-03-19T16:23:53.103Z"
      },
      {
        "duration": 18,
        "start_time": "2023-03-19T17:45:06.472Z"
      },
      {
        "duration": 4,
        "start_time": "2023-03-19T17:46:31.243Z"
      },
      {
        "duration": 5,
        "start_time": "2023-03-19T17:46:49.703Z"
      },
      {
        "duration": 9,
        "start_time": "2023-03-19T17:51:51.865Z"
      },
      {
        "duration": 4,
        "start_time": "2023-03-19T17:51:59.912Z"
      },
      {
        "duration": 4,
        "start_time": "2023-03-19T17:52:01.012Z"
      },
      {
        "duration": 11,
        "start_time": "2023-03-19T17:52:29.247Z"
      },
      {
        "duration": 10,
        "start_time": "2023-03-19T17:53:04.774Z"
      },
      {
        "duration": 9,
        "start_time": "2023-03-19T17:53:43.900Z"
      },
      {
        "duration": 9,
        "start_time": "2023-03-19T17:53:57.713Z"
      },
      {
        "duration": 5,
        "start_time": "2023-03-19T17:54:22.211Z"
      },
      {
        "duration": 13,
        "start_time": "2023-03-19T17:54:25.442Z"
      },
      {
        "duration": 9,
        "start_time": "2023-03-19T17:54:41.940Z"
      },
      {
        "duration": 11,
        "start_time": "2023-03-19T17:54:53.611Z"
      },
      {
        "duration": 17,
        "start_time": "2023-03-19T17:55:19.548Z"
      },
      {
        "duration": 22,
        "start_time": "2023-03-19T17:56:20.691Z"
      },
      {
        "duration": 73,
        "start_time": "2023-03-19T18:01:49.335Z"
      },
      {
        "duration": 5,
        "start_time": "2023-03-19T18:04:16.328Z"
      },
      {
        "duration": 18,
        "start_time": "2023-03-19T18:05:40.983Z"
      },
      {
        "duration": 1190,
        "start_time": "2023-03-19T18:05:58.643Z"
      },
      {
        "duration": 44,
        "start_time": "2023-03-19T18:05:59.836Z"
      },
      {
        "duration": 12,
        "start_time": "2023-03-19T18:05:59.882Z"
      },
      {
        "duration": 37,
        "start_time": "2023-03-19T18:05:59.897Z"
      },
      {
        "duration": 3,
        "start_time": "2023-03-19T18:05:59.936Z"
      },
      {
        "duration": 20,
        "start_time": "2023-03-19T18:05:59.941Z"
      },
      {
        "duration": 136,
        "start_time": "2023-03-19T18:05:59.963Z"
      },
      {
        "duration": 0,
        "start_time": "2023-03-19T18:06:00.101Z"
      },
      {
        "duration": 13,
        "start_time": "2023-03-19T18:06:04.720Z"
      },
      {
        "duration": 6,
        "start_time": "2023-03-19T18:06:14.727Z"
      },
      {
        "duration": 15,
        "start_time": "2023-03-19T18:06:24.510Z"
      },
      {
        "duration": 15,
        "start_time": "2023-03-19T18:07:16.169Z"
      },
      {
        "duration": 6,
        "start_time": "2023-03-19T18:07:33.104Z"
      },
      {
        "duration": 6,
        "start_time": "2023-03-19T18:21:09.438Z"
      },
      {
        "duration": 6,
        "start_time": "2023-03-19T18:21:18.588Z"
      },
      {
        "duration": 1079,
        "start_time": "2023-03-20T17:04:39.728Z"
      },
      {
        "duration": 76,
        "start_time": "2023-03-20T17:04:40.808Z"
      },
      {
        "duration": 10,
        "start_time": "2023-03-20T17:04:40.886Z"
      },
      {
        "duration": 31,
        "start_time": "2023-03-20T17:04:40.897Z"
      },
      {
        "duration": 12,
        "start_time": "2023-03-20T17:04:40.930Z"
      },
      {
        "duration": 25,
        "start_time": "2023-03-20T17:04:40.944Z"
      },
      {
        "duration": 8,
        "start_time": "2023-03-20T17:04:40.970Z"
      },
      {
        "duration": 492,
        "start_time": "2023-03-20T17:04:40.980Z"
      },
      {
        "duration": 74,
        "start_time": "2023-03-20T17:04:41.474Z"
      },
      {
        "duration": 0,
        "start_time": "2023-03-20T17:04:41.550Z"
      },
      {
        "duration": 1029,
        "start_time": "2023-03-20T17:05:31.238Z"
      },
      {
        "duration": 29,
        "start_time": "2023-03-20T17:05:32.269Z"
      },
      {
        "duration": 10,
        "start_time": "2023-03-20T17:05:32.300Z"
      },
      {
        "duration": 40,
        "start_time": "2023-03-20T17:05:32.312Z"
      },
      {
        "duration": 3,
        "start_time": "2023-03-20T17:05:32.354Z"
      },
      {
        "duration": 18,
        "start_time": "2023-03-20T17:05:32.359Z"
      },
      {
        "duration": 7,
        "start_time": "2023-03-20T17:05:32.378Z"
      },
      {
        "duration": 522,
        "start_time": "2023-03-20T17:05:32.386Z"
      },
      {
        "duration": 116,
        "start_time": "2023-03-20T17:05:32.910Z"
      },
      {
        "duration": 487,
        "start_time": "2023-03-20T17:06:26.701Z"
      },
      {
        "duration": 462,
        "start_time": "2023-03-20T17:07:49.671Z"
      },
      {
        "duration": 47,
        "start_time": "2023-03-20T17:09:23.218Z"
      },
      {
        "duration": 67,
        "start_time": "2023-03-20T17:10:24.720Z"
      },
      {
        "duration": 4,
        "start_time": "2023-03-20T17:12:01.300Z"
      },
      {
        "duration": 52,
        "start_time": "2023-03-20T17:12:07.315Z"
      },
      {
        "duration": 4,
        "start_time": "2023-03-20T17:13:14.507Z"
      },
      {
        "duration": 170,
        "start_time": "2023-03-20T17:13:30.305Z"
      },
      {
        "duration": 64,
        "start_time": "2023-03-20T17:18:16.988Z"
      },
      {
        "duration": 41,
        "start_time": "2023-03-20T17:31:25.247Z"
      },
      {
        "duration": 46,
        "start_time": "2023-03-20T17:31:34.445Z"
      },
      {
        "duration": 47,
        "start_time": "2023-03-20T17:31:52.403Z"
      },
      {
        "duration": 50,
        "start_time": "2023-03-20T17:32:15.413Z"
      },
      {
        "duration": 31,
        "start_time": "2023-03-20T17:36:04.969Z"
      },
      {
        "duration": 1078,
        "start_time": "2023-03-21T17:19:01.382Z"
      },
      {
        "duration": 78,
        "start_time": "2023-03-21T17:19:04.002Z"
      },
      {
        "duration": 15,
        "start_time": "2023-03-21T17:19:06.190Z"
      },
      {
        "duration": 26,
        "start_time": "2023-03-21T17:19:08.898Z"
      },
      {
        "duration": 3,
        "start_time": "2023-03-21T17:19:13.290Z"
      },
      {
        "duration": 5,
        "start_time": "2023-03-21T17:19:14.794Z"
      },
      {
        "duration": 6,
        "start_time": "2023-03-21T17:19:15.589Z"
      },
      {
        "duration": 468,
        "start_time": "2023-03-21T17:19:24.481Z"
      },
      {
        "duration": 4,
        "start_time": "2023-03-21T17:19:35.627Z"
      },
      {
        "duration": 8,
        "start_time": "2023-03-21T17:19:39.930Z"
      },
      {
        "duration": 134,
        "start_time": "2023-03-21T17:19:42.393Z"
      },
      {
        "duration": 3,
        "start_time": "2023-03-21T17:21:42.796Z"
      },
      {
        "duration": 5,
        "start_time": "2023-03-21T17:21:47.786Z"
      },
      {
        "duration": 15,
        "start_time": "2023-03-21T17:21:49.100Z"
      },
      {
        "duration": 145155,
        "start_time": "2023-03-21T17:24:01.811Z"
      },
      {
        "duration": 137,
        "start_time": "2023-03-21T17:30:04.160Z"
      },
      {
        "duration": 198,
        "start_time": "2023-03-21T17:30:36.005Z"
      },
      {
        "duration": 4,
        "start_time": "2023-03-21T17:31:55.389Z"
      },
      {
        "duration": 377,
        "start_time": "2023-03-21T17:32:00.136Z"
      },
      {
        "duration": 40667,
        "start_time": "2023-03-21T17:37:47.302Z"
      },
      {
        "duration": 9,
        "start_time": "2023-03-21T17:39:09.330Z"
      },
      {
        "duration": 1075,
        "start_time": "2023-03-21T17:40:58.862Z"
      },
      {
        "duration": 41,
        "start_time": "2023-03-21T17:40:59.941Z"
      },
      {
        "duration": 11,
        "start_time": "2023-03-21T17:41:00.791Z"
      },
      {
        "duration": 4,
        "start_time": "2023-03-21T17:41:04.985Z"
      },
      {
        "duration": 7,
        "start_time": "2023-03-21T17:41:06.727Z"
      },
      {
        "duration": 6,
        "start_time": "2023-03-21T17:41:07.389Z"
      },
      {
        "duration": 3,
        "start_time": "2023-03-21T17:41:18.032Z"
      },
      {
        "duration": 118,
        "start_time": "2023-03-21T17:41:23.135Z"
      },
      {
        "duration": 264,
        "start_time": "2023-03-21T17:41:33.633Z"
      },
      {
        "duration": 2,
        "start_time": "2023-03-21T17:41:40.190Z"
      },
      {
        "duration": 5,
        "start_time": "2023-03-21T17:41:43.190Z"
      },
      {
        "duration": 1079,
        "start_time": "2023-03-21T17:42:25.301Z"
      },
      {
        "duration": 29,
        "start_time": "2023-03-21T17:42:26.382Z"
      },
      {
        "duration": 4,
        "start_time": "2023-03-21T17:42:30.484Z"
      },
      {
        "duration": 6,
        "start_time": "2023-03-21T17:42:31.102Z"
      },
      {
        "duration": 6,
        "start_time": "2023-03-21T17:42:31.591Z"
      },
      {
        "duration": 302,
        "start_time": "2023-03-21T17:42:46.741Z"
      },
      {
        "duration": 3,
        "start_time": "2023-03-21T17:42:49.006Z"
      },
      {
        "duration": 5,
        "start_time": "2023-03-21T17:42:51.738Z"
      },
      {
        "duration": 43117,
        "start_time": "2023-03-21T17:42:54.520Z"
      },
      {
        "duration": 6,
        "start_time": "2023-03-21T17:45:01.736Z"
      },
      {
        "duration": 1107,
        "start_time": "2023-03-21T17:45:27.228Z"
      },
      {
        "duration": 37,
        "start_time": "2023-03-21T17:45:28.337Z"
      },
      {
        "duration": 11,
        "start_time": "2023-03-21T17:45:29.419Z"
      },
      {
        "duration": 3,
        "start_time": "2023-03-21T17:45:33.809Z"
      },
      {
        "duration": 6,
        "start_time": "2023-03-21T17:45:34.315Z"
      },
      {
        "duration": 5,
        "start_time": "2023-03-21T17:45:34.788Z"
      },
      {
        "duration": 296,
        "start_time": "2023-03-21T17:45:40.413Z"
      },
      {
        "duration": 2,
        "start_time": "2023-03-21T17:45:45.136Z"
      },
      {
        "duration": 4,
        "start_time": "2023-03-21T17:45:53.211Z"
      },
      {
        "duration": 45504,
        "start_time": "2023-03-21T17:46:00.558Z"
      },
      {
        "duration": 5,
        "start_time": "2023-03-21T17:46:46.064Z"
      },
      {
        "duration": 1032,
        "start_time": "2023-03-21T17:46:52.984Z"
      },
      {
        "duration": 29,
        "start_time": "2023-03-21T17:46:57.906Z"
      },
      {
        "duration": 11,
        "start_time": "2023-03-21T17:46:59.083Z"
      },
      {
        "duration": 3,
        "start_time": "2023-03-21T17:47:02.608Z"
      },
      {
        "duration": 6,
        "start_time": "2023-03-21T17:47:03.105Z"
      },
      {
        "duration": 5,
        "start_time": "2023-03-21T17:47:03.552Z"
      },
      {
        "duration": 283,
        "start_time": "2023-03-21T17:47:11.905Z"
      },
      {
        "duration": 3,
        "start_time": "2023-03-21T17:47:15.425Z"
      },
      {
        "duration": 6,
        "start_time": "2023-03-21T17:47:18.751Z"
      },
      {
        "duration": 53773,
        "start_time": "2023-03-21T17:47:20.408Z"
      },
      {
        "duration": 168,
        "start_time": "2023-03-21T17:48:27.608Z"
      },
      {
        "duration": 6,
        "start_time": "2023-03-21T17:48:53.888Z"
      },
      {
        "duration": 46171,
        "start_time": "2023-03-21T17:48:57.992Z"
      },
      {
        "duration": 279,
        "start_time": "2023-03-21T17:50:04.792Z"
      },
      {
        "duration": 4,
        "start_time": "2023-03-21T17:51:19.061Z"
      },
      {
        "duration": 44,
        "start_time": "2023-03-21T17:55:25.954Z"
      },
      {
        "duration": 58,
        "start_time": "2023-03-21T17:55:31.907Z"
      },
      {
        "duration": 201,
        "start_time": "2023-03-21T17:55:39.522Z"
      },
      {
        "duration": 126,
        "start_time": "2023-03-21T17:57:46.704Z"
      },
      {
        "duration": 111,
        "start_time": "2023-03-21T17:58:02.601Z"
      },
      {
        "duration": 238,
        "start_time": "2023-03-21T18:03:40.888Z"
      },
      {
        "duration": 345,
        "start_time": "2023-03-21T18:03:56.190Z"
      },
      {
        "duration": 327,
        "start_time": "2023-03-21T18:04:07.043Z"
      },
      {
        "duration": 331,
        "start_time": "2023-03-21T18:04:11.829Z"
      },
      {
        "duration": 759,
        "start_time": "2023-03-21T18:04:25.488Z"
      },
      {
        "duration": 239,
        "start_time": "2023-03-21T18:04:30.742Z"
      },
      {
        "duration": 4,
        "start_time": "2023-03-21T18:04:38.332Z"
      },
      {
        "duration": 40002,
        "start_time": "2023-03-21T18:06:02.932Z"
      },
      {
        "duration": 233,
        "start_time": "2023-03-21T18:07:41.119Z"
      },
      {
        "duration": 39,
        "start_time": "2023-03-21T18:40:44.730Z"
      },
      {
        "duration": 1069,
        "start_time": "2023-03-21T18:41:11.587Z"
      },
      {
        "duration": 31,
        "start_time": "2023-03-21T18:41:12.852Z"
      },
      {
        "duration": 10,
        "start_time": "2023-03-21T18:41:13.757Z"
      },
      {
        "duration": 3,
        "start_time": "2023-03-21T18:41:17.654Z"
      },
      {
        "duration": 6,
        "start_time": "2023-03-21T18:41:18.262Z"
      },
      {
        "duration": 6,
        "start_time": "2023-03-21T18:41:18.739Z"
      },
      {
        "duration": 140,
        "start_time": "2023-03-21T18:41:32.717Z"
      },
      {
        "duration": 30,
        "start_time": "2023-03-21T18:44:40.742Z"
      },
      {
        "duration": 4427,
        "start_time": "2023-03-21T18:44:58.415Z"
      },
      {
        "duration": 521,
        "start_time": "2023-03-21T18:51:12.264Z"
      },
      {
        "duration": 15,
        "start_time": "2023-03-21T19:19:47.840Z"
      },
      {
        "duration": 1207,
        "start_time": "2023-03-22T10:08:30.761Z"
      },
      {
        "duration": 81,
        "start_time": "2023-03-22T10:08:31.970Z"
      },
      {
        "duration": 13,
        "start_time": "2023-03-22T10:08:32.052Z"
      },
      {
        "duration": 29,
        "start_time": "2023-03-22T10:08:32.068Z"
      },
      {
        "duration": 4,
        "start_time": "2023-03-22T10:08:32.099Z"
      },
      {
        "duration": 7,
        "start_time": "2023-03-22T10:08:32.104Z"
      },
      {
        "duration": 8,
        "start_time": "2023-03-22T10:08:32.113Z"
      },
      {
        "duration": 165,
        "start_time": "2023-03-22T10:08:32.123Z"
      },
      {
        "duration": 0,
        "start_time": "2023-03-22T10:08:32.290Z"
      },
      {
        "duration": 0,
        "start_time": "2023-03-22T10:08:32.291Z"
      },
      {
        "duration": 0,
        "start_time": "2023-03-22T10:08:32.292Z"
      },
      {
        "duration": 0,
        "start_time": "2023-03-22T10:08:32.293Z"
      },
      {
        "duration": 0,
        "start_time": "2023-03-22T10:08:32.294Z"
      },
      {
        "duration": 0,
        "start_time": "2023-03-22T10:08:32.295Z"
      },
      {
        "duration": 0,
        "start_time": "2023-03-22T10:08:32.296Z"
      },
      {
        "duration": 0,
        "start_time": "2023-03-22T10:08:32.297Z"
      },
      {
        "duration": 1198,
        "start_time": "2023-03-22T10:50:23.038Z"
      },
      {
        "duration": 34,
        "start_time": "2023-03-22T10:50:24.238Z"
      },
      {
        "duration": 15,
        "start_time": "2023-03-22T10:50:24.274Z"
      },
      {
        "duration": 38,
        "start_time": "2023-03-22T10:50:24.292Z"
      },
      {
        "duration": 5,
        "start_time": "2023-03-22T10:50:24.332Z"
      },
      {
        "duration": 8,
        "start_time": "2023-03-22T10:50:24.338Z"
      },
      {
        "duration": 6,
        "start_time": "2023-03-22T10:50:24.376Z"
      },
      {
        "duration": 483,
        "start_time": "2023-03-22T10:50:24.384Z"
      },
      {
        "duration": 6,
        "start_time": "2023-03-22T10:50:24.869Z"
      },
      {
        "duration": 128,
        "start_time": "2023-03-22T10:50:24.877Z"
      },
      {
        "duration": 0,
        "start_time": "2023-03-22T10:50:25.007Z"
      },
      {
        "duration": 0,
        "start_time": "2023-03-22T10:50:25.008Z"
      },
      {
        "duration": 0,
        "start_time": "2023-03-22T10:50:25.009Z"
      },
      {
        "duration": 0,
        "start_time": "2023-03-22T10:50:25.010Z"
      },
      {
        "duration": 0,
        "start_time": "2023-03-22T10:50:25.011Z"
      },
      {
        "duration": 0,
        "start_time": "2023-03-22T10:50:25.012Z"
      },
      {
        "duration": 3,
        "start_time": "2023-03-22T10:52:18.708Z"
      },
      {
        "duration": 5,
        "start_time": "2023-03-22T10:52:22.831Z"
      },
      {
        "duration": 47708,
        "start_time": "2023-03-22T10:52:24.606Z"
      },
      {
        "duration": 285,
        "start_time": "2023-03-22T10:53:46.548Z"
      },
      {
        "duration": 4431,
        "start_time": "2023-03-22T10:54:05.333Z"
      },
      {
        "duration": 300,
        "start_time": "2023-03-22T10:57:35.211Z"
      },
      {
        "duration": 304,
        "start_time": "2023-03-22T10:58:22.977Z"
      },
      {
        "duration": 308,
        "start_time": "2023-03-22T10:59:48.375Z"
      },
      {
        "duration": 55087,
        "start_time": "2023-03-22T11:05:29.510Z"
      },
      {
        "duration": 1271,
        "start_time": "2023-03-22T17:35:21.249Z"
      },
      {
        "duration": 246,
        "start_time": "2023-03-22T17:35:22.522Z"
      },
      {
        "duration": 12,
        "start_time": "2023-03-22T17:35:22.770Z"
      },
      {
        "duration": 27,
        "start_time": "2023-03-22T17:35:22.784Z"
      },
      {
        "duration": 142,
        "start_time": "2023-03-22T17:35:22.813Z"
      },
      {
        "duration": 0,
        "start_time": "2023-03-22T17:35:22.957Z"
      },
      {
        "duration": 0,
        "start_time": "2023-03-22T17:35:22.958Z"
      },
      {
        "duration": 0,
        "start_time": "2023-03-22T17:35:22.959Z"
      },
      {
        "duration": 0,
        "start_time": "2023-03-22T17:35:22.960Z"
      },
      {
        "duration": 0,
        "start_time": "2023-03-22T17:35:22.961Z"
      },
      {
        "duration": 0,
        "start_time": "2023-03-22T17:35:22.962Z"
      },
      {
        "duration": 0,
        "start_time": "2023-03-22T17:35:22.964Z"
      },
      {
        "duration": 0,
        "start_time": "2023-03-22T17:35:22.965Z"
      },
      {
        "duration": 0,
        "start_time": "2023-03-22T17:35:22.966Z"
      },
      {
        "duration": 0,
        "start_time": "2023-03-22T17:35:22.966Z"
      },
      {
        "duration": 0,
        "start_time": "2023-03-22T17:35:22.968Z"
      },
      {
        "duration": 0,
        "start_time": "2023-03-22T17:35:22.968Z"
      },
      {
        "duration": 11,
        "start_time": "2023-03-22T17:35:45.044Z"
      },
      {
        "duration": 8,
        "start_time": "2023-03-22T17:35:46.662Z"
      },
      {
        "duration": 14,
        "start_time": "2023-03-22T17:35:47.255Z"
      },
      {
        "duration": 624,
        "start_time": "2023-03-22T17:36:47.150Z"
      },
      {
        "duration": 3,
        "start_time": "2023-03-22T17:39:04.843Z"
      },
      {
        "duration": 2,
        "start_time": "2023-03-22T17:40:38.278Z"
      },
      {
        "duration": 3,
        "start_time": "2023-03-22T17:40:39.372Z"
      },
      {
        "duration": 5,
        "start_time": "2023-03-22T17:40:40.093Z"
      },
      {
        "duration": 86705,
        "start_time": "2023-03-22T17:40:45.050Z"
      },
      {
        "duration": 137,
        "start_time": "2023-03-22T17:42:53.772Z"
      },
      {
        "duration": 77730,
        "start_time": "2023-03-22T17:43:05.347Z"
      },
      {
        "duration": 13,
        "start_time": "2023-03-22T17:47:55.344Z"
      },
      {
        "duration": 98303,
        "start_time": "2023-03-22T17:47:58.371Z"
      },
      {
        "duration": 1366,
        "start_time": "2023-03-22T17:49:47.282Z"
      },
      {
        "duration": 146,
        "start_time": "2023-03-22T17:49:48.661Z"
      },
      {
        "duration": 0,
        "start_time": "2023-03-22T17:49:48.809Z"
      },
      {
        "duration": 1,
        "start_time": "2023-03-22T17:49:48.883Z"
      },
      {
        "duration": 0,
        "start_time": "2023-03-22T17:49:48.885Z"
      },
      {
        "duration": 0,
        "start_time": "2023-03-22T17:49:48.886Z"
      },
      {
        "duration": 0,
        "start_time": "2023-03-22T17:49:48.887Z"
      },
      {
        "duration": 0,
        "start_time": "2023-03-22T17:49:48.889Z"
      },
      {
        "duration": 0,
        "start_time": "2023-03-22T17:49:48.890Z"
      },
      {
        "duration": 0,
        "start_time": "2023-03-22T17:49:48.892Z"
      },
      {
        "duration": 0,
        "start_time": "2023-03-22T17:49:48.894Z"
      },
      {
        "duration": 0,
        "start_time": "2023-03-22T17:49:48.895Z"
      },
      {
        "duration": 0,
        "start_time": "2023-03-22T17:49:48.896Z"
      },
      {
        "duration": 0,
        "start_time": "2023-03-22T17:49:48.898Z"
      },
      {
        "duration": 0,
        "start_time": "2023-03-22T17:49:48.899Z"
      },
      {
        "duration": 0,
        "start_time": "2023-03-22T17:49:48.901Z"
      },
      {
        "duration": 179,
        "start_time": "2023-03-22T17:50:49.148Z"
      },
      {
        "duration": 1495,
        "start_time": "2023-03-22T17:50:57.514Z"
      },
      {
        "duration": 63,
        "start_time": "2023-03-22T17:50:59.011Z"
      },
      {
        "duration": 10,
        "start_time": "2023-03-22T17:50:59.075Z"
      },
      {
        "duration": 22,
        "start_time": "2023-03-22T17:50:59.087Z"
      },
      {
        "duration": 3,
        "start_time": "2023-03-22T17:50:59.111Z"
      },
      {
        "duration": 25,
        "start_time": "2023-03-22T17:50:59.116Z"
      },
      {
        "duration": 23,
        "start_time": "2023-03-22T17:50:59.157Z"
      },
      {
        "duration": 11,
        "start_time": "2023-03-22T17:50:59.182Z"
      },
      {
        "duration": 7,
        "start_time": "2023-03-22T17:50:59.195Z"
      },
      {
        "duration": 6,
        "start_time": "2023-03-22T17:50:59.204Z"
      },
      {
        "duration": 456,
        "start_time": "2023-03-22T17:50:59.212Z"
      },
      {
        "duration": 0,
        "start_time": "2023-03-22T17:50:59.671Z"
      },
      {
        "duration": 0,
        "start_time": "2023-03-22T17:50:59.672Z"
      },
      {
        "duration": 0,
        "start_time": "2023-03-22T17:50:59.674Z"
      },
      {
        "duration": 0,
        "start_time": "2023-03-22T17:50:59.675Z"
      },
      {
        "duration": 0,
        "start_time": "2023-03-22T17:50:59.676Z"
      },
      {
        "duration": 5,
        "start_time": "2023-03-22T17:52:24.588Z"
      },
      {
        "duration": 1735,
        "start_time": "2023-03-22T17:52:30.582Z"
      },
      {
        "duration": 53,
        "start_time": "2023-03-22T17:52:32.319Z"
      },
      {
        "duration": 22,
        "start_time": "2023-03-22T17:52:32.373Z"
      },
      {
        "duration": 40,
        "start_time": "2023-03-22T17:52:32.397Z"
      },
      {
        "duration": 4,
        "start_time": "2023-03-22T17:52:32.439Z"
      },
      {
        "duration": 45,
        "start_time": "2023-03-22T17:52:32.445Z"
      },
      {
        "duration": 7,
        "start_time": "2023-03-22T17:52:32.491Z"
      },
      {
        "duration": 6,
        "start_time": "2023-03-22T17:52:32.500Z"
      },
      {
        "duration": 4,
        "start_time": "2023-03-22T17:52:32.508Z"
      },
      {
        "duration": 5,
        "start_time": "2023-03-22T17:52:32.515Z"
      },
      {
        "duration": 457,
        "start_time": "2023-03-22T17:52:32.531Z"
      },
      {
        "duration": 0,
        "start_time": "2023-03-22T17:52:32.989Z"
      },
      {
        "duration": 0,
        "start_time": "2023-03-22T17:52:32.990Z"
      },
      {
        "duration": 0,
        "start_time": "2023-03-22T17:52:32.991Z"
      },
      {
        "duration": 0,
        "start_time": "2023-03-22T17:52:32.992Z"
      },
      {
        "duration": 0,
        "start_time": "2023-03-22T17:52:32.993Z"
      },
      {
        "duration": 6,
        "start_time": "2023-03-22T17:53:36.340Z"
      },
      {
        "duration": 1484,
        "start_time": "2023-03-22T17:53:42.451Z"
      },
      {
        "duration": 43,
        "start_time": "2023-03-22T17:53:43.937Z"
      },
      {
        "duration": 12,
        "start_time": "2023-03-22T17:53:43.982Z"
      },
      {
        "duration": 21,
        "start_time": "2023-03-22T17:53:43.996Z"
      },
      {
        "duration": 15,
        "start_time": "2023-03-22T17:53:44.019Z"
      },
      {
        "duration": 46,
        "start_time": "2023-03-22T17:53:44.036Z"
      },
      {
        "duration": 14,
        "start_time": "2023-03-22T17:53:44.084Z"
      },
      {
        "duration": 5,
        "start_time": "2023-03-22T17:53:44.100Z"
      },
      {
        "duration": 8,
        "start_time": "2023-03-22T17:53:44.106Z"
      },
      {
        "duration": 16,
        "start_time": "2023-03-22T17:53:44.115Z"
      },
      {
        "duration": 83342,
        "start_time": "2023-03-22T17:53:44.151Z"
      },
      {
        "duration": 284,
        "start_time": "2023-03-22T17:55:07.494Z"
      },
      {
        "duration": 126,
        "start_time": "2023-03-22T17:55:07.780Z"
      },
      {
        "duration": 0,
        "start_time": "2023-03-22T17:55:07.907Z"
      },
      {
        "duration": 0,
        "start_time": "2023-03-22T17:55:07.909Z"
      },
      {
        "duration": 0,
        "start_time": "2023-03-22T17:55:07.909Z"
      },
      {
        "duration": 83640,
        "start_time": "2023-03-22T17:56:02.846Z"
      },
      {
        "duration": 293,
        "start_time": "2023-03-22T18:01:39.169Z"
      },
      {
        "duration": 4670,
        "start_time": "2023-03-22T18:01:52.650Z"
      },
      {
        "duration": 4340,
        "start_time": "2023-03-22T18:06:00.178Z"
      },
      {
        "duration": 38013,
        "start_time": "2023-03-22T18:06:37.395Z"
      },
      {
        "duration": 5552,
        "start_time": "2023-03-22T18:09:19.346Z"
      },
      {
        "duration": 6560,
        "start_time": "2023-03-22T18:11:40.268Z"
      },
      {
        "duration": 6283,
        "start_time": "2023-03-22T18:12:54.664Z"
      },
      {
        "duration": 6698,
        "start_time": "2023-03-22T18:14:02.168Z"
      },
      {
        "duration": 23149,
        "start_time": "2023-03-22T18:16:53.392Z"
      },
      {
        "duration": 93105,
        "start_time": "2023-03-22T18:18:51.898Z"
      },
      {
        "duration": 1475,
        "start_time": "2023-03-22T18:20:33.710Z"
      },
      {
        "duration": 29,
        "start_time": "2023-03-22T18:20:35.187Z"
      },
      {
        "duration": 18,
        "start_time": "2023-03-22T18:20:35.218Z"
      },
      {
        "duration": 72,
        "start_time": "2023-03-22T18:20:35.238Z"
      },
      {
        "duration": 3,
        "start_time": "2023-03-22T18:20:35.312Z"
      },
      {
        "duration": 20,
        "start_time": "2023-03-22T18:20:35.316Z"
      },
      {
        "duration": 64,
        "start_time": "2023-03-22T18:20:35.342Z"
      },
      {
        "duration": 70,
        "start_time": "2023-03-22T18:20:35.407Z"
      },
      {
        "duration": 6,
        "start_time": "2023-03-22T18:20:35.478Z"
      },
      {
        "duration": 5,
        "start_time": "2023-03-22T18:20:35.485Z"
      },
      {
        "duration": 361,
        "start_time": "2023-03-22T18:20:35.491Z"
      },
      {
        "duration": 0,
        "start_time": "2023-03-22T18:20:35.853Z"
      },
      {
        "duration": 0,
        "start_time": "2023-03-22T18:20:35.854Z"
      },
      {
        "duration": 0,
        "start_time": "2023-03-22T18:20:35.855Z"
      },
      {
        "duration": 0,
        "start_time": "2023-03-22T18:20:35.856Z"
      },
      {
        "duration": 311,
        "start_time": "2023-03-22T18:22:44.965Z"
      },
      {
        "duration": 313,
        "start_time": "2023-03-22T18:25:52.539Z"
      },
      {
        "duration": 86995,
        "start_time": "2023-03-22T18:29:24.020Z"
      },
      {
        "duration": 340,
        "start_time": "2023-03-22T18:31:48.656Z"
      },
      {
        "duration": 22313,
        "start_time": "2023-03-22T18:34:00.268Z"
      },
      {
        "duration": 3,
        "start_time": "2023-03-22T18:48:14.653Z"
      },
      {
        "duration": 15,
        "start_time": "2023-03-22T18:58:00.582Z"
      },
      {
        "duration": 17,
        "start_time": "2023-03-22T18:58:20.544Z"
      },
      {
        "duration": 3398,
        "start_time": "2023-03-22T18:58:39.682Z"
      },
      {
        "duration": 6,
        "start_time": "2023-03-22T19:00:00.471Z"
      },
      {
        "duration": 3252,
        "start_time": "2023-03-22T19:00:18.036Z"
      },
      {
        "duration": 1608,
        "start_time": "2023-03-23T06:24:58.618Z"
      },
      {
        "duration": 142,
        "start_time": "2023-03-23T06:25:00.229Z"
      },
      {
        "duration": 12,
        "start_time": "2023-03-23T06:25:00.373Z"
      },
      {
        "duration": 51,
        "start_time": "2023-03-23T06:25:00.387Z"
      },
      {
        "duration": 32,
        "start_time": "2023-03-23T06:25:00.440Z"
      },
      {
        "duration": 44,
        "start_time": "2023-03-23T06:25:00.474Z"
      },
      {
        "duration": 24,
        "start_time": "2023-03-23T06:25:00.519Z"
      },
      {
        "duration": 63,
        "start_time": "2023-03-23T06:25:00.544Z"
      },
      {
        "duration": 79,
        "start_time": "2023-03-23T06:25:00.609Z"
      },
      {
        "duration": 28,
        "start_time": "2023-03-23T06:25:00.690Z"
      },
      {
        "duration": 111376,
        "start_time": "2023-03-23T06:25:00.720Z"
      },
      {
        "duration": 276,
        "start_time": "2023-03-23T06:26:52.103Z"
      },
      {
        "duration": 4001,
        "start_time": "2023-03-23T06:26:52.382Z"
      },
      {
        "duration": 21106,
        "start_time": "2023-03-23T06:26:56.385Z"
      },
      {
        "duration": 186,
        "start_time": "2023-03-23T06:27:17.493Z"
      },
      {
        "duration": 0,
        "start_time": "2023-03-23T06:27:17.681Z"
      },
      {
        "duration": 118,
        "start_time": "2023-03-23T06:43:27.605Z"
      },
      {
        "duration": 41,
        "start_time": "2023-03-23T06:43:47.905Z"
      },
      {
        "duration": 61,
        "start_time": "2023-03-23T06:44:31.635Z"
      },
      {
        "duration": 5231,
        "start_time": "2023-03-23T06:44:51.554Z"
      },
      {
        "duration": 5129,
        "start_time": "2023-03-23T06:45:31.823Z"
      },
      {
        "duration": 47,
        "start_time": "2023-03-23T06:45:54.030Z"
      },
      {
        "duration": 93,
        "start_time": "2023-03-23T06:46:35.646Z"
      },
      {
        "duration": 36,
        "start_time": "2023-03-23T06:46:54.615Z"
      },
      {
        "duration": 36,
        "start_time": "2023-03-23T07:08:12.322Z"
      },
      {
        "duration": 206,
        "start_time": "2023-03-23T07:09:17.621Z"
      },
      {
        "duration": 37,
        "start_time": "2023-03-23T07:09:29.668Z"
      },
      {
        "duration": 33,
        "start_time": "2023-03-23T07:10:09.403Z"
      },
      {
        "duration": 229,
        "start_time": "2023-03-23T07:10:12.966Z"
      },
      {
        "duration": 347,
        "start_time": "2023-03-23T07:16:00.526Z"
      },
      {
        "duration": 17,
        "start_time": "2023-03-23T07:20:32.027Z"
      },
      {
        "duration": 11,
        "start_time": "2023-03-23T07:21:22.331Z"
      },
      {
        "duration": 13,
        "start_time": "2023-03-23T07:22:26.735Z"
      },
      {
        "duration": 30,
        "start_time": "2023-03-23T07:22:36.457Z"
      },
      {
        "duration": 78,
        "start_time": "2023-03-23T07:24:52.756Z"
      },
      {
        "duration": 54,
        "start_time": "2023-03-23T07:25:24.769Z"
      },
      {
        "duration": 615,
        "start_time": "2023-03-23T07:26:32.045Z"
      },
      {
        "duration": 594,
        "start_time": "2023-03-23T07:28:12.135Z"
      },
      {
        "duration": 702,
        "start_time": "2023-03-23T07:28:36.469Z"
      },
      {
        "duration": 1632,
        "start_time": "2023-03-23T10:23:19.259Z"
      },
      {
        "duration": 88,
        "start_time": "2023-03-23T10:23:20.893Z"
      },
      {
        "duration": 19,
        "start_time": "2023-03-23T10:23:20.983Z"
      },
      {
        "duration": 45,
        "start_time": "2023-03-23T10:23:21.005Z"
      },
      {
        "duration": 4,
        "start_time": "2023-03-23T10:23:21.052Z"
      },
      {
        "duration": 20,
        "start_time": "2023-03-23T10:23:21.058Z"
      },
      {
        "duration": 6,
        "start_time": "2023-03-23T10:23:21.080Z"
      },
      {
        "duration": 19,
        "start_time": "2023-03-23T10:23:21.088Z"
      },
      {
        "duration": 10,
        "start_time": "2023-03-23T10:23:21.110Z"
      },
      {
        "duration": 13,
        "start_time": "2023-03-23T10:23:21.124Z"
      },
      {
        "duration": 47415,
        "start_time": "2023-03-23T10:23:21.140Z"
      },
      {
        "duration": 283,
        "start_time": "2023-03-23T10:24:08.557Z"
      },
      {
        "duration": 4335,
        "start_time": "2023-03-23T10:24:08.843Z"
      },
      {
        "duration": 38,
        "start_time": "2023-03-23T10:24:13.180Z"
      },
      {
        "duration": 264,
        "start_time": "2023-03-23T10:24:13.220Z"
      },
      {
        "duration": 792,
        "start_time": "2023-03-23T10:24:13.485Z"
      },
      {
        "duration": 21571,
        "start_time": "2023-03-23T10:24:14.278Z"
      },
      {
        "duration": 166,
        "start_time": "2023-03-23T10:24:35.851Z"
      },
      {
        "duration": 0,
        "start_time": "2023-03-23T10:24:36.019Z"
      },
      {
        "duration": 62,
        "start_time": "2023-03-23T10:27:43.028Z"
      },
      {
        "duration": 25,
        "start_time": "2023-03-23T10:29:41.595Z"
      },
      {
        "duration": 17,
        "start_time": "2023-03-23T10:30:22.371Z"
      },
      {
        "duration": 44,
        "start_time": "2023-03-23T10:30:35.588Z"
      },
      {
        "duration": 59,
        "start_time": "2023-03-23T10:30:45.493Z"
      },
      {
        "duration": 70,
        "start_time": "2023-03-23T10:30:51.836Z"
      },
      {
        "duration": 19,
        "start_time": "2023-03-23T10:30:56.665Z"
      },
      {
        "duration": 45,
        "start_time": "2023-03-23T10:40:58.545Z"
      },
      {
        "duration": 4,
        "start_time": "2023-03-23T10:43:49.623Z"
      },
      {
        "duration": 5,
        "start_time": "2023-03-23T10:43:59.129Z"
      },
      {
        "duration": 97,
        "start_time": "2023-03-23T10:44:42.125Z"
      },
      {
        "duration": 52,
        "start_time": "2023-03-23T10:45:06.130Z"
      },
      {
        "duration": 1216,
        "start_time": "2023-03-23T10:45:19.766Z"
      },
      {
        "duration": 25,
        "start_time": "2023-03-23T10:50:15.557Z"
      },
      {
        "duration": 1317,
        "start_time": "2023-03-23T10:50:31.564Z"
      },
      {
        "duration": 1209,
        "start_time": "2023-03-23T10:50:40.528Z"
      },
      {
        "duration": 1090,
        "start_time": "2023-03-23T10:50:43.922Z"
      },
      {
        "duration": 1454,
        "start_time": "2023-03-23T10:51:51.469Z"
      },
      {
        "duration": 5,
        "start_time": "2023-03-23T10:52:38.294Z"
      },
      {
        "duration": 97,
        "start_time": "2023-03-23T10:53:15.616Z"
      },
      {
        "duration": 5,
        "start_time": "2023-03-23T10:53:34.732Z"
      },
      {
        "duration": 20,
        "start_time": "2023-03-23T10:53:40.526Z"
      },
      {
        "duration": 12,
        "start_time": "2023-03-23T10:53:48.669Z"
      },
      {
        "duration": 10,
        "start_time": "2023-03-23T10:54:54.213Z"
      },
      {
        "duration": 11,
        "start_time": "2023-03-23T10:55:12.383Z"
      },
      {
        "duration": 575,
        "start_time": "2023-03-23T10:55:41.781Z"
      },
      {
        "duration": 662,
        "start_time": "2023-03-23T10:55:56.121Z"
      },
      {
        "duration": 1446,
        "start_time": "2023-03-23T11:01:46.971Z"
      },
      {
        "duration": 32,
        "start_time": "2023-03-23T11:01:48.419Z"
      },
      {
        "duration": 14,
        "start_time": "2023-03-23T11:01:48.453Z"
      },
      {
        "duration": 33,
        "start_time": "2023-03-23T11:01:48.469Z"
      },
      {
        "duration": 4,
        "start_time": "2023-03-23T11:01:48.505Z"
      },
      {
        "duration": 6,
        "start_time": "2023-03-23T11:01:48.511Z"
      },
      {
        "duration": 23,
        "start_time": "2023-03-23T11:01:48.519Z"
      },
      {
        "duration": 3,
        "start_time": "2023-03-23T11:01:48.544Z"
      },
      {
        "duration": 5,
        "start_time": "2023-03-23T11:01:48.550Z"
      },
      {
        "duration": 9,
        "start_time": "2023-03-23T11:01:48.557Z"
      },
      {
        "duration": 61277,
        "start_time": "2023-03-23T11:01:48.568Z"
      },
      {
        "duration": 279,
        "start_time": "2023-03-23T11:02:49.847Z"
      },
      {
        "duration": 3401,
        "start_time": "2023-03-23T11:02:50.128Z"
      },
      {
        "duration": 36,
        "start_time": "2023-03-23T11:02:53.532Z"
      },
      {
        "duration": 296,
        "start_time": "2023-03-23T11:02:53.570Z"
      },
      {
        "duration": 550,
        "start_time": "2023-03-23T11:02:53.868Z"
      },
      {
        "duration": 588,
        "start_time": "2023-03-23T11:02:54.420Z"
      },
      {
        "duration": 22752,
        "start_time": "2023-03-23T11:02:55.010Z"
      },
      {
        "duration": 156,
        "start_time": "2023-03-23T11:03:17.763Z"
      },
      {
        "duration": 0,
        "start_time": "2023-03-23T11:03:17.920Z"
      },
      {
        "duration": 1568,
        "start_time": "2023-03-23T15:49:10.382Z"
      },
      {
        "duration": 73,
        "start_time": "2023-03-23T15:49:11.952Z"
      },
      {
        "duration": 13,
        "start_time": "2023-03-23T15:49:12.026Z"
      },
      {
        "duration": 23,
        "start_time": "2023-03-23T15:49:12.041Z"
      },
      {
        "duration": 3,
        "start_time": "2023-03-23T15:49:12.066Z"
      },
      {
        "duration": 8,
        "start_time": "2023-03-23T15:49:12.071Z"
      },
      {
        "duration": 4,
        "start_time": "2023-03-23T15:49:12.080Z"
      },
      {
        "duration": 23,
        "start_time": "2023-03-23T15:49:12.086Z"
      },
      {
        "duration": 18,
        "start_time": "2023-03-23T15:49:12.111Z"
      },
      {
        "duration": 16,
        "start_time": "2023-03-23T15:49:12.131Z"
      },
      {
        "duration": 77933,
        "start_time": "2023-03-23T15:49:12.148Z"
      },
      {
        "duration": 236,
        "start_time": "2023-03-23T15:50:30.083Z"
      },
      {
        "duration": 2752,
        "start_time": "2023-03-23T15:50:30.321Z"
      },
      {
        "duration": 30,
        "start_time": "2023-03-23T15:50:33.075Z"
      },
      {
        "duration": 283,
        "start_time": "2023-03-23T15:50:33.106Z"
      },
      {
        "duration": 440,
        "start_time": "2023-03-23T15:50:33.391Z"
      },
      {
        "duration": 460,
        "start_time": "2023-03-23T15:50:33.833Z"
      },
      {
        "duration": 17655,
        "start_time": "2023-03-23T15:50:34.295Z"
      },
      {
        "duration": 127,
        "start_time": "2023-03-23T15:50:51.952Z"
      },
      {
        "duration": 0,
        "start_time": "2023-03-23T15:50:52.081Z"
      },
      {
        "duration": 6,
        "start_time": "2023-03-23T15:51:51.414Z"
      },
      {
        "duration": 43093,
        "start_time": "2023-03-23T15:51:54.787Z"
      },
      {
        "duration": 232,
        "start_time": "2023-03-23T16:06:19.475Z"
      },
      {
        "duration": 21,
        "start_time": "2023-03-23T16:09:08.603Z"
      },
      {
        "duration": 451,
        "start_time": "2023-03-23T16:11:44.044Z"
      },
      {
        "duration": 453,
        "start_time": "2023-03-23T16:13:34.997Z"
      },
      {
        "duration": 431,
        "start_time": "2023-03-23T16:31:21.912Z"
      },
      {
        "duration": 432,
        "start_time": "2023-03-23T16:32:03.394Z"
      },
      {
        "duration": 414,
        "start_time": "2023-03-23T16:32:52.687Z"
      },
      {
        "duration": 430,
        "start_time": "2023-03-23T16:33:24.726Z"
      },
      {
        "duration": 431,
        "start_time": "2023-03-23T16:34:42.668Z"
      },
      {
        "duration": 469,
        "start_time": "2023-03-23T16:34:58.265Z"
      },
      {
        "duration": 491,
        "start_time": "2023-03-23T16:35:16.455Z"
      },
      {
        "duration": 231,
        "start_time": "2023-03-23T16:38:46.049Z"
      },
      {
        "duration": 9,
        "start_time": "2023-03-23T16:39:02.250Z"
      },
      {
        "duration": 16,
        "start_time": "2023-03-23T16:39:38.233Z"
      },
      {
        "duration": 10,
        "start_time": "2023-03-23T16:40:18.273Z"
      },
      {
        "duration": 15,
        "start_time": "2023-03-23T16:41:57.531Z"
      },
      {
        "duration": 8,
        "start_time": "2023-03-23T16:44:20.484Z"
      },
      {
        "duration": 59,
        "start_time": "2023-03-23T16:44:46.765Z"
      },
      {
        "duration": 17544,
        "start_time": "2023-03-23T16:45:48.173Z"
      },
      {
        "duration": 97,
        "start_time": "2023-03-23T16:51:26.923Z"
      },
      {
        "duration": 91,
        "start_time": "2023-03-23T16:52:00.944Z"
      },
      {
        "duration": 103,
        "start_time": "2023-03-23T16:53:53.593Z"
      },
      {
        "duration": 116,
        "start_time": "2023-03-23T16:55:13.867Z"
      },
      {
        "duration": 108,
        "start_time": "2023-03-23T16:56:30.821Z"
      },
      {
        "duration": 1209,
        "start_time": "2023-03-23T16:59:42.027Z"
      },
      {
        "duration": 30,
        "start_time": "2023-03-23T16:59:43.238Z"
      },
      {
        "duration": 9,
        "start_time": "2023-03-23T16:59:43.273Z"
      },
      {
        "duration": 26,
        "start_time": "2023-03-23T16:59:43.283Z"
      },
      {
        "duration": 3,
        "start_time": "2023-03-23T16:59:43.311Z"
      },
      {
        "duration": 6,
        "start_time": "2023-03-23T16:59:43.316Z"
      },
      {
        "duration": 9,
        "start_time": "2023-03-23T16:59:43.324Z"
      },
      {
        "duration": 3,
        "start_time": "2023-03-23T16:59:43.334Z"
      },
      {
        "duration": 4,
        "start_time": "2023-03-23T16:59:43.339Z"
      },
      {
        "duration": 5,
        "start_time": "2023-03-23T16:59:43.368Z"
      },
      {
        "duration": 49847,
        "start_time": "2023-03-23T16:59:43.375Z"
      },
      {
        "duration": 253,
        "start_time": "2023-03-23T17:00:33.224Z"
      },
      {
        "duration": 3291,
        "start_time": "2023-03-23T17:00:33.478Z"
      },
      {
        "duration": 19,
        "start_time": "2023-03-23T17:00:36.771Z"
      },
      {
        "duration": 188,
        "start_time": "2023-03-23T17:00:36.791Z"
      },
      {
        "duration": 558,
        "start_time": "2023-03-23T17:00:36.981Z"
      },
      {
        "duration": 448,
        "start_time": "2023-03-23T17:00:37.541Z"
      },
      {
        "duration": 9,
        "start_time": "2023-03-23T17:00:37.990Z"
      },
      {
        "duration": 9,
        "start_time": "2023-03-23T17:00:38.000Z"
      },
      {
        "duration": 9,
        "start_time": "2023-03-23T17:00:38.011Z"
      },
      {
        "duration": 17201,
        "start_time": "2023-03-23T17:00:38.021Z"
      },
      {
        "duration": 46,
        "start_time": "2023-03-23T17:00:55.223Z"
      },
      {
        "duration": 0,
        "start_time": "2023-03-23T17:00:55.271Z"
      },
      {
        "duration": 0,
        "start_time": "2023-03-23T17:00:55.272Z"
      },
      {
        "duration": 0,
        "start_time": "2023-03-23T17:00:55.273Z"
      },
      {
        "duration": 0,
        "start_time": "2023-03-23T17:00:55.274Z"
      },
      {
        "duration": 0,
        "start_time": "2023-03-23T17:00:55.275Z"
      },
      {
        "duration": 0,
        "start_time": "2023-03-23T17:00:55.276Z"
      },
      {
        "duration": 87,
        "start_time": "2023-03-23T17:02:09.446Z"
      },
      {
        "duration": 116,
        "start_time": "2023-03-23T17:02:11.393Z"
      },
      {
        "duration": 89,
        "start_time": "2023-03-23T17:02:15.917Z"
      },
      {
        "duration": 128,
        "start_time": "2023-03-23T17:02:17.861Z"
      },
      {
        "duration": 88,
        "start_time": "2023-03-23T17:02:32.097Z"
      },
      {
        "duration": 99,
        "start_time": "2023-03-23T17:02:46.492Z"
      },
      {
        "duration": 11,
        "start_time": "2023-03-23T17:04:07.968Z"
      },
      {
        "duration": 13,
        "start_time": "2023-03-23T17:04:25.317Z"
      },
      {
        "duration": 9,
        "start_time": "2023-03-23T17:04:34.710Z"
      },
      {
        "duration": 29,
        "start_time": "2023-03-23T17:06:56.321Z"
      },
      {
        "duration": 32,
        "start_time": "2023-03-23T17:22:53.871Z"
      },
      {
        "duration": 13,
        "start_time": "2023-03-23T17:25:01.801Z"
      },
      {
        "duration": 86,
        "start_time": "2023-03-23T17:27:14.821Z"
      },
      {
        "duration": 12,
        "start_time": "2023-03-23T17:33:49.422Z"
      },
      {
        "duration": 3,
        "start_time": "2023-03-23T17:52:49.005Z"
      },
      {
        "duration": 4,
        "start_time": "2023-03-23T17:53:50.880Z"
      },
      {
        "duration": 4,
        "start_time": "2023-03-23T17:56:27.094Z"
      },
      {
        "duration": 6,
        "start_time": "2023-03-23T17:56:48.881Z"
      },
      {
        "duration": 1191,
        "start_time": "2023-03-23T17:59:05.481Z"
      },
      {
        "duration": 28,
        "start_time": "2023-03-23T17:59:06.674Z"
      },
      {
        "duration": 10,
        "start_time": "2023-03-23T17:59:06.703Z"
      },
      {
        "duration": 23,
        "start_time": "2023-03-23T17:59:06.715Z"
      },
      {
        "duration": 3,
        "start_time": "2023-03-23T17:59:06.739Z"
      },
      {
        "duration": 15,
        "start_time": "2023-03-23T17:59:06.743Z"
      },
      {
        "duration": 14,
        "start_time": "2023-03-23T17:59:06.759Z"
      },
      {
        "duration": 6,
        "start_time": "2023-03-23T17:59:06.774Z"
      },
      {
        "duration": 10,
        "start_time": "2023-03-23T17:59:06.781Z"
      },
      {
        "duration": 11,
        "start_time": "2023-03-23T17:59:06.793Z"
      },
      {
        "duration": 37492,
        "start_time": "2023-03-23T17:59:06.805Z"
      },
      {
        "duration": 235,
        "start_time": "2023-03-23T17:59:44.299Z"
      },
      {
        "duration": 3238,
        "start_time": "2023-03-23T17:59:44.535Z"
      },
      {
        "duration": 45,
        "start_time": "2023-03-23T17:59:47.775Z"
      },
      {
        "duration": 179,
        "start_time": "2023-03-23T17:59:47.822Z"
      },
      {
        "duration": 546,
        "start_time": "2023-03-23T17:59:48.002Z"
      },
      {
        "duration": 454,
        "start_time": "2023-03-23T17:59:48.550Z"
      },
      {
        "duration": 10,
        "start_time": "2023-03-23T17:59:49.005Z"
      },
      {
        "duration": 15,
        "start_time": "2023-03-23T17:59:49.017Z"
      },
      {
        "duration": 9,
        "start_time": "2023-03-23T17:59:49.034Z"
      },
      {
        "duration": 17368,
        "start_time": "2023-03-23T17:59:49.045Z"
      },
      {
        "duration": 90,
        "start_time": "2023-03-23T18:00:06.415Z"
      },
      {
        "duration": 106,
        "start_time": "2023-03-23T18:00:06.507Z"
      },
      {
        "duration": 118,
        "start_time": "2023-03-23T18:00:06.615Z"
      },
      {
        "duration": 93,
        "start_time": "2023-03-23T18:00:06.734Z"
      },
      {
        "duration": 29,
        "start_time": "2023-03-23T18:00:06.829Z"
      },
      {
        "duration": 10,
        "start_time": "2023-03-23T18:00:06.868Z"
      },
      {
        "duration": 95,
        "start_time": "2023-03-23T18:00:06.881Z"
      },
      {
        "duration": 104,
        "start_time": "2023-03-23T18:00:06.978Z"
      },
      {
        "duration": 5,
        "start_time": "2023-03-23T18:02:29.560Z"
      },
      {
        "duration": 2684,
        "start_time": "2023-03-24T05:57:52.989Z"
      },
      {
        "duration": 177,
        "start_time": "2023-03-24T05:57:55.675Z"
      },
      {
        "duration": 14,
        "start_time": "2023-03-24T05:57:55.854Z"
      },
      {
        "duration": 34,
        "start_time": "2023-03-24T05:57:55.870Z"
      },
      {
        "duration": 5,
        "start_time": "2023-03-24T05:57:55.907Z"
      },
      {
        "duration": 26,
        "start_time": "2023-03-24T05:57:55.915Z"
      },
      {
        "duration": 7,
        "start_time": "2023-03-24T05:57:55.943Z"
      },
      {
        "duration": 8,
        "start_time": "2023-03-24T05:57:55.952Z"
      },
      {
        "duration": 6,
        "start_time": "2023-03-24T05:57:55.962Z"
      },
      {
        "duration": 7,
        "start_time": "2023-03-24T05:57:55.970Z"
      },
      {
        "duration": 57609,
        "start_time": "2023-03-24T05:57:55.980Z"
      },
      {
        "duration": 311,
        "start_time": "2023-03-24T05:58:53.591Z"
      },
      {
        "duration": 4550,
        "start_time": "2023-03-24T05:58:53.904Z"
      },
      {
        "duration": 44,
        "start_time": "2023-03-24T05:58:58.458Z"
      },
      {
        "duration": 247,
        "start_time": "2023-03-24T05:58:58.504Z"
      },
      {
        "duration": 689,
        "start_time": "2023-03-24T05:58:58.753Z"
      },
      {
        "duration": 559,
        "start_time": "2023-03-24T05:58:59.444Z"
      },
      {
        "duration": 30,
        "start_time": "2023-03-24T05:59:00.006Z"
      },
      {
        "duration": 52,
        "start_time": "2023-03-24T05:59:00.039Z"
      },
      {
        "duration": 45,
        "start_time": "2023-03-24T05:59:00.093Z"
      },
      {
        "duration": 24754,
        "start_time": "2023-03-24T05:59:00.140Z"
      },
      {
        "duration": 131,
        "start_time": "2023-03-24T05:59:24.898Z"
      },
      {
        "duration": 157,
        "start_time": "2023-03-24T05:59:25.034Z"
      },
      {
        "duration": 174,
        "start_time": "2023-03-24T05:59:25.193Z"
      },
      {
        "duration": 129,
        "start_time": "2023-03-24T05:59:25.369Z"
      },
      {
        "duration": 58,
        "start_time": "2023-03-24T05:59:25.500Z"
      },
      {
        "duration": 14,
        "start_time": "2023-03-24T05:59:25.560Z"
      },
      {
        "duration": 138,
        "start_time": "2023-03-24T05:59:25.576Z"
      },
      {
        "duration": 6,
        "start_time": "2023-03-24T05:59:25.716Z"
      },
      {
        "duration": 50,
        "start_time": "2023-03-24T17:55:58.399Z"
      },
      {
        "duration": 1476,
        "start_time": "2023-03-24T18:28:49.058Z"
      },
      {
        "duration": 77,
        "start_time": "2023-03-24T18:28:50.536Z"
      },
      {
        "duration": 13,
        "start_time": "2023-03-24T18:28:50.616Z"
      },
      {
        "duration": 23,
        "start_time": "2023-03-24T18:28:50.631Z"
      },
      {
        "duration": 4,
        "start_time": "2023-03-24T18:28:50.655Z"
      },
      {
        "duration": 10,
        "start_time": "2023-03-24T18:28:50.661Z"
      },
      {
        "duration": 17,
        "start_time": "2023-03-24T18:28:50.673Z"
      },
      {
        "duration": 3,
        "start_time": "2023-03-24T18:28:50.692Z"
      },
      {
        "duration": 8,
        "start_time": "2023-03-24T18:28:50.697Z"
      },
      {
        "duration": 6,
        "start_time": "2023-03-24T18:28:50.708Z"
      },
      {
        "duration": 195,
        "start_time": "2023-03-24T18:28:50.716Z"
      },
      {
        "duration": 0,
        "start_time": "2023-03-24T18:28:50.912Z"
      },
      {
        "duration": 0,
        "start_time": "2023-03-24T18:28:50.914Z"
      },
      {
        "duration": 0,
        "start_time": "2023-03-24T18:28:50.914Z"
      },
      {
        "duration": 0,
        "start_time": "2023-03-24T18:28:50.915Z"
      },
      {
        "duration": 0,
        "start_time": "2023-03-24T18:28:50.917Z"
      },
      {
        "duration": 0,
        "start_time": "2023-03-24T18:28:50.918Z"
      },
      {
        "duration": 0,
        "start_time": "2023-03-24T18:28:50.919Z"
      },
      {
        "duration": 0,
        "start_time": "2023-03-24T18:28:50.920Z"
      },
      {
        "duration": 0,
        "start_time": "2023-03-24T18:28:50.921Z"
      },
      {
        "duration": 0,
        "start_time": "2023-03-24T18:28:50.940Z"
      },
      {
        "duration": 1,
        "start_time": "2023-03-24T18:28:50.940Z"
      },
      {
        "duration": 0,
        "start_time": "2023-03-24T18:28:50.942Z"
      },
      {
        "duration": 0,
        "start_time": "2023-03-24T18:28:50.943Z"
      },
      {
        "duration": 0,
        "start_time": "2023-03-24T18:28:50.944Z"
      },
      {
        "duration": 0,
        "start_time": "2023-03-24T18:28:50.945Z"
      },
      {
        "duration": 0,
        "start_time": "2023-03-24T18:28:50.946Z"
      },
      {
        "duration": 0,
        "start_time": "2023-03-24T18:28:50.947Z"
      },
      {
        "duration": 0,
        "start_time": "2023-03-24T18:28:50.948Z"
      },
      {
        "duration": 14,
        "start_time": "2023-03-24T18:36:26.543Z"
      },
      {
        "duration": 17,
        "start_time": "2023-03-24T18:36:41.774Z"
      },
      {
        "duration": 3,
        "start_time": "2023-03-24T18:40:34.280Z"
      },
      {
        "duration": 3,
        "start_time": "2023-03-24T18:40:36.824Z"
      },
      {
        "duration": 5,
        "start_time": "2023-03-24T18:40:38.113Z"
      },
      {
        "duration": 50627,
        "start_time": "2023-03-24T18:40:40.843Z"
      },
      {
        "duration": 1340,
        "start_time": "2023-03-24T18:43:38.494Z"
      },
      {
        "duration": 29,
        "start_time": "2023-03-24T18:43:39.836Z"
      },
      {
        "duration": 10,
        "start_time": "2023-03-24T18:43:39.867Z"
      },
      {
        "duration": 23,
        "start_time": "2023-03-24T18:43:39.878Z"
      },
      {
        "duration": 3,
        "start_time": "2023-03-24T18:43:39.902Z"
      },
      {
        "duration": 6,
        "start_time": "2023-03-24T18:43:39.907Z"
      },
      {
        "duration": 5,
        "start_time": "2023-03-24T18:43:39.914Z"
      },
      {
        "duration": 4,
        "start_time": "2023-03-24T18:43:39.921Z"
      },
      {
        "duration": 3,
        "start_time": "2023-03-24T18:43:39.927Z"
      },
      {
        "duration": 5,
        "start_time": "2023-03-24T18:43:39.942Z"
      },
      {
        "duration": 40935,
        "start_time": "2023-03-24T18:43:39.949Z"
      },
      {
        "duration": 273,
        "start_time": "2023-03-24T18:44:20.886Z"
      },
      {
        "duration": 2852,
        "start_time": "2023-03-24T18:44:21.162Z"
      },
      {
        "duration": 37,
        "start_time": "2023-03-24T18:44:24.016Z"
      },
      {
        "duration": 163,
        "start_time": "2023-03-24T18:44:24.055Z"
      },
      {
        "duration": 508,
        "start_time": "2023-03-24T18:44:24.220Z"
      },
      {
        "duration": 532,
        "start_time": "2023-03-24T18:44:24.730Z"
      },
      {
        "duration": 12,
        "start_time": "2023-03-24T18:44:25.264Z"
      },
      {
        "duration": 13,
        "start_time": "2023-03-24T18:44:25.277Z"
      },
      {
        "duration": 144,
        "start_time": "2023-03-24T18:44:25.291Z"
      },
      {
        "duration": 0,
        "start_time": "2023-03-24T18:44:25.436Z"
      },
      {
        "duration": 0,
        "start_time": "2023-03-24T18:44:25.440Z"
      },
      {
        "duration": 0,
        "start_time": "2023-03-24T18:44:25.441Z"
      },
      {
        "duration": 0,
        "start_time": "2023-03-24T18:44:25.442Z"
      },
      {
        "duration": 0,
        "start_time": "2023-03-24T18:44:25.443Z"
      },
      {
        "duration": 0,
        "start_time": "2023-03-24T18:44:25.444Z"
      },
      {
        "duration": 0,
        "start_time": "2023-03-24T18:44:25.445Z"
      },
      {
        "duration": 0,
        "start_time": "2023-03-24T18:44:25.446Z"
      },
      {
        "duration": 0,
        "start_time": "2023-03-24T18:44:25.447Z"
      },
      {
        "duration": 10,
        "start_time": "2023-03-24T18:47:32.791Z"
      },
      {
        "duration": 1360,
        "start_time": "2023-03-24T18:47:48.261Z"
      },
      {
        "duration": 29,
        "start_time": "2023-03-24T18:47:49.624Z"
      },
      {
        "duration": 11,
        "start_time": "2023-03-24T18:47:49.655Z"
      },
      {
        "duration": 23,
        "start_time": "2023-03-24T18:47:49.669Z"
      },
      {
        "duration": 3,
        "start_time": "2023-03-24T18:47:49.695Z"
      },
      {
        "duration": 7,
        "start_time": "2023-03-24T18:47:49.700Z"
      },
      {
        "duration": 5,
        "start_time": "2023-03-24T18:47:49.709Z"
      },
      {
        "duration": 24,
        "start_time": "2023-03-24T18:47:49.716Z"
      },
      {
        "duration": 4,
        "start_time": "2023-03-24T18:47:49.742Z"
      },
      {
        "duration": 9,
        "start_time": "2023-03-24T18:47:49.749Z"
      },
      {
        "duration": 50327,
        "start_time": "2023-03-24T18:47:49.760Z"
      },
      {
        "duration": 293,
        "start_time": "2023-03-24T18:48:40.089Z"
      },
      {
        "duration": 3257,
        "start_time": "2023-03-24T18:48:40.385Z"
      },
      {
        "duration": 32,
        "start_time": "2023-03-24T18:48:43.644Z"
      },
      {
        "duration": 193,
        "start_time": "2023-03-24T18:48:43.677Z"
      },
      {
        "duration": 526,
        "start_time": "2023-03-24T18:48:43.872Z"
      },
      {
        "duration": 581,
        "start_time": "2023-03-24T18:48:44.399Z"
      },
      {
        "duration": 13,
        "start_time": "2023-03-24T18:48:44.982Z"
      },
      {
        "duration": 15,
        "start_time": "2023-03-24T18:48:44.997Z"
      },
      {
        "duration": 35,
        "start_time": "2023-03-24T18:48:45.013Z"
      },
      {
        "duration": 151,
        "start_time": "2023-03-24T18:48:45.050Z"
      },
      {
        "duration": 0,
        "start_time": "2023-03-24T18:48:45.204Z"
      },
      {
        "duration": 0,
        "start_time": "2023-03-24T18:48:45.205Z"
      },
      {
        "duration": 0,
        "start_time": "2023-03-24T18:48:45.206Z"
      },
      {
        "duration": 0,
        "start_time": "2023-03-24T18:48:45.208Z"
      },
      {
        "duration": 0,
        "start_time": "2023-03-24T18:48:45.209Z"
      },
      {
        "duration": 0,
        "start_time": "2023-03-24T18:48:45.211Z"
      },
      {
        "duration": 0,
        "start_time": "2023-03-24T18:48:45.213Z"
      },
      {
        "duration": 0,
        "start_time": "2023-03-24T18:48:45.214Z"
      },
      {
        "duration": 21906,
        "start_time": "2023-03-24T18:54:21.595Z"
      },
      {
        "duration": 112,
        "start_time": "2023-03-24T18:54:49.469Z"
      },
      {
        "duration": 100,
        "start_time": "2023-03-24T18:55:32.771Z"
      },
      {
        "duration": 117,
        "start_time": "2023-03-24T18:55:51.699Z"
      },
      {
        "duration": 136,
        "start_time": "2023-03-24T18:56:03.044Z"
      },
      {
        "duration": 120,
        "start_time": "2023-03-24T18:56:15.970Z"
      },
      {
        "duration": 26,
        "start_time": "2023-03-24T18:56:40.443Z"
      },
      {
        "duration": 15,
        "start_time": "2023-03-24T18:56:44.853Z"
      },
      {
        "duration": 151,
        "start_time": "2023-03-24T18:56:46.875Z"
      },
      {
        "duration": 613,
        "start_time": "2023-03-24T18:57:35.669Z"
      },
      {
        "duration": 11,
        "start_time": "2023-03-24T18:58:01.812Z"
      },
      {
        "duration": 13,
        "start_time": "2023-03-24T18:58:16.844Z"
      },
      {
        "duration": 162,
        "start_time": "2023-03-24T18:58:27.973Z"
      },
      {
        "duration": 532,
        "start_time": "2023-03-24T18:58:50.670Z"
      },
      {
        "duration": 508,
        "start_time": "2023-03-24T18:58:58.862Z"
      },
      {
        "duration": 10,
        "start_time": "2023-03-24T18:59:11.158Z"
      },
      {
        "duration": 11,
        "start_time": "2023-03-24T18:59:17.631Z"
      },
      {
        "duration": 11,
        "start_time": "2023-03-24T18:59:26.020Z"
      },
      {
        "duration": 11,
        "start_time": "2023-03-24T18:59:37.678Z"
      },
      {
        "duration": 302,
        "start_time": "2023-03-24T19:00:19.726Z"
      },
      {
        "duration": 339,
        "start_time": "2023-03-24T19:00:32.286Z"
      },
      {
        "duration": 408,
        "start_time": "2023-03-24T19:00:50.282Z"
      },
      {
        "duration": 18,
        "start_time": "2023-03-24T19:10:47.698Z"
      },
      {
        "duration": 695,
        "start_time": "2023-03-24T19:10:58.476Z"
      },
      {
        "duration": 18,
        "start_time": "2023-03-24T19:11:38.494Z"
      },
      {
        "duration": 19,
        "start_time": "2023-03-24T19:12:08.437Z"
      },
      {
        "duration": 162,
        "start_time": "2023-03-24T19:12:17.803Z"
      },
      {
        "duration": 601,
        "start_time": "2023-03-24T19:12:51.033Z"
      },
      {
        "duration": 515,
        "start_time": "2023-03-24T19:13:23.503Z"
      },
      {
        "duration": 12,
        "start_time": "2023-03-24T19:13:45.074Z"
      },
      {
        "duration": 12,
        "start_time": "2023-03-24T19:13:49.633Z"
      },
      {
        "duration": 13,
        "start_time": "2023-03-24T19:14:08.579Z"
      },
      {
        "duration": 12,
        "start_time": "2023-03-24T19:14:31.568Z"
      },
      {
        "duration": 20994,
        "start_time": "2023-03-24T19:14:46.689Z"
      },
      {
        "duration": 1648,
        "start_time": "2023-03-25T05:38:44.015Z"
      },
      {
        "duration": 138,
        "start_time": "2023-03-25T05:38:45.665Z"
      },
      {
        "duration": 16,
        "start_time": "2023-03-25T05:38:45.806Z"
      },
      {
        "duration": 45,
        "start_time": "2023-03-25T05:38:45.825Z"
      },
      {
        "duration": 5,
        "start_time": "2023-03-25T05:38:45.873Z"
      },
      {
        "duration": 17,
        "start_time": "2023-03-25T05:38:45.880Z"
      },
      {
        "duration": 12,
        "start_time": "2023-03-25T05:38:45.900Z"
      },
      {
        "duration": 13,
        "start_time": "2023-03-25T05:38:45.916Z"
      },
      {
        "duration": 12,
        "start_time": "2023-03-25T05:38:45.931Z"
      },
      {
        "duration": 10,
        "start_time": "2023-03-25T05:38:45.947Z"
      },
      {
        "duration": 47701,
        "start_time": "2023-03-25T05:38:45.959Z"
      },
      {
        "duration": 275,
        "start_time": "2023-03-25T05:39:33.662Z"
      },
      {
        "duration": 772,
        "start_time": "2023-03-25T05:39:33.940Z"
      },
      {
        "duration": 33,
        "start_time": "2023-03-25T05:39:34.713Z"
      },
      {
        "duration": 209,
        "start_time": "2023-03-25T05:39:34.747Z"
      },
      {
        "duration": 666,
        "start_time": "2023-03-25T05:39:34.957Z"
      },
      {
        "duration": 528,
        "start_time": "2023-03-25T05:39:35.625Z"
      },
      {
        "duration": 10,
        "start_time": "2023-03-25T05:39:36.155Z"
      },
      {
        "duration": 12,
        "start_time": "2023-03-25T05:39:36.167Z"
      },
      {
        "duration": 8,
        "start_time": "2023-03-25T05:39:36.181Z"
      },
      {
        "duration": 19154,
        "start_time": "2023-03-25T05:39:36.190Z"
      },
      {
        "duration": 300,
        "start_time": "2023-03-25T05:39:55.345Z"
      },
      {
        "duration": 445,
        "start_time": "2023-03-25T05:39:55.647Z"
      },
      {
        "duration": 389,
        "start_time": "2023-03-25T05:39:56.094Z"
      },
      {
        "duration": 110,
        "start_time": "2023-03-25T05:39:56.484Z"
      },
      {
        "duration": 60,
        "start_time": "2023-03-25T05:39:56.596Z"
      },
      {
        "duration": 18,
        "start_time": "2023-03-25T05:39:56.659Z"
      },
      {
        "duration": 124,
        "start_time": "2023-03-25T05:39:56.681Z"
      },
      {
        "duration": 6,
        "start_time": "2023-03-25T05:39:56.807Z"
      },
      {
        "duration": 1687,
        "start_time": "2023-04-12T12:23:24.124Z"
      },
      {
        "duration": 63,
        "start_time": "2023-04-12T12:23:25.814Z"
      },
      {
        "duration": 14,
        "start_time": "2023-04-12T12:23:25.881Z"
      },
      {
        "duration": 43,
        "start_time": "2023-04-12T12:23:25.898Z"
      },
      {
        "duration": 4,
        "start_time": "2023-04-12T12:23:25.943Z"
      },
      {
        "duration": 11,
        "start_time": "2023-04-12T12:23:25.949Z"
      },
      {
        "duration": 10,
        "start_time": "2023-04-12T12:23:25.962Z"
      },
      {
        "duration": 6,
        "start_time": "2023-04-12T12:23:25.974Z"
      },
      {
        "duration": 10,
        "start_time": "2023-04-12T12:23:25.991Z"
      },
      {
        "duration": 11,
        "start_time": "2023-04-12T12:23:26.003Z"
      },
      {
        "duration": 48159,
        "start_time": "2023-04-12T12:23:26.015Z"
      },
      {
        "duration": 305,
        "start_time": "2023-04-12T12:24:14.176Z"
      },
      {
        "duration": 879,
        "start_time": "2023-04-12T12:24:14.483Z"
      },
      {
        "duration": 35,
        "start_time": "2023-04-12T12:24:15.363Z"
      },
      {
        "duration": 226,
        "start_time": "2023-04-12T12:24:15.400Z"
      },
      {
        "duration": 731,
        "start_time": "2023-04-12T12:24:15.628Z"
      },
      {
        "duration": 577,
        "start_time": "2023-04-12T12:24:16.360Z"
      },
      {
        "duration": 12,
        "start_time": "2023-04-12T12:24:16.939Z"
      },
      {
        "duration": 14,
        "start_time": "2023-04-12T12:24:16.952Z"
      },
      {
        "duration": 31,
        "start_time": "2023-04-12T12:24:16.967Z"
      },
      {
        "duration": 22030,
        "start_time": "2023-04-12T12:24:17.000Z"
      },
      {
        "duration": 324,
        "start_time": "2023-04-12T12:24:39.032Z"
      },
      {
        "duration": 402,
        "start_time": "2023-04-12T12:24:39.358Z"
      },
      {
        "duration": 435,
        "start_time": "2023-04-12T12:24:39.762Z"
      },
      {
        "duration": 135,
        "start_time": "2023-04-12T12:24:40.199Z"
      },
      {
        "duration": 60,
        "start_time": "2023-04-12T12:24:40.336Z"
      },
      {
        "duration": 19,
        "start_time": "2023-04-12T12:24:40.400Z"
      },
      {
        "duration": 143,
        "start_time": "2023-04-12T12:24:40.421Z"
      },
      {
        "duration": 6,
        "start_time": "2023-04-12T12:24:40.565Z"
      }
    ],
    "kernelspec": {
      "display_name": "Python 3 (ipykernel)",
      "language": "python",
      "name": "python3"
    },
    "language_info": {
      "codemirror_mode": {
        "name": "ipython",
        "version": 3
      },
      "file_extension": ".py",
      "mimetype": "text/x-python",
      "name": "python",
      "nbconvert_exporter": "python",
      "pygments_lexer": "ipython3",
      "version": "3.9.5"
    },
    "toc": {
      "base_numbering": 1,
      "nav_menu": {},
      "number_sections": true,
      "sideBar": true,
      "skip_h1_title": true,
      "title_cell": "Table of Contents",
      "title_sidebar": "Contents",
      "toc_cell": false,
      "toc_position": {},
      "toc_section_display": true,
      "toc_window_display": true
    },
    "colab": {
      "provenance": [],
      "include_colab_link": true
    }
  },
  "nbformat": 4,
  "nbformat_minor": 0
}